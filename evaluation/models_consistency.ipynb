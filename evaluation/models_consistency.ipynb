{
 "cells": [
  {
   "cell_type": "code",
   "execution_count": 1,
   "metadata": {},
   "outputs": [],
   "source": [
    "from evaluate_consistency import evaluate_model_consistency"
   ]
  },
  {
   "cell_type": "code",
   "execution_count": 3,
   "metadata": {},
   "outputs": [
    {
     "name": "stdout",
     "output_type": "stream",
     "text": [
      "ConsistencyEvaluationResults(consistency_percentage=10.0, average_distance=np.float64(44611.35165292245))\n"
     ]
    }
   ],
   "source": [
    "print(\n",
    "    evaluate_model_consistency(\n",
    "        \"xgboost_regressor\", \n",
    "        \"basic_tree_classifier\", \n",
    "        lambda x: 10 ** (0.08 * x) + 15 * (x + 1) ** 1.001 + 60 * x ** 0.3,\n",
    "        category_encoding=True,\n",
    "    )\n",
    ")"
   ]
  },
  {
   "cell_type": "code",
   "execution_count": 4,
   "metadata": {},
   "outputs": [
    {
     "name": "stdout",
     "output_type": "stream",
     "text": [
      "ConsistencyEvaluationResults(consistency_percentage=0.0, average_distance=np.float64(7938.492447916667))\n"
     ]
    }
   ],
   "source": [
    "print(\n",
    "    evaluate_model_consistency(\n",
    "        \"xgboost_regressor\", \n",
    "        \"xgboost_classifier\", \n",
    "        lambda x: 10 ** (0.66 * x) + 1500 * (x + 1) ** 1.3 + 800 * x ** 1.1,\n",
    "    )\n",
    ")"
   ]
  }
 ],
 "metadata": {
  "kernelspec": {
   "display_name": "Python 3",
   "language": "python",
   "name": "python3"
  },
  "language_info": {
   "codemirror_mode": {
    "name": "ipython",
    "version": 3
   },
   "file_extension": ".py",
   "mimetype": "text/x-python",
   "name": "python",
   "nbconvert_exporter": "python",
   "pygments_lexer": "ipython3",
   "version": "3.13.0"
  }
 },
 "nbformat": 4,
 "nbformat_minor": 2
}
