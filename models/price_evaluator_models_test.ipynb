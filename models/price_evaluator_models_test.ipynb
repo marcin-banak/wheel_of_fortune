{
 "cells": [
  {
   "cell_type": "code",
   "execution_count": 1,
   "metadata": {},
   "outputs": [],
   "source": [
    "from price_evaluator_tree import PriceClassifierModel\n",
    "from price_evaluator_regression import PriceRegressorModel\n",
    "from sklearn.datasets import make_classification, make_regression\n",
    "from sklearn.model_selection import train_test_split"
   ]
  },
  {
   "cell_type": "code",
   "execution_count": 2,
   "metadata": {},
   "outputs": [],
   "source": [
    "X_clf, y_clf = make_classification(\n",
    "    n_samples=1000, n_features=10, n_informative=5, n_redundant=0, random_state=42\n",
    ")\n",
    "\n",
    "X_reg, y_reg = make_regression(\n",
    "    n_samples=1000, n_features=10, n_informative=5, noise=0.2, random_state=42\n",
    ")\n",
    "\n",
    "X_train_clf, X_test_clf, y_train_clf, y_test_clf = train_test_split(\n",
    "    X_clf, y_clf, test_size=0.2, random_state=42\n",
    ")\n",
    "\n",
    "X_train_reg, X_test_reg, y_train_reg, y_test_reg = train_test_split(\n",
    "    X_reg, y_reg, test_size=0.2, random_state=42\n",
    ")"
   ]
  },
  {
   "cell_type": "code",
   "execution_count": 3,
   "metadata": {},
   "outputs": [
    {
     "name": "stdout",
     "output_type": "stream",
     "text": [
      "[KLASYFIKACJA] Dokładność (accuracy) na zbiorze testowym: 0.9150\n"
     ]
    },
    {
     "name": "stderr",
     "output_type": "stream",
     "text": [
      "c:\\Users\\Barte\\projects\\wheel_of_fortune\\venv\\Lib\\site-packages\\xgboost\\core.py:158: UserWarning: [15:08:11] WARNING: C:\\buildkite-agent\\builds\\buildkite-windows-cpu-autoscaling-group-i-0c55ff5f71b100e98-1\\xgboost\\xgboost-ci-windows\\src\\learner.cc:740: \n",
      "Parameters: { \"use_label_encoder\" } are not used.\n",
      "\n",
      "  warnings.warn(smsg, UserWarning)\n"
     ]
    }
   ],
   "source": [
    "classifier = PriceClassifierModel(n_estimators=100, max_depth=3, learning_rate=0.1, random_state=42)\n",
    "classifier.fit(X_train_clf, y_train_clf)\n",
    "y_pred_clf = classifier.predict(X_test_clf)\n",
    "accuracy_clf = classifier.score(X_test_clf, y_test_clf)\n",
    "print(f\"[KLASYFIKACJA] Dokładność (accuracy) na zbiorze testowym: {accuracy_clf:.4f}\")"
   ]
  },
  {
   "cell_type": "code",
   "execution_count": 4,
   "metadata": {},
   "outputs": [
    {
     "name": "stdout",
     "output_type": "stream",
     "text": [
      "[REGRESJA] Błąd średniokwadratowy (MSE) na zbiorze testowym: 102.5084\n"
     ]
    }
   ],
   "source": [
    "regressor = PriceRegressorModel(n_estimators=100, max_depth=3, learning_rate=0.1, random_state=42)\n",
    "\n",
    "regressor.fit(X_train_reg, y_train_reg)\n",
    "y_pred_reg = regressor.predict(X_test_reg)\n",
    "mse_reg = regressor.score(X_test_reg, y_test_reg)\n",
    "print(f\"[REGRESJA] Błąd średniokwadratowy (MSE) na zbiorze testowym: {mse_reg:.4f}\")"
   ]
  }
 ],
 "metadata": {
  "kernelspec": {
   "display_name": "venv",
   "language": "python",
   "name": "python3"
  },
  "language_info": {
   "codemirror_mode": {
    "name": "ipython",
    "version": 3
   },
   "file_extension": ".py",
   "mimetype": "text/x-python",
   "name": "python",
   "nbconvert_exporter": "python",
   "pygments_lexer": "ipython3",
   "version": "3.12.8"
  }
 },
 "nbformat": 4,
 "nbformat_minor": 2
}
