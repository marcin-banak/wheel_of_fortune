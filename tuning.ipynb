{
 "cells": [
  {
   "cell_type": "code",
   "execution_count": 5,
   "metadata": {},
   "outputs": [],
   "source": [
    "from src.utils.load_data import load_data\n",
    "from src.utils.stratified_train_test_split import stratified_train_test_split\n",
    "from src.utils.IntervalsHandler import IntervalsHandler\n",
    "\n",
    "from src.models.BasicClassificationModel import BasicClassificationModel\n",
    "from src.models.AdvancedClassificationModel import AdvancedClassificationModel\n",
    "from src.models.BasicRegressionModel import BasicRegressionModel\n",
    "from src.models.AdvancedRegressionModel import AdvancedRegressionModel\n",
    "\n",
    "from src.evaluation.AbstractEvaluationResults import MetricEnum"
   ]
  },
  {
   "cell_type": "code",
   "execution_count": 6,
   "metadata": {},
   "outputs": [],
   "source": [
    "interval_function = lambda x: 10 ** (0.25 * x) + 600 * (x + 1) ** 1.15 + 200 * x ** 0.75"
   ]
  },
  {
   "cell_type": "code",
   "execution_count": 7,
   "metadata": {},
   "outputs": [],
   "source": [
    "X, y = load_data()\n",
    "\n",
    "# Regression\n",
    "X_train, X_test, y_train, y_test = stratified_train_test_split(X, y, 0.3, 42)\n",
    "\n",
    "# Classification\n",
    "interval_handler = IntervalsHandler(y, interval_function)\n",
    "interval_handler.classify()\n",
    "interval_handler.reduction()\n",
    "\n",
    "X_train_class, X_test_class, y_train_class, y_test_class = \\\n",
    "    stratified_train_test_split(X, interval_handler.data, 0.3, 42)"
   ]
  },
  {
   "cell_type": "code",
   "execution_count": null,
   "metadata": {},
   "outputs": [],
   "source": [
    "basic_regression_model = BasicRegressionModel()\n",
    "basic_regression_model.bayesian_optimization(X_train, y_train, X_test, y_test, MetricEnum.MSE)\n",
    "basic_regression_model.save_hyperparameters(\"basic_regression_optimized\")\n",
    "print(basic_regression_model.score(X_test, y_test))\n",
    "print(basic_regression_model.score_classification(X_test_class, y_test_class, interval_handler))"
   ]
  },
  {
   "cell_type": "code",
   "execution_count": null,
   "metadata": {},
   "outputs": [],
   "source": [
    "advanced_regression_model = AdvancedRegressionModel()\n",
    "advanced_regression_model.bayesian_optimization(X_train, y_train, X_test, y_test, MetricEnum.MSE)\n",
    "advanced_regression_model.save_hyperparameters(\"advanced_regression_optimized\")\n",
    "print(advanced_regression_model.score(X_test, y_test))\n",
    "print(advanced_regression_model.score_classification(X_test_class, y_test_class, interval_handler))"
   ]
  },
  {
   "cell_type": "code",
   "execution_count": null,
   "metadata": {},
   "outputs": [],
   "source": [
    "basic_classification_model = BasicClassificationModel()\n",
    "basic_classification_model.bayesian_optimization(X_train_class, y_train_class, X_test_class, y_test_class, MetricEnum.ACCURACY)\n",
    "basic_classification_model.save_hyperparameters(\"basic_classification_optimized\")\n",
    "print(basic_classification_model.score(X_test_class, y_test_class))"
   ]
  },
  {
   "cell_type": "code",
   "execution_count": null,
   "metadata": {},
   "outputs": [],
   "source": [
    "advanced_classification_model = AdvancedClassificationModel()\n",
    "advanced_classification_model.bayesian_optimization(X_train_class, y_train_class, X_test_class, y_test_class, MetricEnum.ACCURACY)\n",
    "advanced_classification_model.save_hyperparameters(\"advanced_classification_optimized\")\n",
    "print(advanced_classification_model.score(X_test_class, y_test_class))"
   ]
  }
 ],
 "metadata": {
  "kernelspec": {
   "display_name": "venv",
   "language": "python",
   "name": "python3"
  },
  "language_info": {
   "codemirror_mode": {
    "name": "ipython",
    "version": 3
   },
   "file_extension": ".py",
   "mimetype": "text/x-python",
   "name": "python",
   "nbconvert_exporter": "python",
   "pygments_lexer": "ipython3",
   "version": "3.13.0"
  }
 },
 "nbformat": 4,
 "nbformat_minor": 2
}
