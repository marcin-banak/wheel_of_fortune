{
 "cells": [
  {
   "cell_type": "code",
   "execution_count": 1,
   "metadata": {
    "ExecuteTime": {
     "end_time": "2025-01-06T10:58:18.650900Z",
     "start_time": "2025-01-06T10:58:17.774143Z"
    }
   },
   "outputs": [],
   "source": [
    "import sys\n",
    "import os\n",
    "\n",
    "current_dir = os.getcwd()\n",
    "parent_dir = os.path.abspath(os.path.join(current_dir, os.pardir))\n",
    "sys.path.append(parent_dir)\n",
    "\n",
    "from training.training_process import training_process\n",
    "from models.price_evaluator_xgboost_clasifier import (\n",
    "    PriceClassifierXGBoostModelHyperparams,\n",
    "    PriceClassifierXGBoostModel,\n",
    ")\n",
    "from evaluation.AbstractEvaluationResults import MetricEnum"
   ]
  },
  {
   "cell_type": "code",
   "execution_count": null,
   "metadata": {
    "ExecuteTime": {
     "end_time": "2025-01-06T11:00:07.037504Z",
     "start_time": "2025-01-06T10:58:18.657300Z"
    }
   },
   "outputs": [],
   "source": [
    "training_process(\n",
    "    model_name=\"xgboost_classifier\",\n",
    "    model_class=PriceClassifierXGBoostModel,\n",
    "    hyperparameters_class=PriceClassifierXGBoostModelHyperparams,\n",
    "    metric=MetricEnum.ACCURACY,\n",
    "    intervals_function=lambda x: 10 ** (0.25 * x) + 600 * (x + 1) ** 1.15 + 200 * x ** 0.75,\n",
    "    const_params={\n",
    "        \"learning_rate\": 0.12921360029190918,\n",
    "        \"reg_alpha\": 8.440813134554679,\n",
    "        \"reg_lambda\": 6.254500283477481,\n",
    "        \"max_depth\": 15,\n",
    "        \"n_estimators\": 486,\n",
    "        \"min_child_weight\": 6,\n",
    "        \"gamma\": 0.6304338645485753,\n",
    "        \"subsample\": 0.8040953946703557,\n",
    "        \"colsample_bytree\": 0.9651088241133051,\n",
    "        \"max_delta_step\": 4.410373590930435,\n",
    "        \"colsample_bynode\": 0.8065733591903823,\n",
    "        \"colsample_bylevel\": 0.7476323660748343\n",
    "    },\n",
    "    gpu_mode=False,\n",
    "    sample=1000,\n",
    ")"
   ]
  }
 ],
 "metadata": {
  "kernelspec": {
   "display_name": "venv",
   "language": "python",
   "name": "python3"
  },
  "language_info": {
   "codemirror_mode": {
    "name": "ipython",
    "version": 3
   },
   "file_extension": ".py",
   "mimetype": "text/x-python",
   "name": "python",
   "nbconvert_exporter": "python",
   "pygments_lexer": "ipython3",
   "version": "3.13.0"
  }
 },
 "nbformat": 4,
 "nbformat_minor": 2
}
