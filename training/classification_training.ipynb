{
 "cells": [
  {
   "cell_type": "code",
   "execution_count": 1,
   "metadata": {},
   "outputs": [],
   "source": [
    "import pandas as pd\n",
    "from sklearn.model_selection import train_test_split\n",
    "from xgboost import plot_importance"
   ]
  },
  {
   "cell_type": "code",
   "execution_count": 2,
   "metadata": {},
   "outputs": [],
   "source": [
    "import sys\n",
    "import os\n",
    "\n",
    "current_dir = os.getcwd()\n",
    "parent_dir = os.path.abspath(os.path.join(current_dir, os.pardir))\n",
    "sys.path.append(parent_dir)"
   ]
  },
  {
   "cell_type": "code",
   "execution_count": 3,
   "metadata": {},
   "outputs": [],
   "source": [
    "from models.price_evaluator_xgboost_clasifier import (\n",
    "    PriceClassifierXGBoostModel,\n",
    "    PriceClassifierXGBoostModelHyperparams,\n",
    ")\n",
    "from training.hyperparameter_tuning import hyperparameter_tuning\n",
    "from utils.classification_range_generator import generate_price_intervals\n",
    "from utils.classify import classify\n",
    "from utils.class_reduction import class_reduction\n",
    "from data_processing.dtype_mapping import dtype_mapping\n",
    "from utils.export_model import save_model, load_model"
   ]
  },
  {
   "cell_type": "code",
   "execution_count": null,
   "metadata": {},
   "outputs": [],
   "source": [
    "data = pd.read_csv(\"../data/processed_car_sale_ads.csv\", low_memory=False)\n",
    "data = dtype_mapping(data)\n",
    "data.head(10)"
   ]
  },
  {
   "cell_type": "code",
   "execution_count": null,
   "metadata": {},
   "outputs": [],
   "source": [
    "X = data[['Production_year', 'Power_HP', 'Mileage_km', 'Vehicle_brand', 'Vehicle_model', 'Displacement_cm3', 'Vehicle_generation', 'Type', 'Fuel_type', 'Drive']]\n",
    "y = data[\"Price\"]\n",
    "\n",
    "intervals = generate_price_intervals(y.min(), y.max(), lambda x: 10 ** (0.4 * x) + 500 * (x + 1) ** 1.2 + 500 * x ** 0.8)\n",
    "labels = classify(y, intervals)\n",
    "labels, intervals = class_reduction(labels, intervals)\n",
    "\n",
    "X_train, X_test, y_train, y_test = train_test_split(X, labels, test_size=0.3, random_state=42)\n",
    "intervals"
   ]
  },
  {
   "cell_type": "code",
   "execution_count": 6,
   "metadata": {},
   "outputs": [],
   "source": [
    "param_grid = {\n",
    "    \"learning_rate\": [0.1],\n",
    "    \"max_depth\": [10],\n",
    "    \"n_estimators\": [300],\n",
    "    \"min_child_weight\": [6],\n",
    "    \"gamma\": [2],\n",
    "    \"subsample\": [1.0],\n",
    "    \"colsample_bytree\": [0.8],\n",
    "    \"reg_alpha\": [2],\n",
    "    \"reg_lambda\": [5],\n",
    "}"
   ]
  },
  {
   "cell_type": "code",
   "execution_count": null,
   "metadata": {},
   "outputs": [],
   "source": [
    "best_model = hyperparameter_tuning(\n",
    "    PriceClassifierXGBoostModel,\n",
    "    PriceClassifierXGBoostModelHyperparams,\n",
    "    param_grid,\n",
    "    X_train,\n",
    "    y_train,\n",
    "    X_test,\n",
    "    y_test,\n",
    ")"
   ]
  },
  {
   "cell_type": "code",
   "execution_count": null,
   "metadata": {},
   "outputs": [],
   "source": [
    "save_model(best_model, \"xgboost_classification\")\n",
    "\n",
    "plot_importance(best_model, max_num_features=10, importance_type=\"weight\")\n",
    "\n",
    "print(best_model)\n",
    "print(best_model.params)\n",
    "print(best_model.eval(best_model.predict(X_test), y_test))\n",
    "\n",
    "importance = best_model.get_booster().get_score(importance_type='weight')\n",
    "sorted_importance = sorted(importance.items(), key=lambda x: x[1], reverse=True)\n",
    "print([x[0] for x in sorted_importance])\n"
   ]
  },
  {
   "cell_type": "code",
   "execution_count": null,
   "metadata": {},
   "outputs": [],
   "source": [
    "loaded_model = load_model(\"xgboost_classification\")\n",
    "\n",
    "print(loaded_model)\n",
    "print(loaded_model.params)\n",
    "print(loaded_model.eval(loaded_model.predict(X_test), y_test))"
   ]
  }
 ],
 "metadata": {
  "kernelspec": {
   "display_name": "Python 3",
   "language": "python",
   "name": "python3"
  },
  "language_info": {
   "codemirror_mode": {
    "name": "ipython",
    "version": 3
   },
   "file_extension": ".py",
   "mimetype": "text/x-python",
   "name": "python",
   "nbconvert_exporter": "python",
   "pygments_lexer": "ipython3",
   "version": "3.13.0"
  }
 },
 "nbformat": 4,
 "nbformat_minor": 2
}
