{
 "cells": [
  {
   "cell_type": "code",
   "metadata": {
    "ExecuteTime": {
     "end_time": "2025-01-05T13:20:25.884485Z",
     "start_time": "2025-01-05T13:20:25.881848Z"
    }
   },
   "source": [
<<<<<<< HEAD
    "from pprint import pprint\n",
    "\n",
    "import pandas as pd\n",
    "from sklearn.model_selection import train_test_split\n",
    "from xgboost import plot_importance"
   ],
   "outputs": [],
   "execution_count": 42
  },
  {
   "cell_type": "code",
   "metadata": {
    "ExecuteTime": {
     "end_time": "2025-01-05T13:20:25.909927Z",
     "start_time": "2025-01-05T13:20:25.907120Z"
    }
   },
   "source": [
    "import sys\n",
    "import os\n",
    "\n",
    "current_dir = os.getcwd()\n",
    "parent_dir = os.path.abspath(os.path.join(current_dir, os.pardir))\n",
    "sys.path.append(parent_dir)"
   ],
   "outputs": [],
   "execution_count": 43
  },
  {
   "cell_type": "code",
   "metadata": {
    "ExecuteTime": {
     "end_time": "2025-01-05T13:20:25.933835Z",
     "start_time": "2025-01-05T13:20:25.931065Z"
    }
   },
   "source": [
    "from models.price_evaluator_xgboost_clasifier import (\n",
    "    PriceClassifierXGBoostModel,\n",
    "    PriceClassifierXGBoostModelHyperparams,\n",
    ")\n",
    "from training.hyperparameter_tuning import hyperparameter_tuning\n",
    "from utils.classification_range_generator import generate_price_intervals\n",
    "from utils.classify import classify\n",
    "from utils.class_reduction import class_reduction\n",
    "from data_processing.dtype_mapping import dtype_mapping\n",
    "from utils.export_model import save_model, load_model"
   ],
   "outputs": [],
   "execution_count": 44
  },
  {
   "cell_type": "code",
   "metadata": {
    "ExecuteTime": {
     "end_time": "2025-01-05T13:20:27.530079Z",
     "start_time": "2025-01-05T13:20:25.940035Z"
    }
   },
   "source": [
    "data = pd.read_csv(\"../data/processed_car_sale_ads.csv\", low_memory=False)\n",
    "data = dtype_mapping(data)\n",
    "data.head(10)"
   ],
   "outputs": [
    {
     "data": {
      "text/plain": [
       "    Price Condition Vehicle_brand Vehicle_model Vehicle_generation  \\\n",
       "0   86200       New        Abarth           595            Unknown   \n",
       "1   43500      Used        Abarth         Other            Unknown   \n",
       "2   44900      Used        Abarth           500            Unknown   \n",
       "3   39900      Used        Abarth           500            Unknown   \n",
       "4   97900       New        Abarth           595            Unknown   \n",
       "5   62950      Used        Abarth           595            Unknown   \n",
       "6   69900      Used        Abarth           595            Unknown   \n",
       "7   69900      Used        Abarth           500            Unknown   \n",
       "8  120750       New        Abarth           595            Unknown   \n",
       "9   93100       New        Abarth           595            Unknown   \n",
       "\n",
       "   Production_year  Mileage_km  Power_HP  Displacement_cm3 Fuel_type  ...  \\\n",
       "0             2021           1       145              1400  Gasoline  ...   \n",
       "1             1974       59000        75              1100  Gasoline  ...   \n",
       "2             2018       52000       180              1368  Gasoline  ...   \n",
       "3             2012       29000       160              1368  Gasoline  ...   \n",
       "4             2021         600       165              1368  Gasoline  ...   \n",
       "5             2016       46060       180              1368  Gasoline  ...   \n",
       "6             2021        2900       145              1368  Gasoline  ...   \n",
       "7             2019       20000       145              1368  Gasoline  ...   \n",
       "8             2021           1       180              1368  Gasoline  ...   \n",
       "9             2021           1       145              1398  Gasoline  ...   \n",
       "\n",
       "  Speed limiter Start-Stop system Sunroof  TV tuner Tinted windows  \\\n",
       "0             0                 0       0         0              0   \n",
       "1             0                 0       0         0              0   \n",
       "2             0                 0       0         0              0   \n",
       "3             0                 0       0         0              0   \n",
       "4             0                 0       0         0              1   \n",
       "5             0                 0       0         0              1   \n",
       "6             0                 0       0         0              0   \n",
       "7             0                 0       0         0              0   \n",
       "8             0                 1       0         0              1   \n",
       "9             0                 1       0         0              1   \n",
       "\n",
       "   Twilight sensor USB socket  Velor upholstery  Xenon lights  is_outlier  \n",
       "0                0          0                 0             0       False  \n",
       "1                0          0                 0             0       False  \n",
       "2                0          0                 0             0       False  \n",
       "3                0          1                 0             1       False  \n",
       "4                0          1                 0             0       False  \n",
       "5                1          1                 0             0       False  \n",
       "6                0          0                 0             0       False  \n",
       "7                0          1                 0             1       False  \n",
       "8                1          1                 0             1       False  \n",
       "9                1          1                 0             1       False  \n",
       "\n",
       "[10 rows x 88 columns]"
      ],
      "text/html": [
       "<div>\n",
       "<style scoped>\n",
       "    .dataframe tbody tr th:only-of-type {\n",
       "        vertical-align: middle;\n",
       "    }\n",
       "\n",
       "    .dataframe tbody tr th {\n",
       "        vertical-align: top;\n",
       "    }\n",
       "\n",
       "    .dataframe thead th {\n",
       "        text-align: right;\n",
       "    }\n",
       "</style>\n",
       "<table border=\"1\" class=\"dataframe\">\n",
       "  <thead>\n",
       "    <tr style=\"text-align: right;\">\n",
       "      <th></th>\n",
       "      <th>Price</th>\n",
       "      <th>Condition</th>\n",
       "      <th>Vehicle_brand</th>\n",
       "      <th>Vehicle_model</th>\n",
       "      <th>Vehicle_generation</th>\n",
       "      <th>Production_year</th>\n",
       "      <th>Mileage_km</th>\n",
       "      <th>Power_HP</th>\n",
       "      <th>Displacement_cm3</th>\n",
       "      <th>Fuel_type</th>\n",
       "      <th>...</th>\n",
       "      <th>Speed limiter</th>\n",
       "      <th>Start-Stop system</th>\n",
       "      <th>Sunroof</th>\n",
       "      <th>TV tuner</th>\n",
       "      <th>Tinted windows</th>\n",
       "      <th>Twilight sensor</th>\n",
       "      <th>USB socket</th>\n",
       "      <th>Velor upholstery</th>\n",
       "      <th>Xenon lights</th>\n",
       "      <th>is_outlier</th>\n",
       "    </tr>\n",
       "  </thead>\n",
       "  <tbody>\n",
       "    <tr>\n",
       "      <th>0</th>\n",
       "      <td>86200</td>\n",
       "      <td>New</td>\n",
       "      <td>Abarth</td>\n",
       "      <td>595</td>\n",
       "      <td>Unknown</td>\n",
       "      <td>2021</td>\n",
       "      <td>1</td>\n",
       "      <td>145</td>\n",
       "      <td>1400</td>\n",
       "      <td>Gasoline</td>\n",
       "      <td>...</td>\n",
       "      <td>0</td>\n",
       "      <td>0</td>\n",
       "      <td>0</td>\n",
       "      <td>0</td>\n",
       "      <td>0</td>\n",
       "      <td>0</td>\n",
       "      <td>0</td>\n",
       "      <td>0</td>\n",
       "      <td>0</td>\n",
       "      <td>False</td>\n",
       "    </tr>\n",
       "    <tr>\n",
       "      <th>1</th>\n",
       "      <td>43500</td>\n",
       "      <td>Used</td>\n",
       "      <td>Abarth</td>\n",
       "      <td>Other</td>\n",
       "      <td>Unknown</td>\n",
       "      <td>1974</td>\n",
       "      <td>59000</td>\n",
       "      <td>75</td>\n",
       "      <td>1100</td>\n",
       "      <td>Gasoline</td>\n",
       "      <td>...</td>\n",
       "      <td>0</td>\n",
       "      <td>0</td>\n",
       "      <td>0</td>\n",
       "      <td>0</td>\n",
       "      <td>0</td>\n",
       "      <td>0</td>\n",
       "      <td>0</td>\n",
       "      <td>0</td>\n",
       "      <td>0</td>\n",
       "      <td>False</td>\n",
       "    </tr>\n",
       "    <tr>\n",
       "      <th>2</th>\n",
       "      <td>44900</td>\n",
       "      <td>Used</td>\n",
       "      <td>Abarth</td>\n",
       "      <td>500</td>\n",
       "      <td>Unknown</td>\n",
       "      <td>2018</td>\n",
       "      <td>52000</td>\n",
       "      <td>180</td>\n",
       "      <td>1368</td>\n",
       "      <td>Gasoline</td>\n",
       "      <td>...</td>\n",
       "      <td>0</td>\n",
       "      <td>0</td>\n",
       "      <td>0</td>\n",
       "      <td>0</td>\n",
       "      <td>0</td>\n",
       "      <td>0</td>\n",
       "      <td>0</td>\n",
       "      <td>0</td>\n",
       "      <td>0</td>\n",
       "      <td>False</td>\n",
       "    </tr>\n",
       "    <tr>\n",
       "      <th>3</th>\n",
       "      <td>39900</td>\n",
       "      <td>Used</td>\n",
       "      <td>Abarth</td>\n",
       "      <td>500</td>\n",
       "      <td>Unknown</td>\n",
       "      <td>2012</td>\n",
       "      <td>29000</td>\n",
       "      <td>160</td>\n",
       "      <td>1368</td>\n",
       "      <td>Gasoline</td>\n",
       "      <td>...</td>\n",
       "      <td>0</td>\n",
       "      <td>0</td>\n",
       "      <td>0</td>\n",
       "      <td>0</td>\n",
       "      <td>0</td>\n",
       "      <td>0</td>\n",
       "      <td>1</td>\n",
       "      <td>0</td>\n",
       "      <td>1</td>\n",
       "      <td>False</td>\n",
       "    </tr>\n",
       "    <tr>\n",
       "      <th>4</th>\n",
       "      <td>97900</td>\n",
       "      <td>New</td>\n",
       "      <td>Abarth</td>\n",
       "      <td>595</td>\n",
       "      <td>Unknown</td>\n",
       "      <td>2021</td>\n",
       "      <td>600</td>\n",
       "      <td>165</td>\n",
       "      <td>1368</td>\n",
       "      <td>Gasoline</td>\n",
       "      <td>...</td>\n",
       "      <td>0</td>\n",
       "      <td>0</td>\n",
       "      <td>0</td>\n",
       "      <td>0</td>\n",
       "      <td>1</td>\n",
       "      <td>0</td>\n",
       "      <td>1</td>\n",
       "      <td>0</td>\n",
       "      <td>0</td>\n",
       "      <td>False</td>\n",
       "    </tr>\n",
       "    <tr>\n",
       "      <th>5</th>\n",
       "      <td>62950</td>\n",
       "      <td>Used</td>\n",
       "      <td>Abarth</td>\n",
       "      <td>595</td>\n",
       "      <td>Unknown</td>\n",
       "      <td>2016</td>\n",
       "      <td>46060</td>\n",
       "      <td>180</td>\n",
       "      <td>1368</td>\n",
       "      <td>Gasoline</td>\n",
       "      <td>...</td>\n",
       "      <td>0</td>\n",
       "      <td>0</td>\n",
       "      <td>0</td>\n",
       "      <td>0</td>\n",
       "      <td>1</td>\n",
       "      <td>1</td>\n",
       "      <td>1</td>\n",
       "      <td>0</td>\n",
       "      <td>0</td>\n",
       "      <td>False</td>\n",
       "    </tr>\n",
       "    <tr>\n",
       "      <th>6</th>\n",
       "      <td>69900</td>\n",
       "      <td>Used</td>\n",
       "      <td>Abarth</td>\n",
       "      <td>595</td>\n",
       "      <td>Unknown</td>\n",
       "      <td>2021</td>\n",
       "      <td>2900</td>\n",
       "      <td>145</td>\n",
       "      <td>1368</td>\n",
       "      <td>Gasoline</td>\n",
       "      <td>...</td>\n",
       "      <td>0</td>\n",
       "      <td>0</td>\n",
       "      <td>0</td>\n",
       "      <td>0</td>\n",
       "      <td>0</td>\n",
       "      <td>0</td>\n",
       "      <td>0</td>\n",
       "      <td>0</td>\n",
       "      <td>0</td>\n",
       "      <td>False</td>\n",
       "    </tr>\n",
       "    <tr>\n",
       "      <th>7</th>\n",
       "      <td>69900</td>\n",
       "      <td>Used</td>\n",
       "      <td>Abarth</td>\n",
       "      <td>500</td>\n",
       "      <td>Unknown</td>\n",
       "      <td>2019</td>\n",
       "      <td>20000</td>\n",
       "      <td>145</td>\n",
       "      <td>1368</td>\n",
       "      <td>Gasoline</td>\n",
       "      <td>...</td>\n",
       "      <td>0</td>\n",
       "      <td>0</td>\n",
       "      <td>0</td>\n",
       "      <td>0</td>\n",
       "      <td>0</td>\n",
       "      <td>0</td>\n",
       "      <td>1</td>\n",
       "      <td>0</td>\n",
       "      <td>1</td>\n",
       "      <td>False</td>\n",
       "    </tr>\n",
       "    <tr>\n",
       "      <th>8</th>\n",
       "      <td>120750</td>\n",
       "      <td>New</td>\n",
       "      <td>Abarth</td>\n",
       "      <td>595</td>\n",
       "      <td>Unknown</td>\n",
       "      <td>2021</td>\n",
       "      <td>1</td>\n",
       "      <td>180</td>\n",
       "      <td>1368</td>\n",
       "      <td>Gasoline</td>\n",
       "      <td>...</td>\n",
       "      <td>0</td>\n",
       "      <td>1</td>\n",
       "      <td>0</td>\n",
       "      <td>0</td>\n",
       "      <td>1</td>\n",
       "      <td>1</td>\n",
       "      <td>1</td>\n",
       "      <td>0</td>\n",
       "      <td>1</td>\n",
       "      <td>False</td>\n",
       "    </tr>\n",
       "    <tr>\n",
       "      <th>9</th>\n",
       "      <td>93100</td>\n",
       "      <td>New</td>\n",
       "      <td>Abarth</td>\n",
       "      <td>595</td>\n",
       "      <td>Unknown</td>\n",
       "      <td>2021</td>\n",
       "      <td>1</td>\n",
       "      <td>145</td>\n",
       "      <td>1398</td>\n",
       "      <td>Gasoline</td>\n",
       "      <td>...</td>\n",
       "      <td>0</td>\n",
       "      <td>1</td>\n",
       "      <td>0</td>\n",
       "      <td>0</td>\n",
       "      <td>1</td>\n",
       "      <td>1</td>\n",
       "      <td>1</td>\n",
       "      <td>0</td>\n",
       "      <td>1</td>\n",
       "      <td>False</td>\n",
       "    </tr>\n",
       "  </tbody>\n",
       "</table>\n",
       "<p>10 rows × 88 columns</p>\n",
       "</div>"
      ]
     },
     "execution_count": 45,
     "metadata": {},
     "output_type": "execute_result"
    }
   ],
   "execution_count": 45
  },
  {
   "cell_type": "code",
   "metadata": {
    "ExecuteTime": {
     "end_time": "2025-01-05T13:20:28.027861Z",
     "start_time": "2025-01-05T13:20:27.579302Z"
    }
   },
   "source": [
    "X = data[['Production_year', 'Power_HP', 'Mileage_km', 'Vehicle_brand', 'Vehicle_model', 'Displacement_cm3', 'Vehicle_generation', 'Type', 'Fuel_type', 'Drive']]\n",
    "y = data[\"Price\"]\n",
    "\n",
    "intervals = generate_price_intervals(y.min(), y.max(), lambda x: 10 ** (0.4 * x) + 500 * (x + 1) ** 1.2 + 500 * x ** 0.8)\n",
    "labels = classify(y, intervals)\n",
    "labels, intervals = class_reduction(labels, intervals)\n",
    "\n",
    "X_train, X_test, y_train, y_test = train_test_split(X, labels, test_size=0.3, random_state=42)\n",
    "intervals"
   ],
   "outputs": [
    {
     "data": {
      "text/plain": [
       "[(np.int64(585), np.int64(1086)),\n",
       " (np.int64(1086), np.int64(2737)),\n",
       " (np.int64(2737), np.int64(5482)),\n",
       " (np.int64(5482), np.int64(9340)),\n",
       " (np.int64(9340), np.int64(14344)),\n",
       " (np.int64(14344), np.int64(20548)),\n",
       " (np.int64(20548), np.int64(28060)),\n",
       " (np.int64(28060), np.int64(37125)),\n",
       " (np.int64(37125), np.int64(48332)),\n",
       " (np.int64(48332), np.int64(63137)),\n",
       " (np.int64(63137), np.int64(85176)),\n",
       " (np.int64(85176), np.int64(123562)),\n",
       " (np.int64(123562), np.int64(201164)),\n",
       " (np.int64(201164), np.int64(375411)),\n",
       " (np.int64(375411), np.int64(790538)),\n",
       " (np.int64(790538), np.int64(969900))]"
      ]
     },
     "execution_count": 46,
     "metadata": {},
     "output_type": "execute_result"
    }
   ],
   "execution_count": 46
  },
  {
   "cell_type": "code",
   "metadata": {
    "ExecuteTime": {
     "end_time": "2025-01-05T13:20:28.167905Z",
     "start_time": "2025-01-05T13:20:28.164556Z"
    }
   },
   "source": [
    "param_grid = {\n",
    "    \"learning_rate\": [0.14034069550007902],\n",
    "    \"max_depth\": [11],\n",
    "    \"n_estimators\": [350],\n",
    "    \"min_child_weight\": [6],\n",
    "    \"gamma\": [1.3736089649503211],\n",
    "    \"subsample\": [0.7806217129238506],\n",
    "    \"colsample_bytree\": [0.691463437376895],\n",
    "    \"reg_alpha\": [0.9541011649041133],\n",
    "    \"reg_lambda\": [3.708182521982664],\n",
    "}"
   ],
   "outputs": [],
   "execution_count": 47
  },
  {
   "cell_type": "code",
   "metadata": {
    "ExecuteTime": {
     "end_time": "2025-01-05T13:20:57.426815Z",
     "start_time": "2025-01-05T13:20:28.345828Z"
    }
   },
   "source": [
    "best_model = hyperparameter_tuning(\n",
    "    PriceClassifierXGBoostModel,\n",
    "    PriceClassifierXGBoostModelHyperparams,\n",
    "    param_grid,\n",
    "    X_train,\n",
    "    y_train,\n",
    "    X_test,\n",
    "    y_test,\n",
    ")"
   ],
   "outputs": [
    {
     "name": "stderr",
     "output_type": "stream",
     "text": [
      "C:\\Users\\mszal\\Documents\\github\\personal-projects\\wheel_of_fortune\\.venv\\Lib\\site-packages\\xgboost\\core.py:158: UserWarning: [14:20:28] WARNING: C:\\buildkite-agent\\builds\\buildkite-windows-cpu-autoscaling-group-i-0c55ff5f71b100e98-1\\xgboost\\xgboost-ci-windows\\src\\learner.cc:740: \n",
      "Parameters: { \"params\" } are not used.\n",
      "\n",
      "  warnings.warn(smsg, UserWarning)\n"
     ]
    },
    {
     "name": "stdout",
     "output_type": "stream",
     "text": [
      "Evaluated 0.00% of the params.\n"
     ]
    }
   ],
   "execution_count": 48
  },
  {
   "cell_type": "code",
   "metadata": {
    "ExecuteTime": {
     "end_time": "2025-01-05T13:20:58.282936Z",
     "start_time": "2025-01-05T13:20:57.447550Z"
    }
   },
   "source": [
    "save_model(best_model, \"xgboost_classification\")\n",
    "\n",
    "plot_importance(best_model, max_num_features=10, importance_type=\"weight\")\n",
    "\n",
    "print(best_model)\n",
    "print(best_model.params)\n",
    "print(best_model.eval(best_model.predict(X_test), y_test))\n",
    "\n",
    "importance = best_model.get_booster().get_score(importance_type='weight')\n",
    "sorted_importance = sorted(importance.items(), key=lambda x: x[1], reverse=True)\n",
    "pprint([x[0] for x in sorted_importance])\n"
   ],
   "outputs": [
    {
     "name": "stdout",
     "output_type": "stream",
     "text": [
      "PriceClassifierXGBoostModel(base_score=None, booster=None, callbacks=None,\n",
      "                            colsample_bylevel=None, colsample_bynode=None,\n",
      "                            colsample_bytree=0.691463437376895, device='cuda',\n",
      "                            early_stopping_rounds=None, enable_categorical=True,\n",
      "                            eval_metric='auc', feature_types=None,\n",
      "                            gamma=1.3736089649503211, grow_policy=None,\n",
      "                            importance_type=None, interaction_constraints=None,\n",
      "                            learning_rate=0.14034069550007902, max_bin=None,\n",
      "                            max_cat_threshold=None, max_cat_to_onehot=None,\n",
      "                            max_delta_step=None, max_depth=11, max_leaves=None,\n",
      "                            min_child_weight=6, missing=nan,\n",
      "                            monotone_constraints=None, multi_strategy=None,\n",
      "                            n_estimators=350, n_jobs=None,\n",
      "                            num_parallel_tree=None, objective='multi:softprob', ...)\n",
      "PriceClassifierXGBoostModelHyperparams(learning_rate=0.14034069550007902, reg_alpha=0.9541011649041133, reg_lambda=3.708182521982664, max_depth=11, n_estimators=350, min_child_weight=6, gamma=1.3736089649503211, subsample=0.7806217129238506, colsample_bytree=0.691463437376895)\n",
      "ClassificationEvaluationResults(accuracy=0.649778124542839, precision=0.6483587286551258, recall=0.649778124542839, f1=0.6482213684194585)\n",
      "['Mileage_km',\n",
      " 'Vehicle_model',\n",
      " 'Power_HP',\n",
      " 'Production_year',\n",
      " 'Vehicle_generation',\n",
      " 'Vehicle_brand',\n",
      " 'Displacement_cm3',\n",
      " 'Type',\n",
      " 'Fuel_type',\n",
      " 'Drive']\n"
     ]
    },
    {
     "data": {
      "text/plain": [
       "<Figure size 640x480 with 1 Axes>"
      ],
      "image/png": "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"
     },
     "metadata": {},
     "output_type": "display_data"
    }
   ],
   "execution_count": 49
  },
  {
   "cell_type": "code",
   "metadata": {
    "ExecuteTime": {
     "end_time": "2025-01-05T13:20:58.887774Z",
     "start_time": "2025-01-05T13:20:58.303185Z"
    }
   },
   "source": [
    "loaded_model = load_model(\"xgboost_classification\")\n",
    "\n",
    "print(loaded_model)\n",
    "print(loaded_model.params)\n",
    "print(loaded_model.eval(loaded_model.predict(X_test), y_test))"
   ],
   "outputs": [
    {
     "name": "stdout",
     "output_type": "stream",
     "text": [
      "PriceClassifierXGBoostModel(base_score=None, booster=None, callbacks=None,\n",
      "                            colsample_bylevel=None, colsample_bynode=None,\n",
      "                            colsample_bytree=0.691463437376895, device='cuda',\n",
      "                            early_stopping_rounds=None, enable_categorical=True,\n",
      "                            eval_metric='auc', feature_types=None,\n",
      "                            gamma=1.3736089649503211, grow_policy=None,\n",
      "                            importance_type=None, interaction_constraints=None,\n",
      "                            learning_rate=0.14034069550007902, max_bin=None,\n",
      "                            max_cat_threshold=None, max_cat_to_onehot=None,\n",
      "                            max_delta_step=None, max_depth=11, max_leaves=None,\n",
      "                            min_child_weight=6, missing=nan,\n",
      "                            monotone_constraints=None, multi_strategy=None,\n",
      "                            n_estimators=350, n_jobs=None,\n",
      "                            num_parallel_tree=None, objective='multi:softprob', ...)\n",
      "PriceClassifierXGBoostModelHyperparams(learning_rate=0.14034069550007902, reg_alpha=0.9541011649041133, reg_lambda=3.708182521982664, max_depth=11, n_estimators=350, min_child_weight=6, gamma=1.3736089649503211, subsample=0.7806217129238506, colsample_bytree=0.691463437376895)\n",
      "ClassificationEvaluationResults(accuracy=0.649778124542839, precision=0.6483587286551258, recall=0.649778124542839, f1=0.6482213684194585)\n"
     ]
    }
   ],
   "execution_count": 50
=======
    "import sys\n",
    "import os\n",
    "\n",
    "current_dir = os.getcwd()\n",
    "parent_dir = os.path.abspath(os.path.join(current_dir, os.pardir))\n",
    "sys.path.append(parent_dir)\n",
    "\n",
    "from training.training_process import training_process\n",
    "from models.price_evaluator_xgboost_clasifier import (\n",
    "    PriceClassifierXGBoostModelHyperparams,\n",
    "    PriceClassifierXGBoostModel,\n",
    ")"
   ]
  },
  {
   "cell_type": "code",
   "execution_count": 2,
   "metadata": {},
   "outputs": [
    {
     "name": "stdout",
     "output_type": "stream",
     "text": [
      "585 - 1086\n",
      "1086 - 2737\n",
      "2737 - 5482\n",
      "5482 - 9340\n",
      "9340 - 14344\n",
      "14344 - 20548\n",
      "20548 - 28060\n",
      "28060 - 37125\n",
      "37125 - 48332\n",
      "48332 - 63137\n",
      "63137 - 85176\n",
      "85176 - 123562\n",
      "123562 - 201164\n",
      "201164 - 375411\n",
      "375411 - 717877\n",
      "Evaluated 0.00% of the params.\n",
      "PriceClassifierXGBoostModelHyperparams(learning_rate=0.14034069550007902, reg_alpha=0.9541011649041133, reg_lambda=3.708182521982664, max_depth=11, n_estimators=350, min_child_weight=6, gamma=1.3736089649503211, subsample=0.7806217129238506, colsample_bytree=0.691463437376895, max_delta_step=5.0, colsample_bynode=0.7, colsample_bylevel=0.7)\n",
      "ClassificationEvaluationResults(accuracy=0.6611965811965812, precision=0.6601991376067726, recall=0.6611965811965812, f1=0.6603815920677492, roc_auc=None)\n"
     ]
    },
    {
     "data": {
      "application/vnd.plotly.v1+json": {
       "config": {
        "plotlyServerURL": "https://plot.ly"
       },
       "data": [
        {
         "orientation": "h",
         "type": "bar",
         "x": [
          158,
          284,
          289,
          298,
          341,
          353,
          378,
          381,
          397,
          431,
          438,
          454,
          476,
          484,
          494,
          505,
          509,
          537,
          567,
          573,
          576,
          584,
          606,
          623,
          652,
          653,
          672,
          701,
          705,
          716,
          720,
          728,
          747,
          747,
          753,
          754,
          764,
          779,
          816,
          820,
          842,
          857,
          858,
          859,
          885,
          886,
          905,
          907,
          917,
          925,
          951,
          965,
          967,
          976,
          976,
          986,
          993,
          996,
          1004,
          1009,
          1030,
          1037,
          1053,
          1058,
          1059,
          1089,
          1090,
          1122,
          1228,
          1270,
          1338,
          1609,
          2016,
          2201,
          3244,
          3476,
          6554,
          7960,
          9872,
          12104,
          12375,
          12824,
          14572,
          15823,
          16336,
          20009
         ],
         "y": [
          "TV tuner",
          "Four-zone air conditioning",
          "HUD(head-up display)",
          "Heated rear seats",
          "Auxiliary heating",
          "Aftermarket radio",
          "ABS",
          "Adjustable suspension",
          "Central locking",
          "Passengers airbag",
          "Electric front windows",
          "Drivers airbag",
          "Power steering",
          "CD changer",
          "Blind spot sensor",
          "DVD player",
          "Panoramic roof",
          "Sunroof",
          "Parking assistant",
          "Immobilizer",
          "Electrically adjustable mirrors",
          "Shift paddles",
          "Active cruise control",
          "Lane assistant",
          "Heated windscreen",
          "Condition",
          "Electrically adjustable seats",
          "Hook",
          "Airbag protecting the knees",
          "Speed limiter",
          "Rain sensor",
          "Electrochromic rear view mirror",
          "Multifunction steering wheel",
          "Roof rails",
          "Electrochromic side mirrors",
          "On-board computer",
          "Factory radio",
          "Twilight sensor",
          "SD socket",
          "USB socket",
          "Air curtains",
          "ESP(stabilization of the track)",
          "Cruise control",
          "Start-Stop system",
          "MP3",
          "Bluetooth",
          "ASR (traction control)",
          "Automatic air conditioning",
          "Rear side airbags",
          "Front side airbags",
          "Electric rear windows",
          "Fog lights",
          "Rear view camera",
          "Heated side mirrors",
          "LED lights",
          "AUX socket",
          "Rear parking sensors",
          "Daytime running lights",
          "Leather upholstery",
          "GPS navigation",
          "Xenon lights",
          "Dual zone air conditioning",
          "Isofix",
          "Manual air conditioning",
          "Alarm",
          "Tinted windows",
          "Velor upholstery",
          "Front parking sensors",
          "CD",
          "Heated front seats",
          "Alloy wheels",
          "Transmission",
          "Doors_number",
          "First_owner",
          "Drive",
          "Fuel_type",
          "Advanced_model",
          "Type",
          "Displacement_cm3",
          "Colour",
          "Vehicle_generation",
          "Vehicle_brand",
          "Power_HP",
          "Production_year",
          "Vehicle_model",
          "Mileage_km"
         ]
        }
       ],
       "layout": {
        "template": {
         "data": {
          "bar": [
           {
            "error_x": {
             "color": "#2a3f5f"
            },
            "error_y": {
             "color": "#2a3f5f"
            },
            "marker": {
             "line": {
              "color": "#E5ECF6",
              "width": 0.5
             },
             "pattern": {
              "fillmode": "overlay",
              "size": 10,
              "solidity": 0.2
             }
            },
            "type": "bar"
           }
          ],
          "barpolar": [
           {
            "marker": {
             "line": {
              "color": "#E5ECF6",
              "width": 0.5
             },
             "pattern": {
              "fillmode": "overlay",
              "size": 10,
              "solidity": 0.2
             }
            },
            "type": "barpolar"
           }
          ],
          "carpet": [
           {
            "aaxis": {
             "endlinecolor": "#2a3f5f",
             "gridcolor": "white",
             "linecolor": "white",
             "minorgridcolor": "white",
             "startlinecolor": "#2a3f5f"
            },
            "baxis": {
             "endlinecolor": "#2a3f5f",
             "gridcolor": "white",
             "linecolor": "white",
             "minorgridcolor": "white",
             "startlinecolor": "#2a3f5f"
            },
            "type": "carpet"
           }
          ],
          "choropleth": [
           {
            "colorbar": {
             "outlinewidth": 0,
             "ticks": ""
            },
            "type": "choropleth"
           }
          ],
          "contour": [
           {
            "colorbar": {
             "outlinewidth": 0,
             "ticks": ""
            },
            "colorscale": [
             [
              0,
              "#0d0887"
             ],
             [
              0.1111111111111111,
              "#46039f"
             ],
             [
              0.2222222222222222,
              "#7201a8"
             ],
             [
              0.3333333333333333,
              "#9c179e"
             ],
             [
              0.4444444444444444,
              "#bd3786"
             ],
             [
              0.5555555555555556,
              "#d8576b"
             ],
             [
              0.6666666666666666,
              "#ed7953"
             ],
             [
              0.7777777777777778,
              "#fb9f3a"
             ],
             [
              0.8888888888888888,
              "#fdca26"
             ],
             [
              1,
              "#f0f921"
             ]
            ],
            "type": "contour"
           }
          ],
          "contourcarpet": [
           {
            "colorbar": {
             "outlinewidth": 0,
             "ticks": ""
            },
            "type": "contourcarpet"
           }
          ],
          "heatmap": [
           {
            "colorbar": {
             "outlinewidth": 0,
             "ticks": ""
            },
            "colorscale": [
             [
              0,
              "#0d0887"
             ],
             [
              0.1111111111111111,
              "#46039f"
             ],
             [
              0.2222222222222222,
              "#7201a8"
             ],
             [
              0.3333333333333333,
              "#9c179e"
             ],
             [
              0.4444444444444444,
              "#bd3786"
             ],
             [
              0.5555555555555556,
              "#d8576b"
             ],
             [
              0.6666666666666666,
              "#ed7953"
             ],
             [
              0.7777777777777778,
              "#fb9f3a"
             ],
             [
              0.8888888888888888,
              "#fdca26"
             ],
             [
              1,
              "#f0f921"
             ]
            ],
            "type": "heatmap"
           }
          ],
          "heatmapgl": [
           {
            "colorbar": {
             "outlinewidth": 0,
             "ticks": ""
            },
            "colorscale": [
             [
              0,
              "#0d0887"
             ],
             [
              0.1111111111111111,
              "#46039f"
             ],
             [
              0.2222222222222222,
              "#7201a8"
             ],
             [
              0.3333333333333333,
              "#9c179e"
             ],
             [
              0.4444444444444444,
              "#bd3786"
             ],
             [
              0.5555555555555556,
              "#d8576b"
             ],
             [
              0.6666666666666666,
              "#ed7953"
             ],
             [
              0.7777777777777778,
              "#fb9f3a"
             ],
             [
              0.8888888888888888,
              "#fdca26"
             ],
             [
              1,
              "#f0f921"
             ]
            ],
            "type": "heatmapgl"
           }
          ],
          "histogram": [
           {
            "marker": {
             "pattern": {
              "fillmode": "overlay",
              "size": 10,
              "solidity": 0.2
             }
            },
            "type": "histogram"
           }
          ],
          "histogram2d": [
           {
            "colorbar": {
             "outlinewidth": 0,
             "ticks": ""
            },
            "colorscale": [
             [
              0,
              "#0d0887"
             ],
             [
              0.1111111111111111,
              "#46039f"
             ],
             [
              0.2222222222222222,
              "#7201a8"
             ],
             [
              0.3333333333333333,
              "#9c179e"
             ],
             [
              0.4444444444444444,
              "#bd3786"
             ],
             [
              0.5555555555555556,
              "#d8576b"
             ],
             [
              0.6666666666666666,
              "#ed7953"
             ],
             [
              0.7777777777777778,
              "#fb9f3a"
             ],
             [
              0.8888888888888888,
              "#fdca26"
             ],
             [
              1,
              "#f0f921"
             ]
            ],
            "type": "histogram2d"
           }
          ],
          "histogram2dcontour": [
           {
            "colorbar": {
             "outlinewidth": 0,
             "ticks": ""
            },
            "colorscale": [
             [
              0,
              "#0d0887"
             ],
             [
              0.1111111111111111,
              "#46039f"
             ],
             [
              0.2222222222222222,
              "#7201a8"
             ],
             [
              0.3333333333333333,
              "#9c179e"
             ],
             [
              0.4444444444444444,
              "#bd3786"
             ],
             [
              0.5555555555555556,
              "#d8576b"
             ],
             [
              0.6666666666666666,
              "#ed7953"
             ],
             [
              0.7777777777777778,
              "#fb9f3a"
             ],
             [
              0.8888888888888888,
              "#fdca26"
             ],
             [
              1,
              "#f0f921"
             ]
            ],
            "type": "histogram2dcontour"
           }
          ],
          "mesh3d": [
           {
            "colorbar": {
             "outlinewidth": 0,
             "ticks": ""
            },
            "type": "mesh3d"
           }
          ],
          "parcoords": [
           {
            "line": {
             "colorbar": {
              "outlinewidth": 0,
              "ticks": ""
             }
            },
            "type": "parcoords"
           }
          ],
          "pie": [
           {
            "automargin": true,
            "type": "pie"
           }
          ],
          "scatter": [
           {
            "fillpattern": {
             "fillmode": "overlay",
             "size": 10,
             "solidity": 0.2
            },
            "type": "scatter"
           }
          ],
          "scatter3d": [
           {
            "line": {
             "colorbar": {
              "outlinewidth": 0,
              "ticks": ""
             }
            },
            "marker": {
             "colorbar": {
              "outlinewidth": 0,
              "ticks": ""
             }
            },
            "type": "scatter3d"
           }
          ],
          "scattercarpet": [
           {
            "marker": {
             "colorbar": {
              "outlinewidth": 0,
              "ticks": ""
             }
            },
            "type": "scattercarpet"
           }
          ],
          "scattergeo": [
           {
            "marker": {
             "colorbar": {
              "outlinewidth": 0,
              "ticks": ""
             }
            },
            "type": "scattergeo"
           }
          ],
          "scattergl": [
           {
            "marker": {
             "colorbar": {
              "outlinewidth": 0,
              "ticks": ""
             }
            },
            "type": "scattergl"
           }
          ],
          "scattermapbox": [
           {
            "marker": {
             "colorbar": {
              "outlinewidth": 0,
              "ticks": ""
             }
            },
            "type": "scattermapbox"
           }
          ],
          "scatterpolar": [
           {
            "marker": {
             "colorbar": {
              "outlinewidth": 0,
              "ticks": ""
             }
            },
            "type": "scatterpolar"
           }
          ],
          "scatterpolargl": [
           {
            "marker": {
             "colorbar": {
              "outlinewidth": 0,
              "ticks": ""
             }
            },
            "type": "scatterpolargl"
           }
          ],
          "scatterternary": [
           {
            "marker": {
             "colorbar": {
              "outlinewidth": 0,
              "ticks": ""
             }
            },
            "type": "scatterternary"
           }
          ],
          "surface": [
           {
            "colorbar": {
             "outlinewidth": 0,
             "ticks": ""
            },
            "colorscale": [
             [
              0,
              "#0d0887"
             ],
             [
              0.1111111111111111,
              "#46039f"
             ],
             [
              0.2222222222222222,
              "#7201a8"
             ],
             [
              0.3333333333333333,
              "#9c179e"
             ],
             [
              0.4444444444444444,
              "#bd3786"
             ],
             [
              0.5555555555555556,
              "#d8576b"
             ],
             [
              0.6666666666666666,
              "#ed7953"
             ],
             [
              0.7777777777777778,
              "#fb9f3a"
             ],
             [
              0.8888888888888888,
              "#fdca26"
             ],
             [
              1,
              "#f0f921"
             ]
            ],
            "type": "surface"
           }
          ],
          "table": [
           {
            "cells": {
             "fill": {
              "color": "#EBF0F8"
             },
             "line": {
              "color": "white"
             }
            },
            "header": {
             "fill": {
              "color": "#C8D4E3"
             },
             "line": {
              "color": "white"
             }
            },
            "type": "table"
           }
          ]
         },
         "layout": {
          "annotationdefaults": {
           "arrowcolor": "#2a3f5f",
           "arrowhead": 0,
           "arrowwidth": 1
          },
          "autotypenumbers": "strict",
          "coloraxis": {
           "colorbar": {
            "outlinewidth": 0,
            "ticks": ""
           }
          },
          "colorscale": {
           "diverging": [
            [
             0,
             "#8e0152"
            ],
            [
             0.1,
             "#c51b7d"
            ],
            [
             0.2,
             "#de77ae"
            ],
            [
             0.3,
             "#f1b6da"
            ],
            [
             0.4,
             "#fde0ef"
            ],
            [
             0.5,
             "#f7f7f7"
            ],
            [
             0.6,
             "#e6f5d0"
            ],
            [
             0.7,
             "#b8e186"
            ],
            [
             0.8,
             "#7fbc41"
            ],
            [
             0.9,
             "#4d9221"
            ],
            [
             1,
             "#276419"
            ]
           ],
           "sequential": [
            [
             0,
             "#0d0887"
            ],
            [
             0.1111111111111111,
             "#46039f"
            ],
            [
             0.2222222222222222,
             "#7201a8"
            ],
            [
             0.3333333333333333,
             "#9c179e"
            ],
            [
             0.4444444444444444,
             "#bd3786"
            ],
            [
             0.5555555555555556,
             "#d8576b"
            ],
            [
             0.6666666666666666,
             "#ed7953"
            ],
            [
             0.7777777777777778,
             "#fb9f3a"
            ],
            [
             0.8888888888888888,
             "#fdca26"
            ],
            [
             1,
             "#f0f921"
            ]
           ],
           "sequentialminus": [
            [
             0,
             "#0d0887"
            ],
            [
             0.1111111111111111,
             "#46039f"
            ],
            [
             0.2222222222222222,
             "#7201a8"
            ],
            [
             0.3333333333333333,
             "#9c179e"
            ],
            [
             0.4444444444444444,
             "#bd3786"
            ],
            [
             0.5555555555555556,
             "#d8576b"
            ],
            [
             0.6666666666666666,
             "#ed7953"
            ],
            [
             0.7777777777777778,
             "#fb9f3a"
            ],
            [
             0.8888888888888888,
             "#fdca26"
            ],
            [
             1,
             "#f0f921"
            ]
           ]
          },
          "colorway": [
           "#636efa",
           "#EF553B",
           "#00cc96",
           "#ab63fa",
           "#FFA15A",
           "#19d3f3",
           "#FF6692",
           "#B6E880",
           "#FF97FF",
           "#FECB52"
          ],
          "font": {
           "color": "#2a3f5f"
          },
          "geo": {
           "bgcolor": "white",
           "lakecolor": "white",
           "landcolor": "#E5ECF6",
           "showlakes": true,
           "showland": true,
           "subunitcolor": "white"
          },
          "hoverlabel": {
           "align": "left"
          },
          "hovermode": "closest",
          "mapbox": {
           "style": "light"
          },
          "paper_bgcolor": "white",
          "plot_bgcolor": "#E5ECF6",
          "polar": {
           "angularaxis": {
            "gridcolor": "white",
            "linecolor": "white",
            "ticks": ""
           },
           "bgcolor": "#E5ECF6",
           "radialaxis": {
            "gridcolor": "white",
            "linecolor": "white",
            "ticks": ""
           }
          },
          "scene": {
           "xaxis": {
            "backgroundcolor": "#E5ECF6",
            "gridcolor": "white",
            "gridwidth": 2,
            "linecolor": "white",
            "showbackground": true,
            "ticks": "",
            "zerolinecolor": "white"
           },
           "yaxis": {
            "backgroundcolor": "#E5ECF6",
            "gridcolor": "white",
            "gridwidth": 2,
            "linecolor": "white",
            "showbackground": true,
            "ticks": "",
            "zerolinecolor": "white"
           },
           "zaxis": {
            "backgroundcolor": "#E5ECF6",
            "gridcolor": "white",
            "gridwidth": 2,
            "linecolor": "white",
            "showbackground": true,
            "ticks": "",
            "zerolinecolor": "white"
           }
          },
          "shapedefaults": {
           "line": {
            "color": "#2a3f5f"
           }
          },
          "ternary": {
           "aaxis": {
            "gridcolor": "white",
            "linecolor": "white",
            "ticks": ""
           },
           "baxis": {
            "gridcolor": "white",
            "linecolor": "white",
            "ticks": ""
           },
           "bgcolor": "#E5ECF6",
           "caxis": {
            "gridcolor": "white",
            "linecolor": "white",
            "ticks": ""
           }
          },
          "title": {
           "x": 0.05
          },
          "xaxis": {
           "automargin": true,
           "gridcolor": "white",
           "linecolor": "white",
           "ticks": "",
           "title": {
            "standoff": 15
           },
           "zerolinecolor": "white",
           "zerolinewidth": 2
          },
          "yaxis": {
           "automargin": true,
           "gridcolor": "white",
           "linecolor": "white",
           "ticks": "",
           "title": {
            "standoff": 15
           },
           "zerolinecolor": "white",
           "zerolinewidth": 2
          }
         }
        },
        "xaxis": {
         "title": {
          "text": "Weight"
         }
        },
        "yaxis": {
         "title": {
          "text": "Feature Name"
         }
        }
       }
      }
     },
     "metadata": {},
     "output_type": "display_data"
    },
    {
     "name": "stdout",
     "output_type": "stream",
     "text": [
      "None\n"
     ]
    }
   ],
   "source": [
    "training_process(\n",
    "    model_name=\"xgboost_classifier\",\n",
    "    model_class=PriceClassifierXGBoostModel,\n",
    "    hyperparameters_class=PriceClassifierXGBoostModelHyperparams,\n",
    "    intervals_function=lambda x: 10 ** (0.4 * x) + 500 * (x + 1) ** 1.2 + 500 * x**0.8,\n",
    "    param_grid={\n",
    "        \"learning_rate\": [0.14034069550007902],\n",
    "        \"max_depth\": [11],\n",
    "        \"n_estimators\": [350],\n",
    "        \"min_child_weight\": [6],\n",
    "        \"gamma\": [1.3736089649503211],\n",
    "        \"subsample\": [0.7806217129238506],\n",
    "        \"colsample_bytree\": [0.691463437376895],\n",
    "        \"reg_alpha\": [0.9541011649041133],\n",
    "        \"reg_lambda\": [3.708182521982664],\n",
    "        \"max_delta_step\": [5.0],\n",
    "        \"colsample_bynode\": [0.7],\n",
    "        \"colsample_bylevel\": [0.7],\n",
    "    },\n",
    "    gpu_mode=False,\n",
    ")"
   ]
>>>>>>> origin/main
  }
 ],
 "metadata": {
  "kernelspec": {
   "display_name": "venv",
   "language": "python",
   "name": "python3"
  },
  "language_info": {
   "codemirror_mode": {
    "name": "ipython",
    "version": 3
   },
   "file_extension": ".py",
   "mimetype": "text/x-python",
   "name": "python",
   "nbconvert_exporter": "python",
   "pygments_lexer": "ipython3",
   "version": "3.13.0"
  }
 },
 "nbformat": 4,
 "nbformat_minor": 2
}
