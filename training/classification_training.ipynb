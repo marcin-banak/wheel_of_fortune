{
 "cells": [
  {
   "cell_type": "code",
   "execution_count": 5,
   "metadata": {
    "ExecuteTime": {
     "end_time": "2025-01-06T10:58:18.650900Z",
     "start_time": "2025-01-06T10:58:17.774143Z"
    }
   },
   "outputs": [],
   "source": [
    "import sys\n",
    "import os\n",
    "\n",
    "current_dir = os.getcwd()\n",
    "parent_dir = os.path.abspath(os.path.join(current_dir, os.pardir))\n",
    "sys.path.append(parent_dir)\n",
    "\n",
    "from training.training_process import training_process\n",
    "from models.price_evaluator_xgboost_clasifier import (\n",
    "    PriceClassifierXGBoostModelHyperparams,\n",
    "    PriceClassifierXGBoostModel,\n",
    ")\n",
    "from evaluation.AbstractEvaluationResults import MetricEnum"
   ]
  },
  {
   "cell_type": "code",
   "execution_count": 6,
   "metadata": {
    "ExecuteTime": {
     "end_time": "2025-01-06T11:00:07.037504Z",
     "start_time": "2025-01-06T10:58:18.657300Z"
    }
   },
   "outputs": [
    {
     "name": "stdout",
     "output_type": "stream",
     "text": [
      "585 - 1086\n",
      "1086 - 2737\n",
      "2737 - 5482\n",
      "5482 - 9340\n",
      "9340 - 14344\n",
      "14344 - 20548\n",
      "20548 - 28060\n",
      "28060 - 37125\n",
      "37125 - 48332\n",
      "48332 - 63137\n",
      "63137 - 85176\n",
      "85176 - 123562\n",
      "123562 - 201164\n",
      "201164 - 375411\n",
      "375411 - 717877\n",
      "Eval for PriceClassifierXGBoostModelHyperparams(learning_rate=0.24099746618946757, reg_alpha=1.8343478986616382, reg_lambda=7.796910002727695, max_depth=np.int64(10), n_estimators=np.int64(251), min_child_weight=np.int64(2), gamma=2.296244459829336, subsample=0.666854305569511, colsample_bytree=0.5714334089609704, max_delta_step=6.50888472948853, colsample_bynode=0.5282057895135501, colsample_bylevel=0.8609993861334124)\n",
      "Actual score: ClassificationEvaluationResults(accuracy=0.646056166056166, precision=0.6449739054257192, recall=0.646056166056166, f1=0.6451045937564553, mean_classes_error=0.427985347985348, roc_auc=None)\n",
      "Best score: ClassificationEvaluationResults(accuracy=0.646056166056166, precision=0.6449739054257192, recall=0.646056166056166, f1=0.6451045937564553, mean_classes_error=0.427985347985348, roc_auc=None)\n",
      "Best score hyperparams: PriceClassifierXGBoostModelHyperparams(learning_rate=0.24099746618946757, reg_alpha=1.8343478986616382, reg_lambda=7.796910002727695, max_depth=np.int64(10), n_estimators=np.int64(251), min_child_weight=np.int64(2), gamma=2.296244459829336, subsample=0.666854305569511, colsample_bytree=0.5714334089609704, max_delta_step=6.50888472948853, colsample_bynode=0.5282057895135501, colsample_bylevel=0.8609993861334124)\n",
      "Eval for PriceClassifierXGBoostModelHyperparams(learning_rate=0.2821802856145676, reg_alpha=0.007787658410143285, reg_lambda=9.922115592912178, max_depth=np.int64(10), n_estimators=np.int64(325), min_child_weight=np.int64(1), gamma=0.1153121252070788, subsample=0.7623873301291946, colsample_bytree=0.6999304858576278, max_delta_step=0.4666566321361543, colsample_bynode=0.9868777594207296, colsample_bylevel=0.6163856702151521)\n",
      "Actual score: ClassificationEvaluationResults(accuracy=0.641009361009361, precision=0.6401664829461319, recall=0.641009361009361, f1=0.6404631113248312, mean_classes_error=0.43265771265771263, roc_auc=None)\n",
      "Best score: ClassificationEvaluationResults(accuracy=0.646056166056166, precision=0.6449739054257192, recall=0.646056166056166, f1=0.6451045937564553, mean_classes_error=0.427985347985348, roc_auc=None)\n",
      "Best score hyperparams: PriceClassifierXGBoostModelHyperparams(learning_rate=0.24099746618946757, reg_alpha=1.8343478986616382, reg_lambda=7.796910002727695, max_depth=np.int64(10), n_estimators=np.int64(251), min_child_weight=np.int64(2), gamma=2.296244459829336, subsample=0.666854305569511, colsample_bytree=0.5714334089609704, max_delta_step=6.50888472948853, colsample_bynode=0.5282057895135501, colsample_bylevel=0.8609993861334124)\n",
      "Eval for PriceClassifierXGBoostModelHyperparams(learning_rate=0.036275866014518036, reg_alpha=6.183860093330874, reg_lambda=3.8246199126716283, max_depth=np.int64(15), n_estimators=np.int64(260), min_child_weight=np.int64(9), gamma=3.401537692938899, subsample=0.7252496259847716, colsample_bytree=0.5066324805799333, max_delta_step=9.42201755684853, colsample_bynode=0.7816441089227697, colsample_bylevel=0.692708251269958)\n",
      "Actual score: ClassificationEvaluationResults(accuracy=0.6270899470899471, precision=0.626709792667733, recall=0.6270899470899471, f1=0.6255390304111339, mean_classes_error=0.46186406186406187, roc_auc=None)\n",
      "Best score: ClassificationEvaluationResults(accuracy=0.646056166056166, precision=0.6449739054257192, recall=0.646056166056166, f1=0.6451045937564553, mean_classes_error=0.427985347985348, roc_auc=None)\n",
      "Best score hyperparams: PriceClassifierXGBoostModelHyperparams(learning_rate=0.24099746618946757, reg_alpha=1.8343478986616382, reg_lambda=7.796910002727695, max_depth=np.int64(10), n_estimators=np.int64(251), min_child_weight=np.int64(2), gamma=2.296244459829336, subsample=0.666854305569511, colsample_bytree=0.5714334089609704, max_delta_step=6.50888472948853, colsample_bynode=0.5282057895135501, colsample_bylevel=0.8609993861334124)\n",
      "Eval for PriceClassifierXGBoostModelHyperparams(learning_rate=0.014630213143862116, reg_alpha=2.3089382562214906, reg_lambda=2.410254660260118, max_depth=np.int64(11), n_estimators=np.int64(324), min_child_weight=np.int64(8), gamma=0.8668232675388605, subsample=0.6955303037866205, colsample_bytree=0.5911180438940312, max_delta_step=7.5536141031765265, colsample_bynode=0.7125779372456225, colsample_bylevel=0.6039708314340945)\n",
      "Actual score: ClassificationEvaluationResults(accuracy=0.6321530321530322, precision=0.6316931034101281, recall=0.6321530321530322, f1=0.6304473737876938, mean_classes_error=0.4505820105820106, roc_auc=None)\n",
      "Best score: ClassificationEvaluationResults(accuracy=0.646056166056166, precision=0.6449739054257192, recall=0.646056166056166, f1=0.6451045937564553, mean_classes_error=0.427985347985348, roc_auc=None)\n",
      "Best score hyperparams: PriceClassifierXGBoostModelHyperparams(learning_rate=0.24099746618946757, reg_alpha=1.8343478986616382, reg_lambda=7.796910002727695, max_depth=np.int64(10), n_estimators=np.int64(251), min_child_weight=np.int64(2), gamma=2.296244459829336, subsample=0.666854305569511, colsample_bytree=0.5714334089609704, max_delta_step=6.50888472948853, colsample_bynode=0.5282057895135501, colsample_bylevel=0.8609993861334124)\n",
      "Eval for PriceClassifierXGBoostModelHyperparams(learning_rate=0.17463309506779756, reg_alpha=0.3131329245555859, reg_lambda=8.422847745949987, max_depth=np.int64(8), n_estimators=np.int64(228), min_child_weight=np.int64(9), gamma=3.636359979282105, subsample=0.6632703844029177, colsample_bytree=0.7852219872026998, max_delta_step=5.208342600258238, colsample_bynode=0.9805860121746747, colsample_bylevel=0.9222669243390758)\n",
      "Actual score: ClassificationEvaluationResults(accuracy=0.6416280016280016, precision=0.6403310129246725, recall=0.6416280016280016, f1=0.6405560579195149, mean_classes_error=0.43645095645095644, roc_auc=None)\n",
      "Best score: ClassificationEvaluationResults(accuracy=0.646056166056166, precision=0.6449739054257192, recall=0.646056166056166, f1=0.6451045937564553, mean_classes_error=0.427985347985348, roc_auc=None)\n",
      "Best score hyperparams: PriceClassifierXGBoostModelHyperparams(learning_rate=0.24099746618946757, reg_alpha=1.8343478986616382, reg_lambda=7.796910002727695, max_depth=np.int64(10), n_estimators=np.int64(251), min_child_weight=np.int64(2), gamma=2.296244459829336, subsample=0.666854305569511, colsample_bytree=0.5714334089609704, max_delta_step=6.50888472948853, colsample_bynode=0.5282057895135501, colsample_bylevel=0.8609993861334124)\n",
      "Eval for PriceClassifierXGBoostModelHyperparams(learning_rate=0.22672283193984047, reg_alpha=5.3969213238907985, reg_lambda=5.8675116566384835, max_depth=np.int64(15), n_estimators=np.int64(323), min_child_weight=np.int64(3), gamma=1.4813675285204122, subsample=0.5826334695315013, colsample_bytree=0.507818203370597, max_delta_step=4.234014807063698, colsample_bynode=0.6974407590877849, colsample_bylevel=0.6467440873590191)\n",
      "Actual score: ClassificationEvaluationResults(accuracy=0.6427187627187627, precision=0.6418497161874341, recall=0.6427187627187627, f1=0.6418063622992255, mean_classes_error=0.4367928367928368, roc_auc=None)\n",
      "Best score: ClassificationEvaluationResults(accuracy=0.646056166056166, precision=0.6449739054257192, recall=0.646056166056166, f1=0.6451045937564553, mean_classes_error=0.427985347985348, roc_auc=None)\n",
      "Best score hyperparams: PriceClassifierXGBoostModelHyperparams(learning_rate=0.24099746618946757, reg_alpha=1.8343478986616382, reg_lambda=7.796910002727695, max_depth=np.int64(10), n_estimators=np.int64(251), min_child_weight=np.int64(2), gamma=2.296244459829336, subsample=0.666854305569511, colsample_bytree=0.5714334089609704, max_delta_step=6.50888472948853, colsample_bynode=0.5282057895135501, colsample_bylevel=0.8609993861334124)\n",
      "Eval for PriceClassifierXGBoostModelHyperparams(learning_rate=0.014083148587374493, reg_alpha=1.9884240408880522, reg_lambda=7.113419527486501, max_depth=np.int64(12), n_estimators=np.int64(323), min_child_weight=np.int64(9), gamma=3.2553851275097228, subsample=0.9574798377718905, colsample_bytree=0.9250192888948998, max_delta_step=4.494506741382035, colsample_bynode=0.5477050582452057, colsample_bylevel=0.6854091260991332)\n",
      "Actual score: ClassificationEvaluationResults(accuracy=0.6331623931623932, precision=0.6325828747632475, recall=0.6331623931623932, f1=0.6315566664580733, mean_classes_error=0.44967032967032966, roc_auc=None)\n",
      "Best score: ClassificationEvaluationResults(accuracy=0.646056166056166, precision=0.6449739054257192, recall=0.646056166056166, f1=0.6451045937564553, mean_classes_error=0.427985347985348, roc_auc=None)\n",
      "Best score hyperparams: PriceClassifierXGBoostModelHyperparams(learning_rate=0.24099746618946757, reg_alpha=1.8343478986616382, reg_lambda=7.796910002727695, max_depth=np.int64(10), n_estimators=np.int64(251), min_child_weight=np.int64(2), gamma=2.296244459829336, subsample=0.666854305569511, colsample_bytree=0.5714334089609704, max_delta_step=6.50888472948853, colsample_bynode=0.5282057895135501, colsample_bylevel=0.8609993861334124)\n",
      "Eval for PriceClassifierXGBoostModelHyperparams(learning_rate=0.20396396327244615, reg_alpha=6.659223566174967, reg_lambda=5.912977877077273, max_depth=np.int64(6), n_estimators=np.int64(303), min_child_weight=np.int64(4), gamma=4.85856047694552, subsample=0.924456912133042, colsample_bytree=0.8608647605824367, max_delta_step=2.359849197489558, colsample_bynode=0.628034161380662, colsample_bylevel=0.5202167947692157)\n",
      "Actual score: ClassificationEvaluationResults(accuracy=0.6224827024827024, precision=0.6209945221605991, recall=0.6224827024827024, f1=0.6209580809671237, mean_classes_error=0.46487586487586485, roc_auc=None)\n",
      "Best score: ClassificationEvaluationResults(accuracy=0.646056166056166, precision=0.6449739054257192, recall=0.646056166056166, f1=0.6451045937564553, mean_classes_error=0.427985347985348, roc_auc=None)\n",
      "Best score hyperparams: PriceClassifierXGBoostModelHyperparams(learning_rate=0.24099746618946757, reg_alpha=1.8343478986616382, reg_lambda=7.796910002727695, max_depth=np.int64(10), n_estimators=np.int64(251), min_child_weight=np.int64(2), gamma=2.296244459829336, subsample=0.666854305569511, colsample_bytree=0.5714334089609704, max_delta_step=6.50888472948853, colsample_bynode=0.5282057895135501, colsample_bylevel=0.8609993861334124)\n",
      "Eval for PriceClassifierXGBoostModelHyperparams(learning_rate=0.21609223800887836, reg_alpha=1.1089082081183135, reg_lambda=4.393365018657702, max_depth=np.int64(5), n_estimators=np.int64(453), min_child_weight=np.int64(5), gamma=2.8163778598819187, subsample=0.8477580432130638, colsample_bytree=0.5696657272029378, max_delta_step=6.044173792778174, colsample_bynode=0.7699205456508367, colsample_bylevel=0.6015306123673847)\n",
      "Actual score: ClassificationEvaluationResults(accuracy=0.6387464387464388, precision=0.6376505473412013, recall=0.6387464387464388, f1=0.6376884082698819, mean_classes_error=0.4377859177859178, roc_auc=None)\n",
      "Best score: ClassificationEvaluationResults(accuracy=0.646056166056166, precision=0.6449739054257192, recall=0.646056166056166, f1=0.6451045937564553, mean_classes_error=0.427985347985348, roc_auc=None)\n",
      "Best score hyperparams: PriceClassifierXGBoostModelHyperparams(learning_rate=0.24099746618946757, reg_alpha=1.8343478986616382, reg_lambda=7.796910002727695, max_depth=np.int64(10), n_estimators=np.int64(251), min_child_weight=np.int64(2), gamma=2.296244459829336, subsample=0.666854305569511, colsample_bytree=0.5714334089609704, max_delta_step=6.50888472948853, colsample_bynode=0.5282057895135501, colsample_bylevel=0.8609993861334124)\n",
      "Eval for PriceClassifierXGBoostModelHyperparams(learning_rate=0.28342753546181454, reg_alpha=5.988654664885361, reg_lambda=6.947849330397046, max_depth=np.int64(14), n_estimators=np.int64(331), min_child_weight=np.int64(4), gamma=0.5274712991513532, subsample=0.7282672852414551, colsample_bytree=0.6092202186084168, max_delta_step=4.165099478703663, colsample_bynode=0.9416401294594343, colsample_bylevel=0.662172510502637)\n",
      "Actual score: ClassificationEvaluationResults(accuracy=0.6549287749287749, precision=0.6540105602640591, recall=0.6549287749287749, f1=0.6541512533854537, mean_classes_error=0.4177126577126577, roc_auc=None)\n",
      "Best score: ClassificationEvaluationResults(accuracy=0.6549287749287749, precision=0.6540105602640591, recall=0.6549287749287749, f1=0.6541512533854537, mean_classes_error=0.4177126577126577, roc_auc=None)\n",
      "Best score hyperparams: PriceClassifierXGBoostModelHyperparams(learning_rate=0.28342753546181454, reg_alpha=5.988654664885361, reg_lambda=6.947849330397046, max_depth=np.int64(14), n_estimators=np.int64(331), min_child_weight=np.int64(4), gamma=0.5274712991513532, subsample=0.7282672852414551, colsample_bytree=0.6092202186084168, max_delta_step=4.165099478703663, colsample_bynode=0.9416401294594343, colsample_bylevel=0.662172510502637)\n",
      "Eval for PriceClassifierXGBoostModelHyperparams(learning_rate=0.12649188964142866, reg_alpha=9.761654003414106, reg_lambda=9.88036262827038, max_depth=np.int64(5), n_estimators=np.int64(154), min_child_weight=np.int64(2), gamma=5.0, subsample=0.5902318905134125, colsample_bytree=0.9964141269686422, max_delta_step=2.525235606022889, colsample_bynode=0.8013361910058944, colsample_bylevel=0.5)\n",
      "Actual score: ClassificationEvaluationResults(accuracy=0.6018396418396419, precision=0.6005566008165485, recall=0.6018396418396419, f1=0.6000588466260431, mean_classes_error=0.494993894993895, roc_auc=None)\n",
      "Best score: ClassificationEvaluationResults(accuracy=0.6549287749287749, precision=0.6540105602640591, recall=0.6549287749287749, f1=0.6541512533854537, mean_classes_error=0.4177126577126577, roc_auc=None)\n",
      "Best score hyperparams: PriceClassifierXGBoostModelHyperparams(learning_rate=0.28342753546181454, reg_alpha=5.988654664885361, reg_lambda=6.947849330397046, max_depth=np.int64(14), n_estimators=np.int64(331), min_child_weight=np.int64(4), gamma=0.5274712991513532, subsample=0.7282672852414551, colsample_bytree=0.6092202186084168, max_delta_step=4.165099478703663, colsample_bynode=0.9416401294594343, colsample_bylevel=0.662172510502637)\n",
      "Eval for PriceClassifierXGBoostModelHyperparams(learning_rate=0.039482776843817936, reg_alpha=10.0, reg_lambda=7.001690277020833, max_depth=np.int64(3), n_estimators=np.int64(182), min_child_weight=np.int64(1), gamma=2.896843277708827, subsample=0.569914564978613, colsample_bytree=0.7981975457017287, max_delta_step=7.775671945570815, colsample_bynode=0.713027196207735, colsample_bylevel=1.0)\n",
      "Actual score: ClassificationEvaluationResults(accuracy=0.5343752543752543, precision=0.532888775186244, recall=0.5343752543752543, f1=0.5302940485614787, mean_classes_error=0.6116076516076516, roc_auc=None)\n",
      "Best score: ClassificationEvaluationResults(accuracy=0.6549287749287749, precision=0.6540105602640591, recall=0.6549287749287749, f1=0.6541512533854537, mean_classes_error=0.4177126577126577, roc_auc=None)\n",
      "Best score hyperparams: PriceClassifierXGBoostModelHyperparams(learning_rate=0.28342753546181454, reg_alpha=5.988654664885361, reg_lambda=6.947849330397046, max_depth=np.int64(14), n_estimators=np.int64(331), min_child_weight=np.int64(4), gamma=0.5274712991513532, subsample=0.7282672852414551, colsample_bytree=0.6092202186084168, max_delta_step=4.165099478703663, colsample_bynode=0.9416401294594343, colsample_bylevel=0.662172510502637)\n",
      "Eval for PriceClassifierXGBoostModelHyperparams(learning_rate=0.01, reg_alpha=10.0, reg_lambda=0.0, max_depth=np.int64(3), n_estimators=np.int64(500), min_child_weight=np.int64(1), gamma=5.0, subsample=1.0, colsample_bytree=0.5, max_delta_step=0.0, colsample_bynode=1.0, colsample_bylevel=1.0)\n",
      "Actual score: ClassificationEvaluationResults(accuracy=0.5204558404558405, precision=0.5183504478542251, recall=0.5204558404558405, f1=0.5159235992316423, mean_classes_error=0.6345461945461945, roc_auc=None)\n",
      "Best score: ClassificationEvaluationResults(accuracy=0.6549287749287749, precision=0.6540105602640591, recall=0.6549287749287749, f1=0.6541512533854537, mean_classes_error=0.4177126577126577, roc_auc=None)\n",
      "Best score hyperparams: PriceClassifierXGBoostModelHyperparams(learning_rate=0.28342753546181454, reg_alpha=5.988654664885361, reg_lambda=6.947849330397046, max_depth=np.int64(14), n_estimators=np.int64(331), min_child_weight=np.int64(4), gamma=0.5274712991513532, subsample=0.7282672852414551, colsample_bytree=0.6092202186084168, max_delta_step=4.165099478703663, colsample_bynode=0.9416401294594343, colsample_bylevel=0.662172510502637)\n",
      "Eval for PriceClassifierXGBoostModelHyperparams(learning_rate=0.010384566925448, reg_alpha=0.42243639285710455, reg_lambda=2.2918889743783777, max_depth=np.int64(5), n_estimators=np.int64(382), min_child_weight=np.int64(1), gamma=1.8738704030996285, subsample=0.6278039328732348, colsample_bytree=0.8344353260418469, max_delta_step=7.092542002743777, colsample_bynode=0.550367342992791, colsample_bylevel=0.9925341207638407)\n",
      "Actual score: ClassificationEvaluationResults(accuracy=0.564981684981685, precision=0.5630134236658382, recall=0.564981684981685, f1=0.5620503349229525, mean_classes_error=0.5489458689458689, roc_auc=None)\n",
      "Best score: ClassificationEvaluationResults(accuracy=0.6549287749287749, precision=0.6540105602640591, recall=0.6549287749287749, f1=0.6541512533854537, mean_classes_error=0.4177126577126577, roc_auc=None)\n",
      "Best score hyperparams: PriceClassifierXGBoostModelHyperparams(learning_rate=0.28342753546181454, reg_alpha=5.988654664885361, reg_lambda=6.947849330397046, max_depth=np.int64(14), n_estimators=np.int64(331), min_child_weight=np.int64(4), gamma=0.5274712991513532, subsample=0.7282672852414551, colsample_bytree=0.6092202186084168, max_delta_step=4.165099478703663, colsample_bynode=0.9416401294594343, colsample_bylevel=0.662172510502637)\n",
      "Eval for PriceClassifierXGBoostModelHyperparams(learning_rate=0.011134545365180746, reg_alpha=9.559915612091832, reg_lambda=9.421243839625154, max_depth=np.int64(15), n_estimators=np.int64(179), min_child_weight=np.int64(4), gamma=3.0991068504906663, subsample=0.9949625669763797, colsample_bytree=0.8400190539033081, max_delta_step=0.4719405792397756, colsample_bynode=0.7735293326831809, colsample_bylevel=0.9965289058735878)\n",
      "Actual score: ClassificationEvaluationResults(accuracy=0.5767684167684167, precision=0.5773753934768864, recall=0.5767684167684167, f1=0.5740994704326605, mean_classes_error=0.5258282458282458, roc_auc=None)\n",
      "Best score: ClassificationEvaluationResults(accuracy=0.6549287749287749, precision=0.6540105602640591, recall=0.6549287749287749, f1=0.6541512533854537, mean_classes_error=0.4177126577126577, roc_auc=None)\n",
      "Best score hyperparams: PriceClassifierXGBoostModelHyperparams(learning_rate=0.28342753546181454, reg_alpha=5.988654664885361, reg_lambda=6.947849330397046, max_depth=np.int64(14), n_estimators=np.int64(331), min_child_weight=np.int64(4), gamma=0.5274712991513532, subsample=0.7282672852414551, colsample_bytree=0.6092202186084168, max_delta_step=4.165099478703663, colsample_bynode=0.9416401294594343, colsample_bylevel=0.662172510502637)\n",
      "Eval for PriceClassifierXGBoostModelHyperparams(learning_rate=0.01, reg_alpha=10.0, reg_lambda=10.0, max_depth=np.int64(3), n_estimators=np.int64(500), min_child_weight=np.int64(1), gamma=2.450573162114787e-17, subsample=0.5, colsample_bytree=0.5, max_delta_step=0.0, colsample_bynode=1.0, colsample_bylevel=1.0)\n",
      "Actual score: ClassificationEvaluationResults(accuracy=0.5125600325600326, precision=0.5101008515513427, recall=0.5125600325600326, f1=0.5069880617352691, mean_classes_error=0.6533333333333333, roc_auc=None)\n",
      "Best score: ClassificationEvaluationResults(accuracy=0.6549287749287749, precision=0.6540105602640591, recall=0.6549287749287749, f1=0.6541512533854537, mean_classes_error=0.4177126577126577, roc_auc=None)\n",
      "Best score hyperparams: PriceClassifierXGBoostModelHyperparams(learning_rate=0.28342753546181454, reg_alpha=5.988654664885361, reg_lambda=6.947849330397046, max_depth=np.int64(14), n_estimators=np.int64(331), min_child_weight=np.int64(4), gamma=0.5274712991513532, subsample=0.7282672852414551, colsample_bytree=0.6092202186084168, max_delta_step=4.165099478703663, colsample_bynode=0.9416401294594343, colsample_bylevel=0.662172510502637)\n",
      "Eval for PriceClassifierXGBoostModelHyperparams(learning_rate=0.038225790817670496, reg_alpha=9.982606221609782, reg_lambda=9.580682679585768, max_depth=np.int64(4), n_estimators=np.int64(233), min_child_weight=np.int64(9), gamma=3.518186262518632, subsample=0.6334888634872646, colsample_bytree=0.7166935967099911, max_delta_step=1.7933207907943585, colsample_bynode=0.9378602576042121, colsample_bylevel=0.9456543481700896)\n",
      "Actual score: ClassificationEvaluationResults(accuracy=0.5698331298331298, precision=0.5684379925423848, recall=0.5698331298331298, f1=0.5672443003509293, mean_classes_error=0.5452503052503053, roc_auc=None)\n",
      "Best score: ClassificationEvaluationResults(accuracy=0.6549287749287749, precision=0.6540105602640591, recall=0.6549287749287749, f1=0.6541512533854537, mean_classes_error=0.4177126577126577, roc_auc=None)\n",
      "Best score hyperparams: PriceClassifierXGBoostModelHyperparams(learning_rate=0.28342753546181454, reg_alpha=5.988654664885361, reg_lambda=6.947849330397046, max_depth=np.int64(14), n_estimators=np.int64(331), min_child_weight=np.int64(4), gamma=0.5274712991513532, subsample=0.7282672852414551, colsample_bytree=0.6092202186084168, max_delta_step=4.165099478703663, colsample_bynode=0.9416401294594343, colsample_bylevel=0.662172510502637)\n",
      "Eval for PriceClassifierXGBoostModelHyperparams(learning_rate=0.019046500782671807, reg_alpha=8.9639598037215, reg_lambda=7.7236333594792566, max_depth=np.int64(3), n_estimators=np.int64(115), min_child_weight=np.int64(1), gamma=3.104459778038559, subsample=0.5598627663740248, colsample_bytree=0.9655983964956629, max_delta_step=2.088389868520128, colsample_bynode=0.9912179496297965, colsample_bylevel=0.9243763589522793)\n",
      "Actual score: ClassificationEvaluationResults(accuracy=0.4855026455026455, precision=0.4821159307673321, recall=0.4855026455026455, f1=0.47962621198479827, mean_classes_error=0.7231583231583232, roc_auc=None)\n",
      "Best score: ClassificationEvaluationResults(accuracy=0.6549287749287749, precision=0.6540105602640591, recall=0.6549287749287749, f1=0.6541512533854537, mean_classes_error=0.4177126577126577, roc_auc=None)\n",
      "Best score hyperparams: PriceClassifierXGBoostModelHyperparams(learning_rate=0.28342753546181454, reg_alpha=5.988654664885361, reg_lambda=6.947849330397046, max_depth=np.int64(14), n_estimators=np.int64(331), min_child_weight=np.int64(4), gamma=0.5274712991513532, subsample=0.7282672852414551, colsample_bytree=0.6092202186084168, max_delta_step=4.165099478703663, colsample_bynode=0.9416401294594343, colsample_bylevel=0.662172510502637)\n",
      "Eval for PriceClassifierXGBoostModelHyperparams(learning_rate=0.029668659774686135, reg_alpha=9.809737185756461, reg_lambda=6.462251252857256, max_depth=np.int64(5), n_estimators=np.int64(59), min_child_weight=np.int64(1), gamma=4.617915842449015, subsample=0.575295295108894, colsample_bytree=0.5070277053355465, max_delta_step=6.778629516621118, colsample_bynode=0.8144078316603188, colsample_bylevel=0.8156076401905332)\n",
      "Actual score: ClassificationEvaluationResults(accuracy=0.528970288970289, precision=0.5285441697410971, recall=0.528970288970289, f1=0.5239554614231648, mean_classes_error=0.6141961741961742, roc_auc=None)\n",
      "Best score: ClassificationEvaluationResults(accuracy=0.6549287749287749, precision=0.6540105602640591, recall=0.6549287749287749, f1=0.6541512533854537, mean_classes_error=0.4177126577126577, roc_auc=None)\n",
      "Best score hyperparams: PriceClassifierXGBoostModelHyperparams(learning_rate=0.28342753546181454, reg_alpha=5.988654664885361, reg_lambda=6.947849330397046, max_depth=np.int64(14), n_estimators=np.int64(331), min_child_weight=np.int64(4), gamma=0.5274712991513532, subsample=0.7282672852414551, colsample_bytree=0.6092202186084168, max_delta_step=4.165099478703663, colsample_bynode=0.9416401294594343, colsample_bylevel=0.662172510502637)\n",
      "Eval for PriceClassifierXGBoostModelHyperparams(learning_rate=0.01408709822679913, reg_alpha=8.052760665880047, reg_lambda=8.094784272292124, max_depth=np.int64(8), n_estimators=np.int64(212), min_child_weight=np.int64(1), gamma=2.1433818731948255, subsample=0.8440368013832524, colsample_bytree=0.8545061397467371, max_delta_step=0.5841450273975092, colsample_bynode=0.9985937544321115, colsample_bylevel=0.9791437705864212)\n",
      "Actual score: ClassificationEvaluationResults(accuracy=0.5936507936507937, precision=0.5925431747814088, recall=0.5936507936507937, f1=0.5914074324986067, mean_classes_error=0.5065038665038665, roc_auc=None)\n",
      "Best score: ClassificationEvaluationResults(accuracy=0.6549287749287749, precision=0.6540105602640591, recall=0.6549287749287749, f1=0.6541512533854537, mean_classes_error=0.4177126577126577, roc_auc=None)\n",
      "Best score hyperparams: PriceClassifierXGBoostModelHyperparams(learning_rate=0.28342753546181454, reg_alpha=5.988654664885361, reg_lambda=6.947849330397046, max_depth=np.int64(14), n_estimators=np.int64(331), min_child_weight=np.int64(4), gamma=0.5274712991513532, subsample=0.7282672852414551, colsample_bytree=0.6092202186084168, max_delta_step=4.165099478703663, colsample_bynode=0.9416401294594343, colsample_bylevel=0.662172510502637)\n",
      "Eval for PriceClassifierXGBoostModelHyperparams(learning_rate=0.01, reg_alpha=5.0224155772729295, reg_lambda=10.0, max_depth=np.int64(3), n_estimators=np.int64(333), min_child_weight=np.int64(1), gamma=0.0, subsample=0.5, colsample_bytree=0.9523726401477521, max_delta_step=0.0, colsample_bynode=0.8760448466950147, colsample_bylevel=0.8623814341613051)\n",
      "Actual score: ClassificationEvaluationResults(accuracy=0.5023524623524623, precision=0.49919119137904977, recall=0.5023524623524623, f1=0.49719678788690597, mean_classes_error=0.6787301587301587, roc_auc=None)\n",
      "Best score: ClassificationEvaluationResults(accuracy=0.6549287749287749, precision=0.6540105602640591, recall=0.6549287749287749, f1=0.6541512533854537, mean_classes_error=0.4177126577126577, roc_auc=None)\n",
      "Best score hyperparams: PriceClassifierXGBoostModelHyperparams(learning_rate=0.28342753546181454, reg_alpha=5.988654664885361, reg_lambda=6.947849330397046, max_depth=np.int64(14), n_estimators=np.int64(331), min_child_weight=np.int64(4), gamma=0.5274712991513532, subsample=0.7282672852414551, colsample_bytree=0.6092202186084168, max_delta_step=4.165099478703663, colsample_bynode=0.9416401294594343, colsample_bylevel=0.662172510502637)\n",
      "Eval for PriceClassifierXGBoostModelHyperparams(learning_rate=0.01, reg_alpha=0.0, reg_lambda=0.0, max_depth=np.int64(3), n_estimators=np.int64(50), min_child_weight=np.int64(1), gamma=0.0, subsample=0.5, colsample_bytree=0.5, max_delta_step=0.0, colsample_bynode=1.0, colsample_bylevel=0.5)\n",
      "Actual score: ClassificationEvaluationResults(accuracy=0.484997964997965, precision=0.4832085176459375, recall=0.484997964997965, f1=0.4783803015834056, mean_classes_error=0.7202279202279203, roc_auc=None)\n",
      "Best score: ClassificationEvaluationResults(accuracy=0.6549287749287749, precision=0.6540105602640591, recall=0.6549287749287749, f1=0.6541512533854537, mean_classes_error=0.4177126577126577, roc_auc=None)\n",
      "Best score hyperparams: PriceClassifierXGBoostModelHyperparams(learning_rate=0.28342753546181454, reg_alpha=5.988654664885361, reg_lambda=6.947849330397046, max_depth=np.int64(14), n_estimators=np.int64(331), min_child_weight=np.int64(4), gamma=0.5274712991513532, subsample=0.7282672852414551, colsample_bytree=0.6092202186084168, max_delta_step=4.165099478703663, colsample_bynode=0.9416401294594343, colsample_bylevel=0.662172510502637)\n",
      "Eval for PriceClassifierXGBoostModelHyperparams(learning_rate=0.01, reg_alpha=0.0, reg_lambda=10.0, max_depth=np.int64(3), n_estimators=np.int64(50), min_child_weight=np.int64(1), gamma=0.0, subsample=0.5, colsample_bytree=0.917676542159761, max_delta_step=5.7955780144171065, colsample_bynode=1.0, colsample_bylevel=0.5)\n",
      "Actual score: ClassificationEvaluationResults(accuracy=0.47822547822547823, precision=0.47551206930057327, recall=0.47822547822547823, f1=0.4716835800160824, mean_classes_error=0.7315913715913716, roc_auc=None)\n",
      "Best score: ClassificationEvaluationResults(accuracy=0.6549287749287749, precision=0.6540105602640591, recall=0.6549287749287749, f1=0.6541512533854537, mean_classes_error=0.4177126577126577, roc_auc=None)\n",
      "Best score hyperparams: PriceClassifierXGBoostModelHyperparams(learning_rate=0.28342753546181454, reg_alpha=5.988654664885361, reg_lambda=6.947849330397046, max_depth=np.int64(14), n_estimators=np.int64(331), min_child_weight=np.int64(4), gamma=0.5274712991513532, subsample=0.7282672852414551, colsample_bytree=0.6092202186084168, max_delta_step=4.165099478703663, colsample_bynode=0.9416401294594343, colsample_bylevel=0.662172510502637)\n",
      "Eval for PriceClassifierXGBoostModelHyperparams(learning_rate=0.3, reg_alpha=5.182107957053508, reg_lambda=7.629525850253264, max_depth=np.int64(3), n_estimators=np.int64(50), min_child_weight=np.int64(10), gamma=1.6793889138030917, subsample=0.5550031637736532, colsample_bytree=0.9966384868899074, max_delta_step=5.969118973618252, colsample_bynode=0.5, colsample_bylevel=0.809735209590455)\n",
      "Actual score: ClassificationEvaluationResults(accuracy=0.56004884004884, precision=0.5582514284880089, recall=0.56004884004884, f1=0.5576823732821236, mean_classes_error=0.5605698005698005, roc_auc=None)\n",
      "Best score: ClassificationEvaluationResults(accuracy=0.6549287749287749, precision=0.6540105602640591, recall=0.6549287749287749, f1=0.6541512533854537, mean_classes_error=0.4177126577126577, roc_auc=None)\n",
      "Best score hyperparams: PriceClassifierXGBoostModelHyperparams(learning_rate=0.28342753546181454, reg_alpha=5.988654664885361, reg_lambda=6.947849330397046, max_depth=np.int64(14), n_estimators=np.int64(331), min_child_weight=np.int64(4), gamma=0.5274712991513532, subsample=0.7282672852414551, colsample_bytree=0.6092202186084168, max_delta_step=4.165099478703663, colsample_bynode=0.9416401294594343, colsample_bylevel=0.662172510502637)\n",
      "Eval for PriceClassifierXGBoostModelHyperparams(learning_rate=0.01, reg_alpha=9.184568541881886, reg_lambda=10.0, max_depth=np.int64(3), n_estimators=np.int64(50), min_child_weight=np.int64(10), gamma=2.5985592388329626, subsample=0.821990782726721, colsample_bytree=0.6465055564511892, max_delta_step=1.3295094103464349, colsample_bynode=0.5, colsample_bylevel=0.5854166111637326)\n",
      "Actual score: ClassificationEvaluationResults(accuracy=0.448042328042328, precision=0.45482743193616304, recall=0.448042328042328, f1=0.42850909099154616, mean_classes_error=0.7931786731786732, roc_auc=None)\n",
      "Best score: ClassificationEvaluationResults(accuracy=0.6549287749287749, precision=0.6540105602640591, recall=0.6549287749287749, f1=0.6541512533854537, mean_classes_error=0.4177126577126577, roc_auc=None)\n",
      "Best score hyperparams: PriceClassifierXGBoostModelHyperparams(learning_rate=0.28342753546181454, reg_alpha=5.988654664885361, reg_lambda=6.947849330397046, max_depth=np.int64(14), n_estimators=np.int64(331), min_child_weight=np.int64(4), gamma=0.5274712991513532, subsample=0.7282672852414551, colsample_bytree=0.6092202186084168, max_delta_step=4.165099478703663, colsample_bynode=0.9416401294594343, colsample_bylevel=0.662172510502637)\n",
      "Eval for PriceClassifierXGBoostModelHyperparams(learning_rate=0.3, reg_alpha=10.0, reg_lambda=6.091265026388428, max_depth=np.int64(3), n_estimators=np.int64(500), min_child_weight=np.int64(10), gamma=5.0, subsample=0.5, colsample_bytree=0.5532788334461762, max_delta_step=6.802445259797772, colsample_bynode=0.5, colsample_bylevel=1.0)\n",
      "Actual score: ClassificationEvaluationResults(accuracy=0.5935368335368335, precision=0.5918288150347496, recall=0.5935368335368335, f1=0.591619274946823, mean_classes_error=0.506910866910867, roc_auc=None)\n",
      "Best score: ClassificationEvaluationResults(accuracy=0.6549287749287749, precision=0.6540105602640591, recall=0.6549287749287749, f1=0.6541512533854537, mean_classes_error=0.4177126577126577, roc_auc=None)\n",
      "Best score hyperparams: PriceClassifierXGBoostModelHyperparams(learning_rate=0.28342753546181454, reg_alpha=5.988654664885361, reg_lambda=6.947849330397046, max_depth=np.int64(14), n_estimators=np.int64(331), min_child_weight=np.int64(4), gamma=0.5274712991513532, subsample=0.7282672852414551, colsample_bytree=0.6092202186084168, max_delta_step=4.165099478703663, colsample_bynode=0.9416401294594343, colsample_bylevel=0.662172510502637)\n",
      "Eval for PriceClassifierXGBoostModelHyperparams(learning_rate=0.01, reg_alpha=10.0, reg_lambda=0.0, max_depth=np.int64(3), n_estimators=np.int64(50), min_child_weight=np.int64(1), gamma=0.0, subsample=0.5, colsample_bytree=1.0, max_delta_step=10.0, colsample_bynode=0.5, colsample_bylevel=0.5)\n",
      "Actual score: ClassificationEvaluationResults(accuracy=0.46780626780626783, precision=0.4683398541644187, recall=0.46780626780626783, f1=0.4577585086771601, mean_classes_error=0.7647049247049247, roc_auc=None)\n",
      "Best score: ClassificationEvaluationResults(accuracy=0.6549287749287749, precision=0.6540105602640591, recall=0.6549287749287749, f1=0.6541512533854537, mean_classes_error=0.4177126577126577, roc_auc=None)\n",
      "Best score hyperparams: PriceClassifierXGBoostModelHyperparams(learning_rate=0.28342753546181454, reg_alpha=5.988654664885361, reg_lambda=6.947849330397046, max_depth=np.int64(14), n_estimators=np.int64(331), min_child_weight=np.int64(4), gamma=0.5274712991513532, subsample=0.7282672852414551, colsample_bytree=0.6092202186084168, max_delta_step=4.165099478703663, colsample_bynode=0.9416401294594343, colsample_bylevel=0.662172510502637)\n",
      "Eval for PriceClassifierXGBoostModelHyperparams(learning_rate=0.19422265638145716, reg_alpha=10.0, reg_lambda=10.0, max_depth=np.int64(3), n_estimators=np.int64(50), min_child_weight=np.int64(9), gamma=0.0, subsample=0.6256725446712841, colsample_bytree=0.5, max_delta_step=2.7725049333024803, colsample_bynode=0.5, colsample_bylevel=0.7256624639960385)\n",
      "Actual score: ClassificationEvaluationResults(accuracy=0.518013838013838, precision=0.5160973360755606, recall=0.518013838013838, f1=0.5148234899130257, mean_classes_error=0.6391697191697192, roc_auc=None)\n",
      "Best score: ClassificationEvaluationResults(accuracy=0.6549287749287749, precision=0.6540105602640591, recall=0.6549287749287749, f1=0.6541512533854537, mean_classes_error=0.4177126577126577, roc_auc=None)\n",
      "Best score hyperparams: PriceClassifierXGBoostModelHyperparams(learning_rate=0.28342753546181454, reg_alpha=5.988654664885361, reg_lambda=6.947849330397046, max_depth=np.int64(14), n_estimators=np.int64(331), min_child_weight=np.int64(4), gamma=0.5274712991513532, subsample=0.7282672852414551, colsample_bytree=0.6092202186084168, max_delta_step=4.165099478703663, colsample_bynode=0.9416401294594343, colsample_bylevel=0.662172510502637)\n",
      "Eval for PriceClassifierXGBoostModelHyperparams(learning_rate=0.01, reg_alpha=0.0, reg_lambda=10.0, max_depth=np.int64(15), n_estimators=np.int64(50), min_child_weight=np.int64(1), gamma=1.396483692054023, subsample=0.8234396764422474, colsample_bytree=0.6065444055061386, max_delta_step=0.0, colsample_bynode=0.9511563341604198, colsample_bylevel=0.8891501878226271)\n",
      "Actual score: ClassificationEvaluationResults(accuracy=0.6054375254375255, precision=0.6045385634606315, recall=0.6054375254375255, f1=0.6029213010770464, mean_classes_error=0.47962555962555964, roc_auc=None)\n",
      "Best score: ClassificationEvaluationResults(accuracy=0.6549287749287749, precision=0.6540105602640591, recall=0.6549287749287749, f1=0.6541512533854537, mean_classes_error=0.4177126577126577, roc_auc=None)\n",
      "Best score hyperparams: PriceClassifierXGBoostModelHyperparams(learning_rate=0.28342753546181454, reg_alpha=5.988654664885361, reg_lambda=6.947849330397046, max_depth=np.int64(14), n_estimators=np.int64(331), min_child_weight=np.int64(4), gamma=0.5274712991513532, subsample=0.7282672852414551, colsample_bytree=0.6092202186084168, max_delta_step=4.165099478703663, colsample_bynode=0.9416401294594343, colsample_bylevel=0.662172510502637)\n",
      "Eval for PriceClassifierXGBoostModelHyperparams(learning_rate=0.01, reg_alpha=10.0, reg_lambda=10.0, max_depth=np.int64(3), n_estimators=np.int64(50), min_child_weight=np.int64(1), gamma=0.0, subsample=1.0, colsample_bytree=1.0, max_delta_step=10.0, colsample_bynode=1.0, colsample_bylevel=1.0)\n",
      "Actual score: ClassificationEvaluationResults(accuracy=0.4521123321123321, precision=0.44904432793811855, recall=0.4521123321123321, f1=0.4454219376703475, mean_classes_error=0.8081074481074481, roc_auc=None)\n",
      "Best score: ClassificationEvaluationResults(accuracy=0.6549287749287749, precision=0.6540105602640591, recall=0.6549287749287749, f1=0.6541512533854537, mean_classes_error=0.4177126577126577, roc_auc=None)\n",
      "Best score hyperparams: PriceClassifierXGBoostModelHyperparams(learning_rate=0.28342753546181454, reg_alpha=5.988654664885361, reg_lambda=6.947849330397046, max_depth=np.int64(14), n_estimators=np.int64(331), min_child_weight=np.int64(4), gamma=0.5274712991513532, subsample=0.7282672852414551, colsample_bytree=0.6092202186084168, max_delta_step=4.165099478703663, colsample_bynode=0.9416401294594343, colsample_bylevel=0.662172510502637)\n",
      "Eval for PriceClassifierXGBoostModelHyperparams(learning_rate=0.16100655877245512, reg_alpha=6.417635407083333, reg_lambda=9.929239636299606, max_depth=np.int64(15), n_estimators=np.int64(59), min_child_weight=np.int64(2), gamma=0.8700428564821939, subsample=0.8567879433825738, colsample_bytree=0.7193017215532865, max_delta_step=6.362951145362366, colsample_bynode=0.5639646366464627, colsample_bylevel=0.7510752728533052)\n",
      "Actual score: ClassificationEvaluationResults(accuracy=0.6477655677655678, precision=0.6470114289912222, recall=0.6477655677655678, f1=0.6466308584955301, mean_classes_error=0.4314367114367114, roc_auc=None)\n",
      "Best score: ClassificationEvaluationResults(accuracy=0.6549287749287749, precision=0.6540105602640591, recall=0.6549287749287749, f1=0.6541512533854537, mean_classes_error=0.4177126577126577, roc_auc=None)\n",
      "Best score hyperparams: PriceClassifierXGBoostModelHyperparams(learning_rate=0.28342753546181454, reg_alpha=5.988654664885361, reg_lambda=6.947849330397046, max_depth=np.int64(14), n_estimators=np.int64(331), min_child_weight=np.int64(4), gamma=0.5274712991513532, subsample=0.7282672852414551, colsample_bytree=0.6092202186084168, max_delta_step=4.165099478703663, colsample_bynode=0.9416401294594343, colsample_bylevel=0.662172510502637)\n",
      "Eval for PriceClassifierXGBoostModelHyperparams(learning_rate=0.01, reg_alpha=10.0, reg_lambda=10.0, max_depth=np.int64(3), n_estimators=np.int64(50), min_child_weight=np.int64(1), gamma=5.0, subsample=0.5, colsample_bytree=0.5, max_delta_step=10.0, colsample_bynode=1.0, colsample_bylevel=1.0)\n",
      "Actual score: ClassificationEvaluationResults(accuracy=0.4684411884411884, precision=0.46335404878044284, recall=0.4684411884411884, f1=0.45901985795334904, mean_classes_error=0.7541880341880342, roc_auc=None)\n",
      "Best score: ClassificationEvaluationResults(accuracy=0.6549287749287749, precision=0.6540105602640591, recall=0.6549287749287749, f1=0.6541512533854537, mean_classes_error=0.4177126577126577, roc_auc=None)\n",
      "Best score hyperparams: PriceClassifierXGBoostModelHyperparams(learning_rate=0.28342753546181454, reg_alpha=5.988654664885361, reg_lambda=6.947849330397046, max_depth=np.int64(14), n_estimators=np.int64(331), min_child_weight=np.int64(4), gamma=0.5274712991513532, subsample=0.7282672852414551, colsample_bytree=0.6092202186084168, max_delta_step=4.165099478703663, colsample_bynode=0.9416401294594343, colsample_bylevel=0.662172510502637)\n",
      "Eval for PriceClassifierXGBoostModelHyperparams(learning_rate=0.01, reg_alpha=10.0, reg_lambda=10.0, max_depth=np.int64(3), n_estimators=np.int64(50), min_child_weight=np.int64(10), gamma=0.0, subsample=1.0, colsample_bytree=1.0, max_delta_step=10.0, colsample_bynode=0.5, colsample_bylevel=0.5995949605175404)\n",
      "Actual score: ClassificationEvaluationResults(accuracy=0.46743182743182743, precision=0.4622103281760329, recall=0.46743182743182743, f1=0.4578678021770092, mean_classes_error=0.7637606837606837, roc_auc=None)\n",
      "Best score: ClassificationEvaluationResults(accuracy=0.6549287749287749, precision=0.6540105602640591, recall=0.6549287749287749, f1=0.6541512533854537, mean_classes_error=0.4177126577126577, roc_auc=None)\n",
      "Best score hyperparams: PriceClassifierXGBoostModelHyperparams(learning_rate=0.28342753546181454, reg_alpha=5.988654664885361, reg_lambda=6.947849330397046, max_depth=np.int64(14), n_estimators=np.int64(331), min_child_weight=np.int64(4), gamma=0.5274712991513532, subsample=0.7282672852414551, colsample_bytree=0.6092202186084168, max_delta_step=4.165099478703663, colsample_bynode=0.9416401294594343, colsample_bylevel=0.662172510502637)\n",
      "Eval for PriceClassifierXGBoostModelHyperparams(learning_rate=0.2225574459258714, reg_alpha=1.3519752146691812, reg_lambda=5.11047649106919, max_depth=np.int64(3), n_estimators=np.int64(56), min_child_weight=np.int64(6), gamma=4.973440097318842, subsample=0.6878718058460939, colsample_bytree=0.8775452339739116, max_delta_step=3.1535430811656866, colsample_bynode=0.7474371803403121, colsample_bylevel=0.9294677252735888)\n",
      "Actual score: ClassificationEvaluationResults(accuracy=0.564053724053724, precision=0.5618282959120898, recall=0.564053724053724, f1=0.5614336630585783, mean_classes_error=0.5549043549043549, roc_auc=None)\n",
      "Best score: ClassificationEvaluationResults(accuracy=0.6549287749287749, precision=0.6540105602640591, recall=0.6549287749287749, f1=0.6541512533854537, mean_classes_error=0.4177126577126577, roc_auc=None)\n",
      "Best score hyperparams: PriceClassifierXGBoostModelHyperparams(learning_rate=0.28342753546181454, reg_alpha=5.988654664885361, reg_lambda=6.947849330397046, max_depth=np.int64(14), n_estimators=np.int64(331), min_child_weight=np.int64(4), gamma=0.5274712991513532, subsample=0.7282672852414551, colsample_bytree=0.6092202186084168, max_delta_step=4.165099478703663, colsample_bynode=0.9416401294594343, colsample_bylevel=0.662172510502637)\n",
      "Eval for PriceClassifierXGBoostModelHyperparams(learning_rate=0.01, reg_alpha=10.0, reg_lambda=10.0, max_depth=np.int64(3), n_estimators=np.int64(50), min_child_weight=np.int64(10), gamma=0.0, subsample=0.5, colsample_bytree=0.5, max_delta_step=0.0, colsample_bynode=0.5, colsample_bylevel=1.0)\n",
      "Actual score: ClassificationEvaluationResults(accuracy=0.45053317053317055, precision=0.44615317779084496, recall=0.45053317053317055, f1=0.4323174208273125, mean_classes_error=0.79995115995116, roc_auc=None)\n",
      "Best score: ClassificationEvaluationResults(accuracy=0.6549287749287749, precision=0.6540105602640591, recall=0.6549287749287749, f1=0.6541512533854537, mean_classes_error=0.4177126577126577, roc_auc=None)\n",
      "Best score hyperparams: PriceClassifierXGBoostModelHyperparams(learning_rate=0.28342753546181454, reg_alpha=5.988654664885361, reg_lambda=6.947849330397046, max_depth=np.int64(14), n_estimators=np.int64(331), min_child_weight=np.int64(4), gamma=0.5274712991513532, subsample=0.7282672852414551, colsample_bytree=0.6092202186084168, max_delta_step=4.165099478703663, colsample_bynode=0.9416401294594343, colsample_bylevel=0.662172510502637)\n",
      "Eval for PriceClassifierXGBoostModelHyperparams(learning_rate=0.29473688396722747, reg_alpha=5.467051395438844, reg_lambda=2.163366455369629, max_depth=np.int64(15), n_estimators=np.int64(53), min_child_weight=np.int64(6), gamma=1.2414790468779544, subsample=0.6757231100333029, colsample_bytree=0.5697466714050453, max_delta_step=5.528433807710118, colsample_bynode=0.8077357749680161, colsample_bylevel=0.7688854673296297)\n",
      "Actual score: ClassificationEvaluationResults(accuracy=0.6394953194953195, precision=0.638603424310042, recall=0.6394953194953195, f1=0.6384898541879888, mean_classes_error=0.44195360195360195, roc_auc=None)\n",
      "Best score: ClassificationEvaluationResults(accuracy=0.6549287749287749, precision=0.6540105602640591, recall=0.6549287749287749, f1=0.6541512533854537, mean_classes_error=0.4177126577126577, roc_auc=None)\n",
      "Best score hyperparams: PriceClassifierXGBoostModelHyperparams(learning_rate=0.28342753546181454, reg_alpha=5.988654664885361, reg_lambda=6.947849330397046, max_depth=np.int64(14), n_estimators=np.int64(331), min_child_weight=np.int64(4), gamma=0.5274712991513532, subsample=0.7282672852414551, colsample_bytree=0.6092202186084168, max_delta_step=4.165099478703663, colsample_bynode=0.9416401294594343, colsample_bylevel=0.662172510502637)\n",
      "Eval for PriceClassifierXGBoostModelHyperparams(learning_rate=0.01, reg_alpha=10.0, reg_lambda=10.0, max_depth=np.int64(3), n_estimators=np.int64(50), min_child_weight=np.int64(1), gamma=5.0, subsample=1.0, colsample_bytree=1.0, max_delta_step=0.0, colsample_bynode=0.5, colsample_bylevel=1.0)\n",
      "Actual score: ClassificationEvaluationResults(accuracy=0.46845746845746844, precision=0.466155600651588, recall=0.46845746845746844, f1=0.46229351454766365, mean_classes_error=0.7573951973951975, roc_auc=None)\n",
      "Best score: ClassificationEvaluationResults(accuracy=0.6549287749287749, precision=0.6540105602640591, recall=0.6549287749287749, f1=0.6541512533854537, mean_classes_error=0.4177126577126577, roc_auc=None)\n",
      "Best score hyperparams: PriceClassifierXGBoostModelHyperparams(learning_rate=0.28342753546181454, reg_alpha=5.988654664885361, reg_lambda=6.947849330397046, max_depth=np.int64(14), n_estimators=np.int64(331), min_child_weight=np.int64(4), gamma=0.5274712991513532, subsample=0.7282672852414551, colsample_bytree=0.6092202186084168, max_delta_step=4.165099478703663, colsample_bynode=0.9416401294594343, colsample_bylevel=0.662172510502637)\n",
      "Eval for PriceClassifierXGBoostModelHyperparams(learning_rate=0.12306952782924602, reg_alpha=2.151774544939546, reg_lambda=2.826081688339495, max_depth=np.int64(3), n_estimators=np.int64(51), min_child_weight=np.int64(5), gamma=0.06960190969066028, subsample=0.6337744802139582, colsample_bytree=0.9801892724061017, max_delta_step=9.735209273799294, colsample_bynode=0.8221363662017203, colsample_bylevel=0.9174196587738519)\n",
      "Actual score: ClassificationEvaluationResults(accuracy=0.5343101343101343, precision=0.5320139688537742, recall=0.5343101343101343, f1=0.5308371371003314, mean_classes_error=0.609019129019129, roc_auc=None)\n",
      "Best score: ClassificationEvaluationResults(accuracy=0.6549287749287749, precision=0.6540105602640591, recall=0.6549287749287749, f1=0.6541512533854537, mean_classes_error=0.4177126577126577, roc_auc=None)\n",
      "Best score hyperparams: PriceClassifierXGBoostModelHyperparams(learning_rate=0.28342753546181454, reg_alpha=5.988654664885361, reg_lambda=6.947849330397046, max_depth=np.int64(14), n_estimators=np.int64(331), min_child_weight=np.int64(4), gamma=0.5274712991513532, subsample=0.7282672852414551, colsample_bytree=0.6092202186084168, max_delta_step=4.165099478703663, colsample_bynode=0.9416401294594343, colsample_bylevel=0.662172510502637)\n",
      "Eval for PriceClassifierXGBoostModelHyperparams(learning_rate=0.01, reg_alpha=10.0, reg_lambda=10.0, max_depth=np.int64(3), n_estimators=np.int64(50), min_child_weight=np.int64(10), gamma=0.0, subsample=1.0, colsample_bytree=0.5, max_delta_step=0.0, colsample_bynode=0.5, colsample_bylevel=1.0)\n",
      "Actual score: ClassificationEvaluationResults(accuracy=0.463003663003663, precision=0.4590814665587184, recall=0.463003663003663, f1=0.4491924027941677, mean_classes_error=0.7658445258445259, roc_auc=None)\n",
      "Best score: ClassificationEvaluationResults(accuracy=0.6549287749287749, precision=0.6540105602640591, recall=0.6549287749287749, f1=0.6541512533854537, mean_classes_error=0.4177126577126577, roc_auc=None)\n",
      "Best score hyperparams: PriceClassifierXGBoostModelHyperparams(learning_rate=0.28342753546181454, reg_alpha=5.988654664885361, reg_lambda=6.947849330397046, max_depth=np.int64(14), n_estimators=np.int64(331), min_child_weight=np.int64(4), gamma=0.5274712991513532, subsample=0.7282672852414551, colsample_bytree=0.6092202186084168, max_delta_step=4.165099478703663, colsample_bynode=0.9416401294594343, colsample_bylevel=0.662172510502637)\n",
      "Eval for PriceClassifierXGBoostModelHyperparams(learning_rate=0.10831090098823598, reg_alpha=0.43316269157767434, reg_lambda=0.19044626644513343, max_depth=np.int64(3), n_estimators=np.int64(499), min_child_weight=np.int64(4), gamma=2.5527210200746646, subsample=0.897000172866443, colsample_bytree=0.7015447704944251, max_delta_step=4.673550990362925, colsample_bynode=0.6711832793205903, colsample_bylevel=0.714388941247275)\n",
      "Actual score: ClassificationEvaluationResults(accuracy=0.6235897435897436, precision=0.6222092435572724, recall=0.6235897435897436, f1=0.622362966863489, mean_classes_error=0.4569149369149369, roc_auc=None)\n",
      "Best score: ClassificationEvaluationResults(accuracy=0.6549287749287749, precision=0.6540105602640591, recall=0.6549287749287749, f1=0.6541512533854537, mean_classes_error=0.4177126577126577, roc_auc=None)\n",
      "Best score hyperparams: PriceClassifierXGBoostModelHyperparams(learning_rate=0.28342753546181454, reg_alpha=5.988654664885361, reg_lambda=6.947849330397046, max_depth=np.int64(14), n_estimators=np.int64(331), min_child_weight=np.int64(4), gamma=0.5274712991513532, subsample=0.7282672852414551, colsample_bytree=0.6092202186084168, max_delta_step=4.165099478703663, colsample_bynode=0.9416401294594343, colsample_bylevel=0.662172510502637)\n",
      "Eval for PriceClassifierXGBoostModelHyperparams(learning_rate=0.2960208760813557, reg_alpha=9.961420996945222, reg_lambda=9.084521391872485, max_depth=np.int64(8), n_estimators=np.int64(77), min_child_weight=np.int64(5), gamma=4.0748317377394985, subsample=0.5193621199071835, colsample_bytree=0.8272577979102262, max_delta_step=4.876663446309225, colsample_bynode=0.8852263784320646, colsample_bylevel=0.8343453155848067)\n",
      "Actual score: ClassificationEvaluationResults(accuracy=0.6142612942612943, precision=0.6131531477974729, recall=0.6142612942612943, f1=0.612851010697005, mean_classes_error=0.47876271876271875, roc_auc=None)\n",
      "Best score: ClassificationEvaluationResults(accuracy=0.6549287749287749, precision=0.6540105602640591, recall=0.6549287749287749, f1=0.6541512533854537, mean_classes_error=0.4177126577126577, roc_auc=None)\n",
      "Best score hyperparams: PriceClassifierXGBoostModelHyperparams(learning_rate=0.28342753546181454, reg_alpha=5.988654664885361, reg_lambda=6.947849330397046, max_depth=np.int64(14), n_estimators=np.int64(331), min_child_weight=np.int64(4), gamma=0.5274712991513532, subsample=0.7282672852414551, colsample_bytree=0.6092202186084168, max_delta_step=4.165099478703663, colsample_bynode=0.9416401294594343, colsample_bylevel=0.662172510502637)\n",
      "Eval for PriceClassifierXGBoostModelHyperparams(learning_rate=0.01, reg_alpha=10.0, reg_lambda=10.0, max_depth=np.int64(3), n_estimators=np.int64(50), min_child_weight=np.int64(1), gamma=0.0, subsample=1.0, colsample_bytree=0.5, max_delta_step=0.0, colsample_bynode=1.0, colsample_bylevel=0.5)\n",
      "Actual score: ClassificationEvaluationResults(accuracy=0.46987382987382986, precision=0.4699743703073492, recall=0.46987382987382986, f1=0.45967850288973167, mean_classes_error=0.7496784696784696, roc_auc=None)\n",
      "Best score: ClassificationEvaluationResults(accuracy=0.6549287749287749, precision=0.6540105602640591, recall=0.6549287749287749, f1=0.6541512533854537, mean_classes_error=0.4177126577126577, roc_auc=None)\n",
      "Best score hyperparams: PriceClassifierXGBoostModelHyperparams(learning_rate=0.28342753546181454, reg_alpha=5.988654664885361, reg_lambda=6.947849330397046, max_depth=np.int64(14), n_estimators=np.int64(331), min_child_weight=np.int64(4), gamma=0.5274712991513532, subsample=0.7282672852414551, colsample_bytree=0.6092202186084168, max_delta_step=4.165099478703663, colsample_bynode=0.9416401294594343, colsample_bylevel=0.662172510502637)\n",
      "Eval for PriceClassifierXGBoostModelHyperparams(learning_rate=0.01, reg_alpha=10.0, reg_lambda=10.0, max_depth=np.int64(3), n_estimators=np.int64(50), min_child_weight=np.int64(10), gamma=0.0, subsample=0.5, colsample_bytree=0.5, max_delta_step=10.0, colsample_bynode=0.5, colsample_bylevel=1.0)\n",
      "Actual score: ClassificationEvaluationResults(accuracy=0.4584778184778185, precision=0.4559314930700309, recall=0.4584778184778185, f1=0.4416803955438045, mean_classes_error=0.7734961334961334, roc_auc=None)\n",
      "Best score: ClassificationEvaluationResults(accuracy=0.6549287749287749, precision=0.6540105602640591, recall=0.6549287749287749, f1=0.6541512533854537, mean_classes_error=0.4177126577126577, roc_auc=None)\n",
      "Best score hyperparams: PriceClassifierXGBoostModelHyperparams(learning_rate=0.28342753546181454, reg_alpha=5.988654664885361, reg_lambda=6.947849330397046, max_depth=np.int64(14), n_estimators=np.int64(331), min_child_weight=np.int64(4), gamma=0.5274712991513532, subsample=0.7282672852414551, colsample_bytree=0.6092202186084168, max_delta_step=4.165099478703663, colsample_bynode=0.9416401294594343, colsample_bylevel=0.662172510502637)\n",
      "Eval for PriceClassifierXGBoostModelHyperparams(learning_rate=0.01, reg_alpha=10.0, reg_lambda=0.0, max_depth=np.int64(3), n_estimators=np.int64(50), min_child_weight=np.int64(10), gamma=0.0, subsample=1.0, colsample_bytree=0.5, max_delta_step=10.0, colsample_bynode=0.5, colsample_bylevel=1.0)\n",
      "Actual score: ClassificationEvaluationResults(accuracy=0.46832722832722834, precision=0.4660400212623912, recall=0.46832722832722834, f1=0.4580968199955855, mean_classes_error=0.7553601953601954, roc_auc=None)\n",
      "Best score: ClassificationEvaluationResults(accuracy=0.6549287749287749, precision=0.6540105602640591, recall=0.6549287749287749, f1=0.6541512533854537, mean_classes_error=0.4177126577126577, roc_auc=None)\n",
      "Best score hyperparams: PriceClassifierXGBoostModelHyperparams(learning_rate=0.28342753546181454, reg_alpha=5.988654664885361, reg_lambda=6.947849330397046, max_depth=np.int64(14), n_estimators=np.int64(331), min_child_weight=np.int64(4), gamma=0.5274712991513532, subsample=0.7282672852414551, colsample_bytree=0.6092202186084168, max_delta_step=4.165099478703663, colsample_bynode=0.9416401294594343, colsample_bylevel=0.662172510502637)\n",
      "Eval for PriceClassifierXGBoostModelHyperparams(learning_rate=0.01, reg_alpha=10.0, reg_lambda=10.0, max_depth=np.int64(3), n_estimators=np.int64(50), min_child_weight=np.int64(1), gamma=0.0, subsample=0.5, colsample_bytree=1.0, max_delta_step=0.0, colsample_bynode=0.5, colsample_bylevel=0.5)\n",
      "Actual score: ClassificationEvaluationResults(accuracy=0.47073667073667075, precision=0.4664448008766492, recall=0.47073667073667075, f1=0.45964525405701506, mean_classes_error=0.7605860805860806, roc_auc=None)\n",
      "Best score: ClassificationEvaluationResults(accuracy=0.6549287749287749, precision=0.6540105602640591, recall=0.6549287749287749, f1=0.6541512533854537, mean_classes_error=0.4177126577126577, roc_auc=None)\n",
      "Best score hyperparams: PriceClassifierXGBoostModelHyperparams(learning_rate=0.28342753546181454, reg_alpha=5.988654664885361, reg_lambda=6.947849330397046, max_depth=np.int64(14), n_estimators=np.int64(331), min_child_weight=np.int64(4), gamma=0.5274712991513532, subsample=0.7282672852414551, colsample_bytree=0.6092202186084168, max_delta_step=4.165099478703663, colsample_bynode=0.9416401294594343, colsample_bylevel=0.662172510502637)\n",
      "Eval for PriceClassifierXGBoostModelHyperparams(learning_rate=0.011225652414553148, reg_alpha=0.5883990833781317, reg_lambda=7.691721504816015, max_depth=np.int64(3), n_estimators=np.int64(55), min_child_weight=np.int64(3), gamma=4.371326954272928, subsample=0.6772482579457346, colsample_bytree=0.6241165922826512, max_delta_step=5.776749177415491, colsample_bynode=0.9413904534651455, colsample_bylevel=0.9127864835930948)\n",
      "Actual score: ClassificationEvaluationResults(accuracy=0.4723158323158323, precision=0.4690219881546266, recall=0.4723158323158323, f1=0.4658990026974863, mean_classes_error=0.7436874236874237, roc_auc=None)\n",
      "Best score: ClassificationEvaluationResults(accuracy=0.6549287749287749, precision=0.6540105602640591, recall=0.6549287749287749, f1=0.6541512533854537, mean_classes_error=0.4177126577126577, roc_auc=None)\n",
      "Best score hyperparams: PriceClassifierXGBoostModelHyperparams(learning_rate=0.28342753546181454, reg_alpha=5.988654664885361, reg_lambda=6.947849330397046, max_depth=np.int64(14), n_estimators=np.int64(331), min_child_weight=np.int64(4), gamma=0.5274712991513532, subsample=0.7282672852414551, colsample_bytree=0.6092202186084168, max_delta_step=4.165099478703663, colsample_bynode=0.9416401294594343, colsample_bylevel=0.662172510502637)\n",
      "Eval for PriceClassifierXGBoostModelHyperparams(learning_rate=0.01, reg_alpha=10.0, reg_lambda=10.0, max_depth=np.int64(3), n_estimators=np.int64(50), min_child_weight=np.int64(10), gamma=5.0, subsample=0.5, colsample_bytree=0.5, max_delta_step=0.0, colsample_bynode=0.5, colsample_bylevel=0.5)\n",
      "Actual score: ClassificationEvaluationResults(accuracy=0.4317623117623118, precision=0.44022816342323473, recall=0.4317623117623118, f1=0.41327058833353286, mean_classes_error=0.8366137566137566, roc_auc=None)\n",
      "Best score: ClassificationEvaluationResults(accuracy=0.6549287749287749, precision=0.6540105602640591, recall=0.6549287749287749, f1=0.6541512533854537, mean_classes_error=0.4177126577126577, roc_auc=None)\n",
      "Best score hyperparams: PriceClassifierXGBoostModelHyperparams(learning_rate=0.28342753546181454, reg_alpha=5.988654664885361, reg_lambda=6.947849330397046, max_depth=np.int64(14), n_estimators=np.int64(331), min_child_weight=np.int64(4), gamma=0.5274712991513532, subsample=0.7282672852414551, colsample_bytree=0.6092202186084168, max_delta_step=4.165099478703663, colsample_bynode=0.9416401294594343, colsample_bylevel=0.662172510502637)\n",
      "Eval for PriceClassifierXGBoostModelHyperparams(learning_rate=0.01, reg_alpha=10.0, reg_lambda=0.0, max_depth=np.int64(3), n_estimators=np.int64(50), min_child_weight=np.int64(10), gamma=5.0, subsample=0.5, colsample_bytree=1.0, max_delta_step=0.0, colsample_bynode=1.0, colsample_bylevel=1.0)\n",
      "Actual score: ClassificationEvaluationResults(accuracy=0.43233211233211233, precision=0.4282880493332141, recall=0.43233211233211233, f1=0.42602882198188985, mean_classes_error=0.8611314611314611, roc_auc=None)\n",
      "Best score: ClassificationEvaluationResults(accuracy=0.6549287749287749, precision=0.6540105602640591, recall=0.6549287749287749, f1=0.6541512533854537, mean_classes_error=0.4177126577126577, roc_auc=None)\n",
      "Best score hyperparams: PriceClassifierXGBoostModelHyperparams(learning_rate=0.28342753546181454, reg_alpha=5.988654664885361, reg_lambda=6.947849330397046, max_depth=np.int64(14), n_estimators=np.int64(331), min_child_weight=np.int64(4), gamma=0.5274712991513532, subsample=0.7282672852414551, colsample_bytree=0.6092202186084168, max_delta_step=4.165099478703663, colsample_bynode=0.9416401294594343, colsample_bylevel=0.662172510502637)\n",
      "Eval for PriceClassifierXGBoostModelHyperparams(learning_rate=0.01, reg_alpha=10.0, reg_lambda=0.0, max_depth=np.int64(3), n_estimators=np.int64(50), min_child_weight=np.int64(8), gamma=5.0, subsample=0.5, colsample_bytree=1.0, max_delta_step=0.0, colsample_bynode=1.0, colsample_bylevel=0.5)\n",
      "Actual score: ClassificationEvaluationResults(accuracy=0.4550915750915751, precision=0.45028847136539035, recall=0.4550915750915751, f1=0.44710355187400747, mean_classes_error=0.8035327635327635, roc_auc=None)\n",
      "Best score: ClassificationEvaluationResults(accuracy=0.6549287749287749, precision=0.6540105602640591, recall=0.6549287749287749, f1=0.6541512533854537, mean_classes_error=0.4177126577126577, roc_auc=None)\n",
      "Best score hyperparams: PriceClassifierXGBoostModelHyperparams(learning_rate=0.28342753546181454, reg_alpha=5.988654664885361, reg_lambda=6.947849330397046, max_depth=np.int64(14), n_estimators=np.int64(331), min_child_weight=np.int64(4), gamma=0.5274712991513532, subsample=0.7282672852414551, colsample_bytree=0.6092202186084168, max_delta_step=4.165099478703663, colsample_bynode=0.9416401294594343, colsample_bylevel=0.662172510502637)\n",
      "Eval for PriceClassifierXGBoostModelHyperparams(learning_rate=0.01, reg_alpha=0.0, reg_lambda=1.0749221531941322e-16, max_depth=np.int64(3), n_estimators=np.int64(50), min_child_weight=np.int64(10), gamma=5.0, subsample=0.5, colsample_bytree=0.5, max_delta_step=0.0, colsample_bynode=1.0, colsample_bylevel=0.5)\n",
      "Actual score: ClassificationEvaluationResults(accuracy=0.4512983312983313, precision=0.44703957551899043, recall=0.4512983312983313, f1=0.4343553324942346, mean_classes_error=0.7867155067155067, roc_auc=None)\n",
      "Best score: ClassificationEvaluationResults(accuracy=0.6549287749287749, precision=0.6540105602640591, recall=0.6549287749287749, f1=0.6541512533854537, mean_classes_error=0.4177126577126577, roc_auc=None)\n",
      "Best score hyperparams: PriceClassifierXGBoostModelHyperparams(learning_rate=0.28342753546181454, reg_alpha=5.988654664885361, reg_lambda=6.947849330397046, max_depth=np.int64(14), n_estimators=np.int64(331), min_child_weight=np.int64(4), gamma=0.5274712991513532, subsample=0.7282672852414551, colsample_bytree=0.6092202186084168, max_delta_step=4.165099478703663, colsample_bynode=0.9416401294594343, colsample_bylevel=0.662172510502637)\n",
      "PriceClassifierXGBoostModelHyperparams(learning_rate=0.28342753546181454, reg_alpha=5.988654664885361, reg_lambda=6.947849330397046, max_depth=np.int64(14), n_estimators=np.int64(331), min_child_weight=np.int64(4), gamma=0.5274712991513532, subsample=0.7282672852414551, colsample_bytree=0.6092202186084168, max_delta_step=4.165099478703663, colsample_bynode=0.9416401294594343, colsample_bylevel=0.662172510502637)\n",
      "ClassificationEvaluationResults(accuracy=0.6549287749287749, precision=0.6540105602640591, recall=0.6549287749287749, f1=0.6541512533854537, mean_classes_error=0.4177126577126577, roc_auc=None)\n"
     ]
    },
    {
     "data": {
      "application/vnd.plotly.v1+json": {
       "config": {
        "plotlyServerURL": "https://plot.ly"
       },
       "data": [
        {
         "orientation": "h",
         "type": "bar",
         "x": [
          629,
          811,
          2551,
          2835,
          4078,
          4247,
          4653,
          6509,
          7931,
          9016,
          10213,
          14228,
          17830,
          18274,
          20735,
          24673,
          26717
         ],
         "y": [
          "Condition",
          "Advanced_model",
          "Transmission",
          "First_owner",
          "Doors_number",
          "Drive",
          "Fuel_type",
          "Vehicle_model",
          "Vehicle_generation",
          "Type",
          "Colour",
          "Vehicle_brand",
          "Displacement_cm3",
          "Production_year",
          "Power_HP",
          "Feature_score",
          "Mileage_km"
         ]
        }
       ],
       "layout": {
        "template": {
         "data": {
          "bar": [
           {
            "error_x": {
             "color": "#2a3f5f"
            },
            "error_y": {
             "color": "#2a3f5f"
            },
            "marker": {
             "line": {
              "color": "#E5ECF6",
              "width": 0.5
             },
             "pattern": {
              "fillmode": "overlay",
              "size": 10,
              "solidity": 0.2
             }
            },
            "type": "bar"
           }
          ],
          "barpolar": [
           {
            "marker": {
             "line": {
              "color": "#E5ECF6",
              "width": 0.5
             },
             "pattern": {
              "fillmode": "overlay",
              "size": 10,
              "solidity": 0.2
             }
            },
            "type": "barpolar"
           }
          ],
          "carpet": [
           {
            "aaxis": {
             "endlinecolor": "#2a3f5f",
             "gridcolor": "white",
             "linecolor": "white",
             "minorgridcolor": "white",
             "startlinecolor": "#2a3f5f"
            },
            "baxis": {
             "endlinecolor": "#2a3f5f",
             "gridcolor": "white",
             "linecolor": "white",
             "minorgridcolor": "white",
             "startlinecolor": "#2a3f5f"
            },
            "type": "carpet"
           }
          ],
          "choropleth": [
           {
            "colorbar": {
             "outlinewidth": 0,
             "ticks": ""
            },
            "type": "choropleth"
           }
          ],
          "contour": [
           {
            "colorbar": {
             "outlinewidth": 0,
             "ticks": ""
            },
            "colorscale": [
             [
              0,
              "#0d0887"
             ],
             [
              0.1111111111111111,
              "#46039f"
             ],
             [
              0.2222222222222222,
              "#7201a8"
             ],
             [
              0.3333333333333333,
              "#9c179e"
             ],
             [
              0.4444444444444444,
              "#bd3786"
             ],
             [
              0.5555555555555556,
              "#d8576b"
             ],
             [
              0.6666666666666666,
              "#ed7953"
             ],
             [
              0.7777777777777778,
              "#fb9f3a"
             ],
             [
              0.8888888888888888,
              "#fdca26"
             ],
             [
              1,
              "#f0f921"
             ]
            ],
            "type": "contour"
           }
          ],
          "contourcarpet": [
           {
            "colorbar": {
             "outlinewidth": 0,
             "ticks": ""
            },
            "type": "contourcarpet"
           }
          ],
          "heatmap": [
           {
            "colorbar": {
             "outlinewidth": 0,
             "ticks": ""
            },
            "colorscale": [
             [
              0,
              "#0d0887"
             ],
             [
              0.1111111111111111,
              "#46039f"
             ],
             [
              0.2222222222222222,
              "#7201a8"
             ],
             [
              0.3333333333333333,
              "#9c179e"
             ],
             [
              0.4444444444444444,
              "#bd3786"
             ],
             [
              0.5555555555555556,
              "#d8576b"
             ],
             [
              0.6666666666666666,
              "#ed7953"
             ],
             [
              0.7777777777777778,
              "#fb9f3a"
             ],
             [
              0.8888888888888888,
              "#fdca26"
             ],
             [
              1,
              "#f0f921"
             ]
            ],
            "type": "heatmap"
           }
          ],
          "heatmapgl": [
           {
            "colorbar": {
             "outlinewidth": 0,
             "ticks": ""
            },
            "colorscale": [
             [
              0,
              "#0d0887"
             ],
             [
              0.1111111111111111,
              "#46039f"
             ],
             [
              0.2222222222222222,
              "#7201a8"
             ],
             [
              0.3333333333333333,
              "#9c179e"
             ],
             [
              0.4444444444444444,
              "#bd3786"
             ],
             [
              0.5555555555555556,
              "#d8576b"
             ],
             [
              0.6666666666666666,
              "#ed7953"
             ],
             [
              0.7777777777777778,
              "#fb9f3a"
             ],
             [
              0.8888888888888888,
              "#fdca26"
             ],
             [
              1,
              "#f0f921"
             ]
            ],
            "type": "heatmapgl"
           }
          ],
          "histogram": [
           {
            "marker": {
             "pattern": {
              "fillmode": "overlay",
              "size": 10,
              "solidity": 0.2
             }
            },
            "type": "histogram"
           }
          ],
          "histogram2d": [
           {
            "colorbar": {
             "outlinewidth": 0,
             "ticks": ""
            },
            "colorscale": [
             [
              0,
              "#0d0887"
             ],
             [
              0.1111111111111111,
              "#46039f"
             ],
             [
              0.2222222222222222,
              "#7201a8"
             ],
             [
              0.3333333333333333,
              "#9c179e"
             ],
             [
              0.4444444444444444,
              "#bd3786"
             ],
             [
              0.5555555555555556,
              "#d8576b"
             ],
             [
              0.6666666666666666,
              "#ed7953"
             ],
             [
              0.7777777777777778,
              "#fb9f3a"
             ],
             [
              0.8888888888888888,
              "#fdca26"
             ],
             [
              1,
              "#f0f921"
             ]
            ],
            "type": "histogram2d"
           }
          ],
          "histogram2dcontour": [
           {
            "colorbar": {
             "outlinewidth": 0,
             "ticks": ""
            },
            "colorscale": [
             [
              0,
              "#0d0887"
             ],
             [
              0.1111111111111111,
              "#46039f"
             ],
             [
              0.2222222222222222,
              "#7201a8"
             ],
             [
              0.3333333333333333,
              "#9c179e"
             ],
             [
              0.4444444444444444,
              "#bd3786"
             ],
             [
              0.5555555555555556,
              "#d8576b"
             ],
             [
              0.6666666666666666,
              "#ed7953"
             ],
             [
              0.7777777777777778,
              "#fb9f3a"
             ],
             [
              0.8888888888888888,
              "#fdca26"
             ],
             [
              1,
              "#f0f921"
             ]
            ],
            "type": "histogram2dcontour"
           }
          ],
          "mesh3d": [
           {
            "colorbar": {
             "outlinewidth": 0,
             "ticks": ""
            },
            "type": "mesh3d"
           }
          ],
          "parcoords": [
           {
            "line": {
             "colorbar": {
              "outlinewidth": 0,
              "ticks": ""
             }
            },
            "type": "parcoords"
           }
          ],
          "pie": [
           {
            "automargin": true,
            "type": "pie"
           }
          ],
          "scatter": [
           {
            "fillpattern": {
             "fillmode": "overlay",
             "size": 10,
             "solidity": 0.2
            },
            "type": "scatter"
           }
          ],
          "scatter3d": [
           {
            "line": {
             "colorbar": {
              "outlinewidth": 0,
              "ticks": ""
             }
            },
            "marker": {
             "colorbar": {
              "outlinewidth": 0,
              "ticks": ""
             }
            },
            "type": "scatter3d"
           }
          ],
          "scattercarpet": [
           {
            "marker": {
             "colorbar": {
              "outlinewidth": 0,
              "ticks": ""
             }
            },
            "type": "scattercarpet"
           }
          ],
          "scattergeo": [
           {
            "marker": {
             "colorbar": {
              "outlinewidth": 0,
              "ticks": ""
             }
            },
            "type": "scattergeo"
           }
          ],
          "scattergl": [
           {
            "marker": {
             "colorbar": {
              "outlinewidth": 0,
              "ticks": ""
             }
            },
            "type": "scattergl"
           }
          ],
          "scattermapbox": [
           {
            "marker": {
             "colorbar": {
              "outlinewidth": 0,
              "ticks": ""
             }
            },
            "type": "scattermapbox"
           }
          ],
          "scatterpolar": [
           {
            "marker": {
             "colorbar": {
              "outlinewidth": 0,
              "ticks": ""
             }
            },
            "type": "scatterpolar"
           }
          ],
          "scatterpolargl": [
           {
            "marker": {
             "colorbar": {
              "outlinewidth": 0,
              "ticks": ""
             }
            },
            "type": "scatterpolargl"
           }
          ],
          "scatterternary": [
           {
            "marker": {
             "colorbar": {
              "outlinewidth": 0,
              "ticks": ""
             }
            },
            "type": "scatterternary"
           }
          ],
          "surface": [
           {
            "colorbar": {
             "outlinewidth": 0,
             "ticks": ""
            },
            "colorscale": [
             [
              0,
              "#0d0887"
             ],
             [
              0.1111111111111111,
              "#46039f"
             ],
             [
              0.2222222222222222,
              "#7201a8"
             ],
             [
              0.3333333333333333,
              "#9c179e"
             ],
             [
              0.4444444444444444,
              "#bd3786"
             ],
             [
              0.5555555555555556,
              "#d8576b"
             ],
             [
              0.6666666666666666,
              "#ed7953"
             ],
             [
              0.7777777777777778,
              "#fb9f3a"
             ],
             [
              0.8888888888888888,
              "#fdca26"
             ],
             [
              1,
              "#f0f921"
             ]
            ],
            "type": "surface"
           }
          ],
          "table": [
           {
            "cells": {
             "fill": {
              "color": "#EBF0F8"
             },
             "line": {
              "color": "white"
             }
            },
            "header": {
             "fill": {
              "color": "#C8D4E3"
             },
             "line": {
              "color": "white"
             }
            },
            "type": "table"
           }
          ]
         },
         "layout": {
          "annotationdefaults": {
           "arrowcolor": "#2a3f5f",
           "arrowhead": 0,
           "arrowwidth": 1
          },
          "autotypenumbers": "strict",
          "coloraxis": {
           "colorbar": {
            "outlinewidth": 0,
            "ticks": ""
           }
          },
          "colorscale": {
           "diverging": [
            [
             0,
             "#8e0152"
            ],
            [
             0.1,
             "#c51b7d"
            ],
            [
             0.2,
             "#de77ae"
            ],
            [
             0.3,
             "#f1b6da"
            ],
            [
             0.4,
             "#fde0ef"
            ],
            [
             0.5,
             "#f7f7f7"
            ],
            [
             0.6,
             "#e6f5d0"
            ],
            [
             0.7,
             "#b8e186"
            ],
            [
             0.8,
             "#7fbc41"
            ],
            [
             0.9,
             "#4d9221"
            ],
            [
             1,
             "#276419"
            ]
           ],
           "sequential": [
            [
             0,
             "#0d0887"
            ],
            [
             0.1111111111111111,
             "#46039f"
            ],
            [
             0.2222222222222222,
             "#7201a8"
            ],
            [
             0.3333333333333333,
             "#9c179e"
            ],
            [
             0.4444444444444444,
             "#bd3786"
            ],
            [
             0.5555555555555556,
             "#d8576b"
            ],
            [
             0.6666666666666666,
             "#ed7953"
            ],
            [
             0.7777777777777778,
             "#fb9f3a"
            ],
            [
             0.8888888888888888,
             "#fdca26"
            ],
            [
             1,
             "#f0f921"
            ]
           ],
           "sequentialminus": [
            [
             0,
             "#0d0887"
            ],
            [
             0.1111111111111111,
             "#46039f"
            ],
            [
             0.2222222222222222,
             "#7201a8"
            ],
            [
             0.3333333333333333,
             "#9c179e"
            ],
            [
             0.4444444444444444,
             "#bd3786"
            ],
            [
             0.5555555555555556,
             "#d8576b"
            ],
            [
             0.6666666666666666,
             "#ed7953"
            ],
            [
             0.7777777777777778,
             "#fb9f3a"
            ],
            [
             0.8888888888888888,
             "#fdca26"
            ],
            [
             1,
             "#f0f921"
            ]
           ]
          },
          "colorway": [
           "#636efa",
           "#EF553B",
           "#00cc96",
           "#ab63fa",
           "#FFA15A",
           "#19d3f3",
           "#FF6692",
           "#B6E880",
           "#FF97FF",
           "#FECB52"
          ],
          "font": {
           "color": "#2a3f5f"
          },
          "geo": {
           "bgcolor": "white",
           "lakecolor": "white",
           "landcolor": "#E5ECF6",
           "showlakes": true,
           "showland": true,
           "subunitcolor": "white"
          },
          "hoverlabel": {
           "align": "left"
          },
          "hovermode": "closest",
          "mapbox": {
           "style": "light"
          },
          "paper_bgcolor": "white",
          "plot_bgcolor": "#E5ECF6",
          "polar": {
           "angularaxis": {
            "gridcolor": "white",
            "linecolor": "white",
            "ticks": ""
           },
           "bgcolor": "#E5ECF6",
           "radialaxis": {
            "gridcolor": "white",
            "linecolor": "white",
            "ticks": ""
           }
          },
          "scene": {
           "xaxis": {
            "backgroundcolor": "#E5ECF6",
            "gridcolor": "white",
            "gridwidth": 2,
            "linecolor": "white",
            "showbackground": true,
            "ticks": "",
            "zerolinecolor": "white"
           },
           "yaxis": {
            "backgroundcolor": "#E5ECF6",
            "gridcolor": "white",
            "gridwidth": 2,
            "linecolor": "white",
            "showbackground": true,
            "ticks": "",
            "zerolinecolor": "white"
           },
           "zaxis": {
            "backgroundcolor": "#E5ECF6",
            "gridcolor": "white",
            "gridwidth": 2,
            "linecolor": "white",
            "showbackground": true,
            "ticks": "",
            "zerolinecolor": "white"
           }
          },
          "shapedefaults": {
           "line": {
            "color": "#2a3f5f"
           }
          },
          "ternary": {
           "aaxis": {
            "gridcolor": "white",
            "linecolor": "white",
            "ticks": ""
           },
           "baxis": {
            "gridcolor": "white",
            "linecolor": "white",
            "ticks": ""
           },
           "bgcolor": "#E5ECF6",
           "caxis": {
            "gridcolor": "white",
            "linecolor": "white",
            "ticks": ""
           }
          },
          "title": {
           "x": 0.05
          },
          "xaxis": {
           "automargin": true,
           "gridcolor": "white",
           "linecolor": "white",
           "ticks": "",
           "title": {
            "standoff": 15
           },
           "zerolinecolor": "white",
           "zerolinewidth": 2
          },
          "yaxis": {
           "automargin": true,
           "gridcolor": "white",
           "linecolor": "white",
           "ticks": "",
           "title": {
            "standoff": 15
           },
           "zerolinecolor": "white",
           "zerolinewidth": 2
          }
         }
        },
        "xaxis": {
         "title": {
          "text": "Weight"
         }
        },
        "yaxis": {
         "title": {
          "text": "Feature Name"
         }
        }
       }
      }
     },
     "metadata": {},
     "output_type": "display_data"
    },
    {
     "name": "stdout",
     "output_type": "stream",
     "text": [
      "None\n"
     ]
    }
   ],
   "source": [
    "training_process(\n",
    "    model_name=\"xgboost_classifier\",\n",
    "    model_class=PriceClassifierXGBoostModel,\n",
    "    hyperparameters_class=PriceClassifierXGBoostModelHyperparams,\n",
    "    metric=MetricEnum.RECALL,\n",
    "    intervals_function=lambda x: 10 ** (0.4 * x) + 500 * (x + 1) ** 1.2 + 500 * x**0.8,\n",
    "    # param_grid={\n",
    "    #     \"learning_rate\": [0.14034069550007902],\n",
    "    #     \"max_depth\": [11],\n",
    "    #     \"n_estimators\": [350],\n",
    "    #     \"min_child_weight\": [6],\n",
    "    #     \"gamma\": [1.3736089649503211],\n",
    "    #     \"subsample\": [0.7806217129238506],\n",
    "    #     \"colsample_bytree\": [0.691463437376895],\n",
    "    #     \"reg_alpha\": [0.9541011649041133],\n",
    "    #     \"reg_lambda\": [3.708182521982664],\n",
    "    #     \"max_delta_step\": [5.0],\n",
    "    #     \"colsample_bynode\": [0.7],\n",
    "    #     \"colsample_bylevel\": [0.7],\n",
    "    # },\n",
    "    gpu_mode=False,\n",
    "    max_iters=50\n",
    ")"
   ]
  }
 ],
 "metadata": {
  "kernelspec": {
   "display_name": "venv",
   "language": "python",
   "name": "python3"
  },
  "language_info": {
   "codemirror_mode": {
    "name": "ipython",
    "version": 3
   },
   "file_extension": ".py",
   "mimetype": "text/x-python",
   "name": "python",
   "nbconvert_exporter": "python",
   "pygments_lexer": "ipython3",
   "version": "3.13.0"
  }
 },
 "nbformat": 4,
 "nbformat_minor": 2
}
