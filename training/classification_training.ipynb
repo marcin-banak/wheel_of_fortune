{
 "cells": [
  {
   "cell_type": "code",
   "execution_count": 19,
   "metadata": {
    "ExecuteTime": {
     "end_time": "2025-01-06T10:58:18.650900Z",
     "start_time": "2025-01-06T10:58:17.774143Z"
    }
   },
   "outputs": [],
   "source": [
    "import sys\n",
    "import os\n",
    "\n",
    "current_dir = os.getcwd()\n",
    "parent_dir = os.path.abspath(os.path.join(current_dir, os.pardir))\n",
    "sys.path.append(parent_dir)\n",
    "\n",
    "from training.training_process import training_process\n",
    "from models.price_evaluator_xgboost_clasifier import (\n",
    "    PriceClassifierXGBoostModelHyperparams,\n",
    "    PriceClassifierXGBoostModel,\n",
    ")\n",
    "from evaluation.AbstractEvaluationResults import MetricEnum"
   ]
  },
  {
   "cell_type": "code",
   "execution_count": 20,
   "metadata": {
    "ExecuteTime": {
     "end_time": "2025-01-06T11:00:07.037504Z",
     "start_time": "2025-01-06T10:58:18.657300Z"
    }
   },
   "outputs": [
    {
     "name": "stdout",
     "output_type": "stream",
     "text": [
      "Price intervals:\n",
      "650 - 751\n",
      "751 - 1153\n",
      "1153 - 1731\n",
      "1731 - 2467\n",
      "2467 - 3354\n",
      "3354 - 4389\n",
      "4389 - 5575\n",
      "5575 - 6919\n",
      "6919 - 8438\n",
      "8438 - 10164\n",
      "10164 - 12157\n",
      "12157 - 14522\n",
      "14522 - 17450\n",
      "17450 - 21281\n",
      "21281 - 26619\n",
      "26619 - 34541\n",
      "34541 - 46961\n",
      "46961 - 67285\n",
      "67285 - 101570\n",
      "101570 - 160586\n",
      "160586 - 263488\n",
      "263488 - 444337\n",
      "444337 - 700000\n",
      "Eval for PriceClassifierXGBoostModelHyperparams(learning_rate=0.24099746618946757, reg_alpha=1.8343478986616382, reg_lambda=7.796910002727695, max_depth=np.int64(10), n_estimators=np.int64(251), min_child_weight=np.int64(2), gamma=2.296244459829336, subsample=0.666854305569511, colsample_bytree=0.5714334089609704, max_delta_step=6.50888472948853, colsample_bynode=0.5282057895135501, colsample_bylevel=0.8609993861334124)\n",
      "Actual results: 0.427\n",
      "Best hyperparams: PriceClassifierXGBoostModelHyperparams(learning_rate=0.24099746618946757, reg_alpha=1.8343478986616382, reg_lambda=7.796910002727695, max_depth=np.int64(10), n_estimators=np.int64(251), min_child_weight=np.int64(2), gamma=2.296244459829336, subsample=0.666854305569511, colsample_bytree=0.5714334089609704, max_delta_step=6.50888472948853, colsample_bynode=0.5282057895135501, colsample_bylevel=0.8609993861334124)\n",
      "Eval for PriceClassifierXGBoostModelHyperparams(learning_rate=0.2821802856145676, reg_alpha=0.007787658410143285, reg_lambda=9.922115592912178, max_depth=np.int64(10), n_estimators=np.int64(325), min_child_weight=np.int64(1), gamma=0.1153121252070788, subsample=0.7623873301291946, colsample_bytree=0.6999304858576278, max_delta_step=0.4666566321361543, colsample_bynode=0.9868777594207296, colsample_bylevel=0.6163856702151521)\n",
      "Actual results: 0.43766666666666665\n",
      "Best hyperparams: PriceClassifierXGBoostModelHyperparams(learning_rate=0.2821802856145676, reg_alpha=0.007787658410143285, reg_lambda=9.922115592912178, max_depth=np.int64(10), n_estimators=np.int64(325), min_child_weight=np.int64(1), gamma=0.1153121252070788, subsample=0.7623873301291946, colsample_bytree=0.6999304858576278, max_delta_step=0.4666566321361543, colsample_bynode=0.9868777594207296, colsample_bylevel=0.6163856702151521)\n",
      "Eval for PriceClassifierXGBoostModelHyperparams(learning_rate=0.036275866014518036, reg_alpha=6.183860093330874, reg_lambda=3.8246199126716283, max_depth=np.int64(15), n_estimators=np.int64(260), min_child_weight=np.int64(9), gamma=3.401537692938899, subsample=0.7252496259847716, colsample_bytree=0.5066324805799333, max_delta_step=9.42201755684853, colsample_bynode=0.7816441089227697, colsample_bylevel=0.692708251269958)\n",
      "Actual results: 0.375\n",
      "Best hyperparams: PriceClassifierXGBoostModelHyperparams(learning_rate=0.2821802856145676, reg_alpha=0.007787658410143285, reg_lambda=9.922115592912178, max_depth=np.int64(10), n_estimators=np.int64(325), min_child_weight=np.int64(1), gamma=0.1153121252070788, subsample=0.7623873301291946, colsample_bytree=0.6999304858576278, max_delta_step=0.4666566321361543, colsample_bynode=0.9868777594207296, colsample_bylevel=0.6163856702151521)\n",
      "Eval for PriceClassifierXGBoostModelHyperparams(learning_rate=0.014630213143862116, reg_alpha=2.3089382562214906, reg_lambda=2.410254660260118, max_depth=np.int64(11), n_estimators=np.int64(324), min_child_weight=np.int64(8), gamma=0.8668232675388605, subsample=0.6955303037866205, colsample_bytree=0.5911180438940312, max_delta_step=7.5536141031765265, colsample_bynode=0.7125779372456225, colsample_bylevel=0.6039708314340945)\n",
      "Actual results: 0.4116666666666667\n",
      "Best hyperparams: PriceClassifierXGBoostModelHyperparams(learning_rate=0.2821802856145676, reg_alpha=0.007787658410143285, reg_lambda=9.922115592912178, max_depth=np.int64(10), n_estimators=np.int64(325), min_child_weight=np.int64(1), gamma=0.1153121252070788, subsample=0.7623873301291946, colsample_bytree=0.6999304858576278, max_delta_step=0.4666566321361543, colsample_bynode=0.9868777594207296, colsample_bylevel=0.6163856702151521)\n",
      "Eval for PriceClassifierXGBoostModelHyperparams(learning_rate=0.17463309506779756, reg_alpha=0.3131329245555859, reg_lambda=8.422847745949987, max_depth=np.int64(8), n_estimators=np.int64(228), min_child_weight=np.int64(9), gamma=3.636359979282105, subsample=0.6632703844029177, colsample_bytree=0.7852219872026998, max_delta_step=5.208342600258238, colsample_bynode=0.9805860121746747, colsample_bylevel=0.9222669243390758)\n",
      "Actual results: 0.412\n",
      "Best hyperparams: PriceClassifierXGBoostModelHyperparams(learning_rate=0.2821802856145676, reg_alpha=0.007787658410143285, reg_lambda=9.922115592912178, max_depth=np.int64(10), n_estimators=np.int64(325), min_child_weight=np.int64(1), gamma=0.1153121252070788, subsample=0.7623873301291946, colsample_bytree=0.6999304858576278, max_delta_step=0.4666566321361543, colsample_bynode=0.9868777594207296, colsample_bylevel=0.6163856702151521)\n",
      "Eval for PriceClassifierXGBoostModelHyperparams(learning_rate=0.22672283193984047, reg_alpha=5.3969213238907985, reg_lambda=5.8675116566384835, max_depth=np.int64(15), n_estimators=np.int64(323), min_child_weight=np.int64(3), gamma=1.4813675285204122, subsample=0.5826334695315013, colsample_bytree=0.507818203370597, max_delta_step=4.234014807063698, colsample_bynode=0.6974407590877849, colsample_bylevel=0.6467440873590191)\n",
      "Actual results: 0.401\n",
      "Best hyperparams: PriceClassifierXGBoostModelHyperparams(learning_rate=0.2821802856145676, reg_alpha=0.007787658410143285, reg_lambda=9.922115592912178, max_depth=np.int64(10), n_estimators=np.int64(325), min_child_weight=np.int64(1), gamma=0.1153121252070788, subsample=0.7623873301291946, colsample_bytree=0.6999304858576278, max_delta_step=0.4666566321361543, colsample_bynode=0.9868777594207296, colsample_bylevel=0.6163856702151521)\n",
      "Eval for PriceClassifierXGBoostModelHyperparams(learning_rate=0.014083148587374493, reg_alpha=1.9884240408880522, reg_lambda=7.113419527486501, max_depth=np.int64(12), n_estimators=np.int64(323), min_child_weight=np.int64(9), gamma=3.2553851275097228, subsample=0.9574798377718905, colsample_bytree=0.9250192888948998, max_delta_step=4.494506741382035, colsample_bynode=0.5477050582452057, colsample_bylevel=0.6854091260991332)\n",
      "Actual results: 0.391\n",
      "Best hyperparams: PriceClassifierXGBoostModelHyperparams(learning_rate=0.2821802856145676, reg_alpha=0.007787658410143285, reg_lambda=9.922115592912178, max_depth=np.int64(10), n_estimators=np.int64(325), min_child_weight=np.int64(1), gamma=0.1153121252070788, subsample=0.7623873301291946, colsample_bytree=0.6999304858576278, max_delta_step=0.4666566321361543, colsample_bynode=0.9868777594207296, colsample_bylevel=0.6163856702151521)\n",
      "Eval for PriceClassifierXGBoostModelHyperparams(learning_rate=0.20396396327244615, reg_alpha=6.659223566174967, reg_lambda=5.912977877077273, max_depth=np.int64(6), n_estimators=np.int64(303), min_child_weight=np.int64(4), gamma=4.85856047694552, subsample=0.924456912133042, colsample_bytree=0.8608647605824367, max_delta_step=2.359849197489558, colsample_bynode=0.628034161380662, colsample_bylevel=0.5202167947692157)\n",
      "Actual results: 0.38133333333333336\n",
      "Best hyperparams: PriceClassifierXGBoostModelHyperparams(learning_rate=0.2821802856145676, reg_alpha=0.007787658410143285, reg_lambda=9.922115592912178, max_depth=np.int64(10), n_estimators=np.int64(325), min_child_weight=np.int64(1), gamma=0.1153121252070788, subsample=0.7623873301291946, colsample_bytree=0.6999304858576278, max_delta_step=0.4666566321361543, colsample_bynode=0.9868777594207296, colsample_bylevel=0.6163856702151521)\n",
      "Eval for PriceClassifierXGBoostModelHyperparams(learning_rate=0.21609223800887836, reg_alpha=1.1089082081183135, reg_lambda=4.393365018657702, max_depth=np.int64(5), n_estimators=np.int64(453), min_child_weight=np.int64(5), gamma=2.8163778598819187, subsample=0.8477580432130638, colsample_bytree=0.5696657272029378, max_delta_step=6.044173792778174, colsample_bynode=0.7699205456508367, colsample_bylevel=0.6015306123673847)\n",
      "Actual results: 0.416\n",
      "Best hyperparams: PriceClassifierXGBoostModelHyperparams(learning_rate=0.2821802856145676, reg_alpha=0.007787658410143285, reg_lambda=9.922115592912178, max_depth=np.int64(10), n_estimators=np.int64(325), min_child_weight=np.int64(1), gamma=0.1153121252070788, subsample=0.7623873301291946, colsample_bytree=0.6999304858576278, max_delta_step=0.4666566321361543, colsample_bynode=0.9868777594207296, colsample_bylevel=0.6163856702151521)\n",
      "Eval for PriceClassifierXGBoostModelHyperparams(learning_rate=0.28342753546181454, reg_alpha=5.988654664885361, reg_lambda=6.947849330397046, max_depth=np.int64(14), n_estimators=np.int64(331), min_child_weight=np.int64(4), gamma=0.5274712991513532, subsample=0.7282672852414551, colsample_bytree=0.6092202186084168, max_delta_step=4.165099478703663, colsample_bynode=0.9416401294594343, colsample_bylevel=0.662172510502637)\n",
      "Actual results: 0.42433333333333334\n",
      "Best hyperparams: PriceClassifierXGBoostModelHyperparams(learning_rate=0.2821802856145676, reg_alpha=0.007787658410143285, reg_lambda=9.922115592912178, max_depth=np.int64(10), n_estimators=np.int64(325), min_child_weight=np.int64(1), gamma=0.1153121252070788, subsample=0.7623873301291946, colsample_bytree=0.6999304858576278, max_delta_step=0.4666566321361543, colsample_bynode=0.9868777594207296, colsample_bylevel=0.6163856702151521)\n",
      "PriceClassifierXGBoostModelHyperparams(learning_rate=0.2821802856145676, reg_alpha=0.007787658410143285, reg_lambda=9.922115592912178, max_depth=np.int64(10), n_estimators=np.int64(325), min_child_weight=np.int64(1), gamma=0.1153121252070788, subsample=0.7623873301291946, colsample_bytree=0.6999304858576278, max_delta_step=0.4666566321361543, colsample_bynode=0.9868777594207296, colsample_bylevel=0.6163856702151521)\n",
      "Accuracy: 0.43766666666666665\n"
     ]
    },
    {
     "data": {
      "application/vnd.plotly.v1+json": {
       "config": {
        "plotlyServerURL": "https://plot.ly"
       },
       "data": [
        {
         "orientation": "h",
         "type": "bar",
         "x": [
          229,
          761,
          1071,
          1162,
          1656,
          1887,
          1907,
          5294,
          5556,
          6195,
          6637,
          6737,
          6864,
          7847,
          8118,
          9373,
          9807
         ],
         "y": [
          "Condition",
          "Transmission",
          "First_owner",
          "Doors_number",
          "Drive",
          "Fuel_type",
          "Advanced_model",
          "Type",
          "Displacement_cm3",
          "Vehicle_generation",
          "Vehicle_model",
          "Power_HP",
          "Production_year",
          "Vehicle_brand",
          "Colour",
          "Feature_score",
          "Mileage_km"
         ]
        }
       ],
       "layout": {
        "template": {
         "data": {
          "bar": [
           {
            "error_x": {
             "color": "#2a3f5f"
            },
            "error_y": {
             "color": "#2a3f5f"
            },
            "marker": {
             "line": {
              "color": "#E5ECF6",
              "width": 0.5
             },
             "pattern": {
              "fillmode": "overlay",
              "size": 10,
              "solidity": 0.2
             }
            },
            "type": "bar"
           }
          ],
          "barpolar": [
           {
            "marker": {
             "line": {
              "color": "#E5ECF6",
              "width": 0.5
             },
             "pattern": {
              "fillmode": "overlay",
              "size": 10,
              "solidity": 0.2
             }
            },
            "type": "barpolar"
           }
          ],
          "carpet": [
           {
            "aaxis": {
             "endlinecolor": "#2a3f5f",
             "gridcolor": "white",
             "linecolor": "white",
             "minorgridcolor": "white",
             "startlinecolor": "#2a3f5f"
            },
            "baxis": {
             "endlinecolor": "#2a3f5f",
             "gridcolor": "white",
             "linecolor": "white",
             "minorgridcolor": "white",
             "startlinecolor": "#2a3f5f"
            },
            "type": "carpet"
           }
          ],
          "choropleth": [
           {
            "colorbar": {
             "outlinewidth": 0,
             "ticks": ""
            },
            "type": "choropleth"
           }
          ],
          "contour": [
           {
            "colorbar": {
             "outlinewidth": 0,
             "ticks": ""
            },
            "colorscale": [
             [
              0,
              "#0d0887"
             ],
             [
              0.1111111111111111,
              "#46039f"
             ],
             [
              0.2222222222222222,
              "#7201a8"
             ],
             [
              0.3333333333333333,
              "#9c179e"
             ],
             [
              0.4444444444444444,
              "#bd3786"
             ],
             [
              0.5555555555555556,
              "#d8576b"
             ],
             [
              0.6666666666666666,
              "#ed7953"
             ],
             [
              0.7777777777777778,
              "#fb9f3a"
             ],
             [
              0.8888888888888888,
              "#fdca26"
             ],
             [
              1,
              "#f0f921"
             ]
            ],
            "type": "contour"
           }
          ],
          "contourcarpet": [
           {
            "colorbar": {
             "outlinewidth": 0,
             "ticks": ""
            },
            "type": "contourcarpet"
           }
          ],
          "heatmap": [
           {
            "colorbar": {
             "outlinewidth": 0,
             "ticks": ""
            },
            "colorscale": [
             [
              0,
              "#0d0887"
             ],
             [
              0.1111111111111111,
              "#46039f"
             ],
             [
              0.2222222222222222,
              "#7201a8"
             ],
             [
              0.3333333333333333,
              "#9c179e"
             ],
             [
              0.4444444444444444,
              "#bd3786"
             ],
             [
              0.5555555555555556,
              "#d8576b"
             ],
             [
              0.6666666666666666,
              "#ed7953"
             ],
             [
              0.7777777777777778,
              "#fb9f3a"
             ],
             [
              0.8888888888888888,
              "#fdca26"
             ],
             [
              1,
              "#f0f921"
             ]
            ],
            "type": "heatmap"
           }
          ],
          "heatmapgl": [
           {
            "colorbar": {
             "outlinewidth": 0,
             "ticks": ""
            },
            "colorscale": [
             [
              0,
              "#0d0887"
             ],
             [
              0.1111111111111111,
              "#46039f"
             ],
             [
              0.2222222222222222,
              "#7201a8"
             ],
             [
              0.3333333333333333,
              "#9c179e"
             ],
             [
              0.4444444444444444,
              "#bd3786"
             ],
             [
              0.5555555555555556,
              "#d8576b"
             ],
             [
              0.6666666666666666,
              "#ed7953"
             ],
             [
              0.7777777777777778,
              "#fb9f3a"
             ],
             [
              0.8888888888888888,
              "#fdca26"
             ],
             [
              1,
              "#f0f921"
             ]
            ],
            "type": "heatmapgl"
           }
          ],
          "histogram": [
           {
            "marker": {
             "pattern": {
              "fillmode": "overlay",
              "size": 10,
              "solidity": 0.2
             }
            },
            "type": "histogram"
           }
          ],
          "histogram2d": [
           {
            "colorbar": {
             "outlinewidth": 0,
             "ticks": ""
            },
            "colorscale": [
             [
              0,
              "#0d0887"
             ],
             [
              0.1111111111111111,
              "#46039f"
             ],
             [
              0.2222222222222222,
              "#7201a8"
             ],
             [
              0.3333333333333333,
              "#9c179e"
             ],
             [
              0.4444444444444444,
              "#bd3786"
             ],
             [
              0.5555555555555556,
              "#d8576b"
             ],
             [
              0.6666666666666666,
              "#ed7953"
             ],
             [
              0.7777777777777778,
              "#fb9f3a"
             ],
             [
              0.8888888888888888,
              "#fdca26"
             ],
             [
              1,
              "#f0f921"
             ]
            ],
            "type": "histogram2d"
           }
          ],
          "histogram2dcontour": [
           {
            "colorbar": {
             "outlinewidth": 0,
             "ticks": ""
            },
            "colorscale": [
             [
              0,
              "#0d0887"
             ],
             [
              0.1111111111111111,
              "#46039f"
             ],
             [
              0.2222222222222222,
              "#7201a8"
             ],
             [
              0.3333333333333333,
              "#9c179e"
             ],
             [
              0.4444444444444444,
              "#bd3786"
             ],
             [
              0.5555555555555556,
              "#d8576b"
             ],
             [
              0.6666666666666666,
              "#ed7953"
             ],
             [
              0.7777777777777778,
              "#fb9f3a"
             ],
             [
              0.8888888888888888,
              "#fdca26"
             ],
             [
              1,
              "#f0f921"
             ]
            ],
            "type": "histogram2dcontour"
           }
          ],
          "mesh3d": [
           {
            "colorbar": {
             "outlinewidth": 0,
             "ticks": ""
            },
            "type": "mesh3d"
           }
          ],
          "parcoords": [
           {
            "line": {
             "colorbar": {
              "outlinewidth": 0,
              "ticks": ""
             }
            },
            "type": "parcoords"
           }
          ],
          "pie": [
           {
            "automargin": true,
            "type": "pie"
           }
          ],
          "scatter": [
           {
            "fillpattern": {
             "fillmode": "overlay",
             "size": 10,
             "solidity": 0.2
            },
            "type": "scatter"
           }
          ],
          "scatter3d": [
           {
            "line": {
             "colorbar": {
              "outlinewidth": 0,
              "ticks": ""
             }
            },
            "marker": {
             "colorbar": {
              "outlinewidth": 0,
              "ticks": ""
             }
            },
            "type": "scatter3d"
           }
          ],
          "scattercarpet": [
           {
            "marker": {
             "colorbar": {
              "outlinewidth": 0,
              "ticks": ""
             }
            },
            "type": "scattercarpet"
           }
          ],
          "scattergeo": [
           {
            "marker": {
             "colorbar": {
              "outlinewidth": 0,
              "ticks": ""
             }
            },
            "type": "scattergeo"
           }
          ],
          "scattergl": [
           {
            "marker": {
             "colorbar": {
              "outlinewidth": 0,
              "ticks": ""
             }
            },
            "type": "scattergl"
           }
          ],
          "scattermapbox": [
           {
            "marker": {
             "colorbar": {
              "outlinewidth": 0,
              "ticks": ""
             }
            },
            "type": "scattermapbox"
           }
          ],
          "scatterpolar": [
           {
            "marker": {
             "colorbar": {
              "outlinewidth": 0,
              "ticks": ""
             }
            },
            "type": "scatterpolar"
           }
          ],
          "scatterpolargl": [
           {
            "marker": {
             "colorbar": {
              "outlinewidth": 0,
              "ticks": ""
             }
            },
            "type": "scatterpolargl"
           }
          ],
          "scatterternary": [
           {
            "marker": {
             "colorbar": {
              "outlinewidth": 0,
              "ticks": ""
             }
            },
            "type": "scatterternary"
           }
          ],
          "surface": [
           {
            "colorbar": {
             "outlinewidth": 0,
             "ticks": ""
            },
            "colorscale": [
             [
              0,
              "#0d0887"
             ],
             [
              0.1111111111111111,
              "#46039f"
             ],
             [
              0.2222222222222222,
              "#7201a8"
             ],
             [
              0.3333333333333333,
              "#9c179e"
             ],
             [
              0.4444444444444444,
              "#bd3786"
             ],
             [
              0.5555555555555556,
              "#d8576b"
             ],
             [
              0.6666666666666666,
              "#ed7953"
             ],
             [
              0.7777777777777778,
              "#fb9f3a"
             ],
             [
              0.8888888888888888,
              "#fdca26"
             ],
             [
              1,
              "#f0f921"
             ]
            ],
            "type": "surface"
           }
          ],
          "table": [
           {
            "cells": {
             "fill": {
              "color": "#EBF0F8"
             },
             "line": {
              "color": "white"
             }
            },
            "header": {
             "fill": {
              "color": "#C8D4E3"
             },
             "line": {
              "color": "white"
             }
            },
            "type": "table"
           }
          ]
         },
         "layout": {
          "annotationdefaults": {
           "arrowcolor": "#2a3f5f",
           "arrowhead": 0,
           "arrowwidth": 1
          },
          "autotypenumbers": "strict",
          "coloraxis": {
           "colorbar": {
            "outlinewidth": 0,
            "ticks": ""
           }
          },
          "colorscale": {
           "diverging": [
            [
             0,
             "#8e0152"
            ],
            [
             0.1,
             "#c51b7d"
            ],
            [
             0.2,
             "#de77ae"
            ],
            [
             0.3,
             "#f1b6da"
            ],
            [
             0.4,
             "#fde0ef"
            ],
            [
             0.5,
             "#f7f7f7"
            ],
            [
             0.6,
             "#e6f5d0"
            ],
            [
             0.7,
             "#b8e186"
            ],
            [
             0.8,
             "#7fbc41"
            ],
            [
             0.9,
             "#4d9221"
            ],
            [
             1,
             "#276419"
            ]
           ],
           "sequential": [
            [
             0,
             "#0d0887"
            ],
            [
             0.1111111111111111,
             "#46039f"
            ],
            [
             0.2222222222222222,
             "#7201a8"
            ],
            [
             0.3333333333333333,
             "#9c179e"
            ],
            [
             0.4444444444444444,
             "#bd3786"
            ],
            [
             0.5555555555555556,
             "#d8576b"
            ],
            [
             0.6666666666666666,
             "#ed7953"
            ],
            [
             0.7777777777777778,
             "#fb9f3a"
            ],
            [
             0.8888888888888888,
             "#fdca26"
            ],
            [
             1,
             "#f0f921"
            ]
           ],
           "sequentialminus": [
            [
             0,
             "#0d0887"
            ],
            [
             0.1111111111111111,
             "#46039f"
            ],
            [
             0.2222222222222222,
             "#7201a8"
            ],
            [
             0.3333333333333333,
             "#9c179e"
            ],
            [
             0.4444444444444444,
             "#bd3786"
            ],
            [
             0.5555555555555556,
             "#d8576b"
            ],
            [
             0.6666666666666666,
             "#ed7953"
            ],
            [
             0.7777777777777778,
             "#fb9f3a"
            ],
            [
             0.8888888888888888,
             "#fdca26"
            ],
            [
             1,
             "#f0f921"
            ]
           ]
          },
          "colorway": [
           "#636efa",
           "#EF553B",
           "#00cc96",
           "#ab63fa",
           "#FFA15A",
           "#19d3f3",
           "#FF6692",
           "#B6E880",
           "#FF97FF",
           "#FECB52"
          ],
          "font": {
           "color": "#2a3f5f"
          },
          "geo": {
           "bgcolor": "white",
           "lakecolor": "white",
           "landcolor": "#E5ECF6",
           "showlakes": true,
           "showland": true,
           "subunitcolor": "white"
          },
          "hoverlabel": {
           "align": "left"
          },
          "hovermode": "closest",
          "mapbox": {
           "style": "light"
          },
          "paper_bgcolor": "white",
          "plot_bgcolor": "#E5ECF6",
          "polar": {
           "angularaxis": {
            "gridcolor": "white",
            "linecolor": "white",
            "ticks": ""
           },
           "bgcolor": "#E5ECF6",
           "radialaxis": {
            "gridcolor": "white",
            "linecolor": "white",
            "ticks": ""
           }
          },
          "scene": {
           "xaxis": {
            "backgroundcolor": "#E5ECF6",
            "gridcolor": "white",
            "gridwidth": 2,
            "linecolor": "white",
            "showbackground": true,
            "ticks": "",
            "zerolinecolor": "white"
           },
           "yaxis": {
            "backgroundcolor": "#E5ECF6",
            "gridcolor": "white",
            "gridwidth": 2,
            "linecolor": "white",
            "showbackground": true,
            "ticks": "",
            "zerolinecolor": "white"
           },
           "zaxis": {
            "backgroundcolor": "#E5ECF6",
            "gridcolor": "white",
            "gridwidth": 2,
            "linecolor": "white",
            "showbackground": true,
            "ticks": "",
            "zerolinecolor": "white"
           }
          },
          "shapedefaults": {
           "line": {
            "color": "#2a3f5f"
           }
          },
          "ternary": {
           "aaxis": {
            "gridcolor": "white",
            "linecolor": "white",
            "ticks": ""
           },
           "baxis": {
            "gridcolor": "white",
            "linecolor": "white",
            "ticks": ""
           },
           "bgcolor": "#E5ECF6",
           "caxis": {
            "gridcolor": "white",
            "linecolor": "white",
            "ticks": ""
           }
          },
          "title": {
           "x": 0.05
          },
          "xaxis": {
           "automargin": true,
           "gridcolor": "white",
           "linecolor": "white",
           "ticks": "",
           "title": {
            "standoff": 15
           },
           "zerolinecolor": "white",
           "zerolinewidth": 2
          },
          "yaxis": {
           "automargin": true,
           "gridcolor": "white",
           "linecolor": "white",
           "ticks": "",
           "title": {
            "standoff": 15
           },
           "zerolinecolor": "white",
           "zerolinewidth": 2
          }
         }
        },
        "xaxis": {
         "title": {
          "text": "Weight"
         }
        },
        "yaxis": {
         "title": {
          "text": "Feature Name"
         }
        }
       }
      }
     },
     "metadata": {},
     "output_type": "display_data"
    }
   ],
   "source": [
    "training_process(\n",
    "    model_name=\"xgboost_classifier\",\n",
    "    model_class=PriceClassifierXGBoostModel,\n",
    "    hyperparameters_class=PriceClassifierXGBoostModelHyperparams,\n",
    "    metric=MetricEnum.ACCURACY,\n",
    "    intervals_function=lambda x: 10 ** (0.25 * x) + 100 * (x + 1) ** 1.005 + 200 * x ** 0.45,\n",
    "    # param_grid={\n",
    "    #     \"learning_rate\": [0.14034069550007902],\n",
    "    #     \"max_depth\": [11],\n",
    "    #     \"n_estimators\": [350],\n",
    "    #     \"min_child_weight\": [6],\n",
    "    #     \"gamma\": [1.3736089649503211],\n",
    "    #     \"subsample\": [0.7806217129238506],\n",
    "    #     \"colsample_bytree\": [0.691463437376895],\n",
    "    #     \"reg_alpha\": [0.9541011649041133],\n",
    "    #     \"reg_lambda\": [3.708182521982664],\n",
    "    #     \"max_delta_step\": [5.0],\n",
    "    #     \"colsample_bynode\": [0.7],\n",
    "    #     \"colsample_bylevel\": [0.7],\n",
    "    # },\n",
    "    gpu_mode=False,\n",
    "    max_iters=10,\n",
    ")"
   ]
  }
 ],
 "metadata": {
  "kernelspec": {
   "display_name": "Python 3",
   "language": "python",
   "name": "python3"
  },
  "language_info": {
   "codemirror_mode": {
    "name": "ipython",
    "version": 3
   },
   "file_extension": ".py",
   "mimetype": "text/x-python",
   "name": "python",
   "nbconvert_exporter": "python",
   "pygments_lexer": "ipython3",
   "version": "3.13.0"
  }
 },
 "nbformat": 4,
 "nbformat_minor": 2
}
