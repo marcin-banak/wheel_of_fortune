{
 "cells": [
  {
   "cell_type": "code",
   "execution_count": 1,
   "metadata": {},
   "outputs": [],
   "source": [
    "import sys\n",
    "import os\n",
    "\n",
    "current_dir = os.getcwd()\n",
    "parent_dir = os.path.abspath(os.path.join(current_dir, os.pardir))\n",
    "sys.path.append(parent_dir)\n",
    "\n",
    "from training.training_process import training_process\n",
    "from models.price_evaluator_random_forest_regression import (\n",
    "    PriceRegressorRandomForestModel,\n",
    "    PriceRegressorRandomForestHyperparams\n",
    ")\n",
    "from utils.cast_regression_to_classification import cast_regression_to_classification\n",
    "from evaluation.AbstractEvaluationResults import MetricEnum\n"
   ]
  },
  {
   "cell_type": "code",
   "execution_count": 2,
   "metadata": {},
   "outputs": [
    {
     "name": "stdout",
     "output_type": "stream",
     "text": [
      "Eval for PriceRegressorRandomForestHyperparams(n_estimators=np.int64(408), max_depth=np.int64(8), min_samples_split=np.int64(8), min_samples_leaf=np.int64(3), max_features='sqrt', bootstrap=True)\n",
      "Actual results: 385803840.1887764\n",
      "Best hyperparams: PriceRegressorRandomForestHyperparams(n_estimators=np.int64(408), max_depth=np.int64(8), min_samples_split=np.int64(8), min_samples_leaf=np.int64(3), max_features='sqrt', bootstrap=True)\n",
      "Eval for PriceRegressorRandomForestHyperparams(n_estimators=np.int64(257), max_depth=np.int64(12), min_samples_split=np.int64(3), min_samples_leaf=np.int64(4), max_features='sqrt', bootstrap=False)\n",
      "Actual results: 264343175.9391161\n",
      "Best hyperparams: PriceRegressorRandomForestHyperparams(n_estimators=np.int64(257), max_depth=np.int64(12), min_samples_split=np.int64(3), min_samples_leaf=np.int64(4), max_features='sqrt', bootstrap=False)\n",
      "Eval for PriceRegressorRandomForestHyperparams(n_estimators=np.int64(472), max_depth=np.int64(3), min_samples_split=np.int64(10), min_samples_leaf=np.int64(3), max_features='log2', bootstrap=True)\n",
      "Actual results: 897098165.5377982\n",
      "Best hyperparams: PriceRegressorRandomForestHyperparams(n_estimators=np.int64(257), max_depth=np.int64(12), min_samples_split=np.int64(3), min_samples_leaf=np.int64(4), max_features='sqrt', bootstrap=False)\n",
      "Eval for PriceRegressorRandomForestHyperparams(n_estimators=np.int64(60), max_depth=np.int64(17), min_samples_split=np.int64(5), min_samples_leaf=np.int64(1), max_features='log2', bootstrap=True)\n",
      "Actual results: 220860863.47344583\n",
      "Best hyperparams: PriceRegressorRandomForestHyperparams(n_estimators=np.int64(60), max_depth=np.int64(17), min_samples_split=np.int64(5), min_samples_leaf=np.int64(1), max_features='log2', bootstrap=True)\n",
      "Eval for PriceRegressorRandomForestHyperparams(n_estimators=np.int64(91), max_depth=np.int64(20), min_samples_split=np.int64(5), min_samples_leaf=np.int64(5), max_features='sqrt', bootstrap=False)\n",
      "Actual results: 223563768.72977513\n",
      "Best hyperparams: PriceRegressorRandomForestHyperparams(n_estimators=np.int64(60), max_depth=np.int64(17), min_samples_split=np.int64(5), min_samples_leaf=np.int64(1), max_features='log2', bootstrap=True)\n",
      "Eval for PriceRegressorRandomForestHyperparams(n_estimators=np.int64(356), max_depth=np.int64(15), min_samples_split=np.int64(2), min_samples_leaf=np.int64(5), max_features='log2', bootstrap=True)\n",
      "Actual results: 251352442.01044783\n",
      "Best hyperparams: PriceRegressorRandomForestHyperparams(n_estimators=np.int64(60), max_depth=np.int64(17), min_samples_split=np.int64(5), min_samples_leaf=np.int64(1), max_features='log2', bootstrap=True)\n",
      "Eval for PriceRegressorRandomForestHyperparams(n_estimators=np.int64(57), max_depth=np.int64(9), min_samples_split=np.int64(4), min_samples_leaf=np.int64(4), max_features='log2', bootstrap=False)\n",
      "Actual results: 345815082.36101973\n",
      "Best hyperparams: PriceRegressorRandomForestHyperparams(n_estimators=np.int64(60), max_depth=np.int64(17), min_samples_split=np.int64(5), min_samples_leaf=np.int64(1), max_features='log2', bootstrap=True)\n",
      "Eval for PriceRegressorRandomForestHyperparams(n_estimators=np.int64(128), max_depth=np.int64(14), min_samples_split=np.int64(3), min_samples_leaf=np.int64(4), max_features='sqrt', bootstrap=True)\n",
      "Actual results: 253242045.31106845\n",
      "Best hyperparams: PriceRegressorRandomForestHyperparams(n_estimators=np.int64(60), max_depth=np.int64(17), min_samples_split=np.int64(5), min_samples_leaf=np.int64(1), max_features='log2', bootstrap=True)\n",
      "Eval for PriceRegressorRandomForestHyperparams(n_estimators=np.int64(305), max_depth=np.int64(4), min_samples_split=np.int64(9), min_samples_leaf=np.int64(3), max_features='sqrt', bootstrap=False)\n",
      "Actual results: 699702204.4487091\n",
      "Best hyperparams: PriceRegressorRandomForestHyperparams(n_estimators=np.int64(60), max_depth=np.int64(17), min_samples_split=np.int64(5), min_samples_leaf=np.int64(1), max_features='log2', bootstrap=True)\n",
      "Eval for PriceRegressorRandomForestHyperparams(n_estimators=np.int64(377), max_depth=np.int64(12), min_samples_split=np.int64(7), min_samples_leaf=np.int64(3), max_features='log2', bootstrap=False)\n",
      "Actual results: 260847505.2144057\n",
      "Best hyperparams: PriceRegressorRandomForestHyperparams(n_estimators=np.int64(60), max_depth=np.int64(17), min_samples_split=np.int64(5), min_samples_leaf=np.int64(1), max_features='log2', bootstrap=True)\n",
      "PriceRegressorRandomForestHyperparams(n_estimators=np.int64(60), max_depth=np.int64(17), min_samples_split=np.int64(5), min_samples_leaf=np.int64(1), max_features='log2', bootstrap=True)\n",
      "Mse: 220860863.47344583\n"
     ]
    },
    {
     "data": {
      "text/plain": [
       "(220860863.47344583, [])"
      ]
     },
     "execution_count": 2,
     "metadata": {},
     "output_type": "execute_result"
    }
   ],
   "source": [
    "training_process(\n",
    "    model_name=\"basic_regressor\",\n",
    "    model_class=PriceRegressorRandomForestModel,\n",
    "    hyperparameters_class=PriceRegressorRandomForestHyperparams,\n",
    "    metric=MetricEnum.MSE,\n",
    "    gpu_mode=False,\n",
    "    max_iters=10,\n",
    "    category_encoding=True\n",
    ")"
   ]
  },
  {
   "cell_type": "code",
   "execution_count": 3,
   "metadata": {},
   "outputs": [
    {
     "name": "stdout",
     "output_type": "stream",
     "text": [
      "Classification metrics:\n",
      "   Accuracy: 0.6474\n",
      "  Precision: 0.6427\n",
      "  Recall: 0.6474\n",
      "  F1 Score: 0.6400\n",
      "  Mean Classes Error: 0.4081\n",
      "  Ideal Distance: 0.7113\n"
     ]
    },
    {
     "data": {
      "text/plain": [
       "(<models.price_evaluator_random_forest_regression.PriceRegressorRandomForestModel at 0x10c3286e0>,\n",
       " [(np.int64(585), np.int64(1086)),\n",
       "  (np.int64(1086), np.int64(2737)),\n",
       "  (np.int64(2737), np.int64(5482)),\n",
       "  (np.int64(5482), np.int64(9340)),\n",
       "  (np.int64(9340), np.int64(14344)),\n",
       "  (np.int64(14344), np.int64(20548)),\n",
       "  (np.int64(20548), np.int64(28060)),\n",
       "  (np.int64(28060), np.int64(37125)),\n",
       "  (np.int64(37125), np.int64(48332)),\n",
       "  (np.int64(48332), np.int64(63137)),\n",
       "  (np.int64(63137), np.int64(85176)),\n",
       "  (np.int64(85176), np.int64(123562)),\n",
       "  (np.int64(123562), np.int64(201164)),\n",
       "  (np.int64(201164), np.int64(375411)),\n",
       "  (np.int64(375411), np.int64(717877))])"
      ]
     },
     "execution_count": 3,
     "metadata": {},
     "output_type": "execute_result"
    }
   ],
   "source": [
    "interval_func = lambda x: 10 ** (0.4 * x) + 500 * (x + 1) ** 1.2 + 500 * x ** 0.8\n",
    "cast_regression_to_classification(\"basic_regressor\", interval_func, category_encoding=True)"
   ]
  }
 ],
 "metadata": {
  "kernelspec": {
   "display_name": "venv",
   "language": "python",
   "name": "python3"
  },
  "language_info": {
   "codemirror_mode": {
    "name": "ipython",
    "version": 3
   },
   "file_extension": ".py",
   "mimetype": "text/x-python",
   "name": "python",
   "nbconvert_exporter": "python",
   "pygments_lexer": "ipython3",
   "version": "3.13.0"
  }
 },
 "nbformat": 4,
 "nbformat_minor": 2
}
