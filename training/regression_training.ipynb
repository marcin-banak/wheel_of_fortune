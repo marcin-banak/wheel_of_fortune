{
 "cells": [
  {
   "cell_type": "code",
   "execution_count": 1,
   "metadata": {},
   "outputs": [],
   "source": [
    "import sys\n",
    "import os\n",
    "\n",
    "current_dir = os.getcwd()\n",
    "parent_dir = os.path.abspath(os.path.join(current_dir, os.pardir))\n",
    "sys.path.append(parent_dir)\n",
    "\n",
    "import joblib\n",
    "import pandas as pd\n",
    "import numpy as np\n",
    "from sklearn.model_selection import train_test_split\n",
    "from sklearn.metrics import accuracy_score, precision_score, recall_score, f1_score, roc_auc_score\n",
    "from typing import Callable, List, Tuple\n",
    "\n",
    "from data_processing.dtype_mapping import dtype_mapping\n",
    "from training.training_process import training_process\n",
    "from models.price_evaluator_xgboost_regression import (\n",
    "    PriceRegressorXGBoostModel,\n",
    "    PriceRegressorXGBoostModelHyperparams\n",
    ")\n",
    "from evaluation.evaluate_classification import evaluate_classification\n",
    "\n",
    "from utils.classify import classify\n",
    "from utils.classification_range_generator import generate_price_intervals\n",
    "from utils.class_reduction import class_reduction\n"
   ]
  },
  {
   "cell_type": "code",
   "execution_count": 2,
   "metadata": {},
   "outputs": [
    {
     "ename": "TypeError",
     "evalue": "training_process() missing 1 required positional argument: 'metric'",
     "output_type": "error",
     "traceback": [
      "\u001b[0;31m---------------------------------------------------------------------------\u001b[0m",
      "\u001b[0;31mTypeError\u001b[0m                                 Traceback (most recent call last)",
      "Cell \u001b[0;32mIn[2], line 1\u001b[0m\n\u001b[0;32m----> 1\u001b[0m \u001b[43mtraining_process\u001b[49m\u001b[43m(\u001b[49m\n\u001b[1;32m      2\u001b[0m \u001b[43m    \u001b[49m\u001b[43mmodel_name\u001b[49m\u001b[38;5;241;43m=\u001b[39;49m\u001b[38;5;124;43m\"\u001b[39;49m\u001b[38;5;124;43mxgboost_regressor\u001b[39;49m\u001b[38;5;124;43m\"\u001b[39;49m\u001b[43m,\u001b[49m\n\u001b[1;32m      3\u001b[0m \u001b[43m    \u001b[49m\u001b[43mmodel_class\u001b[49m\u001b[38;5;241;43m=\u001b[39;49m\u001b[43mPriceRegressorXGBoostModel\u001b[49m\u001b[43m,\u001b[49m\n\u001b[1;32m      4\u001b[0m \u001b[43m    \u001b[49m\u001b[43mhyperparameters_class\u001b[49m\u001b[38;5;241;43m=\u001b[39;49m\u001b[43mPriceRegressorXGBoostModelHyperparams\u001b[49m\u001b[43m,\u001b[49m\n\u001b[1;32m      5\u001b[0m \u001b[43m    \u001b[49m\u001b[43mmax_iters\u001b[49m\u001b[38;5;241;43m=\u001b[39;49m\u001b[38;5;241;43m10\u001b[39;49m\u001b[43m,\u001b[49m\n\u001b[1;32m      6\u001b[0m \u001b[43m    \u001b[49m\u001b[43mgpu_mode\u001b[49m\u001b[38;5;241;43m=\u001b[39;49m\u001b[38;5;28;43;01mFalse\u001b[39;49;00m\u001b[43m,\u001b[49m\n\u001b[1;32m      7\u001b[0m \u001b[43m)\u001b[49m\n",
      "\u001b[0;31mTypeError\u001b[0m: training_process() missing 1 required positional argument: 'metric'"
     ]
    }
   ],
   "source": [
    "training_process(\n",
    "    model_name=\"xgboost_regressor\",\n",
    "    model_class=PriceRegressorXGBoostModel,\n",
    "    hyperparameters_class=PriceRegressorXGBoostModelHyperparams,\n",
    "    max_iters=10,\n",
    "    gpu_mode=False,\n",
    ")"
   ]
  },
  {
   "cell_type": "code",
   "execution_count": 3,
   "metadata": {},
   "outputs": [],
   "source": [
    "from utils.export_model import load_model\n",
    "\n",
    "\n",
    "def cast_regression_to_classification(model_path: str, interval_func):\n",
    "    model = load_model(model_path)\n",
    "\n",
    "    data = pd.read_csv(\"../data/processed_car_sale_ads.csv\", low_memory=False)\n",
    "    data = dtype_mapping(data)\n",
    "    data.head(10)\n",
    "\n",
    "    X = data.iloc[:, 1:]\n",
    "    y = data[\"Price\"]\n",
    "\n",
    "    X_train, X_test, y_train, y_test = train_test_split(X, y, test_size=0.3, random_state=42)\n",
    "\n",
    "    model.fit(X_train, y_train)\n",
    "\n",
    "    y_pred_regression = model.predict(X_test)\n",
    "\n",
    "    intervals = generate_price_intervals(y.min(), y.max(), interval_func)\n",
    "\n",
    "    y_pred_class = classify(pd.Series(y_pred_regression), intervals)\n",
    "    y_test_class = classify(pd.Series(y_test), intervals)\n",
    "\n",
    "    y_test_class, intervals = class_reduction(pd.Series(y_test_class), intervals)\n",
    "    y_pred_class, _ = class_reduction(pd.Series(y_pred_class), intervals)\n",
    "\n",
    "    metrics = evaluate_classification(\n",
    "        np.array(y_pred_class), np.array(y_test_class)\n",
    "    )\n",
    "\n",
    "    print(\"Metryki klasyfikacji:\", metrics)"
   ]
  },
  {
   "cell_type": "code",
   "execution_count": 4,
   "metadata": {},
   "outputs": [
    {
     "name": "stdout",
     "output_type": "stream",
     "text": [
      "Metryki klasyfikacji: ClassificationEvaluationResults(accuracy=0.6346764346764346, precision=0.6357625459221087, recall=0.6346764346764346, f1=0.6347910170892275)\n"
     ]
    }
   ],
   "source": [
    "interval_func = lambda x: 10 ** (0.4 * x) + 500 * (x + 1) ** 1.2 + 500 * x ** 0.8\n",
    "cast_regression_to_classification(\"xgboost_regressor\", interval_func)"
   ]
  }
 ],
 "metadata": {
  "kernelspec": {
   "display_name": "venv",
   "language": "python",
   "name": "python3"
  },
  "language_info": {
   "codemirror_mode": {
    "name": "ipython",
    "version": 3
   },
   "file_extension": ".py",
   "mimetype": "text/x-python",
   "name": "python",
   "nbconvert_exporter": "python",
   "pygments_lexer": "ipython3",
   "version": "3.13.0"
  }
 },
 "nbformat": 4,
 "nbformat_minor": 2
}
