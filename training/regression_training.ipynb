{
 "cells": [
  {
   "cell_type": "code",
   "execution_count": 1,
   "metadata": {},
   "outputs": [],
   "source": [
    "import sys\n",
    "import os\n",
    "\n",
    "current_dir = os.getcwd()\n",
    "parent_dir = os.path.abspath(os.path.join(current_dir, os.pardir))\n",
    "sys.path.append(parent_dir)\n",
    "\n",
    "import joblib\n",
    "import pandas as pd\n",
    "import numpy as np\n",
    "from sklearn.model_selection import train_test_split\n",
    "from sklearn.metrics import accuracy_score, precision_score, recall_score, f1_score, roc_auc_score\n",
    "from typing import Callable, List, Tuple\n",
    "\n",
    "from data_processing.dtype_mapping import dtype_mapping\n",
    "from training.training_process import training_process\n",
    "from models.price_evaluator_xgboost_regression import (\n",
    "    PriceRegressorXGBoostModel,\n",
    "    PriceRegressorXGBoostModelHyperparams\n",
    ")\n",
    "from evaluation.evaluate_classification import evaluate_classification\n",
    "\n",
    "from utils.classify import classify\n",
    "from utils.classification_range_generator import generate_price_intervals\n",
    "from utils.class_reduction import class_reduction\n"
   ]
  },
  {
   "cell_type": "code",
   "execution_count": 2,
   "metadata": {},
   "outputs": [
    {
     "name": "stdout",
     "output_type": "stream",
     "text": [
      "Eval for PriceRegressorXGBoostModelHyperparams(learning_rate=0.24099746618946757, reg_alpha=1.8343478986616382, reg_lambda=7.796910002727695, max_depth=np.int64(10), n_estimators=np.int64(251), min_child_weight=np.int64(2), gamma=2.296244459829336, subsample=0.666854305569511, colsample_bytree=0.5714334089609704, max_delta_step=6.50888472948853, colsample_bynode=0.5282057895135501, colsample_bylevel=0.8609993861334124, objective='reg:tweedie')\n",
      "Actual score: RegressionEvaluationResults(mae=7804.54296875, mse=360353696.0, rmse=np.float64(18982.984380755308), r2=0.9306839108467102, mape=np.float64(17.343592465605642))\n",
      "Best score: RegressionEvaluationResults(mae=7804.54296875, mse=360353696.0, rmse=np.float64(18982.984380755308), r2=0.9306839108467102, mape=np.float64(17.343592465605642))\n",
      "Best score hyperparams: PriceRegressorXGBoostModelHyperparams(learning_rate=0.24099746618946757, reg_alpha=1.8343478986616382, reg_lambda=7.796910002727695, max_depth=np.int64(10), n_estimators=np.int64(251), min_child_weight=np.int64(2), gamma=2.296244459829336, subsample=0.666854305569511, colsample_bytree=0.5714334089609704, max_delta_step=6.50888472948853, colsample_bynode=0.5282057895135501, colsample_bylevel=0.8609993861334124, objective='reg:tweedie')\n",
      "Eval for PriceRegressorXGBoostModelHyperparams(learning_rate=0.010225842093894155, reg_alpha=9.922115592912178, reg_lambda=6.174815096277166, max_depth=np.int64(10), n_estimators=np.int64(53), min_child_weight=np.int64(1), gamma=2.623873301291946, subsample=0.6999304858576278, colsample_bytree=0.5233328316068078, max_delta_step=9.737555188414595, colsample_bynode=0.6163856702151521, colsample_bylevel=0.5453032172664104, objective='reg:gamma')\n",
      "Actual score: RegressionEvaluationResults(mae=59915.9609375, mse=8788625408.0, rmse=np.float64(93747.66881368305), r2=-0.6905422210693359, mape=np.float64(99.97782544819687))\n",
      "Best score: RegressionEvaluationResults(mae=7804.54296875, mse=360353696.0, rmse=np.float64(18982.984380755308), r2=0.9306839108467102, mape=np.float64(17.343592465605642))\n",
      "Best score hyperparams: PriceRegressorXGBoostModelHyperparams(learning_rate=0.24099746618946757, reg_alpha=1.8343478986616382, reg_lambda=7.796910002727695, max_depth=np.int64(10), n_estimators=np.int64(251), min_child_weight=np.int64(2), gamma=2.296244459829336, subsample=0.666854305569511, colsample_bytree=0.5714334089609704, max_delta_step=6.50888472948853, colsample_bynode=0.5282057895135501, colsample_bylevel=0.8609993861334124, objective='reg:tweedie')\n",
      "Eval for PriceRegressorXGBoostModelHyperparams(learning_rate=0.12091397746747722, reg_alpha=9.832308858067885, reg_lambda=4.667628932479801, max_depth=np.int64(13), n_estimators=np.int64(356), min_child_weight=np.int64(5), gamma=0.06632480579933266, subsample=0.9711008778424265, colsample_bytree=0.7816441089227697, max_delta_step=3.854165025399162, colsample_bynode=0.5079831261101071, colsample_bylevel=0.6154469128110746, objective='reg:squarederror')\n",
      "Actual score: RegressionEvaluationResults(mae=46708.4375, mse=5184116224.0, rmse=np.float64(72000.80710658735), r2=0.002805650234222412, mape=np.float64(210.3949943251831))\n",
      "Best score: RegressionEvaluationResults(mae=7804.54296875, mse=360353696.0, rmse=np.float64(18982.984380755308), r2=0.9306839108467102, mape=np.float64(17.343592465605642))\n",
      "Best score hyperparams: PriceRegressorXGBoostModelHyperparams(learning_rate=0.24099746618946757, reg_alpha=1.8343478986616382, reg_lambda=7.796910002727695, max_depth=np.int64(10), n_estimators=np.int64(251), min_child_weight=np.int64(2), gamma=2.296244459829336, subsample=0.666854305569511, colsample_bytree=0.5714334089609704, max_delta_step=6.50888472948853, colsample_bynode=0.5282057895135501, colsample_bylevel=0.8609993861334124, objective='reg:tweedie')\n",
      "Eval for PriceRegressorXGBoostModelHyperparams(learning_rate=0.20814642045938292, reg_alpha=6.09996657782621, reg_lambda=8.331949117361646, max_depth=np.int64(5), n_estimators=np.int64(226), min_child_weight=np.int64(3), gamma=3.7768070515882632, subsample=0.7125779372456225, colsample_bytree=0.6039708314340945, max_delta_step=5.677003278199916, colsample_bynode=0.5156566462277793, colsample_bylevel=0.9211423872974993, objective='reg:squaredlogerror')\n",
      "Actual score: RegressionEvaluationResults(mae=59656.47265625, mse=8757597184.0, rmse=np.float64(93582.03451517818), r2=-0.684573769569397, mape=np.float64(98.74660943843017))\n",
      "Best score: RegressionEvaluationResults(mae=7804.54296875, mse=360353696.0, rmse=np.float64(18982.984380755308), r2=0.9306839108467102, mape=np.float64(17.343592465605642))\n",
      "Best score hyperparams: PriceRegressorXGBoostModelHyperparams(learning_rate=0.24099746618946757, reg_alpha=1.8343478986616382, reg_lambda=7.796910002727695, max_depth=np.int64(10), n_estimators=np.int64(251), min_child_weight=np.int64(2), gamma=2.296244459829336, subsample=0.666854305569511, colsample_bytree=0.5714334089609704, max_delta_step=6.50888472948853, colsample_bynode=0.5282057895135501, colsample_bylevel=0.8609993861334124, objective='reg:tweedie')\n",
      "Eval for PriceRegressorXGBoostModelHyperparams(learning_rate=0.1245935684405262, reg_alpha=9.266588657937945, reg_lambda=7.27271995856421, max_depth=np.int64(7), n_estimators=np.int64(307), min_child_weight=np.int64(6), gamma=4.805860121746747, subsample=0.9222669243390758, colsample_bytree=0.8736600550686905, max_delta_step=5.3969213238907985, colsample_bynode=0.7933755828319242, colsample_bylevel=0.982627653632069, objective='reg:gamma')\n",
      "Actual score: RegressionEvaluationResults(mae=8441.513671875, mse=385941376.0, rmse=np.float64(19645.390706219107), r2=0.9257619976997375, mape=np.float64(18.477873134620182))\n",
      "Best score: RegressionEvaluationResults(mae=7804.54296875, mse=360353696.0, rmse=np.float64(18982.984380755308), r2=0.9306839108467102, mape=np.float64(17.343592465605642))\n",
      "Best score hyperparams: PriceRegressorXGBoostModelHyperparams(learning_rate=0.24099746618946757, reg_alpha=1.8343478986616382, reg_lambda=7.796910002727695, max_depth=np.int64(10), n_estimators=np.int64(251), min_child_weight=np.int64(2), gamma=2.296244459829336, subsample=0.666854305569511, colsample_bytree=0.5714334089609704, max_delta_step=6.50888472948853, colsample_bynode=0.5282057895135501, colsample_bylevel=0.8609993861334124, objective='reg:tweedie')\n",
      "Eval for PriceRegressorXGBoostModelHyperparams(learning_rate=0.09003976278653758, reg_alpha=2.9627350570408244, reg_lambda=1.6526693906300252, max_depth=np.int64(3), n_estimators=np.int64(241), min_child_weight=np.int64(5), gamma=1.467440873590191, subsample=0.5070399113575422, colsample_bytree=0.5994212020444026, max_delta_step=7.113419527486501, colsample_bynode=0.8950877702656029, colsample_bylevel=0.8029799873905057, objective='reg:tweedie')\n",
      "Actual score: RegressionEvaluationResults(mae=9123.640625, mse=383109536.0, rmse=np.float64(19573.1841047899), r2=0.9263067245483398, mape=np.float64(21.19550547514487))\n",
      "Best score: RegressionEvaluationResults(mae=7804.54296875, mse=360353696.0, rmse=np.float64(18982.984380755308), r2=0.9306839108467102, mape=np.float64(17.343592465605642))\n",
      "Best score hyperparams: PriceRegressorXGBoostModelHyperparams(learning_rate=0.24099746618946757, reg_alpha=1.8343478986616382, reg_lambda=7.796910002727695, max_depth=np.int64(10), n_estimators=np.int64(251), min_child_weight=np.int64(2), gamma=2.296244459829336, subsample=0.666854305569511, colsample_bytree=0.5714334089609704, max_delta_step=6.50888472948853, colsample_bynode=0.5282057895135501, colsample_bylevel=0.8609993861334124, objective='reg:tweedie')\n",
      "Eval for PriceRegressorXGBoostModelHyperparams(learning_rate=0.19881233739556392, reg_alpha=9.149596755437809, reg_lambda=8.500385777897995, max_depth=np.int64(8), n_estimators=np.int64(93), min_child_weight=np.int64(4), gamma=3.344206263318037, subsample=0.8329611783087484, colsample_bytree=0.7956488938538636, max_delta_step=2.7472179299006423, colsample_bynode=0.7806217129238506, colsample_bylevel=0.691463437376895, objective='reg:tweedie')\n",
      "Actual score: RegressionEvaluationResults(mae=7668.91064453125, mse=365499392.0, rmse=np.float64(19118.038393098806), r2=0.9296941161155701, mape=np.float64(17.056629745847175))\n",
      "Best score: RegressionEvaluationResults(mae=7804.54296875, mse=360353696.0, rmse=np.float64(18982.984380755308), r2=0.9306839108467102, mape=np.float64(17.343592465605642))\n",
      "Best score hyperparams: PriceRegressorXGBoostModelHyperparams(learning_rate=0.24099746618946757, reg_alpha=1.8343478986616382, reg_lambda=7.796910002727695, max_depth=np.int64(10), n_estimators=np.int64(251), min_child_weight=np.int64(2), gamma=2.296244459829336, subsample=0.666854305569511, colsample_bytree=0.5714334089609704, max_delta_step=6.50888472948853, colsample_bynode=0.5282057895135501, colsample_bylevel=0.8609993861334124, objective='reg:tweedie')\n",
      "Eval for PriceRegressorXGBoostModelHyperparams(learning_rate=0.25618500903716435, reg_alpha=7.217295211648733, reg_lambda=2.359849197489558, max_depth=np.int64(6), n_estimators=np.int64(68), min_child_weight=np.int64(7), gamma=0.5544541040591567, subsample=0.7196682509328851, colsample_bytree=0.6008596011676981, max_delta_step=8.957635956735196, colsample_bynode=0.7376851115910559, colsample_bylevel=0.7816377859881919, objective='reg:gamma')\n",
      "Actual score: RegressionEvaluationResults(mae=8506.0068359375, mse=371031776.0, rmse=np.float64(19262.185130457034), r2=0.9286299347877502, mape=np.float64(18.859736651365793))\n",
      "Best score: RegressionEvaluationResults(mae=7804.54296875, mse=360353696.0, rmse=np.float64(18982.984380755308), r2=0.9306839108467102, mape=np.float64(17.343592465605642))\n",
      "Best score hyperparams: PriceRegressorXGBoostModelHyperparams(learning_rate=0.24099746618946757, reg_alpha=1.8343478986616382, reg_lambda=7.796910002727695, max_depth=np.int64(10), n_estimators=np.int64(251), min_child_weight=np.int64(2), gamma=2.296244459829336, subsample=0.666854305569511, colsample_bytree=0.5714334089609704, max_delta_step=6.50888472948853, colsample_bynode=0.5282057895135501, colsample_bylevel=0.8609993861334124, objective='reg:tweedie')\n",
      "Eval for PriceRegressorXGBoostModelHyperparams(learning_rate=0.050406121777703955, reg_alpha=6.044173792778174, reg_lambda=5.398410913016733, max_depth=np.int64(5), n_estimators=np.int64(474), min_child_weight=np.int64(6), gamma=3.473924665198523, subsample=0.940233919507629, colsample_bytree=0.8121770240668966, max_delta_step=2.9563368583771403, colsample_bynode=0.5527471299151353, colsample_bylevel=0.7282672852414551, objective='reg:squarederror')\n",
      "Actual score: RegressionEvaluationResults(mae=46788.1171875, mse=5192556032.0, rmse=np.float64(72059.39239266454), r2=0.0011821985244750977, mape=np.float64(210.81304402850924))\n",
      "Best score: RegressionEvaluationResults(mae=7804.54296875, mse=360353696.0, rmse=np.float64(18982.984380755308), r2=0.9306839108467102, mape=np.float64(17.343592465605642))\n",
      "Best score hyperparams: PriceRegressorXGBoostModelHyperparams(learning_rate=0.24099746618946757, reg_alpha=1.8343478986616382, reg_lambda=7.796910002727695, max_depth=np.int64(10), n_estimators=np.int64(251), min_child_weight=np.int64(2), gamma=2.296244459829336, subsample=0.666854305569511, colsample_bytree=0.5714334089609704, max_delta_step=6.50888472948853, colsample_bynode=0.5282057895135501, colsample_bylevel=0.8609993861334124, objective='reg:tweedie')\n",
      "Eval for PriceRegressorXGBoostModelHyperparams(learning_rate=0.13078788488240622, reg_alpha=8.832802589188685, reg_lambda=3.2434502100527403, max_depth=np.int64(4), n_estimators=np.int64(210), min_child_weight=np.int64(9), gamma=1.360661246923177, subsample=0.8238450602706813, colsample_bytree=0.500260188497658, max_delta_step=3.525688563341691, colsample_bynode=0.6523906290790146, colsample_bylevel=0.5823279265714709, objective='reg:gamma')\n",
      "Actual score: RegressionEvaluationResults(mae=8747.8828125, mse=380292544.0, rmse=np.float64(19501.090841283727), r2=0.9268485307693481, mape=np.float64(19.4467039963695))\n",
      "Best score: RegressionEvaluationResults(mae=7804.54296875, mse=360353696.0, rmse=np.float64(18982.984380755308), r2=0.9306839108467102, mape=np.float64(17.343592465605642))\n",
      "Best score hyperparams: PriceRegressorXGBoostModelHyperparams(learning_rate=0.24099746618946757, reg_alpha=1.8343478986616382, reg_lambda=7.796910002727695, max_depth=np.int64(10), n_estimators=np.int64(251), min_child_weight=np.int64(2), gamma=2.296244459829336, subsample=0.666854305569511, colsample_bytree=0.5714334089609704, max_delta_step=6.50888472948853, colsample_bynode=0.5282057895135501, colsample_bylevel=0.8609993861334124, objective='reg:tweedie')\n",
      "PriceRegressorXGBoostModelHyperparams(learning_rate=0.24099746618946757, reg_alpha=1.8343478986616382, reg_lambda=7.796910002727695, max_depth=np.int64(10), n_estimators=np.int64(251), min_child_weight=np.int64(2), gamma=2.296244459829336, subsample=0.666854305569511, colsample_bytree=0.5714334089609704, max_delta_step=6.50888472948853, colsample_bynode=0.5282057895135501, colsample_bylevel=0.8609993861334124, objective='reg:tweedie')\n",
      "RegressionEvaluationResults(mae=7804.54296875, mse=360353696.0, rmse=np.float64(18982.984380755308), r2=0.9306839108467102, mape=np.float64(17.343592465605642))\n"
     ]
    },
    {
     "data": {
      "application/vnd.plotly.v1+json": {
       "config": {
        "plotlyServerURL": "https://plot.ly"
       },
       "data": [
        {
         "orientation": "h",
         "type": "bar",
         "x": [
          330,
          557,
          857,
          1114,
          1195,
          1387,
          2755,
          3270,
          3983,
          4133,
          4526,
          4913,
          5429,
          5556,
          7193,
          7667,
          9004
         ],
         "y": [
          "Condition",
          "Transmission",
          "First_owner",
          "Doors_number",
          "Fuel_type",
          "Drive",
          "Type",
          "Displacement_cm3",
          "Vehicle_brand",
          "Power_HP",
          "Production_year",
          "Colour",
          "Feature_score",
          "Vehicle_generation",
          "Vehicle_model",
          "Mileage_km",
          "Advanced_model"
         ]
        }
       ],
       "layout": {
        "template": {
         "data": {
          "bar": [
           {
            "error_x": {
             "color": "#2a3f5f"
            },
            "error_y": {
             "color": "#2a3f5f"
            },
            "marker": {
             "line": {
              "color": "#E5ECF6",
              "width": 0.5
             },
             "pattern": {
              "fillmode": "overlay",
              "size": 10,
              "solidity": 0.2
             }
            },
            "type": "bar"
           }
          ],
          "barpolar": [
           {
            "marker": {
             "line": {
              "color": "#E5ECF6",
              "width": 0.5
             },
             "pattern": {
              "fillmode": "overlay",
              "size": 10,
              "solidity": 0.2
             }
            },
            "type": "barpolar"
           }
          ],
          "carpet": [
           {
            "aaxis": {
             "endlinecolor": "#2a3f5f",
             "gridcolor": "white",
             "linecolor": "white",
             "minorgridcolor": "white",
             "startlinecolor": "#2a3f5f"
            },
            "baxis": {
             "endlinecolor": "#2a3f5f",
             "gridcolor": "white",
             "linecolor": "white",
             "minorgridcolor": "white",
             "startlinecolor": "#2a3f5f"
            },
            "type": "carpet"
           }
          ],
          "choropleth": [
           {
            "colorbar": {
             "outlinewidth": 0,
             "ticks": ""
            },
            "type": "choropleth"
           }
          ],
          "contour": [
           {
            "colorbar": {
             "outlinewidth": 0,
             "ticks": ""
            },
            "colorscale": [
             [
              0,
              "#0d0887"
             ],
             [
              0.1111111111111111,
              "#46039f"
             ],
             [
              0.2222222222222222,
              "#7201a8"
             ],
             [
              0.3333333333333333,
              "#9c179e"
             ],
             [
              0.4444444444444444,
              "#bd3786"
             ],
             [
              0.5555555555555556,
              "#d8576b"
             ],
             [
              0.6666666666666666,
              "#ed7953"
             ],
             [
              0.7777777777777778,
              "#fb9f3a"
             ],
             [
              0.8888888888888888,
              "#fdca26"
             ],
             [
              1,
              "#f0f921"
             ]
            ],
            "type": "contour"
           }
          ],
          "contourcarpet": [
           {
            "colorbar": {
             "outlinewidth": 0,
             "ticks": ""
            },
            "type": "contourcarpet"
           }
          ],
          "heatmap": [
           {
            "colorbar": {
             "outlinewidth": 0,
             "ticks": ""
            },
            "colorscale": [
             [
              0,
              "#0d0887"
             ],
             [
              0.1111111111111111,
              "#46039f"
             ],
             [
              0.2222222222222222,
              "#7201a8"
             ],
             [
              0.3333333333333333,
              "#9c179e"
             ],
             [
              0.4444444444444444,
              "#bd3786"
             ],
             [
              0.5555555555555556,
              "#d8576b"
             ],
             [
              0.6666666666666666,
              "#ed7953"
             ],
             [
              0.7777777777777778,
              "#fb9f3a"
             ],
             [
              0.8888888888888888,
              "#fdca26"
             ],
             [
              1,
              "#f0f921"
             ]
            ],
            "type": "heatmap"
           }
          ],
          "heatmapgl": [
           {
            "colorbar": {
             "outlinewidth": 0,
             "ticks": ""
            },
            "colorscale": [
             [
              0,
              "#0d0887"
             ],
             [
              0.1111111111111111,
              "#46039f"
             ],
             [
              0.2222222222222222,
              "#7201a8"
             ],
             [
              0.3333333333333333,
              "#9c179e"
             ],
             [
              0.4444444444444444,
              "#bd3786"
             ],
             [
              0.5555555555555556,
              "#d8576b"
             ],
             [
              0.6666666666666666,
              "#ed7953"
             ],
             [
              0.7777777777777778,
              "#fb9f3a"
             ],
             [
              0.8888888888888888,
              "#fdca26"
             ],
             [
              1,
              "#f0f921"
             ]
            ],
            "type": "heatmapgl"
           }
          ],
          "histogram": [
           {
            "marker": {
             "pattern": {
              "fillmode": "overlay",
              "size": 10,
              "solidity": 0.2
             }
            },
            "type": "histogram"
           }
          ],
          "histogram2d": [
           {
            "colorbar": {
             "outlinewidth": 0,
             "ticks": ""
            },
            "colorscale": [
             [
              0,
              "#0d0887"
             ],
             [
              0.1111111111111111,
              "#46039f"
             ],
             [
              0.2222222222222222,
              "#7201a8"
             ],
             [
              0.3333333333333333,
              "#9c179e"
             ],
             [
              0.4444444444444444,
              "#bd3786"
             ],
             [
              0.5555555555555556,
              "#d8576b"
             ],
             [
              0.6666666666666666,
              "#ed7953"
             ],
             [
              0.7777777777777778,
              "#fb9f3a"
             ],
             [
              0.8888888888888888,
              "#fdca26"
             ],
             [
              1,
              "#f0f921"
             ]
            ],
            "type": "histogram2d"
           }
          ],
          "histogram2dcontour": [
           {
            "colorbar": {
             "outlinewidth": 0,
             "ticks": ""
            },
            "colorscale": [
             [
              0,
              "#0d0887"
             ],
             [
              0.1111111111111111,
              "#46039f"
             ],
             [
              0.2222222222222222,
              "#7201a8"
             ],
             [
              0.3333333333333333,
              "#9c179e"
             ],
             [
              0.4444444444444444,
              "#bd3786"
             ],
             [
              0.5555555555555556,
              "#d8576b"
             ],
             [
              0.6666666666666666,
              "#ed7953"
             ],
             [
              0.7777777777777778,
              "#fb9f3a"
             ],
             [
              0.8888888888888888,
              "#fdca26"
             ],
             [
              1,
              "#f0f921"
             ]
            ],
            "type": "histogram2dcontour"
           }
          ],
          "mesh3d": [
           {
            "colorbar": {
             "outlinewidth": 0,
             "ticks": ""
            },
            "type": "mesh3d"
           }
          ],
          "parcoords": [
           {
            "line": {
             "colorbar": {
              "outlinewidth": 0,
              "ticks": ""
             }
            },
            "type": "parcoords"
           }
          ],
          "pie": [
           {
            "automargin": true,
            "type": "pie"
           }
          ],
          "scatter": [
           {
            "fillpattern": {
             "fillmode": "overlay",
             "size": 10,
             "solidity": 0.2
            },
            "type": "scatter"
           }
          ],
          "scatter3d": [
           {
            "line": {
             "colorbar": {
              "outlinewidth": 0,
              "ticks": ""
             }
            },
            "marker": {
             "colorbar": {
              "outlinewidth": 0,
              "ticks": ""
             }
            },
            "type": "scatter3d"
           }
          ],
          "scattercarpet": [
           {
            "marker": {
             "colorbar": {
              "outlinewidth": 0,
              "ticks": ""
             }
            },
            "type": "scattercarpet"
           }
          ],
          "scattergeo": [
           {
            "marker": {
             "colorbar": {
              "outlinewidth": 0,
              "ticks": ""
             }
            },
            "type": "scattergeo"
           }
          ],
          "scattergl": [
           {
            "marker": {
             "colorbar": {
              "outlinewidth": 0,
              "ticks": ""
             }
            },
            "type": "scattergl"
           }
          ],
          "scattermapbox": [
           {
            "marker": {
             "colorbar": {
              "outlinewidth": 0,
              "ticks": ""
             }
            },
            "type": "scattermapbox"
           }
          ],
          "scatterpolar": [
           {
            "marker": {
             "colorbar": {
              "outlinewidth": 0,
              "ticks": ""
             }
            },
            "type": "scatterpolar"
           }
          ],
          "scatterpolargl": [
           {
            "marker": {
             "colorbar": {
              "outlinewidth": 0,
              "ticks": ""
             }
            },
            "type": "scatterpolargl"
           }
          ],
          "scatterternary": [
           {
            "marker": {
             "colorbar": {
              "outlinewidth": 0,
              "ticks": ""
             }
            },
            "type": "scatterternary"
           }
          ],
          "surface": [
           {
            "colorbar": {
             "outlinewidth": 0,
             "ticks": ""
            },
            "colorscale": [
             [
              0,
              "#0d0887"
             ],
             [
              0.1111111111111111,
              "#46039f"
             ],
             [
              0.2222222222222222,
              "#7201a8"
             ],
             [
              0.3333333333333333,
              "#9c179e"
             ],
             [
              0.4444444444444444,
              "#bd3786"
             ],
             [
              0.5555555555555556,
              "#d8576b"
             ],
             [
              0.6666666666666666,
              "#ed7953"
             ],
             [
              0.7777777777777778,
              "#fb9f3a"
             ],
             [
              0.8888888888888888,
              "#fdca26"
             ],
             [
              1,
              "#f0f921"
             ]
            ],
            "type": "surface"
           }
          ],
          "table": [
           {
            "cells": {
             "fill": {
              "color": "#EBF0F8"
             },
             "line": {
              "color": "white"
             }
            },
            "header": {
             "fill": {
              "color": "#C8D4E3"
             },
             "line": {
              "color": "white"
             }
            },
            "type": "table"
           }
          ]
         },
         "layout": {
          "annotationdefaults": {
           "arrowcolor": "#2a3f5f",
           "arrowhead": 0,
           "arrowwidth": 1
          },
          "autotypenumbers": "strict",
          "coloraxis": {
           "colorbar": {
            "outlinewidth": 0,
            "ticks": ""
           }
          },
          "colorscale": {
           "diverging": [
            [
             0,
             "#8e0152"
            ],
            [
             0.1,
             "#c51b7d"
            ],
            [
             0.2,
             "#de77ae"
            ],
            [
             0.3,
             "#f1b6da"
            ],
            [
             0.4,
             "#fde0ef"
            ],
            [
             0.5,
             "#f7f7f7"
            ],
            [
             0.6,
             "#e6f5d0"
            ],
            [
             0.7,
             "#b8e186"
            ],
            [
             0.8,
             "#7fbc41"
            ],
            [
             0.9,
             "#4d9221"
            ],
            [
             1,
             "#276419"
            ]
           ],
           "sequential": [
            [
             0,
             "#0d0887"
            ],
            [
             0.1111111111111111,
             "#46039f"
            ],
            [
             0.2222222222222222,
             "#7201a8"
            ],
            [
             0.3333333333333333,
             "#9c179e"
            ],
            [
             0.4444444444444444,
             "#bd3786"
            ],
            [
             0.5555555555555556,
             "#d8576b"
            ],
            [
             0.6666666666666666,
             "#ed7953"
            ],
            [
             0.7777777777777778,
             "#fb9f3a"
            ],
            [
             0.8888888888888888,
             "#fdca26"
            ],
            [
             1,
             "#f0f921"
            ]
           ],
           "sequentialminus": [
            [
             0,
             "#0d0887"
            ],
            [
             0.1111111111111111,
             "#46039f"
            ],
            [
             0.2222222222222222,
             "#7201a8"
            ],
            [
             0.3333333333333333,
             "#9c179e"
            ],
            [
             0.4444444444444444,
             "#bd3786"
            ],
            [
             0.5555555555555556,
             "#d8576b"
            ],
            [
             0.6666666666666666,
             "#ed7953"
            ],
            [
             0.7777777777777778,
             "#fb9f3a"
            ],
            [
             0.8888888888888888,
             "#fdca26"
            ],
            [
             1,
             "#f0f921"
            ]
           ]
          },
          "colorway": [
           "#636efa",
           "#EF553B",
           "#00cc96",
           "#ab63fa",
           "#FFA15A",
           "#19d3f3",
           "#FF6692",
           "#B6E880",
           "#FF97FF",
           "#FECB52"
          ],
          "font": {
           "color": "#2a3f5f"
          },
          "geo": {
           "bgcolor": "white",
           "lakecolor": "white",
           "landcolor": "#E5ECF6",
           "showlakes": true,
           "showland": true,
           "subunitcolor": "white"
          },
          "hoverlabel": {
           "align": "left"
          },
          "hovermode": "closest",
          "mapbox": {
           "style": "light"
          },
          "paper_bgcolor": "white",
          "plot_bgcolor": "#E5ECF6",
          "polar": {
           "angularaxis": {
            "gridcolor": "white",
            "linecolor": "white",
            "ticks": ""
           },
           "bgcolor": "#E5ECF6",
           "radialaxis": {
            "gridcolor": "white",
            "linecolor": "white",
            "ticks": ""
           }
          },
          "scene": {
           "xaxis": {
            "backgroundcolor": "#E5ECF6",
            "gridcolor": "white",
            "gridwidth": 2,
            "linecolor": "white",
            "showbackground": true,
            "ticks": "",
            "zerolinecolor": "white"
           },
           "yaxis": {
            "backgroundcolor": "#E5ECF6",
            "gridcolor": "white",
            "gridwidth": 2,
            "linecolor": "white",
            "showbackground": true,
            "ticks": "",
            "zerolinecolor": "white"
           },
           "zaxis": {
            "backgroundcolor": "#E5ECF6",
            "gridcolor": "white",
            "gridwidth": 2,
            "linecolor": "white",
            "showbackground": true,
            "ticks": "",
            "zerolinecolor": "white"
           }
          },
          "shapedefaults": {
           "line": {
            "color": "#2a3f5f"
           }
          },
          "ternary": {
           "aaxis": {
            "gridcolor": "white",
            "linecolor": "white",
            "ticks": ""
           },
           "baxis": {
            "gridcolor": "white",
            "linecolor": "white",
            "ticks": ""
           },
           "bgcolor": "#E5ECF6",
           "caxis": {
            "gridcolor": "white",
            "linecolor": "white",
            "ticks": ""
           }
          },
          "title": {
           "x": 0.05
          },
          "xaxis": {
           "automargin": true,
           "gridcolor": "white",
           "linecolor": "white",
           "ticks": "",
           "title": {
            "standoff": 15
           },
           "zerolinecolor": "white",
           "zerolinewidth": 2
          },
          "yaxis": {
           "automargin": true,
           "gridcolor": "white",
           "linecolor": "white",
           "ticks": "",
           "title": {
            "standoff": 15
           },
           "zerolinecolor": "white",
           "zerolinewidth": 2
          }
         }
        },
        "xaxis": {
         "title": {
          "text": "Weight"
         }
        },
        "yaxis": {
         "title": {
          "text": "Feature Name"
         }
        }
       }
      }
     },
     "metadata": {},
     "output_type": "display_data"
    },
    {
     "name": "stdout",
     "output_type": "stream",
     "text": [
      "None\n"
     ]
    }
   ],
   "source": [
    "training_process(\n",
    "    model_name=\"xgboost_regressor\",\n",
    "    model_class=PriceRegressorXGBoostModel,\n",
    "    hyperparameters_class=PriceRegressorXGBoostModelHyperparams,\n",
    "    max_iters=10,\n",
    "    gpu_mode=False,\n",
    ")"
   ]
  },
  {
   "cell_type": "code",
   "execution_count": 3,
   "metadata": {},
   "outputs": [],
   "source": [
    "from utils.export_model import load_model\n",
    "\n",
    "\n",
    "def cast_regression_to_classification(model_path: str, interval_func):\n",
    "    model = load_model(model_path)\n",
    "\n",
    "    data = pd.read_csv(\"../data/processed_car_sale_ads.csv\", low_memory=False)\n",
    "    data = dtype_mapping(data)\n",
    "    data.head(10)\n",
    "\n",
    "    X = data.iloc[:, 1:]\n",
    "    y = data[\"Price\"]\n",
    "\n",
    "    X_train, X_test, y_train, y_test = train_test_split(X, y, test_size=0.3, random_state=42)\n",
    "\n",
    "    model.fit(X_train, y_train)\n",
    "\n",
    "    y_pred_regression = model.predict(X_test)\n",
    "\n",
    "    intervals = generate_price_intervals(y.min(), y.max(), interval_func)\n",
    "\n",
    "    y_pred_class = classify(pd.Series(y_pred_regression), intervals)\n",
    "    y_test_class = classify(pd.Series(y_test), intervals)\n",
    "\n",
    "    y_test_class, intervals = class_reduction(pd.Series(y_test_class), intervals)\n",
    "    y_pred_class, _ = class_reduction(pd.Series(y_pred_class), intervals)\n",
    "\n",
    "    metrics = evaluate_classification(\n",
    "        np.array(y_pred_class), np.array(y_test_class)\n",
    "    )\n",
    "\n",
    "    print(\"Metryki klasyfikacji:\", metrics)"
   ]
  },
  {
   "cell_type": "code",
   "execution_count": 4,
   "metadata": {},
   "outputs": [
    {
     "name": "stdout",
     "output_type": "stream",
     "text": [
      "Metryki klasyfikacji: ClassificationEvaluationResults(accuracy=0.6346764346764346, precision=0.6357625459221087, recall=0.6346764346764346, f1=0.6347910170892275)\n"
     ]
    }
   ],
   "source": [
    "interval_func = lambda x: 10 ** (0.4 * x) + 500 * (x + 1) ** 1.2 + 500 * x ** 0.8\n",
    "cast_regression_to_classification(\"xgboost_regressor\", interval_func)"
   ]
  }
 ],
 "metadata": {
  "kernelspec": {
   "display_name": "venv",
   "language": "python",
   "name": "python3"
  },
  "language_info": {
   "codemirror_mode": {
    "name": "ipython",
    "version": 3
   },
   "file_extension": ".py",
   "mimetype": "text/x-python",
   "name": "python",
   "nbconvert_exporter": "python",
   "pygments_lexer": "ipython3",
   "version": "3.13.0"
  }
 },
 "nbformat": 4,
 "nbformat_minor": 2
}
