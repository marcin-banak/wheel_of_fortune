{
 "cells": [
  {
   "cell_type": "code",
   "execution_count": null,
   "metadata": {},
   "outputs": [],
   "source": [
    "import sys\n",
    "import os\n",
    "\n",
    "current_dir = os.getcwd()\n",
    "parent_dir = os.path.abspath(os.path.join(current_dir, os.pardir))\n",
    "sys.path.append(parent_dir)\n",
    "\n",
    "import joblib\n",
    "import pandas as pd\n",
    "import numpy as np\n",
    "from sklearn.model_selection import train_test_split\n",
    "from sklearn.metrics import accuracy_score, precision_score, recall_score, f1_score, roc_auc_score\n",
    "from typing import Callable, List, Tuple\n",
    "\n",
    "from data_processing.dtype_mapping import dtype_mapping\n",
    "from training.training_process import training_process\n",
    "from models.price_evaluator_xgboost_regression import (\n",
    "    PriceRegressorXGBoostModel,\n",
    "    PriceRegressorXGBoostModelHyperparams\n",
    ")\n",
    "from evaluation.evaluate_classification import evaluate_classification\n",
    "\n",
    "from utils.classify import classify\n",
    "from utils.classification_range_generator import generate_price_intervals\n",
    "from utils.class_reduction import class_reduction\n"
   ]
  },
  {
   "cell_type": "code",
   "execution_count": null,
   "metadata": {},
   "outputs": [],
   "source": [
    "training_process(\n",
    "    model_name=\"xgboost_regressor\",\n",
    "    model_class=PriceRegressorXGBoostModel,\n",
    "    hyperparameters_class=PriceRegressorXGBoostModelHyperparams,\n",
    "    max_iters=50,\n",
    "    gpu_mode=True,\n",
    ")"
   ]
  },
  {
   "cell_type": "code",
   "execution_count": null,
   "metadata": {},
   "outputs": [],
   "source": [
    "def cast_regression_to_classification(model_path: str, dataset_path: str, interval_func):\n",
    "    model = joblib.load(model_path)\n",
    "\n",
    "    data = pd.read_csv(\"../data/processed_car_sale_ads.csv\", low_memory=False)\n",
    "    data = dtype_mapping(data)\n",
    "    data.head(10)\n",
    "\n",
    "    X = data.iloc[:, 1:]\n",
    "    y = data[\"Price\"]\n",
    "\n",
    "    X_train, X_test, y_train, y_test = train_test_split(X, y, test_size=0.3, random_state=42)\n",
    "\n",
    "    model.fit(X_train, y_train)\n",
    "\n",
    "    y_pred_regression = model.predict(X_test)\n",
    "\n",
    "    intervals = generate_price_intervals(y.min(), y.max(), interval_func)\n",
    "\n",
    "    y_pred_class = classify(pd.Series(y_pred_regression), intervals)\n",
    "    y_test_class = classify(pd.Series(y_test), intervals)\n",
    "\n",
    "    y_test_class, intervals = class_reduction(pd.Series(y_test_class), intervals)\n",
    "    y_pred_class, _ = class_reduction(pd.Series(y_pred_class), intervals)\n",
    "\n",
    "    metrics = evaluate_classification(\n",
    "        np.array(y_pred_class), np.array(y_test_class)\n",
    "    )\n",
    "\n",
    "    print(\"Metryki klasyfikacji:\", metrics)"
   ]
  },
  {
   "cell_type": "code",
   "execution_count": null,
   "metadata": {},
   "outputs": [],
   "source": [
    "model_path = \"/path/\"\n",
    "dataset_path = \"/path_dataset/\"\n",
    "interval_func = lambda x: 10 ** (0.4 * x) + 500 * (x + 1) ** 1.2 + 500 * x ** 0.8\n",
    "cast_regression_to_classification(model_path, dataset_path, interval_func)"
   ]
  }
 ],
 "metadata": {
  "language_info": {
   "name": "python"
  }
 },
 "nbformat": 4,
 "nbformat_minor": 2
}
