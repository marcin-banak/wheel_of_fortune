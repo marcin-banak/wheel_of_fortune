{
 "cells": [
  {
   "cell_type": "code",
   "execution_count": 1,
   "metadata": {},
   "outputs": [
    {
     "name": "stdout",
     "output_type": "stream",
     "text": [
      "\n",
      "  Accuracy: 0.9500\n",
      "  Precision: 0.9200\n",
      "  Recall: 0.9300\n",
      "  F1 Score: 0.9250\n",
      "  Mean Classes Error: 0.0500\n",
      "  ROC AUC: 0.9600\n",
      "  Ideal Distance: 0.1394\n"
     ]
    }
   ],
   "source": [
    "import sys\n",
    "import os\n",
    "\n",
    "current_dir = os.getcwd()\n",
    "parent_dir = os.path.abspath(os.path.join(current_dir, os.pardir))\n",
    "sys.path.append(parent_dir)\n",
    "\n",
    "from training.training_process import training_process\n",
    "from models.price_evaluator_xgboost_regression import (\n",
    "    PriceRegressorXGBoostModel,\n",
    "    PriceRegressorXGBoostModelHyperparams\n",
    ")\n",
    "from utils.cast_regression_to_classification import cast_regression_to_classification\n",
    "from evaluation.AbstractEvaluationResults import MetricEnum\n"
   ]
  },
  {
   "cell_type": "code",
   "execution_count": 2,
   "metadata": {},
   "outputs": [
    {
     "name": "stdout",
     "output_type": "stream",
     "text": [
      "Eval for PriceRegressorXGBoostModelHyperparams(learning_rate=0.24099746618946757, reg_alpha=1.8343478986616382, reg_lambda=7.796910002727695, max_depth=np.int64(10), n_estimators=np.int64(251), min_child_weight=np.int64(2), gamma=2.296244459829336, subsample=0.666854305569511, colsample_bytree=0.5714334089609704, max_delta_step=6.50888472948853, colsample_bynode=0.5282057895135501, colsample_bylevel=0.8609993861334124, objective='reg:tweedie')\n",
      "Actual results: 221392945152.0\n",
      "Best hyperparams: PriceRegressorXGBoostModelHyperparams(learning_rate=0.24099746618946757, reg_alpha=1.8343478986616382, reg_lambda=7.796910002727695, max_depth=np.int64(10), n_estimators=np.int64(251), min_child_weight=np.int64(2), gamma=2.296244459829336, subsample=0.666854305569511, colsample_bytree=0.5714334089609704, max_delta_step=6.50888472948853, colsample_bynode=0.5282057895135501, colsample_bylevel=0.8609993861334124, objective='reg:tweedie')\n",
      "Eval for PriceRegressorXGBoostModelHyperparams(learning_rate=0.010225842093894155, reg_alpha=9.922115592912178, reg_lambda=6.174815096277166, max_depth=np.int64(10), n_estimators=np.int64(53), min_child_weight=np.int64(1), gamma=2.623873301291946, subsample=0.6999304858576278, colsample_bytree=0.5233328316068078, max_delta_step=9.737555188414595, colsample_bynode=0.6163856702151521, colsample_bylevel=0.5453032172664104, objective='reg:gamma')\n",
      "Actual results: 8803314688.0\n",
      "Best hyperparams: PriceRegressorXGBoostModelHyperparams(learning_rate=0.010225842093894155, reg_alpha=9.922115592912178, reg_lambda=6.174815096277166, max_depth=np.int64(10), n_estimators=np.int64(53), min_child_weight=np.int64(1), gamma=2.623873301291946, subsample=0.6999304858576278, colsample_bytree=0.5233328316068078, max_delta_step=9.737555188414595, colsample_bynode=0.6163856702151521, colsample_bylevel=0.5453032172664104, objective='reg:gamma')\n",
      "Eval for PriceRegressorXGBoostModelHyperparams(learning_rate=0.12091397746747722, reg_alpha=9.832308858067885, reg_lambda=4.667628932479801, max_depth=np.int64(13), n_estimators=np.int64(356), min_child_weight=np.int64(5), gamma=0.06632480579933266, subsample=0.9711008778424265, colsample_bytree=0.7816441089227697, max_delta_step=3.854165025399162, colsample_bynode=0.5079831261101071, colsample_bylevel=0.6154469128110746, objective='reg:squarederror')\n",
      "Actual results: 5180174336.0\n",
      "Best hyperparams: PriceRegressorXGBoostModelHyperparams(learning_rate=0.12091397746747722, reg_alpha=9.832308858067885, reg_lambda=4.667628932479801, max_depth=np.int64(13), n_estimators=np.int64(356), min_child_weight=np.int64(5), gamma=0.06632480579933266, subsample=0.9711008778424265, colsample_bytree=0.7816441089227697, max_delta_step=3.854165025399162, colsample_bynode=0.5079831261101071, colsample_bylevel=0.6154469128110746, objective='reg:squarederror')\n",
      "Eval for PriceRegressorXGBoostModelHyperparams(learning_rate=0.20814642045938292, reg_alpha=6.09996657782621, reg_lambda=8.331949117361646, max_depth=np.int64(5), n_estimators=np.int64(226), min_child_weight=np.int64(3), gamma=3.7768070515882632, subsample=0.7125779372456225, colsample_bytree=0.6039708314340945, max_delta_step=5.677003278199916, colsample_bynode=0.5156566462277793, colsample_bylevel=0.9211423872974993, objective='reg:squaredlogerror')\n",
      "Actual results: 8772204544.0\n",
      "Best hyperparams: PriceRegressorXGBoostModelHyperparams(learning_rate=0.12091397746747722, reg_alpha=9.832308858067885, reg_lambda=4.667628932479801, max_depth=np.int64(13), n_estimators=np.int64(356), min_child_weight=np.int64(5), gamma=0.06632480579933266, subsample=0.9711008778424265, colsample_bytree=0.7816441089227697, max_delta_step=3.854165025399162, colsample_bynode=0.5079831261101071, colsample_bylevel=0.6154469128110746, objective='reg:squarederror')\n",
      "Eval for PriceRegressorXGBoostModelHyperparams(learning_rate=0.1245935684405262, reg_alpha=9.266588657937945, reg_lambda=7.27271995856421, max_depth=np.int64(7), n_estimators=np.int64(307), min_child_weight=np.int64(6), gamma=4.805860121746747, subsample=0.9222669243390758, colsample_bytree=0.8736600550686905, max_delta_step=5.3969213238907985, colsample_bynode=0.7933755828319242, colsample_bylevel=0.982627653632069, objective='reg:gamma')\n",
      "Actual results: 412288736.0\n",
      "Best hyperparams: PriceRegressorXGBoostModelHyperparams(learning_rate=0.1245935684405262, reg_alpha=9.266588657937945, reg_lambda=7.27271995856421, max_depth=np.int64(7), n_estimators=np.int64(307), min_child_weight=np.int64(6), gamma=4.805860121746747, subsample=0.9222669243390758, colsample_bytree=0.8736600550686905, max_delta_step=5.3969213238907985, colsample_bynode=0.7933755828319242, colsample_bylevel=0.982627653632069, objective='reg:gamma')\n",
      "Eval for PriceRegressorXGBoostModelHyperparams(learning_rate=0.09003976278653758, reg_alpha=2.9627350570408244, reg_lambda=1.6526693906300252, max_depth=np.int64(3), n_estimators=np.int64(241), min_child_weight=np.int64(5), gamma=1.467440873590191, subsample=0.5070399113575422, colsample_bytree=0.5994212020444026, max_delta_step=7.113419527486501, colsample_bynode=0.8950877702656029, colsample_bylevel=0.8029799873905057, objective='reg:tweedie')\n",
      "Actual results: 617486464.0\n",
      "Best hyperparams: PriceRegressorXGBoostModelHyperparams(learning_rate=0.1245935684405262, reg_alpha=9.266588657937945, reg_lambda=7.27271995856421, max_depth=np.int64(7), n_estimators=np.int64(307), min_child_weight=np.int64(6), gamma=4.805860121746747, subsample=0.9222669243390758, colsample_bytree=0.8736600550686905, max_delta_step=5.3969213238907985, colsample_bynode=0.7933755828319242, colsample_bylevel=0.982627653632069, objective='reg:gamma')\n",
      "Eval for PriceRegressorXGBoostModelHyperparams(learning_rate=0.19881233739556392, reg_alpha=9.149596755437809, reg_lambda=8.500385777897995, max_depth=np.int64(8), n_estimators=np.int64(93), min_child_weight=np.int64(4), gamma=3.344206263318037, subsample=0.8329611783087484, colsample_bytree=0.7956488938538636, max_delta_step=2.7472179299006423, colsample_bynode=0.7806217129238506, colsample_bylevel=0.691463437376895, objective='reg:tweedie')\n",
      "Actual results: 388020864.0\n",
      "Best hyperparams: PriceRegressorXGBoostModelHyperparams(learning_rate=0.19881233739556392, reg_alpha=9.149596755437809, reg_lambda=8.500385777897995, max_depth=np.int64(8), n_estimators=np.int64(93), min_child_weight=np.int64(4), gamma=3.344206263318037, subsample=0.8329611783087484, colsample_bytree=0.7956488938538636, max_delta_step=2.7472179299006423, colsample_bynode=0.7806217129238506, colsample_bylevel=0.691463437376895, objective='reg:tweedie')\n",
      "Eval for PriceRegressorXGBoostModelHyperparams(learning_rate=0.25618500903716435, reg_alpha=7.217295211648733, reg_lambda=2.359849197489558, max_depth=np.int64(6), n_estimators=np.int64(68), min_child_weight=np.int64(7), gamma=0.5544541040591567, subsample=0.7196682509328851, colsample_bytree=0.6008596011676981, max_delta_step=8.957635956735196, colsample_bynode=0.7376851115910559, colsample_bylevel=0.7816377859881919, objective='reg:gamma')\n",
      "Actual results: 402887808.0\n",
      "Best hyperparams: PriceRegressorXGBoostModelHyperparams(learning_rate=0.19881233739556392, reg_alpha=9.149596755437809, reg_lambda=8.500385777897995, max_depth=np.int64(8), n_estimators=np.int64(93), min_child_weight=np.int64(4), gamma=3.344206263318037, subsample=0.8329611783087484, colsample_bytree=0.7956488938538636, max_delta_step=2.7472179299006423, colsample_bynode=0.7806217129238506, colsample_bylevel=0.691463437376895, objective='reg:tweedie')\n",
      "Eval for PriceRegressorXGBoostModelHyperparams(learning_rate=0.050406121777703955, reg_alpha=6.044173792778174, reg_lambda=5.398410913016733, max_depth=np.int64(5), n_estimators=np.int64(474), min_child_weight=np.int64(6), gamma=3.473924665198523, subsample=0.940233919507629, colsample_bytree=0.8121770240668966, max_delta_step=2.9563368583771403, colsample_bynode=0.5527471299151353, colsample_bylevel=0.7282672852414551, objective='reg:squarederror')\n",
      "Actual results: 5188638208.0\n",
      "Best hyperparams: PriceRegressorXGBoostModelHyperparams(learning_rate=0.19881233739556392, reg_alpha=9.149596755437809, reg_lambda=8.500385777897995, max_depth=np.int64(8), n_estimators=np.int64(93), min_child_weight=np.int64(4), gamma=3.344206263318037, subsample=0.8329611783087484, colsample_bytree=0.7956488938538636, max_delta_step=2.7472179299006423, colsample_bynode=0.7806217129238506, colsample_bylevel=0.691463437376895, objective='reg:tweedie')\n",
      "Eval for PriceRegressorXGBoostModelHyperparams(learning_rate=0.13078788488240622, reg_alpha=8.832802589188685, reg_lambda=3.2434502100527403, max_depth=np.int64(4), n_estimators=np.int64(210), min_child_weight=np.int64(9), gamma=1.360661246923177, subsample=0.8238450602706813, colsample_bytree=0.500260188497658, max_delta_step=3.525688563341691, colsample_bynode=0.6523906290790146, colsample_bylevel=0.5823279265714709, objective='reg:gamma')\n",
      "Actual results: 424726432.0\n",
      "Best hyperparams: PriceRegressorXGBoostModelHyperparams(learning_rate=0.19881233739556392, reg_alpha=9.149596755437809, reg_lambda=8.500385777897995, max_depth=np.int64(8), n_estimators=np.int64(93), min_child_weight=np.int64(4), gamma=3.344206263318037, subsample=0.8329611783087484, colsample_bytree=0.7956488938538636, max_delta_step=2.7472179299006423, colsample_bynode=0.7806217129238506, colsample_bylevel=0.691463437376895, objective='reg:tweedie')\n",
      "PriceRegressorXGBoostModelHyperparams(learning_rate=0.19881233739556392, reg_alpha=9.149596755437809, reg_lambda=8.500385777897995, max_depth=np.int64(8), n_estimators=np.int64(93), min_child_weight=np.int64(4), gamma=3.344206263318037, subsample=0.8329611783087484, colsample_bytree=0.7956488938538636, max_delta_step=2.7472179299006423, colsample_bynode=0.7806217129238506, colsample_bylevel=0.691463437376895, objective='reg:tweedie')\n",
      "Mse: 388020864.0\n"
     ]
    },
    {
     "data": {
      "application/vnd.plotly.v1+json": {
       "config": {
        "plotlyServerURL": "https://plot.ly"
       },
       "data": [
        {
         "orientation": "h",
         "type": "bar",
         "x": [
          80,
          86,
          113,
          136,
          139,
          142,
          413,
          427,
          609,
          777,
          791,
          1011,
          1073,
          1173,
          1316,
          2118,
          2826
         ],
         "y": [
          "Condition",
          "Transmission",
          "Doors_number",
          "Drive",
          "First_owner",
          "Fuel_type",
          "Displacement_cm3",
          "Type",
          "Power_HP",
          "Feature_score",
          "Vehicle_brand",
          "Colour",
          "Production_year",
          "Mileage_km",
          "Vehicle_generation",
          "Vehicle_model",
          "Advanced_model"
         ]
        }
       ],
       "layout": {
        "template": {
         "data": {
          "bar": [
           {
            "error_x": {
             "color": "#2a3f5f"
            },
            "error_y": {
             "color": "#2a3f5f"
            },
            "marker": {
             "line": {
              "color": "#E5ECF6",
              "width": 0.5
             },
             "pattern": {
              "fillmode": "overlay",
              "size": 10,
              "solidity": 0.2
             }
            },
            "type": "bar"
           }
          ],
          "barpolar": [
           {
            "marker": {
             "line": {
              "color": "#E5ECF6",
              "width": 0.5
             },
             "pattern": {
              "fillmode": "overlay",
              "size": 10,
              "solidity": 0.2
             }
            },
            "type": "barpolar"
           }
          ],
          "carpet": [
           {
            "aaxis": {
             "endlinecolor": "#2a3f5f",
             "gridcolor": "white",
             "linecolor": "white",
             "minorgridcolor": "white",
             "startlinecolor": "#2a3f5f"
            },
            "baxis": {
             "endlinecolor": "#2a3f5f",
             "gridcolor": "white",
             "linecolor": "white",
             "minorgridcolor": "white",
             "startlinecolor": "#2a3f5f"
            },
            "type": "carpet"
           }
          ],
          "choropleth": [
           {
            "colorbar": {
             "outlinewidth": 0,
             "ticks": ""
            },
            "type": "choropleth"
           }
          ],
          "contour": [
           {
            "colorbar": {
             "outlinewidth": 0,
             "ticks": ""
            },
            "colorscale": [
             [
              0,
              "#0d0887"
             ],
             [
              0.1111111111111111,
              "#46039f"
             ],
             [
              0.2222222222222222,
              "#7201a8"
             ],
             [
              0.3333333333333333,
              "#9c179e"
             ],
             [
              0.4444444444444444,
              "#bd3786"
             ],
             [
              0.5555555555555556,
              "#d8576b"
             ],
             [
              0.6666666666666666,
              "#ed7953"
             ],
             [
              0.7777777777777778,
              "#fb9f3a"
             ],
             [
              0.8888888888888888,
              "#fdca26"
             ],
             [
              1,
              "#f0f921"
             ]
            ],
            "type": "contour"
           }
          ],
          "contourcarpet": [
           {
            "colorbar": {
             "outlinewidth": 0,
             "ticks": ""
            },
            "type": "contourcarpet"
           }
          ],
          "heatmap": [
           {
            "colorbar": {
             "outlinewidth": 0,
             "ticks": ""
            },
            "colorscale": [
             [
              0,
              "#0d0887"
             ],
             [
              0.1111111111111111,
              "#46039f"
             ],
             [
              0.2222222222222222,
              "#7201a8"
             ],
             [
              0.3333333333333333,
              "#9c179e"
             ],
             [
              0.4444444444444444,
              "#bd3786"
             ],
             [
              0.5555555555555556,
              "#d8576b"
             ],
             [
              0.6666666666666666,
              "#ed7953"
             ],
             [
              0.7777777777777778,
              "#fb9f3a"
             ],
             [
              0.8888888888888888,
              "#fdca26"
             ],
             [
              1,
              "#f0f921"
             ]
            ],
            "type": "heatmap"
           }
          ],
          "heatmapgl": [
           {
            "colorbar": {
             "outlinewidth": 0,
             "ticks": ""
            },
            "colorscale": [
             [
              0,
              "#0d0887"
             ],
             [
              0.1111111111111111,
              "#46039f"
             ],
             [
              0.2222222222222222,
              "#7201a8"
             ],
             [
              0.3333333333333333,
              "#9c179e"
             ],
             [
              0.4444444444444444,
              "#bd3786"
             ],
             [
              0.5555555555555556,
              "#d8576b"
             ],
             [
              0.6666666666666666,
              "#ed7953"
             ],
             [
              0.7777777777777778,
              "#fb9f3a"
             ],
             [
              0.8888888888888888,
              "#fdca26"
             ],
             [
              1,
              "#f0f921"
             ]
            ],
            "type": "heatmapgl"
           }
          ],
          "histogram": [
           {
            "marker": {
             "pattern": {
              "fillmode": "overlay",
              "size": 10,
              "solidity": 0.2
             }
            },
            "type": "histogram"
           }
          ],
          "histogram2d": [
           {
            "colorbar": {
             "outlinewidth": 0,
             "ticks": ""
            },
            "colorscale": [
             [
              0,
              "#0d0887"
             ],
             [
              0.1111111111111111,
              "#46039f"
             ],
             [
              0.2222222222222222,
              "#7201a8"
             ],
             [
              0.3333333333333333,
              "#9c179e"
             ],
             [
              0.4444444444444444,
              "#bd3786"
             ],
             [
              0.5555555555555556,
              "#d8576b"
             ],
             [
              0.6666666666666666,
              "#ed7953"
             ],
             [
              0.7777777777777778,
              "#fb9f3a"
             ],
             [
              0.8888888888888888,
              "#fdca26"
             ],
             [
              1,
              "#f0f921"
             ]
            ],
            "type": "histogram2d"
           }
          ],
          "histogram2dcontour": [
           {
            "colorbar": {
             "outlinewidth": 0,
             "ticks": ""
            },
            "colorscale": [
             [
              0,
              "#0d0887"
             ],
             [
              0.1111111111111111,
              "#46039f"
             ],
             [
              0.2222222222222222,
              "#7201a8"
             ],
             [
              0.3333333333333333,
              "#9c179e"
             ],
             [
              0.4444444444444444,
              "#bd3786"
             ],
             [
              0.5555555555555556,
              "#d8576b"
             ],
             [
              0.6666666666666666,
              "#ed7953"
             ],
             [
              0.7777777777777778,
              "#fb9f3a"
             ],
             [
              0.8888888888888888,
              "#fdca26"
             ],
             [
              1,
              "#f0f921"
             ]
            ],
            "type": "histogram2dcontour"
           }
          ],
          "mesh3d": [
           {
            "colorbar": {
             "outlinewidth": 0,
             "ticks": ""
            },
            "type": "mesh3d"
           }
          ],
          "parcoords": [
           {
            "line": {
             "colorbar": {
              "outlinewidth": 0,
              "ticks": ""
             }
            },
            "type": "parcoords"
           }
          ],
          "pie": [
           {
            "automargin": true,
            "type": "pie"
           }
          ],
          "scatter": [
           {
            "fillpattern": {
             "fillmode": "overlay",
             "size": 10,
             "solidity": 0.2
            },
            "type": "scatter"
           }
          ],
          "scatter3d": [
           {
            "line": {
             "colorbar": {
              "outlinewidth": 0,
              "ticks": ""
             }
            },
            "marker": {
             "colorbar": {
              "outlinewidth": 0,
              "ticks": ""
             }
            },
            "type": "scatter3d"
           }
          ],
          "scattercarpet": [
           {
            "marker": {
             "colorbar": {
              "outlinewidth": 0,
              "ticks": ""
             }
            },
            "type": "scattercarpet"
           }
          ],
          "scattergeo": [
           {
            "marker": {
             "colorbar": {
              "outlinewidth": 0,
              "ticks": ""
             }
            },
            "type": "scattergeo"
           }
          ],
          "scattergl": [
           {
            "marker": {
             "colorbar": {
              "outlinewidth": 0,
              "ticks": ""
             }
            },
            "type": "scattergl"
           }
          ],
          "scattermapbox": [
           {
            "marker": {
             "colorbar": {
              "outlinewidth": 0,
              "ticks": ""
             }
            },
            "type": "scattermapbox"
           }
          ],
          "scatterpolar": [
           {
            "marker": {
             "colorbar": {
              "outlinewidth": 0,
              "ticks": ""
             }
            },
            "type": "scatterpolar"
           }
          ],
          "scatterpolargl": [
           {
            "marker": {
             "colorbar": {
              "outlinewidth": 0,
              "ticks": ""
             }
            },
            "type": "scatterpolargl"
           }
          ],
          "scatterternary": [
           {
            "marker": {
             "colorbar": {
              "outlinewidth": 0,
              "ticks": ""
             }
            },
            "type": "scatterternary"
           }
          ],
          "surface": [
           {
            "colorbar": {
             "outlinewidth": 0,
             "ticks": ""
            },
            "colorscale": [
             [
              0,
              "#0d0887"
             ],
             [
              0.1111111111111111,
              "#46039f"
             ],
             [
              0.2222222222222222,
              "#7201a8"
             ],
             [
              0.3333333333333333,
              "#9c179e"
             ],
             [
              0.4444444444444444,
              "#bd3786"
             ],
             [
              0.5555555555555556,
              "#d8576b"
             ],
             [
              0.6666666666666666,
              "#ed7953"
             ],
             [
              0.7777777777777778,
              "#fb9f3a"
             ],
             [
              0.8888888888888888,
              "#fdca26"
             ],
             [
              1,
              "#f0f921"
             ]
            ],
            "type": "surface"
           }
          ],
          "table": [
           {
            "cells": {
             "fill": {
              "color": "#EBF0F8"
             },
             "line": {
              "color": "white"
             }
            },
            "header": {
             "fill": {
              "color": "#C8D4E3"
             },
             "line": {
              "color": "white"
             }
            },
            "type": "table"
           }
          ]
         },
         "layout": {
          "annotationdefaults": {
           "arrowcolor": "#2a3f5f",
           "arrowhead": 0,
           "arrowwidth": 1
          },
          "autotypenumbers": "strict",
          "coloraxis": {
           "colorbar": {
            "outlinewidth": 0,
            "ticks": ""
           }
          },
          "colorscale": {
           "diverging": [
            [
             0,
             "#8e0152"
            ],
            [
             0.1,
             "#c51b7d"
            ],
            [
             0.2,
             "#de77ae"
            ],
            [
             0.3,
             "#f1b6da"
            ],
            [
             0.4,
             "#fde0ef"
            ],
            [
             0.5,
             "#f7f7f7"
            ],
            [
             0.6,
             "#e6f5d0"
            ],
            [
             0.7,
             "#b8e186"
            ],
            [
             0.8,
             "#7fbc41"
            ],
            [
             0.9,
             "#4d9221"
            ],
            [
             1,
             "#276419"
            ]
           ],
           "sequential": [
            [
             0,
             "#0d0887"
            ],
            [
             0.1111111111111111,
             "#46039f"
            ],
            [
             0.2222222222222222,
             "#7201a8"
            ],
            [
             0.3333333333333333,
             "#9c179e"
            ],
            [
             0.4444444444444444,
             "#bd3786"
            ],
            [
             0.5555555555555556,
             "#d8576b"
            ],
            [
             0.6666666666666666,
             "#ed7953"
            ],
            [
             0.7777777777777778,
             "#fb9f3a"
            ],
            [
             0.8888888888888888,
             "#fdca26"
            ],
            [
             1,
             "#f0f921"
            ]
           ],
           "sequentialminus": [
            [
             0,
             "#0d0887"
            ],
            [
             0.1111111111111111,
             "#46039f"
            ],
            [
             0.2222222222222222,
             "#7201a8"
            ],
            [
             0.3333333333333333,
             "#9c179e"
            ],
            [
             0.4444444444444444,
             "#bd3786"
            ],
            [
             0.5555555555555556,
             "#d8576b"
            ],
            [
             0.6666666666666666,
             "#ed7953"
            ],
            [
             0.7777777777777778,
             "#fb9f3a"
            ],
            [
             0.8888888888888888,
             "#fdca26"
            ],
            [
             1,
             "#f0f921"
            ]
           ]
          },
          "colorway": [
           "#636efa",
           "#EF553B",
           "#00cc96",
           "#ab63fa",
           "#FFA15A",
           "#19d3f3",
           "#FF6692",
           "#B6E880",
           "#FF97FF",
           "#FECB52"
          ],
          "font": {
           "color": "#2a3f5f"
          },
          "geo": {
           "bgcolor": "white",
           "lakecolor": "white",
           "landcolor": "#E5ECF6",
           "showlakes": true,
           "showland": true,
           "subunitcolor": "white"
          },
          "hoverlabel": {
           "align": "left"
          },
          "hovermode": "closest",
          "mapbox": {
           "style": "light"
          },
          "paper_bgcolor": "white",
          "plot_bgcolor": "#E5ECF6",
          "polar": {
           "angularaxis": {
            "gridcolor": "white",
            "linecolor": "white",
            "ticks": ""
           },
           "bgcolor": "#E5ECF6",
           "radialaxis": {
            "gridcolor": "white",
            "linecolor": "white",
            "ticks": ""
           }
          },
          "scene": {
           "xaxis": {
            "backgroundcolor": "#E5ECF6",
            "gridcolor": "white",
            "gridwidth": 2,
            "linecolor": "white",
            "showbackground": true,
            "ticks": "",
            "zerolinecolor": "white"
           },
           "yaxis": {
            "backgroundcolor": "#E5ECF6",
            "gridcolor": "white",
            "gridwidth": 2,
            "linecolor": "white",
            "showbackground": true,
            "ticks": "",
            "zerolinecolor": "white"
           },
           "zaxis": {
            "backgroundcolor": "#E5ECF6",
            "gridcolor": "white",
            "gridwidth": 2,
            "linecolor": "white",
            "showbackground": true,
            "ticks": "",
            "zerolinecolor": "white"
           }
          },
          "shapedefaults": {
           "line": {
            "color": "#2a3f5f"
           }
          },
          "ternary": {
           "aaxis": {
            "gridcolor": "white",
            "linecolor": "white",
            "ticks": ""
           },
           "baxis": {
            "gridcolor": "white",
            "linecolor": "white",
            "ticks": ""
           },
           "bgcolor": "#E5ECF6",
           "caxis": {
            "gridcolor": "white",
            "linecolor": "white",
            "ticks": ""
           }
          },
          "title": {
           "x": 0.05
          },
          "xaxis": {
           "automargin": true,
           "gridcolor": "white",
           "linecolor": "white",
           "ticks": "",
           "title": {
            "standoff": 15
           },
           "zerolinecolor": "white",
           "zerolinewidth": 2
          },
          "yaxis": {
           "automargin": true,
           "gridcolor": "white",
           "linecolor": "white",
           "ticks": "",
           "title": {
            "standoff": 15
           },
           "zerolinecolor": "white",
           "zerolinewidth": 2
          }
         }
        },
        "xaxis": {
         "title": {
          "text": "Weight"
         }
        },
        "yaxis": {
         "title": {
          "text": "Feature Name"
         }
        }
       }
      }
     },
     "metadata": {},
     "output_type": "display_data"
    }
   ],
   "source": [
    "training_process(\n",
    "    model_name=\"xgboost_regressor\",\n",
    "    model_class=PriceRegressorXGBoostModel,\n",
    "    hyperparameters_class=PriceRegressorXGBoostModelHyperparams,\n",
    "    metric=MetricEnum.MSE,\n",
    "    max_iters=10,\n",
    "    gpu_mode=False,\n",
    ")"
   ]
  },
  {
   "cell_type": "code",
   "execution_count": 3,
   "metadata": {},
   "outputs": [
    {
     "name": "stdout",
     "output_type": "stream",
     "text": [
      "Classification metrics: \n",
      "  Accuracy: 0.6492\n",
      "  Precision: 0.6494\n",
      "  Recall: 0.6492\n",
      "  F1 Score: 0.6485\n",
      "  Mean Classes Error: 0.4126\n",
      "  Ideal Distance: 0.7019\n"
     ]
    }
   ],
   "source": [
    "interval_func = lambda x: 10 ** (0.4 * x) + 500 * (x + 1) ** 1.2 + 500 * x ** 0.8\n",
    "cast_regression_to_classification(\"xgboost_regressor\", interval_func)"
   ]
  }
 ],
 "metadata": {
  "kernelspec": {
   "display_name": "Python 3",
   "language": "python",
   "name": "python3"
  },
  "language_info": {
   "codemirror_mode": {
    "name": "ipython",
    "version": 3
   },
   "file_extension": ".py",
   "mimetype": "text/x-python",
   "name": "python",
   "nbconvert_exporter": "python",
   "pygments_lexer": "ipython3",
   "version": "3.13.0"
  }
 },
 "nbformat": 4,
 "nbformat_minor": 2
}
