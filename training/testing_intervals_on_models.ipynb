{
 "cells": [
  {
   "cell_type": "code",
   "execution_count": 4,
   "metadata": {},
   "outputs": [],
   "source": [
    "import sys\n",
    "import os\n",
    "\n",
    "current_dir = os.getcwd()\n",
    "parent_dir = os.path.abspath(os.path.join(current_dir, os.pardir))\n",
    "sys.path.append(parent_dir)\n",
    "\n",
    "from training.testing_intervals import testing_intervals\n",
    "from models.price_evaluator_decision_tree import PriceClassifierBasicModel, DecisionTreeHyperparams\n",
    "from evaluation.AbstractEvaluationResults import MetricEnum\n",
    "from models.price_evaluator_xgboost_clasifier import (\n",
    "    PriceClassifierXGBoostModelHyperparams,\n",
    "    PriceClassifierXGBoostModel,\n",
    ")\n",
    "from models.price_evaluator_xgboost_regression import (\n",
    "    PriceRegressorXGBoostModel,\n",
    "    PriceRegressorXGBoostModelHyperparams\n",
    ")\n",
    "from models.price_evaluator_random_forest_regression import (\n",
    "    PriceRegressorRandomForestModel,\n",
    "    PriceRegressorRandomForestHyperparams\n",
    ")"
   ]
  },
  {
   "cell_type": "code",
   "execution_count": 5,
   "metadata": {},
   "outputs": [],
   "source": [
    "functions = [\n",
    "    lambda x: 10 ** (0.66 * x) + 1500 * (x + 1) ** 1.3 + 800 * x ** 1.1,\n",
    "    lambda x: 10 ** (0.25 * x) + 600 * (x + 1) ** 1.15 + 200 * x ** 0.75,\n",
    "    lambda x: 10 ** (0.19 * x) + 80 * (x + 1) ** 1.02 + 150 * x ** 0.4,\n",
    "    lambda x: 10 ** (0.13 * x) + 50 * (x + 1) ** 1.01 + 100 * x ** 0.35,\n",
    "    lambda x: 10 ** (0.1 * x) + 30 * (x + 1) ** 1.005 + 90 * x ** 0.3,\n",
    "    lambda x: 10 ** (0.08 * x) + 15 * (x + 1) ** 1.001 + 60 * x ** 0.3,\n",
    "    lambda x: 10 ** (0.06 * x) + 15 * (x + 1) ** 1.001 + 40 * x ** 0.25,\n",
    "    lambda x: 10 ** (0.05 * x) + 10 * (x + 1) ** 1.002 + 30 * x ** 0.2,\n",
    "]"
   ]
  },
  {
   "cell_type": "code",
   "execution_count": 6,
   "metadata": {},
   "outputs": [
    {
     "name": "stdout",
     "output_type": "stream",
     "text": [
      "[0, 1, 2, 3, 4, 5, 6, 7, 8, 9]\n",
      "Price intervals:\n",
      "585 - 2086\n",
      "2086 - 6584\n",
      "6584 - 14576\n",
      "14576 - 26444\n",
      "26444 - 42711\n",
      "42711 - 64810\n",
      "64810 - 98496\n",
      "98496 - 169378\n",
      "169378 - 393901\n",
      "393901 - 717877\n",
      "DecisionTreeHyperparams(criterion='entropy', splitter='best', max_depth=20, min_samples_split=2, min_samples_leaf=1, min_weight_fraction_leaf=0.0, max_features='sqrt', max_leaf_nodes=37, min_impurity_decrease=0.0, ccp_alpha=0.0)\n",
      "Mean_clasters_error: 0.5934838888255695\n",
      "[0, 1, 2, 3, 4, 5, 6, 7, 8, 9, 10, 11, 12, 13, 14, 15, 16, 17, 18, 19, 20, 21, 22]\n",
      "Price intervals:\n",
      "585 - 1186\n",
      "1186 - 2719\n",
      "2719 - 5180\n",
      "5180 - 8596\n",
      "8596 - 12990\n",
      "12990 - 18386\n",
      "18386 - 24807\n",
      "24807 - 32280\n",
      "32280 - 40839\n",
      "40839 - 50531\n",
      "50531 - 61428\n",
      "61428 - 73650\n",
      "73650 - 87399\n",
      "87399 - 103026\n",
      "103026 - 121145\n",
      "121145 - 142843\n",
      "142843 - 170044\n",
      "170044 - 206162\n",
      "206162 - 257262\n",
      "257262 - 334123\n",
      "334123 - 455907\n",
      "455907 - 656683\n",
      "656683 - 717877\n",
      "DecisionTreeHyperparams(criterion='entropy', splitter='best', max_depth=20, min_samples_split=2, min_samples_leaf=1, min_weight_fraction_leaf=0.0, max_features='sqrt', max_leaf_nodes=37, min_impurity_decrease=0.0, ccp_alpha=0.0)\n",
      "Mean_clasters_error: 1.3648725673805064\n",
      "[0, 1, 2, 3, 4, 5, 6, 7, 8, 9, 10, 11, 12, 13, 14, 15, 16, 17, 18, 19, 20, 21, 22, 23, 24, 25, 26, 27, 28, 29]\n",
      "Price intervals:\n",
      "585 - 666\n",
      "666 - 979\n",
      "979 - 1424\n",
      "1424 - 1989\n",
      "1989 - 2669\n",
      "2669 - 3460\n",
      "3460 - 4363\n",
      "4363 - 5378\n",
      "5378 - 6508\n",
      "6508 - 7758\n",
      "7758 - 9137\n",
      "9137 - 10660\n",
      "10660 - 12350\n",
      "12350 - 14244\n",
      "14244 - 16398\n",
      "16398 - 18902\n",
      "18902 - 21892\n",
      "21892 - 25581\n",
      "25581 - 30300\n",
      "30300 - 36559\n",
      "36559 - 45151\n",
      "45151 - 57302\n",
      "57302 - 74913\n",
      "74913 - 100927\n",
      "100927 - 139902\n",
      "139902 - 198899\n",
      "198899 - 288854\n",
      "288854 - 426705\n",
      "426705 - 638685\n",
      "638685 - 717877\n",
      "DecisionTreeHyperparams(criterion='entropy', splitter='best', max_depth=20, min_samples_split=2, min_samples_leaf=1, min_weight_fraction_leaf=0.0, max_features='sqrt', max_leaf_nodes=37, min_impurity_decrease=0.0, ccp_alpha=0.0)\n",
      "Mean_clasters_error: 1.8064069574280968\n",
      "[0, 1, 2, 3, 4, 5, 6, 7, 8, 9, 10, 11, 12, 13, 14, 15, 16, 17, 18, 19, 20, 21, 22, 23, 24, 25, 26, 27, 28, 29, 30, 31, 32, 33, 34, 35, 36, 37, 38, 39, 40, 41]\n",
      "Price intervals:\n",
      "585 - 636\n",
      "636 - 838\n",
      "838 - 1118\n",
      "1118 - 1470\n",
      "1470 - 1889\n",
      "1889 - 2374\n",
      "2374 - 2924\n",
      "2924 - 3538\n",
      "3538 - 4216\n",
      "4216 - 4958\n",
      "4958 - 5765\n",
      "5765 - 6638\n",
      "6638 - 7579\n",
      "7579 - 8592\n",
      "8592 - 9680\n",
      "9680 - 10849\n",
      "10849 - 12107\n",
      "12107 - 13465\n",
      "13465 - 14937\n",
      "14937 - 16542\n",
      "16542 - 18307\n",
      "18307 - 20268\n",
      "20268 - 22474\n",
      "22474 - 24989\n",
      "24989 - 27902\n",
      "27902 - 31331\n",
      "31331 - 35437\n",
      "35437 - 40437\n",
      "40437 - 46622\n",
      "46622 - 54387\n",
      "54387 - 64263\n",
      "64263 - 76967\n",
      "76967 - 93466\n",
      "93466 - 115065\n",
      "115065 - 143524\n",
      "143524 - 181218\n",
      "181218 - 231349\n",
      "231349 - 298238\n",
      "298238 - 387714\n",
      "387714 - 507639\n",
      "507639 - 668619\n",
      "668619 - 717877\n",
      "DecisionTreeHyperparams(criterion='entropy', splitter='best', max_depth=20, min_samples_split=2, min_samples_leaf=1, min_weight_fraction_leaf=0.0, max_features='sqrt', max_leaf_nodes=37, min_impurity_decrease=0.0, ccp_alpha=0.0)\n",
      "Mean_clasters_error: 2.5710329999674237\n",
      "[0, 1, 2, 3, 4, 5, 6, 7, 8, 9, 10, 11, 12, 13, 14, 15, 16, 17, 18, 19, 20, 21, 22, 23, 24, 25, 26, 27, 28, 29, 30, 31, 32, 33, 34, 35, 36, 37, 38, 39, 40, 41, 42, 43, 44, 45, 46, 47, 48, 49, 50, 51, 52]\n",
      "Price intervals:\n",
      "585 - 616\n",
      "616 - 767\n",
      "767 - 969\n",
      "969 - 1216\n",
      "1216 - 1506\n",
      "1506 - 1836\n",
      "1836 - 2206\n",
      "2206 - 2614\n",
      "2614 - 3061\n",
      "3061 - 3546\n",
      "3546 - 4069\n",
      "4069 - 4630\n",
      "4630 - 5230\n",
      "5230 - 5869\n",
      "5869 - 6548\n",
      "6548 - 7269\n",
      "7269 - 8032\n",
      "8032 - 8840\n",
      "8840 - 9695\n",
      "9695 - 10601\n",
      "10601 - 11561\n",
      "11561 - 12581\n",
      "12581 - 13667\n",
      "13667 - 14828\n",
      "14828 - 16074\n",
      "16074 - 17419\n",
      "17419 - 18879\n",
      "18879 - 20476\n",
      "20476 - 22236\n",
      "22236 - 24192\n",
      "24192 - 26387\n",
      "26387 - 28874\n",
      "28874 - 31720\n",
      "31720 - 35010\n",
      "35010 - 38849\n",
      "38849 - 43372\n",
      "43372 - 48747\n",
      "48747 - 55185\n",
      "55185 - 62954\n",
      "62954 - 72389\n",
      "72389 - 83914\n",
      "83914 - 98061\n",
      "98061 - 115500\n",
      "115500 - 137075\n",
      "137075 - 163849\n",
      "163849 - 197160\n",
      "197160 - 238691\n",
      "238691 - 290563\n",
      "290563 - 355445\n",
      "355445 - 436696\n",
      "436696 - 538547\n",
      "538547 - 666323\n",
      "666323 - 717877\n",
      "DecisionTreeHyperparams(criterion='entropy', splitter='best', max_depth=20, min_samples_split=2, min_samples_leaf=1, min_weight_fraction_leaf=0.0, max_features='sqrt', max_leaf_nodes=37, min_impurity_decrease=0.0, ccp_alpha=0.0)\n",
      "Mean_clasters_error: 3.13740694283806\n",
      "[0, 1, 2, 3, 4, 5, 6, 7, 8, 9, 10, 11, 12, 13, 14, 15, 16, 17, 18, 19, 20, 21, 22, 23, 24, 25, 26, 27, 28, 29, 30, 31, 32, 33, 34, 35, 36, 37, 38, 39, 40, 41, 42, 43, 44, 45, 46, 47, 48, 49, 50, 51, 52, 53, 54, 55, 56, 57, 58, 59, 60, 61, 62, 63, 64]\n",
      "Price intervals:\n",
      "585 - 601\n",
      "601 - 692\n",
      "692 - 812\n",
      "812 - 957\n",
      "957 - 1125\n",
      "1125 - 1314\n",
      "1314 - 1524\n",
      "1524 - 1755\n",
      "1755 - 2006\n",
      "2006 - 2277\n",
      "2277 - 2568\n",
      "2568 - 2879\n",
      "2879 - 3210\n",
      "3210 - 3561\n",
      "3561 - 3932\n",
      "3932 - 4323\n",
      "4323 - 4735\n",
      "4735 - 5169\n",
      "5169 - 5625\n",
      "5625 - 6104\n",
      "6104 - 6607\n",
      "6607 - 7135\n",
      "7135 - 7690\n",
      "7690 - 8274\n",
      "8274 - 8889\n",
      "8889 - 9537\n",
      "9537 - 10223\n",
      "10223 - 10950\n",
      "10950 - 11723\n",
      "11723 - 12548\n",
      "12548 - 13432\n",
      "13432 - 14383\n",
      "14383 - 15412\n",
      "15412 - 16531\n",
      "16531 - 17755\n",
      "17755 - 19102\n",
      "19102 - 20593\n",
      "20593 - 22254\n",
      "22254 - 24116\n",
      "24116 - 26216\n",
      "26216 - 28599\n",
      "28599 - 31319\n",
      "31319 - 34441\n",
      "34441 - 38043\n",
      "38043 - 42218\n",
      "42218 - 47079\n",
      "47079 - 52762\n",
      "52762 - 59429\n",
      "59429 - 67276\n",
      "67276 - 76539\n",
      "76539 - 87501\n",
      "87501 - 100501\n",
      "100501 - 115949\n",
      "115949 - 134337\n",
      "134337 - 156256\n",
      "156256 - 182417\n",
      "182417 - 213675\n",
      "213675 - 251058\n",
      "251058 - 295801\n",
      "295801 - 349389\n",
      "349389 - 413608\n",
      "413608 - 490605\n",
      "490605 - 582961\n",
      "582961 - 693780\n",
      "693780 - 717877\n",
      "DecisionTreeHyperparams(criterion='entropy', splitter='best', max_depth=20, min_samples_split=2, min_samples_leaf=1, min_weight_fraction_leaf=0.0, max_features='sqrt', max_leaf_nodes=37, min_impurity_decrease=0.0, ccp_alpha=0.0)\n",
      "Mean_clasters_error: 3.5685657961191937\n",
      "[0, 1, 2, 3, 4, 5, 6, 7, 8, 9, 10, 11, 12, 13, 14, 15, 16, 17, 18, 19, 20, 21, 22, 23, 24, 25, 26, 27, 28, 29, 30, 31, 32, 33, 34, 35, 36, 37, 38, 39, 40, 41, 42, 43, 44, 45, 46, 47, 48, 49, 50, 51, 52, 53, 54, 55, 56, 57, 58, 59, 60, 61, 62, 63, 64, 65, 66, 67, 68, 69, 70, 71, 72, 73, 74, 75, 76, 77, 78, 79, 80, 81, 82, 83]\n",
      "Price intervals:\n",
      "585 - 601\n",
      "601 - 672\n",
      "672 - 765\n",
      "765 - 879\n",
      "879 - 1012\n",
      "1012 - 1163\n",
      "1163 - 1333\n",
      "1333 - 1520\n",
      "1520 - 1725\n",
      "1725 - 1948\n",
      "1948 - 2188\n",
      "2188 - 2445\n",
      "2445 - 2720\n",
      "2720 - 3012\n",
      "3012 - 3321\n",
      "3321 - 3648\n",
      "3648 - 3992\n",
      "3992 - 4354\n",
      "4354 - 4734\n",
      "4734 - 5132\n",
      "5132 - 5548\n",
      "5548 - 5982\n",
      "5982 - 6435\n",
      "6435 - 6907\n",
      "6907 - 7399\n",
      "7399 - 7911\n",
      "7911 - 8443\n",
      "8443 - 8997\n",
      "8997 - 9573\n",
      "9573 - 10172\n",
      "10172 - 10795\n",
      "10795 - 11443\n",
      "11443 - 12118\n",
      "12118 - 12821\n",
      "12821 - 13554\n",
      "13554 - 14319\n",
      "14319 - 15118\n",
      "15118 - 15954\n",
      "15954 - 16831\n",
      "16831 - 17751\n",
      "17751 - 18720\n",
      "18720 - 19741\n",
      "19741 - 20821\n",
      "20821 - 21966\n",
      "21966 - 23183\n",
      "23183 - 24480\n",
      "24480 - 25867\n",
      "25867 - 27355\n",
      "27355 - 28956\n",
      "28956 - 30685\n",
      "30685 - 32559\n",
      "32559 - 34597\n",
      "34597 - 36820\n",
      "36820 - 39254\n",
      "39254 - 41928\n",
      "41928 - 44875\n",
      "44875 - 48133\n",
      "48133 - 51746\n",
      "51746 - 55764\n",
      "55764 - 60245\n",
      "60245 - 65256\n",
      "65256 - 70872\n",
      "70872 - 77181\n",
      "77181 - 84283\n",
      "84283 - 92293\n",
      "92293 - 101344\n",
      "101344 - 111587\n",
      "111587 - 123197\n",
      "123197 - 136373\n",
      "136373 - 151346\n",
      "151346 - 168380\n",
      "168380 - 187777\n",
      "187777 - 209886\n",
      "209886 - 235106\n",
      "235106 - 263895\n",
      "263895 - 296780\n",
      "296780 - 334365\n",
      "334365 - 377345\n",
      "377345 - 426517\n",
      "426517 - 482795\n",
      "482795 - 547230\n",
      "547230 - 621029\n",
      "621029 - 705576\n",
      "705576 - 717877\n",
      "DecisionTreeHyperparams(criterion='entropy', splitter='best', max_depth=20, min_samples_split=2, min_samples_leaf=1, min_weight_fraction_leaf=0.0, max_features='sqrt', max_leaf_nodes=37, min_impurity_decrease=0.0, ccp_alpha=0.0)\n",
      "Mean_clasters_error: 5.043021266194085\n",
      "[0, 1, 2, 3, 4, 5, 6, 7, 8, 9, 10, 11, 12, 13, 14, 15, 16, 17, 18, 19, 20, 21, 22, 23, 24, 25, 26, 27, 28, 29, 30, 31, 32, 33, 34, 35, 36, 37, 38, 39, 40, 41, 42, 43, 44, 45, 46, 47, 48, 49, 50, 51, 52, 53, 54, 55, 56, 57, 58, 59, 60, 61, 62, 63, 64, 65, 66, 67, 68, 69, 70, 71, 72, 73, 74, 75, 76, 77, 78, 79, 80, 81, 82, 83, 84, 85, 86, 87, 88, 89, 90, 91, 92, 93, 94, 95, 96, 97, 98]\n",
      "Price intervals:\n",
      "585 - 596\n",
      "596 - 647\n",
      "647 - 712\n",
      "712 - 790\n",
      "790 - 881\n",
      "881 - 984\n",
      "984 - 1099\n",
      "1099 - 1225\n",
      "1225 - 1363\n",
      "1363 - 1512\n",
      "1512 - 1673\n",
      "1673 - 1845\n",
      "1845 - 2028\n",
      "2028 - 2223\n",
      "2223 - 2429\n",
      "2429 - 2647\n",
      "2647 - 2876\n",
      "2876 - 3116\n",
      "3116 - 3368\n",
      "3368 - 3632\n",
      "3632 - 3907\n",
      "3907 - 4194\n",
      "4194 - 4493\n",
      "4493 - 4804\n",
      "4804 - 5128\n",
      "5128 - 5464\n",
      "5464 - 5813\n",
      "5813 - 6175\n",
      "6175 - 6550\n",
      "6550 - 6939\n",
      "6939 - 7341\n",
      "7341 - 7758\n",
      "7758 - 8190\n",
      "8190 - 8637\n",
      "8637 - 9100\n",
      "9100 - 9579\n",
      "9579 - 10076\n",
      "10076 - 10591\n",
      "10591 - 11125\n",
      "11125 - 11679\n",
      "11679 - 12254\n",
      "12254 - 12852\n",
      "12852 - 13474\n",
      "13474 - 14122\n",
      "14122 - 14797\n",
      "14797 - 15502\n",
      "15502 - 16239\n",
      "16239 - 17011\n",
      "17011 - 17821\n",
      "17821 - 18672\n",
      "18672 - 19567\n",
      "19567 - 20511\n",
      "20511 - 21509\n",
      "21509 - 22566\n",
      "22566 - 23688\n",
      "23688 - 24881\n",
      "24881 - 26153\n",
      "26153 - 27513\n",
      "27513 - 28969\n",
      "28969 - 30532\n",
      "30532 - 32215\n",
      "32215 - 34030\n",
      "34030 - 35992\n",
      "35992 - 38118\n",
      "38118 - 40427\n",
      "40427 - 42939\n",
      "42939 - 45679\n",
      "45679 - 48673\n",
      "48673 - 51950\n",
      "51950 - 55544\n",
      "55544 - 59492\n",
      "59492 - 63836\n",
      "63836 - 68623\n",
      "68623 - 73906\n",
      "73906 - 79745\n",
      "79745 - 86206\n",
      "86206 - 93363\n",
      "93363 - 101300\n",
      "101300 - 110111\n",
      "110111 - 119902\n",
      "119902 - 130791\n",
      "130791 - 142910\n",
      "142910 - 156409\n",
      "156409 - 171454\n",
      "171454 - 188233\n",
      "188233 - 206956\n",
      "206956 - 227859\n",
      "227859 - 251207\n",
      "251207 - 277297\n",
      "277297 - 306462\n",
      "306462 - 339076\n",
      "339076 - 375559\n",
      "375559 - 416382\n",
      "416382 - 462073\n",
      "462073 - 513224\n",
      "513224 - 570501\n",
      "570501 - 634650\n",
      "634650 - 706508\n",
      "706508 - 717877\n",
      "DecisionTreeHyperparams(criterion='entropy', splitter='best', max_depth=20, min_samples_split=2, min_samples_leaf=1, min_weight_fraction_leaf=0.0, max_features='sqrt', max_leaf_nodes=37, min_impurity_decrease=0.0, ccp_alpha=0.0)\n",
      "Mean_clasters_error: 5.679081973626302\n"
     ]
    },
    {
     "data": {
      "application/vnd.plotly.v1+json": {
       "config": {
        "plotlyServerURL": "https://plot.ly"
       },
       "data": [
        {
         "hovertemplate": "Number of Intervals=%{x}<br>Mean_clasters_error=%{y}<extra></extra>",
         "legendgroup": "",
         "marker": {
          "color": "#636efa",
          "symbol": "circle"
         },
         "mode": "markers+lines",
         "name": "",
         "orientation": "v",
         "showlegend": false,
         "type": "scatter",
         "x": [
          10,
          23,
          30,
          42,
          53,
          65,
          84,
          99
         ],
         "xaxis": "x",
         "y": [
          0.5934838888255695,
          1.3648725673805064,
          1.8064069574280968,
          2.5710329999674237,
          3.13740694283806,
          3.5685657961191937,
          5.043021266194085,
          5.679081973626302
         ],
         "yaxis": "y"
        }
       ],
       "layout": {
        "legend": {
         "tracegroupgap": 0
        },
        "template": {
         "data": {
          "bar": [
           {
            "error_x": {
             "color": "#2a3f5f"
            },
            "error_y": {
             "color": "#2a3f5f"
            },
            "marker": {
             "line": {
              "color": "#E5ECF6",
              "width": 0.5
             },
             "pattern": {
              "fillmode": "overlay",
              "size": 10,
              "solidity": 0.2
             }
            },
            "type": "bar"
           }
          ],
          "barpolar": [
           {
            "marker": {
             "line": {
              "color": "#E5ECF6",
              "width": 0.5
             },
             "pattern": {
              "fillmode": "overlay",
              "size": 10,
              "solidity": 0.2
             }
            },
            "type": "barpolar"
           }
          ],
          "carpet": [
           {
            "aaxis": {
             "endlinecolor": "#2a3f5f",
             "gridcolor": "white",
             "linecolor": "white",
             "minorgridcolor": "white",
             "startlinecolor": "#2a3f5f"
            },
            "baxis": {
             "endlinecolor": "#2a3f5f",
             "gridcolor": "white",
             "linecolor": "white",
             "minorgridcolor": "white",
             "startlinecolor": "#2a3f5f"
            },
            "type": "carpet"
           }
          ],
          "choropleth": [
           {
            "colorbar": {
             "outlinewidth": 0,
             "ticks": ""
            },
            "type": "choropleth"
           }
          ],
          "contour": [
           {
            "colorbar": {
             "outlinewidth": 0,
             "ticks": ""
            },
            "colorscale": [
             [
              0,
              "#0d0887"
             ],
             [
              0.1111111111111111,
              "#46039f"
             ],
             [
              0.2222222222222222,
              "#7201a8"
             ],
             [
              0.3333333333333333,
              "#9c179e"
             ],
             [
              0.4444444444444444,
              "#bd3786"
             ],
             [
              0.5555555555555556,
              "#d8576b"
             ],
             [
              0.6666666666666666,
              "#ed7953"
             ],
             [
              0.7777777777777778,
              "#fb9f3a"
             ],
             [
              0.8888888888888888,
              "#fdca26"
             ],
             [
              1,
              "#f0f921"
             ]
            ],
            "type": "contour"
           }
          ],
          "contourcarpet": [
           {
            "colorbar": {
             "outlinewidth": 0,
             "ticks": ""
            },
            "type": "contourcarpet"
           }
          ],
          "heatmap": [
           {
            "colorbar": {
             "outlinewidth": 0,
             "ticks": ""
            },
            "colorscale": [
             [
              0,
              "#0d0887"
             ],
             [
              0.1111111111111111,
              "#46039f"
             ],
             [
              0.2222222222222222,
              "#7201a8"
             ],
             [
              0.3333333333333333,
              "#9c179e"
             ],
             [
              0.4444444444444444,
              "#bd3786"
             ],
             [
              0.5555555555555556,
              "#d8576b"
             ],
             [
              0.6666666666666666,
              "#ed7953"
             ],
             [
              0.7777777777777778,
              "#fb9f3a"
             ],
             [
              0.8888888888888888,
              "#fdca26"
             ],
             [
              1,
              "#f0f921"
             ]
            ],
            "type": "heatmap"
           }
          ],
          "heatmapgl": [
           {
            "colorbar": {
             "outlinewidth": 0,
             "ticks": ""
            },
            "colorscale": [
             [
              0,
              "#0d0887"
             ],
             [
              0.1111111111111111,
              "#46039f"
             ],
             [
              0.2222222222222222,
              "#7201a8"
             ],
             [
              0.3333333333333333,
              "#9c179e"
             ],
             [
              0.4444444444444444,
              "#bd3786"
             ],
             [
              0.5555555555555556,
              "#d8576b"
             ],
             [
              0.6666666666666666,
              "#ed7953"
             ],
             [
              0.7777777777777778,
              "#fb9f3a"
             ],
             [
              0.8888888888888888,
              "#fdca26"
             ],
             [
              1,
              "#f0f921"
             ]
            ],
            "type": "heatmapgl"
           }
          ],
          "histogram": [
           {
            "marker": {
             "pattern": {
              "fillmode": "overlay",
              "size": 10,
              "solidity": 0.2
             }
            },
            "type": "histogram"
           }
          ],
          "histogram2d": [
           {
            "colorbar": {
             "outlinewidth": 0,
             "ticks": ""
            },
            "colorscale": [
             [
              0,
              "#0d0887"
             ],
             [
              0.1111111111111111,
              "#46039f"
             ],
             [
              0.2222222222222222,
              "#7201a8"
             ],
             [
              0.3333333333333333,
              "#9c179e"
             ],
             [
              0.4444444444444444,
              "#bd3786"
             ],
             [
              0.5555555555555556,
              "#d8576b"
             ],
             [
              0.6666666666666666,
              "#ed7953"
             ],
             [
              0.7777777777777778,
              "#fb9f3a"
             ],
             [
              0.8888888888888888,
              "#fdca26"
             ],
             [
              1,
              "#f0f921"
             ]
            ],
            "type": "histogram2d"
           }
          ],
          "histogram2dcontour": [
           {
            "colorbar": {
             "outlinewidth": 0,
             "ticks": ""
            },
            "colorscale": [
             [
              0,
              "#0d0887"
             ],
             [
              0.1111111111111111,
              "#46039f"
             ],
             [
              0.2222222222222222,
              "#7201a8"
             ],
             [
              0.3333333333333333,
              "#9c179e"
             ],
             [
              0.4444444444444444,
              "#bd3786"
             ],
             [
              0.5555555555555556,
              "#d8576b"
             ],
             [
              0.6666666666666666,
              "#ed7953"
             ],
             [
              0.7777777777777778,
              "#fb9f3a"
             ],
             [
              0.8888888888888888,
              "#fdca26"
             ],
             [
              1,
              "#f0f921"
             ]
            ],
            "type": "histogram2dcontour"
           }
          ],
          "mesh3d": [
           {
            "colorbar": {
             "outlinewidth": 0,
             "ticks": ""
            },
            "type": "mesh3d"
           }
          ],
          "parcoords": [
           {
            "line": {
             "colorbar": {
              "outlinewidth": 0,
              "ticks": ""
             }
            },
            "type": "parcoords"
           }
          ],
          "pie": [
           {
            "automargin": true,
            "type": "pie"
           }
          ],
          "scatter": [
           {
            "fillpattern": {
             "fillmode": "overlay",
             "size": 10,
             "solidity": 0.2
            },
            "type": "scatter"
           }
          ],
          "scatter3d": [
           {
            "line": {
             "colorbar": {
              "outlinewidth": 0,
              "ticks": ""
             }
            },
            "marker": {
             "colorbar": {
              "outlinewidth": 0,
              "ticks": ""
             }
            },
            "type": "scatter3d"
           }
          ],
          "scattercarpet": [
           {
            "marker": {
             "colorbar": {
              "outlinewidth": 0,
              "ticks": ""
             }
            },
            "type": "scattercarpet"
           }
          ],
          "scattergeo": [
           {
            "marker": {
             "colorbar": {
              "outlinewidth": 0,
              "ticks": ""
             }
            },
            "type": "scattergeo"
           }
          ],
          "scattergl": [
           {
            "marker": {
             "colorbar": {
              "outlinewidth": 0,
              "ticks": ""
             }
            },
            "type": "scattergl"
           }
          ],
          "scattermapbox": [
           {
            "marker": {
             "colorbar": {
              "outlinewidth": 0,
              "ticks": ""
             }
            },
            "type": "scattermapbox"
           }
          ],
          "scatterpolar": [
           {
            "marker": {
             "colorbar": {
              "outlinewidth": 0,
              "ticks": ""
             }
            },
            "type": "scatterpolar"
           }
          ],
          "scatterpolargl": [
           {
            "marker": {
             "colorbar": {
              "outlinewidth": 0,
              "ticks": ""
             }
            },
            "type": "scatterpolargl"
           }
          ],
          "scatterternary": [
           {
            "marker": {
             "colorbar": {
              "outlinewidth": 0,
              "ticks": ""
             }
            },
            "type": "scatterternary"
           }
          ],
          "surface": [
           {
            "colorbar": {
             "outlinewidth": 0,
             "ticks": ""
            },
            "colorscale": [
             [
              0,
              "#0d0887"
             ],
             [
              0.1111111111111111,
              "#46039f"
             ],
             [
              0.2222222222222222,
              "#7201a8"
             ],
             [
              0.3333333333333333,
              "#9c179e"
             ],
             [
              0.4444444444444444,
              "#bd3786"
             ],
             [
              0.5555555555555556,
              "#d8576b"
             ],
             [
              0.6666666666666666,
              "#ed7953"
             ],
             [
              0.7777777777777778,
              "#fb9f3a"
             ],
             [
              0.8888888888888888,
              "#fdca26"
             ],
             [
              1,
              "#f0f921"
             ]
            ],
            "type": "surface"
           }
          ],
          "table": [
           {
            "cells": {
             "fill": {
              "color": "#EBF0F8"
             },
             "line": {
              "color": "white"
             }
            },
            "header": {
             "fill": {
              "color": "#C8D4E3"
             },
             "line": {
              "color": "white"
             }
            },
            "type": "table"
           }
          ]
         },
         "layout": {
          "annotationdefaults": {
           "arrowcolor": "#2a3f5f",
           "arrowhead": 0,
           "arrowwidth": 1
          },
          "autotypenumbers": "strict",
          "coloraxis": {
           "colorbar": {
            "outlinewidth": 0,
            "ticks": ""
           }
          },
          "colorscale": {
           "diverging": [
            [
             0,
             "#8e0152"
            ],
            [
             0.1,
             "#c51b7d"
            ],
            [
             0.2,
             "#de77ae"
            ],
            [
             0.3,
             "#f1b6da"
            ],
            [
             0.4,
             "#fde0ef"
            ],
            [
             0.5,
             "#f7f7f7"
            ],
            [
             0.6,
             "#e6f5d0"
            ],
            [
             0.7,
             "#b8e186"
            ],
            [
             0.8,
             "#7fbc41"
            ],
            [
             0.9,
             "#4d9221"
            ],
            [
             1,
             "#276419"
            ]
           ],
           "sequential": [
            [
             0,
             "#0d0887"
            ],
            [
             0.1111111111111111,
             "#46039f"
            ],
            [
             0.2222222222222222,
             "#7201a8"
            ],
            [
             0.3333333333333333,
             "#9c179e"
            ],
            [
             0.4444444444444444,
             "#bd3786"
            ],
            [
             0.5555555555555556,
             "#d8576b"
            ],
            [
             0.6666666666666666,
             "#ed7953"
            ],
            [
             0.7777777777777778,
             "#fb9f3a"
            ],
            [
             0.8888888888888888,
             "#fdca26"
            ],
            [
             1,
             "#f0f921"
            ]
           ],
           "sequentialminus": [
            [
             0,
             "#0d0887"
            ],
            [
             0.1111111111111111,
             "#46039f"
            ],
            [
             0.2222222222222222,
             "#7201a8"
            ],
            [
             0.3333333333333333,
             "#9c179e"
            ],
            [
             0.4444444444444444,
             "#bd3786"
            ],
            [
             0.5555555555555556,
             "#d8576b"
            ],
            [
             0.6666666666666666,
             "#ed7953"
            ],
            [
             0.7777777777777778,
             "#fb9f3a"
            ],
            [
             0.8888888888888888,
             "#fdca26"
            ],
            [
             1,
             "#f0f921"
            ]
           ]
          },
          "colorway": [
           "#636efa",
           "#EF553B",
           "#00cc96",
           "#ab63fa",
           "#FFA15A",
           "#19d3f3",
           "#FF6692",
           "#B6E880",
           "#FF97FF",
           "#FECB52"
          ],
          "font": {
           "color": "#2a3f5f"
          },
          "geo": {
           "bgcolor": "white",
           "lakecolor": "white",
           "landcolor": "#E5ECF6",
           "showlakes": true,
           "showland": true,
           "subunitcolor": "white"
          },
          "hoverlabel": {
           "align": "left"
          },
          "hovermode": "closest",
          "mapbox": {
           "style": "light"
          },
          "paper_bgcolor": "white",
          "plot_bgcolor": "#E5ECF6",
          "polar": {
           "angularaxis": {
            "gridcolor": "white",
            "linecolor": "white",
            "ticks": ""
           },
           "bgcolor": "#E5ECF6",
           "radialaxis": {
            "gridcolor": "white",
            "linecolor": "white",
            "ticks": ""
           }
          },
          "scene": {
           "xaxis": {
            "backgroundcolor": "#E5ECF6",
            "gridcolor": "white",
            "gridwidth": 2,
            "linecolor": "white",
            "showbackground": true,
            "ticks": "",
            "zerolinecolor": "white"
           },
           "yaxis": {
            "backgroundcolor": "#E5ECF6",
            "gridcolor": "white",
            "gridwidth": 2,
            "linecolor": "white",
            "showbackground": true,
            "ticks": "",
            "zerolinecolor": "white"
           },
           "zaxis": {
            "backgroundcolor": "#E5ECF6",
            "gridcolor": "white",
            "gridwidth": 2,
            "linecolor": "white",
            "showbackground": true,
            "ticks": "",
            "zerolinecolor": "white"
           }
          },
          "shapedefaults": {
           "line": {
            "color": "#2a3f5f"
           }
          },
          "ternary": {
           "aaxis": {
            "gridcolor": "white",
            "linecolor": "white",
            "ticks": ""
           },
           "baxis": {
            "gridcolor": "white",
            "linecolor": "white",
            "ticks": ""
           },
           "bgcolor": "#E5ECF6",
           "caxis": {
            "gridcolor": "white",
            "linecolor": "white",
            "ticks": ""
           }
          },
          "title": {
           "x": 0.05
          },
          "xaxis": {
           "automargin": true,
           "gridcolor": "white",
           "linecolor": "white",
           "ticks": "",
           "title": {
            "standoff": 15
           },
           "zerolinecolor": "white",
           "zerolinewidth": 2
          },
          "yaxis": {
           "automargin": true,
           "gridcolor": "white",
           "linecolor": "white",
           "ticks": "",
           "title": {
            "standoff": 15
           },
           "zerolinecolor": "white",
           "zerolinewidth": 2
          }
         }
        },
        "title": {
         "text": "Metric Score vs. Number of Intervals"
        },
        "xaxis": {
         "anchor": "y",
         "domain": [
          0,
          1
         ],
         "title": {
          "text": "Number of Intervals"
         }
        },
        "yaxis": {
         "anchor": "x",
         "domain": [
          0,
          1
         ],
         "title": {
          "text": "Mean_clasters_error"
         }
        }
       }
      }
     },
     "metadata": {},
     "output_type": "display_data"
    }
   ],
   "source": [
    "testing_intervals(\n",
    "    model_name=\"basic_tree_classifier\",\n",
    "    model_class=PriceClassifierBasicModel,\n",
    "    hyperparameters_class=DecisionTreeHyperparams,\n",
    "    metric=MetricEnum.MEAN_CLASTERS_ERROR,\n",
    "    intervals_functions=functions,\n",
    "    category_encoding=True,\n",
    "    const_params={\n",
    "        \"criterion\": \"entropy\",\n",
    "        \"splitter\": \"best\",\n",
    "        \"max_depth\": 20,\n",
    "        \"min_samples_split\": 2,\n",
    "        \"min_samples_leaf\": 1,\n",
    "        \"min_weight_fraction_leaf\": 0.0,\n",
    "        \"max_features\": \"sqrt\",\n",
    "        \"max_leaf_nodes\": 37,\n",
    "        \"min_impurity_decrease\": 0.0,\n",
    "        \"ccp_alpha\": 0.0\n",
    "    }\n",
    ")"
   ]
  },
  {
   "cell_type": "code",
   "execution_count": 7,
   "metadata": {},
   "outputs": [
    {
     "name": "stdout",
     "output_type": "stream",
     "text": [
      "[0, 1, 2, 3, 4, 5, 6, 7, 8, 9]\n",
      "Price intervals:\n",
      "585 - 2086\n",
      "2086 - 6584\n",
      "6584 - 14576\n",
      "14576 - 26444\n",
      "26444 - 42711\n",
      "42711 - 64810\n",
      "64810 - 98496\n",
      "98496 - 169378\n",
      "169378 - 393901\n",
      "393901 - 717877\n",
      "PriceClassifierXGBoostModelHyperparams(learning_rate=0.12921360029190918, reg_alpha=8.440813134554679, reg_lambda=6.254500283477481, max_depth=15, n_estimators=486, min_child_weight=6, gamma=0.6304338645485753, subsample=0.8040953946703557, colsample_bytree=0.9651088241133051, max_delta_step=4.410373590930435, colsample_bynode=0.8065733591903823, colsample_bylevel=0.7476323660748343)\n",
      "Mean_clasters_error: 0.24905156552745983\n",
      "[0, 1, 2, 3, 4, 5, 6, 7, 8, 9, 10, 11, 12, 13, 14, 15, 16, 17, 18, 19, 20, 21, 22]\n",
      "Price intervals:\n",
      "585 - 1186\n",
      "1186 - 2719\n",
      "2719 - 5180\n",
      "5180 - 8596\n",
      "8596 - 12990\n",
      "12990 - 18386\n",
      "18386 - 24807\n",
      "24807 - 32280\n",
      "32280 - 40839\n",
      "40839 - 50531\n",
      "50531 - 61428\n",
      "61428 - 73650\n",
      "73650 - 87399\n",
      "87399 - 103026\n",
      "103026 - 121145\n",
      "121145 - 142843\n",
      "142843 - 170044\n",
      "170044 - 206162\n",
      "206162 - 257262\n",
      "257262 - 334123\n",
      "334123 - 455907\n",
      "455907 - 656683\n",
      "656683 - 717877\n",
      "PriceClassifierXGBoostModelHyperparams(learning_rate=0.12921360029190918, reg_alpha=8.440813134554679, reg_lambda=6.254500283477481, max_depth=15, n_estimators=486, min_child_weight=6, gamma=0.6304338645485753, subsample=0.8040953946703557, colsample_bytree=0.9651088241133051, max_delta_step=4.410373590930435, colsample_bynode=0.8065733591903823, colsample_bylevel=0.7476323660748343)\n",
      "Mean_clasters_error: 0.5901962380913607\n",
      "[0, 1, 2, 3, 4, 5, 6, 7, 8, 9, 10, 11, 12, 13, 14, 15, 16, 17, 18, 19, 20, 21, 22, 23, 24, 25, 26, 27, 28, 29]\n",
      "Price intervals:\n",
      "585 - 666\n",
      "666 - 979\n",
      "979 - 1424\n",
      "1424 - 1989\n",
      "1989 - 2669\n",
      "2669 - 3460\n",
      "3460 - 4363\n",
      "4363 - 5378\n",
      "5378 - 6508\n",
      "6508 - 7758\n",
      "7758 - 9137\n",
      "9137 - 10660\n",
      "10660 - 12350\n",
      "12350 - 14244\n",
      "14244 - 16398\n",
      "16398 - 18902\n",
      "18902 - 21892\n",
      "21892 - 25581\n",
      "25581 - 30300\n",
      "30300 - 36559\n",
      "36559 - 45151\n",
      "45151 - 57302\n",
      "57302 - 74913\n",
      "74913 - 100927\n",
      "100927 - 139902\n",
      "139902 - 198899\n",
      "198899 - 288854\n",
      "288854 - 426705\n",
      "426705 - 638685\n",
      "638685 - 717877\n",
      "PriceClassifierXGBoostModelHyperparams(learning_rate=0.12921360029190918, reg_alpha=8.440813134554679, reg_lambda=6.254500283477481, max_depth=15, n_estimators=486, min_child_weight=6, gamma=0.6304338645485753, subsample=0.8040953946703557, colsample_bytree=0.9651088241133051, max_delta_step=4.410373590930435, colsample_bynode=0.8065733591903823, colsample_bylevel=0.7476323660748343)\n",
      "Mean_clasters_error: 0.8295820983029869\n",
      "[0, 1, 2, 3, 4, 5, 6, 7, 8, 9, 10, 11, 12, 13, 14, 15, 16, 17, 18, 19, 20, 21, 22, 23, 24, 25, 26, 27, 28, 29, 30, 31, 32, 33, 34, 35, 36, 37, 38, 39, 40, 41]\n",
      "Price intervals:\n",
      "585 - 636\n",
      "636 - 838\n",
      "838 - 1118\n",
      "1118 - 1470\n",
      "1470 - 1889\n",
      "1889 - 2374\n",
      "2374 - 2924\n",
      "2924 - 3538\n",
      "3538 - 4216\n",
      "4216 - 4958\n",
      "4958 - 5765\n",
      "5765 - 6638\n",
      "6638 - 7579\n",
      "7579 - 8592\n",
      "8592 - 9680\n",
      "9680 - 10849\n",
      "10849 - 12107\n",
      "12107 - 13465\n",
      "13465 - 14937\n",
      "14937 - 16542\n",
      "16542 - 18307\n",
      "18307 - 20268\n",
      "20268 - 22474\n",
      "22474 - 24989\n",
      "24989 - 27902\n",
      "27902 - 31331\n",
      "31331 - 35437\n",
      "35437 - 40437\n",
      "40437 - 46622\n",
      "46622 - 54387\n",
      "54387 - 64263\n",
      "64263 - 76967\n",
      "76967 - 93466\n",
      "93466 - 115065\n",
      "115065 - 143524\n",
      "143524 - 181218\n",
      "181218 - 231349\n",
      "231349 - 298238\n",
      "298238 - 387714\n",
      "387714 - 507639\n",
      "507639 - 668619\n",
      "668619 - 717877\n",
      "PriceClassifierXGBoostModelHyperparams(learning_rate=0.12921360029190918, reg_alpha=8.440813134554679, reg_lambda=6.254500283477481, max_depth=15, n_estimators=486, min_child_weight=6, gamma=0.6304338645485753, subsample=0.8040953946703557, colsample_bytree=0.9651088241133051, max_delta_step=4.410373590930435, colsample_bynode=0.8065733591903823, colsample_bylevel=0.7476323660748343)\n",
      "Mean_clasters_error: 1.2197283122129199\n",
      "[0, 1, 2, 3, 4, 5, 6, 7, 8, 9, 10, 11, 12, 13, 14, 15, 16, 17, 18, 19, 20, 21, 22, 23, 24, 25, 26, 27, 28, 29, 30, 31, 32, 33, 34, 35, 36, 37, 38, 39, 40, 41, 42, 43, 44, 45, 46, 47, 48, 49, 50, 51, 52]\n",
      "Price intervals:\n",
      "585 - 616\n",
      "616 - 767\n",
      "767 - 969\n",
      "969 - 1216\n",
      "1216 - 1506\n",
      "1506 - 1836\n",
      "1836 - 2206\n",
      "2206 - 2614\n",
      "2614 - 3061\n",
      "3061 - 3546\n",
      "3546 - 4069\n",
      "4069 - 4630\n",
      "4630 - 5230\n",
      "5230 - 5869\n",
      "5869 - 6548\n",
      "6548 - 7269\n",
      "7269 - 8032\n",
      "8032 - 8840\n",
      "8840 - 9695\n",
      "9695 - 10601\n",
      "10601 - 11561\n",
      "11561 - 12581\n",
      "12581 - 13667\n",
      "13667 - 14828\n",
      "14828 - 16074\n",
      "16074 - 17419\n",
      "17419 - 18879\n",
      "18879 - 20476\n",
      "20476 - 22236\n",
      "22236 - 24192\n",
      "24192 - 26387\n",
      "26387 - 28874\n",
      "28874 - 31720\n",
      "31720 - 35010\n",
      "35010 - 38849\n",
      "38849 - 43372\n",
      "43372 - 48747\n",
      "48747 - 55185\n",
      "55185 - 62954\n",
      "62954 - 72389\n",
      "72389 - 83914\n",
      "83914 - 98061\n",
      "98061 - 115500\n",
      "115500 - 137075\n",
      "137075 - 163849\n",
      "163849 - 197160\n",
      "197160 - 238691\n",
      "238691 - 290563\n",
      "290563 - 355445\n",
      "355445 - 436696\n",
      "436696 - 538547\n",
      "538547 - 666323\n",
      "666323 - 717877\n",
      "PriceClassifierXGBoostModelHyperparams(learning_rate=0.12921360029190918, reg_alpha=8.440813134554679, reg_lambda=6.254500283477481, max_depth=15, n_estimators=486, min_child_weight=6, gamma=0.6304338645485753, subsample=0.8040953946703557, colsample_bytree=0.9651088241133051, max_delta_step=4.410373590930435, colsample_bynode=0.8065733591903823, colsample_bylevel=0.7476323660748343)\n",
      "Mean_clasters_error: 1.5968853340283773\n",
      "[0, 1, 2, 3, 4, 5, 6, 7, 8, 9, 10, 11, 12, 13, 14, 15, 16, 17, 18, 19, 20, 21, 22, 23, 24, 25, 26, 27, 28, 29, 30, 31, 32, 33, 34, 35, 36, 37, 38, 39, 40, 41, 42, 43, 44, 45, 46, 47, 48, 49, 50, 51, 52, 53, 54, 55, 56, 57, 58, 59, 60, 61, 62, 63, 64]\n",
      "Price intervals:\n",
      "585 - 601\n",
      "601 - 692\n",
      "692 - 812\n",
      "812 - 957\n",
      "957 - 1125\n",
      "1125 - 1314\n",
      "1314 - 1524\n",
      "1524 - 1755\n",
      "1755 - 2006\n",
      "2006 - 2277\n",
      "2277 - 2568\n",
      "2568 - 2879\n",
      "2879 - 3210\n",
      "3210 - 3561\n",
      "3561 - 3932\n",
      "3932 - 4323\n",
      "4323 - 4735\n",
      "4735 - 5169\n",
      "5169 - 5625\n",
      "5625 - 6104\n",
      "6104 - 6607\n",
      "6607 - 7135\n",
      "7135 - 7690\n",
      "7690 - 8274\n",
      "8274 - 8889\n",
      "8889 - 9537\n",
      "9537 - 10223\n",
      "10223 - 10950\n",
      "10950 - 11723\n",
      "11723 - 12548\n",
      "12548 - 13432\n",
      "13432 - 14383\n",
      "14383 - 15412\n",
      "15412 - 16531\n",
      "16531 - 17755\n",
      "17755 - 19102\n",
      "19102 - 20593\n",
      "20593 - 22254\n",
      "22254 - 24116\n",
      "24116 - 26216\n",
      "26216 - 28599\n",
      "28599 - 31319\n",
      "31319 - 34441\n",
      "34441 - 38043\n",
      "38043 - 42218\n",
      "42218 - 47079\n",
      "47079 - 52762\n",
      "52762 - 59429\n",
      "59429 - 67276\n",
      "67276 - 76539\n",
      "76539 - 87501\n",
      "87501 - 100501\n",
      "100501 - 115949\n",
      "115949 - 134337\n",
      "134337 - 156256\n",
      "156256 - 182417\n",
      "182417 - 213675\n",
      "213675 - 251058\n",
      "251058 - 295801\n",
      "295801 - 349389\n",
      "349389 - 413608\n",
      "413608 - 490605\n",
      "490605 - 582961\n",
      "582961 - 693780\n",
      "693780 - 717877\n",
      "PriceClassifierXGBoostModelHyperparams(learning_rate=0.12921360029190918, reg_alpha=8.440813134554679, reg_lambda=6.254500283477481, max_depth=15, n_estimators=486, min_child_weight=6, gamma=0.6304338645485753, subsample=0.8040953946703557, colsample_bytree=0.9651088241133051, max_delta_step=4.410373590930435, colsample_bynode=0.8065733591903823, colsample_bylevel=0.7476323660748343)\n",
      "Mean_clasters_error: 1.8623307645937535\n",
      "[0, 1, 2, 3, 4, 5, 6, 7, 8, 9, 10, 11, 12, 13, 14, 15, 16, 17, 18, 19, 20, 21, 22, 23, 24, 25, 26, 27, 28, 29, 30, 31, 32, 33, 34, 35, 36, 37, 38, 39, 40, 41, 42, 43, 44, 45, 46, 47, 48, 49, 50, 51, 52, 53, 54, 55, 56, 57, 58, 59, 60, 61, 62, 63, 64, 65, 66, 67, 68, 69, 70, 71, 72, 73, 74, 75, 76, 77, 78, 79, 80, 81, 82, 83]\n",
      "Price intervals:\n",
      "585 - 601\n",
      "601 - 672\n",
      "672 - 765\n",
      "765 - 879\n",
      "879 - 1012\n",
      "1012 - 1163\n",
      "1163 - 1333\n",
      "1333 - 1520\n",
      "1520 - 1725\n",
      "1725 - 1948\n",
      "1948 - 2188\n",
      "2188 - 2445\n",
      "2445 - 2720\n",
      "2720 - 3012\n",
      "3012 - 3321\n",
      "3321 - 3648\n",
      "3648 - 3992\n",
      "3992 - 4354\n",
      "4354 - 4734\n",
      "4734 - 5132\n",
      "5132 - 5548\n",
      "5548 - 5982\n",
      "5982 - 6435\n",
      "6435 - 6907\n",
      "6907 - 7399\n",
      "7399 - 7911\n",
      "7911 - 8443\n",
      "8443 - 8997\n",
      "8997 - 9573\n",
      "9573 - 10172\n",
      "10172 - 10795\n",
      "10795 - 11443\n",
      "11443 - 12118\n",
      "12118 - 12821\n",
      "12821 - 13554\n",
      "13554 - 14319\n",
      "14319 - 15118\n",
      "15118 - 15954\n",
      "15954 - 16831\n",
      "16831 - 17751\n",
      "17751 - 18720\n",
      "18720 - 19741\n",
      "19741 - 20821\n",
      "20821 - 21966\n",
      "21966 - 23183\n",
      "23183 - 24480\n",
      "24480 - 25867\n",
      "25867 - 27355\n",
      "27355 - 28956\n",
      "28956 - 30685\n",
      "30685 - 32559\n",
      "32559 - 34597\n",
      "34597 - 36820\n",
      "36820 - 39254\n",
      "39254 - 41928\n",
      "41928 - 44875\n",
      "44875 - 48133\n",
      "48133 - 51746\n",
      "51746 - 55764\n",
      "55764 - 60245\n",
      "60245 - 65256\n",
      "65256 - 70872\n",
      "70872 - 77181\n",
      "77181 - 84283\n",
      "84283 - 92293\n",
      "92293 - 101344\n",
      "101344 - 111587\n",
      "111587 - 123197\n",
      "123197 - 136373\n",
      "136373 - 151346\n",
      "151346 - 168380\n",
      "168380 - 187777\n",
      "187777 - 209886\n",
      "209886 - 235106\n",
      "235106 - 263895\n",
      "263895 - 296780\n",
      "296780 - 334365\n",
      "334365 - 377345\n",
      "377345 - 426517\n",
      "426517 - 482795\n",
      "482795 - 547230\n",
      "547230 - 621029\n",
      "621029 - 705576\n",
      "705576 - 717877\n",
      "PriceClassifierXGBoostModelHyperparams(learning_rate=0.12921360029190918, reg_alpha=8.440813134554679, reg_lambda=6.254500283477481, max_depth=15, n_estimators=486, min_child_weight=6, gamma=0.6304338645485753, subsample=0.8040953946703557, colsample_bytree=0.9651088241133051, max_delta_step=4.410373590930435, colsample_bynode=0.8065733591903823, colsample_bylevel=0.7476323660748343)\n",
      "Mean_clasters_error: 2.619929927483093\n",
      "[0, 1, 2, 3, 4, 5, 6, 7, 8, 9, 10, 11, 12, 13, 14, 15, 16, 17, 18, 19, 20, 21, 22, 23, 24, 25, 26, 27, 28, 29, 30, 31, 32, 33, 34, 35, 36, 37, 38, 39, 40, 41, 42, 43, 44, 45, 46, 47, 48, 49, 50, 51, 52, 53, 54, 55, 56, 57, 58, 59, 60, 61, 62, 63, 64, 65, 66, 67, 68, 69, 70, 71, 72, 73, 74, 75, 76, 77, 78, 79, 80, 81, 82, 83, 84, 85, 86, 87, 88, 89, 90, 91, 92, 93, 94, 95, 96, 97, 98]\n",
      "Price intervals:\n",
      "585 - 596\n",
      "596 - 647\n",
      "647 - 712\n",
      "712 - 790\n",
      "790 - 881\n",
      "881 - 984\n",
      "984 - 1099\n",
      "1099 - 1225\n",
      "1225 - 1363\n",
      "1363 - 1512\n",
      "1512 - 1673\n",
      "1673 - 1845\n",
      "1845 - 2028\n",
      "2028 - 2223\n",
      "2223 - 2429\n",
      "2429 - 2647\n",
      "2647 - 2876\n",
      "2876 - 3116\n",
      "3116 - 3368\n",
      "3368 - 3632\n",
      "3632 - 3907\n",
      "3907 - 4194\n",
      "4194 - 4493\n",
      "4493 - 4804\n",
      "4804 - 5128\n",
      "5128 - 5464\n",
      "5464 - 5813\n",
      "5813 - 6175\n",
      "6175 - 6550\n",
      "6550 - 6939\n",
      "6939 - 7341\n",
      "7341 - 7758\n",
      "7758 - 8190\n",
      "8190 - 8637\n",
      "8637 - 9100\n",
      "9100 - 9579\n",
      "9579 - 10076\n",
      "10076 - 10591\n",
      "10591 - 11125\n",
      "11125 - 11679\n",
      "11679 - 12254\n",
      "12254 - 12852\n",
      "12852 - 13474\n",
      "13474 - 14122\n",
      "14122 - 14797\n",
      "14797 - 15502\n",
      "15502 - 16239\n",
      "16239 - 17011\n",
      "17011 - 17821\n",
      "17821 - 18672\n",
      "18672 - 19567\n",
      "19567 - 20511\n",
      "20511 - 21509\n",
      "21509 - 22566\n",
      "22566 - 23688\n",
      "23688 - 24881\n",
      "24881 - 26153\n",
      "26153 - 27513\n",
      "27513 - 28969\n",
      "28969 - 30532\n",
      "30532 - 32215\n",
      "32215 - 34030\n",
      "34030 - 35992\n",
      "35992 - 38118\n",
      "38118 - 40427\n",
      "40427 - 42939\n",
      "42939 - 45679\n",
      "45679 - 48673\n",
      "48673 - 51950\n",
      "51950 - 55544\n",
      "55544 - 59492\n",
      "59492 - 63836\n",
      "63836 - 68623\n",
      "68623 - 73906\n",
      "73906 - 79745\n",
      "79745 - 86206\n",
      "86206 - 93363\n",
      "93363 - 101300\n",
      "101300 - 110111\n",
      "110111 - 119902\n",
      "119902 - 130791\n",
      "130791 - 142910\n",
      "142910 - 156409\n",
      "156409 - 171454\n",
      "171454 - 188233\n",
      "188233 - 206956\n",
      "206956 - 227859\n",
      "227859 - 251207\n",
      "251207 - 277297\n",
      "277297 - 306462\n",
      "306462 - 339076\n",
      "339076 - 375559\n",
      "375559 - 416382\n",
      "416382 - 462073\n",
      "462073 - 513224\n",
      "513224 - 570501\n",
      "570501 - 634650\n",
      "634650 - 706508\n",
      "706508 - 717877\n",
      "PriceClassifierXGBoostModelHyperparams(learning_rate=0.12921360029190918, reg_alpha=8.440813134554679, reg_lambda=6.254500283477481, max_depth=15, n_estimators=486, min_child_weight=6, gamma=0.6304338645485753, subsample=0.8040953946703557, colsample_bytree=0.9651088241133051, max_delta_step=4.410373590930435, colsample_bynode=0.8065733591903823, colsample_bylevel=0.7476323660748343)\n",
      "Mean_clasters_error: 3.028085217362956\n"
     ]
    },
    {
     "data": {
      "application/vnd.plotly.v1+json": {
       "config": {
        "plotlyServerURL": "https://plot.ly"
       },
       "data": [
        {
         "hovertemplate": "Number of Intervals=%{x}<br>Mean_clasters_error=%{y}<extra></extra>",
         "legendgroup": "",
         "marker": {
          "color": "#636efa",
          "symbol": "circle"
         },
         "mode": "markers+lines",
         "name": "",
         "orientation": "v",
         "showlegend": false,
         "type": "scatter",
         "x": [
          10,
          23,
          30,
          42,
          53,
          65,
          84,
          99
         ],
         "xaxis": "x",
         "y": [
          0.24905156552745983,
          0.5901962380913607,
          0.8295820983029869,
          1.2197283122129199,
          1.5968853340283773,
          1.8623307645937535,
          2.619929927483093,
          3.028085217362956
         ],
         "yaxis": "y"
        }
       ],
       "layout": {
        "legend": {
         "tracegroupgap": 0
        },
        "template": {
         "data": {
          "bar": [
           {
            "error_x": {
             "color": "#2a3f5f"
            },
            "error_y": {
             "color": "#2a3f5f"
            },
            "marker": {
             "line": {
              "color": "#E5ECF6",
              "width": 0.5
             },
             "pattern": {
              "fillmode": "overlay",
              "size": 10,
              "solidity": 0.2
             }
            },
            "type": "bar"
           }
          ],
          "barpolar": [
           {
            "marker": {
             "line": {
              "color": "#E5ECF6",
              "width": 0.5
             },
             "pattern": {
              "fillmode": "overlay",
              "size": 10,
              "solidity": 0.2
             }
            },
            "type": "barpolar"
           }
          ],
          "carpet": [
           {
            "aaxis": {
             "endlinecolor": "#2a3f5f",
             "gridcolor": "white",
             "linecolor": "white",
             "minorgridcolor": "white",
             "startlinecolor": "#2a3f5f"
            },
            "baxis": {
             "endlinecolor": "#2a3f5f",
             "gridcolor": "white",
             "linecolor": "white",
             "minorgridcolor": "white",
             "startlinecolor": "#2a3f5f"
            },
            "type": "carpet"
           }
          ],
          "choropleth": [
           {
            "colorbar": {
             "outlinewidth": 0,
             "ticks": ""
            },
            "type": "choropleth"
           }
          ],
          "contour": [
           {
            "colorbar": {
             "outlinewidth": 0,
             "ticks": ""
            },
            "colorscale": [
             [
              0,
              "#0d0887"
             ],
             [
              0.1111111111111111,
              "#46039f"
             ],
             [
              0.2222222222222222,
              "#7201a8"
             ],
             [
              0.3333333333333333,
              "#9c179e"
             ],
             [
              0.4444444444444444,
              "#bd3786"
             ],
             [
              0.5555555555555556,
              "#d8576b"
             ],
             [
              0.6666666666666666,
              "#ed7953"
             ],
             [
              0.7777777777777778,
              "#fb9f3a"
             ],
             [
              0.8888888888888888,
              "#fdca26"
             ],
             [
              1,
              "#f0f921"
             ]
            ],
            "type": "contour"
           }
          ],
          "contourcarpet": [
           {
            "colorbar": {
             "outlinewidth": 0,
             "ticks": ""
            },
            "type": "contourcarpet"
           }
          ],
          "heatmap": [
           {
            "colorbar": {
             "outlinewidth": 0,
             "ticks": ""
            },
            "colorscale": [
             [
              0,
              "#0d0887"
             ],
             [
              0.1111111111111111,
              "#46039f"
             ],
             [
              0.2222222222222222,
              "#7201a8"
             ],
             [
              0.3333333333333333,
              "#9c179e"
             ],
             [
              0.4444444444444444,
              "#bd3786"
             ],
             [
              0.5555555555555556,
              "#d8576b"
             ],
             [
              0.6666666666666666,
              "#ed7953"
             ],
             [
              0.7777777777777778,
              "#fb9f3a"
             ],
             [
              0.8888888888888888,
              "#fdca26"
             ],
             [
              1,
              "#f0f921"
             ]
            ],
            "type": "heatmap"
           }
          ],
          "heatmapgl": [
           {
            "colorbar": {
             "outlinewidth": 0,
             "ticks": ""
            },
            "colorscale": [
             [
              0,
              "#0d0887"
             ],
             [
              0.1111111111111111,
              "#46039f"
             ],
             [
              0.2222222222222222,
              "#7201a8"
             ],
             [
              0.3333333333333333,
              "#9c179e"
             ],
             [
              0.4444444444444444,
              "#bd3786"
             ],
             [
              0.5555555555555556,
              "#d8576b"
             ],
             [
              0.6666666666666666,
              "#ed7953"
             ],
             [
              0.7777777777777778,
              "#fb9f3a"
             ],
             [
              0.8888888888888888,
              "#fdca26"
             ],
             [
              1,
              "#f0f921"
             ]
            ],
            "type": "heatmapgl"
           }
          ],
          "histogram": [
           {
            "marker": {
             "pattern": {
              "fillmode": "overlay",
              "size": 10,
              "solidity": 0.2
             }
            },
            "type": "histogram"
           }
          ],
          "histogram2d": [
           {
            "colorbar": {
             "outlinewidth": 0,
             "ticks": ""
            },
            "colorscale": [
             [
              0,
              "#0d0887"
             ],
             [
              0.1111111111111111,
              "#46039f"
             ],
             [
              0.2222222222222222,
              "#7201a8"
             ],
             [
              0.3333333333333333,
              "#9c179e"
             ],
             [
              0.4444444444444444,
              "#bd3786"
             ],
             [
              0.5555555555555556,
              "#d8576b"
             ],
             [
              0.6666666666666666,
              "#ed7953"
             ],
             [
              0.7777777777777778,
              "#fb9f3a"
             ],
             [
              0.8888888888888888,
              "#fdca26"
             ],
             [
              1,
              "#f0f921"
             ]
            ],
            "type": "histogram2d"
           }
          ],
          "histogram2dcontour": [
           {
            "colorbar": {
             "outlinewidth": 0,
             "ticks": ""
            },
            "colorscale": [
             [
              0,
              "#0d0887"
             ],
             [
              0.1111111111111111,
              "#46039f"
             ],
             [
              0.2222222222222222,
              "#7201a8"
             ],
             [
              0.3333333333333333,
              "#9c179e"
             ],
             [
              0.4444444444444444,
              "#bd3786"
             ],
             [
              0.5555555555555556,
              "#d8576b"
             ],
             [
              0.6666666666666666,
              "#ed7953"
             ],
             [
              0.7777777777777778,
              "#fb9f3a"
             ],
             [
              0.8888888888888888,
              "#fdca26"
             ],
             [
              1,
              "#f0f921"
             ]
            ],
            "type": "histogram2dcontour"
           }
          ],
          "mesh3d": [
           {
            "colorbar": {
             "outlinewidth": 0,
             "ticks": ""
            },
            "type": "mesh3d"
           }
          ],
          "parcoords": [
           {
            "line": {
             "colorbar": {
              "outlinewidth": 0,
              "ticks": ""
             }
            },
            "type": "parcoords"
           }
          ],
          "pie": [
           {
            "automargin": true,
            "type": "pie"
           }
          ],
          "scatter": [
           {
            "fillpattern": {
             "fillmode": "overlay",
             "size": 10,
             "solidity": 0.2
            },
            "type": "scatter"
           }
          ],
          "scatter3d": [
           {
            "line": {
             "colorbar": {
              "outlinewidth": 0,
              "ticks": ""
             }
            },
            "marker": {
             "colorbar": {
              "outlinewidth": 0,
              "ticks": ""
             }
            },
            "type": "scatter3d"
           }
          ],
          "scattercarpet": [
           {
            "marker": {
             "colorbar": {
              "outlinewidth": 0,
              "ticks": ""
             }
            },
            "type": "scattercarpet"
           }
          ],
          "scattergeo": [
           {
            "marker": {
             "colorbar": {
              "outlinewidth": 0,
              "ticks": ""
             }
            },
            "type": "scattergeo"
           }
          ],
          "scattergl": [
           {
            "marker": {
             "colorbar": {
              "outlinewidth": 0,
              "ticks": ""
             }
            },
            "type": "scattergl"
           }
          ],
          "scattermapbox": [
           {
            "marker": {
             "colorbar": {
              "outlinewidth": 0,
              "ticks": ""
             }
            },
            "type": "scattermapbox"
           }
          ],
          "scatterpolar": [
           {
            "marker": {
             "colorbar": {
              "outlinewidth": 0,
              "ticks": ""
             }
            },
            "type": "scatterpolar"
           }
          ],
          "scatterpolargl": [
           {
            "marker": {
             "colorbar": {
              "outlinewidth": 0,
              "ticks": ""
             }
            },
            "type": "scatterpolargl"
           }
          ],
          "scatterternary": [
           {
            "marker": {
             "colorbar": {
              "outlinewidth": 0,
              "ticks": ""
             }
            },
            "type": "scatterternary"
           }
          ],
          "surface": [
           {
            "colorbar": {
             "outlinewidth": 0,
             "ticks": ""
            },
            "colorscale": [
             [
              0,
              "#0d0887"
             ],
             [
              0.1111111111111111,
              "#46039f"
             ],
             [
              0.2222222222222222,
              "#7201a8"
             ],
             [
              0.3333333333333333,
              "#9c179e"
             ],
             [
              0.4444444444444444,
              "#bd3786"
             ],
             [
              0.5555555555555556,
              "#d8576b"
             ],
             [
              0.6666666666666666,
              "#ed7953"
             ],
             [
              0.7777777777777778,
              "#fb9f3a"
             ],
             [
              0.8888888888888888,
              "#fdca26"
             ],
             [
              1,
              "#f0f921"
             ]
            ],
            "type": "surface"
           }
          ],
          "table": [
           {
            "cells": {
             "fill": {
              "color": "#EBF0F8"
             },
             "line": {
              "color": "white"
             }
            },
            "header": {
             "fill": {
              "color": "#C8D4E3"
             },
             "line": {
              "color": "white"
             }
            },
            "type": "table"
           }
          ]
         },
         "layout": {
          "annotationdefaults": {
           "arrowcolor": "#2a3f5f",
           "arrowhead": 0,
           "arrowwidth": 1
          },
          "autotypenumbers": "strict",
          "coloraxis": {
           "colorbar": {
            "outlinewidth": 0,
            "ticks": ""
           }
          },
          "colorscale": {
           "diverging": [
            [
             0,
             "#8e0152"
            ],
            [
             0.1,
             "#c51b7d"
            ],
            [
             0.2,
             "#de77ae"
            ],
            [
             0.3,
             "#f1b6da"
            ],
            [
             0.4,
             "#fde0ef"
            ],
            [
             0.5,
             "#f7f7f7"
            ],
            [
             0.6,
             "#e6f5d0"
            ],
            [
             0.7,
             "#b8e186"
            ],
            [
             0.8,
             "#7fbc41"
            ],
            [
             0.9,
             "#4d9221"
            ],
            [
             1,
             "#276419"
            ]
           ],
           "sequential": [
            [
             0,
             "#0d0887"
            ],
            [
             0.1111111111111111,
             "#46039f"
            ],
            [
             0.2222222222222222,
             "#7201a8"
            ],
            [
             0.3333333333333333,
             "#9c179e"
            ],
            [
             0.4444444444444444,
             "#bd3786"
            ],
            [
             0.5555555555555556,
             "#d8576b"
            ],
            [
             0.6666666666666666,
             "#ed7953"
            ],
            [
             0.7777777777777778,
             "#fb9f3a"
            ],
            [
             0.8888888888888888,
             "#fdca26"
            ],
            [
             1,
             "#f0f921"
            ]
           ],
           "sequentialminus": [
            [
             0,
             "#0d0887"
            ],
            [
             0.1111111111111111,
             "#46039f"
            ],
            [
             0.2222222222222222,
             "#7201a8"
            ],
            [
             0.3333333333333333,
             "#9c179e"
            ],
            [
             0.4444444444444444,
             "#bd3786"
            ],
            [
             0.5555555555555556,
             "#d8576b"
            ],
            [
             0.6666666666666666,
             "#ed7953"
            ],
            [
             0.7777777777777778,
             "#fb9f3a"
            ],
            [
             0.8888888888888888,
             "#fdca26"
            ],
            [
             1,
             "#f0f921"
            ]
           ]
          },
          "colorway": [
           "#636efa",
           "#EF553B",
           "#00cc96",
           "#ab63fa",
           "#FFA15A",
           "#19d3f3",
           "#FF6692",
           "#B6E880",
           "#FF97FF",
           "#FECB52"
          ],
          "font": {
           "color": "#2a3f5f"
          },
          "geo": {
           "bgcolor": "white",
           "lakecolor": "white",
           "landcolor": "#E5ECF6",
           "showlakes": true,
           "showland": true,
           "subunitcolor": "white"
          },
          "hoverlabel": {
           "align": "left"
          },
          "hovermode": "closest",
          "mapbox": {
           "style": "light"
          },
          "paper_bgcolor": "white",
          "plot_bgcolor": "#E5ECF6",
          "polar": {
           "angularaxis": {
            "gridcolor": "white",
            "linecolor": "white",
            "ticks": ""
           },
           "bgcolor": "#E5ECF6",
           "radialaxis": {
            "gridcolor": "white",
            "linecolor": "white",
            "ticks": ""
           }
          },
          "scene": {
           "xaxis": {
            "backgroundcolor": "#E5ECF6",
            "gridcolor": "white",
            "gridwidth": 2,
            "linecolor": "white",
            "showbackground": true,
            "ticks": "",
            "zerolinecolor": "white"
           },
           "yaxis": {
            "backgroundcolor": "#E5ECF6",
            "gridcolor": "white",
            "gridwidth": 2,
            "linecolor": "white",
            "showbackground": true,
            "ticks": "",
            "zerolinecolor": "white"
           },
           "zaxis": {
            "backgroundcolor": "#E5ECF6",
            "gridcolor": "white",
            "gridwidth": 2,
            "linecolor": "white",
            "showbackground": true,
            "ticks": "",
            "zerolinecolor": "white"
           }
          },
          "shapedefaults": {
           "line": {
            "color": "#2a3f5f"
           }
          },
          "ternary": {
           "aaxis": {
            "gridcolor": "white",
            "linecolor": "white",
            "ticks": ""
           },
           "baxis": {
            "gridcolor": "white",
            "linecolor": "white",
            "ticks": ""
           },
           "bgcolor": "#E5ECF6",
           "caxis": {
            "gridcolor": "white",
            "linecolor": "white",
            "ticks": ""
           }
          },
          "title": {
           "x": 0.05
          },
          "xaxis": {
           "automargin": true,
           "gridcolor": "white",
           "linecolor": "white",
           "ticks": "",
           "title": {
            "standoff": 15
           },
           "zerolinecolor": "white",
           "zerolinewidth": 2
          },
          "yaxis": {
           "automargin": true,
           "gridcolor": "white",
           "linecolor": "white",
           "ticks": "",
           "title": {
            "standoff": 15
           },
           "zerolinecolor": "white",
           "zerolinewidth": 2
          }
         }
        },
        "title": {
         "text": "Metric Score vs. Number of Intervals"
        },
        "xaxis": {
         "anchor": "y",
         "domain": [
          0,
          1
         ],
         "title": {
          "text": "Number of Intervals"
         }
        },
        "yaxis": {
         "anchor": "x",
         "domain": [
          0,
          1
         ],
         "title": {
          "text": "Mean_clasters_error"
         }
        }
       }
      }
     },
     "metadata": {},
     "output_type": "display_data"
    }
   ],
   "source": [
    "testing_intervals(\n",
    "    model_name=\"xgboost_classifier\",\n",
    "    model_class=PriceClassifierXGBoostModel,\n",
    "    hyperparameters_class=PriceClassifierXGBoostModelHyperparams,\n",
    "    metric=MetricEnum.MEAN_CLASTERS_ERROR,\n",
    "    intervals_functions=functions,\n",
    "    gpu_mode=False,\n",
    "    const_params={\n",
    "        \"learning_rate\": 0.12921360029190918,\n",
    "        \"reg_alpha\": 8.440813134554679,\n",
    "        \"reg_lambda\": 6.254500283477481,\n",
    "        \"max_depth\": 15,\n",
    "        \"n_estimators\": 486,\n",
    "        \"min_child_weight\": 6,\n",
    "        \"gamma\": 0.6304338645485753,\n",
    "        \"subsample\": 0.8040953946703557,\n",
    "        \"colsample_bytree\": 0.9651088241133051,\n",
    "        \"max_delta_step\": 4.410373590930435,\n",
    "        \"colsample_bynode\": 0.8065733591903823,\n",
    "        \"colsample_bylevel\": 0.7476323660748343\n",
    "    },\n",
    ")"
   ]
  },
  {
   "cell_type": "code",
   "execution_count": 8,
   "metadata": {},
   "outputs": [
    {
     "name": "stdout",
     "output_type": "stream",
     "text": [
      "Classification metrics:\n",
      "   Accuracy: 0.8473\n",
      "  Precision: 0.8477\n",
      "  Recall: 0.8473\n",
      "  F1 Score: 0.8473\n",
      "  Mean Classes Error: 0.1576\n",
      "  Ideal Distance: 0.3052\n",
      "Classification metrics:\n",
      "   Accuracy: 0.7020\n",
      "  Precision: 0.7030\n",
      "  Recall: 0.7020\n",
      "  F1 Score: 0.7021\n",
      "  Mean Classes Error: 0.3399\n",
      "  Ideal Distance: 0.5954\n",
      "Classification metrics:\n",
      "   Accuracy: 0.6333\n",
      "  Precision: 0.6363\n",
      "  Recall: 0.6333\n",
      "  F1 Score: 0.6339\n",
      "  Mean Classes Error: 0.4769\n",
      "  Ideal Distance: 0.7316\n",
      "Classification metrics:\n",
      "   Accuracy: 0.5352\n",
      "  Precision: 0.5392\n",
      "  Recall: 0.5352\n",
      "  F1 Score: 0.5362\n",
      "  Mean Classes Error: 0.6823\n",
      "  Ideal Distance: 0.9271\n",
      "Classification metrics:\n",
      "   Accuracy: 0.4719\n",
      "  Precision: 0.4765\n",
      "  Recall: 0.4719\n",
      "  F1 Score: 0.4731\n",
      "  Mean Classes Error: 0.8655\n",
      "  Ideal Distance: 1.0532\n",
      "Classification metrics:\n",
      "   Accuracy: 0.4396\n",
      "  Precision: 0.4443\n",
      "  Recall: 0.4396\n",
      "  F1 Score: 0.4407\n",
      "  Mean Classes Error: 0.9959\n",
      "  Ideal Distance: 1.1179\n",
      "Classification metrics:\n",
      "   Accuracy: 0.3457\n",
      "  Precision: 0.3522\n",
      "  Recall: 0.3457\n",
      "  F1 Score: 0.3474\n",
      "  Mean Classes Error: 1.3593\n",
      "  Ideal Distance: 1.3045\n",
      "Classification metrics:\n",
      "   Accuracy: 0.3122\n",
      "  Precision: 0.3208\n",
      "  Recall: 0.3122\n",
      "  F1 Score: 0.3144\n",
      "  Mean Classes Error: 1.5633\n",
      "  Ideal Distance: 1.3703\n"
     ]
    },
    {
     "data": {
      "application/vnd.plotly.v1+json": {
       "config": {
        "plotlyServerURL": "https://plot.ly"
       },
       "data": [
        {
         "hovertemplate": "Number of Intervals=%{x}<br>Mean_clasters_error=%{y}<extra></extra>",
         "legendgroup": "",
         "marker": {
          "color": "#636efa",
          "symbol": "circle"
         },
         "mode": "markers+lines",
         "name": "",
         "orientation": "v",
         "showlegend": false,
         "type": "scatter",
         "x": [
          10,
          23,
          30,
          42,
          53,
          65,
          84,
          99
         ],
         "xaxis": "x",
         "y": [
          0.1576068376068376,
          0.3398778998778999,
          0.47687423687423686,
          0.6823117623117623,
          0.8654945054945055,
          0.9959462759462759,
          1.3592511192511192,
          1.5633048433048433
         ],
         "yaxis": "y"
        }
       ],
       "layout": {
        "legend": {
         "tracegroupgap": 0
        },
        "template": {
         "data": {
          "bar": [
           {
            "error_x": {
             "color": "#2a3f5f"
            },
            "error_y": {
             "color": "#2a3f5f"
            },
            "marker": {
             "line": {
              "color": "#E5ECF6",
              "width": 0.5
             },
             "pattern": {
              "fillmode": "overlay",
              "size": 10,
              "solidity": 0.2
             }
            },
            "type": "bar"
           }
          ],
          "barpolar": [
           {
            "marker": {
             "line": {
              "color": "#E5ECF6",
              "width": 0.5
             },
             "pattern": {
              "fillmode": "overlay",
              "size": 10,
              "solidity": 0.2
             }
            },
            "type": "barpolar"
           }
          ],
          "carpet": [
           {
            "aaxis": {
             "endlinecolor": "#2a3f5f",
             "gridcolor": "white",
             "linecolor": "white",
             "minorgridcolor": "white",
             "startlinecolor": "#2a3f5f"
            },
            "baxis": {
             "endlinecolor": "#2a3f5f",
             "gridcolor": "white",
             "linecolor": "white",
             "minorgridcolor": "white",
             "startlinecolor": "#2a3f5f"
            },
            "type": "carpet"
           }
          ],
          "choropleth": [
           {
            "colorbar": {
             "outlinewidth": 0,
             "ticks": ""
            },
            "type": "choropleth"
           }
          ],
          "contour": [
           {
            "colorbar": {
             "outlinewidth": 0,
             "ticks": ""
            },
            "colorscale": [
             [
              0,
              "#0d0887"
             ],
             [
              0.1111111111111111,
              "#46039f"
             ],
             [
              0.2222222222222222,
              "#7201a8"
             ],
             [
              0.3333333333333333,
              "#9c179e"
             ],
             [
              0.4444444444444444,
              "#bd3786"
             ],
             [
              0.5555555555555556,
              "#d8576b"
             ],
             [
              0.6666666666666666,
              "#ed7953"
             ],
             [
              0.7777777777777778,
              "#fb9f3a"
             ],
             [
              0.8888888888888888,
              "#fdca26"
             ],
             [
              1,
              "#f0f921"
             ]
            ],
            "type": "contour"
           }
          ],
          "contourcarpet": [
           {
            "colorbar": {
             "outlinewidth": 0,
             "ticks": ""
            },
            "type": "contourcarpet"
           }
          ],
          "heatmap": [
           {
            "colorbar": {
             "outlinewidth": 0,
             "ticks": ""
            },
            "colorscale": [
             [
              0,
              "#0d0887"
             ],
             [
              0.1111111111111111,
              "#46039f"
             ],
             [
              0.2222222222222222,
              "#7201a8"
             ],
             [
              0.3333333333333333,
              "#9c179e"
             ],
             [
              0.4444444444444444,
              "#bd3786"
             ],
             [
              0.5555555555555556,
              "#d8576b"
             ],
             [
              0.6666666666666666,
              "#ed7953"
             ],
             [
              0.7777777777777778,
              "#fb9f3a"
             ],
             [
              0.8888888888888888,
              "#fdca26"
             ],
             [
              1,
              "#f0f921"
             ]
            ],
            "type": "heatmap"
           }
          ],
          "heatmapgl": [
           {
            "colorbar": {
             "outlinewidth": 0,
             "ticks": ""
            },
            "colorscale": [
             [
              0,
              "#0d0887"
             ],
             [
              0.1111111111111111,
              "#46039f"
             ],
             [
              0.2222222222222222,
              "#7201a8"
             ],
             [
              0.3333333333333333,
              "#9c179e"
             ],
             [
              0.4444444444444444,
              "#bd3786"
             ],
             [
              0.5555555555555556,
              "#d8576b"
             ],
             [
              0.6666666666666666,
              "#ed7953"
             ],
             [
              0.7777777777777778,
              "#fb9f3a"
             ],
             [
              0.8888888888888888,
              "#fdca26"
             ],
             [
              1,
              "#f0f921"
             ]
            ],
            "type": "heatmapgl"
           }
          ],
          "histogram": [
           {
            "marker": {
             "pattern": {
              "fillmode": "overlay",
              "size": 10,
              "solidity": 0.2
             }
            },
            "type": "histogram"
           }
          ],
          "histogram2d": [
           {
            "colorbar": {
             "outlinewidth": 0,
             "ticks": ""
            },
            "colorscale": [
             [
              0,
              "#0d0887"
             ],
             [
              0.1111111111111111,
              "#46039f"
             ],
             [
              0.2222222222222222,
              "#7201a8"
             ],
             [
              0.3333333333333333,
              "#9c179e"
             ],
             [
              0.4444444444444444,
              "#bd3786"
             ],
             [
              0.5555555555555556,
              "#d8576b"
             ],
             [
              0.6666666666666666,
              "#ed7953"
             ],
             [
              0.7777777777777778,
              "#fb9f3a"
             ],
             [
              0.8888888888888888,
              "#fdca26"
             ],
             [
              1,
              "#f0f921"
             ]
            ],
            "type": "histogram2d"
           }
          ],
          "histogram2dcontour": [
           {
            "colorbar": {
             "outlinewidth": 0,
             "ticks": ""
            },
            "colorscale": [
             [
              0,
              "#0d0887"
             ],
             [
              0.1111111111111111,
              "#46039f"
             ],
             [
              0.2222222222222222,
              "#7201a8"
             ],
             [
              0.3333333333333333,
              "#9c179e"
             ],
             [
              0.4444444444444444,
              "#bd3786"
             ],
             [
              0.5555555555555556,
              "#d8576b"
             ],
             [
              0.6666666666666666,
              "#ed7953"
             ],
             [
              0.7777777777777778,
              "#fb9f3a"
             ],
             [
              0.8888888888888888,
              "#fdca26"
             ],
             [
              1,
              "#f0f921"
             ]
            ],
            "type": "histogram2dcontour"
           }
          ],
          "mesh3d": [
           {
            "colorbar": {
             "outlinewidth": 0,
             "ticks": ""
            },
            "type": "mesh3d"
           }
          ],
          "parcoords": [
           {
            "line": {
             "colorbar": {
              "outlinewidth": 0,
              "ticks": ""
             }
            },
            "type": "parcoords"
           }
          ],
          "pie": [
           {
            "automargin": true,
            "type": "pie"
           }
          ],
          "scatter": [
           {
            "fillpattern": {
             "fillmode": "overlay",
             "size": 10,
             "solidity": 0.2
            },
            "type": "scatter"
           }
          ],
          "scatter3d": [
           {
            "line": {
             "colorbar": {
              "outlinewidth": 0,
              "ticks": ""
             }
            },
            "marker": {
             "colorbar": {
              "outlinewidth": 0,
              "ticks": ""
             }
            },
            "type": "scatter3d"
           }
          ],
          "scattercarpet": [
           {
            "marker": {
             "colorbar": {
              "outlinewidth": 0,
              "ticks": ""
             }
            },
            "type": "scattercarpet"
           }
          ],
          "scattergeo": [
           {
            "marker": {
             "colorbar": {
              "outlinewidth": 0,
              "ticks": ""
             }
            },
            "type": "scattergeo"
           }
          ],
          "scattergl": [
           {
            "marker": {
             "colorbar": {
              "outlinewidth": 0,
              "ticks": ""
             }
            },
            "type": "scattergl"
           }
          ],
          "scattermapbox": [
           {
            "marker": {
             "colorbar": {
              "outlinewidth": 0,
              "ticks": ""
             }
            },
            "type": "scattermapbox"
           }
          ],
          "scatterpolar": [
           {
            "marker": {
             "colorbar": {
              "outlinewidth": 0,
              "ticks": ""
             }
            },
            "type": "scatterpolar"
           }
          ],
          "scatterpolargl": [
           {
            "marker": {
             "colorbar": {
              "outlinewidth": 0,
              "ticks": ""
             }
            },
            "type": "scatterpolargl"
           }
          ],
          "scatterternary": [
           {
            "marker": {
             "colorbar": {
              "outlinewidth": 0,
              "ticks": ""
             }
            },
            "type": "scatterternary"
           }
          ],
          "surface": [
           {
            "colorbar": {
             "outlinewidth": 0,
             "ticks": ""
            },
            "colorscale": [
             [
              0,
              "#0d0887"
             ],
             [
              0.1111111111111111,
              "#46039f"
             ],
             [
              0.2222222222222222,
              "#7201a8"
             ],
             [
              0.3333333333333333,
              "#9c179e"
             ],
             [
              0.4444444444444444,
              "#bd3786"
             ],
             [
              0.5555555555555556,
              "#d8576b"
             ],
             [
              0.6666666666666666,
              "#ed7953"
             ],
             [
              0.7777777777777778,
              "#fb9f3a"
             ],
             [
              0.8888888888888888,
              "#fdca26"
             ],
             [
              1,
              "#f0f921"
             ]
            ],
            "type": "surface"
           }
          ],
          "table": [
           {
            "cells": {
             "fill": {
              "color": "#EBF0F8"
             },
             "line": {
              "color": "white"
             }
            },
            "header": {
             "fill": {
              "color": "#C8D4E3"
             },
             "line": {
              "color": "white"
             }
            },
            "type": "table"
           }
          ]
         },
         "layout": {
          "annotationdefaults": {
           "arrowcolor": "#2a3f5f",
           "arrowhead": 0,
           "arrowwidth": 1
          },
          "autotypenumbers": "strict",
          "coloraxis": {
           "colorbar": {
            "outlinewidth": 0,
            "ticks": ""
           }
          },
          "colorscale": {
           "diverging": [
            [
             0,
             "#8e0152"
            ],
            [
             0.1,
             "#c51b7d"
            ],
            [
             0.2,
             "#de77ae"
            ],
            [
             0.3,
             "#f1b6da"
            ],
            [
             0.4,
             "#fde0ef"
            ],
            [
             0.5,
             "#f7f7f7"
            ],
            [
             0.6,
             "#e6f5d0"
            ],
            [
             0.7,
             "#b8e186"
            ],
            [
             0.8,
             "#7fbc41"
            ],
            [
             0.9,
             "#4d9221"
            ],
            [
             1,
             "#276419"
            ]
           ],
           "sequential": [
            [
             0,
             "#0d0887"
            ],
            [
             0.1111111111111111,
             "#46039f"
            ],
            [
             0.2222222222222222,
             "#7201a8"
            ],
            [
             0.3333333333333333,
             "#9c179e"
            ],
            [
             0.4444444444444444,
             "#bd3786"
            ],
            [
             0.5555555555555556,
             "#d8576b"
            ],
            [
             0.6666666666666666,
             "#ed7953"
            ],
            [
             0.7777777777777778,
             "#fb9f3a"
            ],
            [
             0.8888888888888888,
             "#fdca26"
            ],
            [
             1,
             "#f0f921"
            ]
           ],
           "sequentialminus": [
            [
             0,
             "#0d0887"
            ],
            [
             0.1111111111111111,
             "#46039f"
            ],
            [
             0.2222222222222222,
             "#7201a8"
            ],
            [
             0.3333333333333333,
             "#9c179e"
            ],
            [
             0.4444444444444444,
             "#bd3786"
            ],
            [
             0.5555555555555556,
             "#d8576b"
            ],
            [
             0.6666666666666666,
             "#ed7953"
            ],
            [
             0.7777777777777778,
             "#fb9f3a"
            ],
            [
             0.8888888888888888,
             "#fdca26"
            ],
            [
             1,
             "#f0f921"
            ]
           ]
          },
          "colorway": [
           "#636efa",
           "#EF553B",
           "#00cc96",
           "#ab63fa",
           "#FFA15A",
           "#19d3f3",
           "#FF6692",
           "#B6E880",
           "#FF97FF",
           "#FECB52"
          ],
          "font": {
           "color": "#2a3f5f"
          },
          "geo": {
           "bgcolor": "white",
           "lakecolor": "white",
           "landcolor": "#E5ECF6",
           "showlakes": true,
           "showland": true,
           "subunitcolor": "white"
          },
          "hoverlabel": {
           "align": "left"
          },
          "hovermode": "closest",
          "mapbox": {
           "style": "light"
          },
          "paper_bgcolor": "white",
          "plot_bgcolor": "#E5ECF6",
          "polar": {
           "angularaxis": {
            "gridcolor": "white",
            "linecolor": "white",
            "ticks": ""
           },
           "bgcolor": "#E5ECF6",
           "radialaxis": {
            "gridcolor": "white",
            "linecolor": "white",
            "ticks": ""
           }
          },
          "scene": {
           "xaxis": {
            "backgroundcolor": "#E5ECF6",
            "gridcolor": "white",
            "gridwidth": 2,
            "linecolor": "white",
            "showbackground": true,
            "ticks": "",
            "zerolinecolor": "white"
           },
           "yaxis": {
            "backgroundcolor": "#E5ECF6",
            "gridcolor": "white",
            "gridwidth": 2,
            "linecolor": "white",
            "showbackground": true,
            "ticks": "",
            "zerolinecolor": "white"
           },
           "zaxis": {
            "backgroundcolor": "#E5ECF6",
            "gridcolor": "white",
            "gridwidth": 2,
            "linecolor": "white",
            "showbackground": true,
            "ticks": "",
            "zerolinecolor": "white"
           }
          },
          "shapedefaults": {
           "line": {
            "color": "#2a3f5f"
           }
          },
          "ternary": {
           "aaxis": {
            "gridcolor": "white",
            "linecolor": "white",
            "ticks": ""
           },
           "baxis": {
            "gridcolor": "white",
            "linecolor": "white",
            "ticks": ""
           },
           "bgcolor": "#E5ECF6",
           "caxis": {
            "gridcolor": "white",
            "linecolor": "white",
            "ticks": ""
           }
          },
          "title": {
           "x": 0.05
          },
          "xaxis": {
           "automargin": true,
           "gridcolor": "white",
           "linecolor": "white",
           "ticks": "",
           "title": {
            "standoff": 15
           },
           "zerolinecolor": "white",
           "zerolinewidth": 2
          },
          "yaxis": {
           "automargin": true,
           "gridcolor": "white",
           "linecolor": "white",
           "ticks": "",
           "title": {
            "standoff": 15
           },
           "zerolinecolor": "white",
           "zerolinewidth": 2
          }
         }
        },
        "title": {
         "text": "Metric Score vs. Number of Intervals"
        },
        "xaxis": {
         "anchor": "y",
         "domain": [
          0,
          1
         ],
         "title": {
          "text": "Number of Intervals"
         }
        },
        "yaxis": {
         "anchor": "x",
         "domain": [
          0,
          1
         ],
         "title": {
          "text": "Mean_clasters_error"
         }
        }
       }
      }
     },
     "metadata": {},
     "output_type": "display_data"
    }
   ],
   "source": [
    "testing_intervals(\n",
    "    model_name=\"xgboost_regressor\",\n",
    "    model_class=PriceRegressorXGBoostModel,\n",
    "    hyperparameters_class=PriceRegressorXGBoostModelHyperparams,\n",
    "    metric=MetricEnum.MEAN_CLASTERS_ERROR,\n",
    "    intervals_functions=functions,\n",
    "    gpu_mode=False,\n",
    "    const_params={\n",
    "        \"learning_rate\": 0.24099746618946757,\n",
    "        \"reg_alpha\": 1.8343478986616382,\n",
    "        \"reg_lambda\": 7.796910002727695,\n",
    "        \"max_depth\": 10,\n",
    "        \"n_estimators\": 251,\n",
    "        \"min_child_weight\": 2,\n",
    "        \"gamma\": 2.296244459829336,\n",
    "        \"subsample\": 0.666854305569511,\n",
    "        \"colsample_bytree\": 0.5714334089609704,\n",
    "        \"max_delta_step\": 6.50888472948853,\n",
    "        \"colsample_bynode\": 0.5282057895135501,\n",
    "        \"colsample_bylevel\": 0.8609993861334124,\n",
    "        \"objective\": \"reg:tweedie\"\n",
    "    }\n",
    ")"
   ]
  },
  {
   "cell_type": "code",
   "execution_count": 9,
   "metadata": {},
   "outputs": [
    {
     "name": "stdout",
     "output_type": "stream",
     "text": [
      "Classification metrics:\n",
      "   Accuracy: 0.7593\n",
      "  Precision: 0.7597\n",
      "  Recall: 0.7593\n",
      "  F1 Score: 0.7528\n",
      "  Mean Classes Error: 0.2540\n",
      "  Ideal Distance: 0.4845\n",
      "Classification metrics:\n",
      "   Accuracy: 0.5597\n",
      "  Precision: 0.5546\n",
      "  Recall: 0.5597\n",
      "  F1 Score: 0.5523\n",
      "  Mean Classes Error: 0.5392\n",
      "  Ideal Distance: 0.8869\n",
      "Classification metrics:\n",
      "   Accuracy: 0.5003\n",
      "  Precision: 0.4940\n",
      "  Recall: 0.5003\n",
      "  F1 Score: 0.4950\n",
      "  Mean Classes Error: 0.8122\n",
      "  Ideal Distance: 1.0053\n",
      "Classification metrics:\n",
      "   Accuracy: 0.4021\n",
      "  Precision: 0.3973\n",
      "  Recall: 0.4021\n",
      "  F1 Score: 0.3980\n",
      "  Mean Classes Error: 1.1534\n",
      "  Ideal Distance: 1.2003\n",
      "Classification metrics:\n",
      "   Accuracy: 0.3413\n",
      "  Precision: 0.3368\n",
      "  Recall: 0.3413\n",
      "  F1 Score: 0.3379\n",
      "  Mean Classes Error: 1.4685\n",
      "  Ideal Distance: 1.3213\n",
      "Classification metrics:\n",
      "   Accuracy: 0.3189\n",
      "  Precision: 0.3144\n",
      "  Recall: 0.3189\n",
      "  F1 Score: 0.3158\n",
      "  Mean Classes Error: 1.7165\n",
      "  Ideal Distance: 1.3660\n",
      "Classification metrics:\n",
      "   Accuracy: 0.2360\n",
      "  Precision: 0.2347\n",
      "  Recall: 0.2360\n",
      "  F1 Score: 0.2342\n",
      "  Mean Classes Error: 2.2944\n",
      "  Ideal Distance: 1.5295\n",
      "Classification metrics:\n",
      "   Accuracy: 0.2115\n",
      "  Precision: 0.2110\n",
      "  Recall: 0.2115\n",
      "  F1 Score: 0.2100\n",
      "  Mean Classes Error: 2.6477\n",
      "  Ideal Distance: 1.5780\n"
     ]
    },
    {
     "data": {
      "application/vnd.plotly.v1+json": {
       "config": {
        "plotlyServerURL": "https://plot.ly"
       },
       "data": [
        {
         "hovertemplate": "Number of Intervals=%{x}<br>Mean_clasters_error=%{y}<extra></extra>",
         "legendgroup": "",
         "marker": {
          "color": "#636efa",
          "symbol": "circle"
         },
         "mode": "markers+lines",
         "name": "",
         "orientation": "v",
         "showlegend": false,
         "type": "scatter",
         "x": [
          10,
          23,
          30,
          42,
          53,
          65,
          84,
          99
         ],
         "xaxis": "x",
         "y": [
          0.2540496540496541,
          0.5392429792429793,
          0.8121611721611721,
          1.1533577533577533,
          1.4685225885225885,
          1.7164509564509565,
          2.2943589743589743,
          2.6477167277167277
         ],
         "yaxis": "y"
        }
       ],
       "layout": {
        "legend": {
         "tracegroupgap": 0
        },
        "template": {
         "data": {
          "bar": [
           {
            "error_x": {
             "color": "#2a3f5f"
            },
            "error_y": {
             "color": "#2a3f5f"
            },
            "marker": {
             "line": {
              "color": "#E5ECF6",
              "width": 0.5
             },
             "pattern": {
              "fillmode": "overlay",
              "size": 10,
              "solidity": 0.2
             }
            },
            "type": "bar"
           }
          ],
          "barpolar": [
           {
            "marker": {
             "line": {
              "color": "#E5ECF6",
              "width": 0.5
             },
             "pattern": {
              "fillmode": "overlay",
              "size": 10,
              "solidity": 0.2
             }
            },
            "type": "barpolar"
           }
          ],
          "carpet": [
           {
            "aaxis": {
             "endlinecolor": "#2a3f5f",
             "gridcolor": "white",
             "linecolor": "white",
             "minorgridcolor": "white",
             "startlinecolor": "#2a3f5f"
            },
            "baxis": {
             "endlinecolor": "#2a3f5f",
             "gridcolor": "white",
             "linecolor": "white",
             "minorgridcolor": "white",
             "startlinecolor": "#2a3f5f"
            },
            "type": "carpet"
           }
          ],
          "choropleth": [
           {
            "colorbar": {
             "outlinewidth": 0,
             "ticks": ""
            },
            "type": "choropleth"
           }
          ],
          "contour": [
           {
            "colorbar": {
             "outlinewidth": 0,
             "ticks": ""
            },
            "colorscale": [
             [
              0,
              "#0d0887"
             ],
             [
              0.1111111111111111,
              "#46039f"
             ],
             [
              0.2222222222222222,
              "#7201a8"
             ],
             [
              0.3333333333333333,
              "#9c179e"
             ],
             [
              0.4444444444444444,
              "#bd3786"
             ],
             [
              0.5555555555555556,
              "#d8576b"
             ],
             [
              0.6666666666666666,
              "#ed7953"
             ],
             [
              0.7777777777777778,
              "#fb9f3a"
             ],
             [
              0.8888888888888888,
              "#fdca26"
             ],
             [
              1,
              "#f0f921"
             ]
            ],
            "type": "contour"
           }
          ],
          "contourcarpet": [
           {
            "colorbar": {
             "outlinewidth": 0,
             "ticks": ""
            },
            "type": "contourcarpet"
           }
          ],
          "heatmap": [
           {
            "colorbar": {
             "outlinewidth": 0,
             "ticks": ""
            },
            "colorscale": [
             [
              0,
              "#0d0887"
             ],
             [
              0.1111111111111111,
              "#46039f"
             ],
             [
              0.2222222222222222,
              "#7201a8"
             ],
             [
              0.3333333333333333,
              "#9c179e"
             ],
             [
              0.4444444444444444,
              "#bd3786"
             ],
             [
              0.5555555555555556,
              "#d8576b"
             ],
             [
              0.6666666666666666,
              "#ed7953"
             ],
             [
              0.7777777777777778,
              "#fb9f3a"
             ],
             [
              0.8888888888888888,
              "#fdca26"
             ],
             [
              1,
              "#f0f921"
             ]
            ],
            "type": "heatmap"
           }
          ],
          "heatmapgl": [
           {
            "colorbar": {
             "outlinewidth": 0,
             "ticks": ""
            },
            "colorscale": [
             [
              0,
              "#0d0887"
             ],
             [
              0.1111111111111111,
              "#46039f"
             ],
             [
              0.2222222222222222,
              "#7201a8"
             ],
             [
              0.3333333333333333,
              "#9c179e"
             ],
             [
              0.4444444444444444,
              "#bd3786"
             ],
             [
              0.5555555555555556,
              "#d8576b"
             ],
             [
              0.6666666666666666,
              "#ed7953"
             ],
             [
              0.7777777777777778,
              "#fb9f3a"
             ],
             [
              0.8888888888888888,
              "#fdca26"
             ],
             [
              1,
              "#f0f921"
             ]
            ],
            "type": "heatmapgl"
           }
          ],
          "histogram": [
           {
            "marker": {
             "pattern": {
              "fillmode": "overlay",
              "size": 10,
              "solidity": 0.2
             }
            },
            "type": "histogram"
           }
          ],
          "histogram2d": [
           {
            "colorbar": {
             "outlinewidth": 0,
             "ticks": ""
            },
            "colorscale": [
             [
              0,
              "#0d0887"
             ],
             [
              0.1111111111111111,
              "#46039f"
             ],
             [
              0.2222222222222222,
              "#7201a8"
             ],
             [
              0.3333333333333333,
              "#9c179e"
             ],
             [
              0.4444444444444444,
              "#bd3786"
             ],
             [
              0.5555555555555556,
              "#d8576b"
             ],
             [
              0.6666666666666666,
              "#ed7953"
             ],
             [
              0.7777777777777778,
              "#fb9f3a"
             ],
             [
              0.8888888888888888,
              "#fdca26"
             ],
             [
              1,
              "#f0f921"
             ]
            ],
            "type": "histogram2d"
           }
          ],
          "histogram2dcontour": [
           {
            "colorbar": {
             "outlinewidth": 0,
             "ticks": ""
            },
            "colorscale": [
             [
              0,
              "#0d0887"
             ],
             [
              0.1111111111111111,
              "#46039f"
             ],
             [
              0.2222222222222222,
              "#7201a8"
             ],
             [
              0.3333333333333333,
              "#9c179e"
             ],
             [
              0.4444444444444444,
              "#bd3786"
             ],
             [
              0.5555555555555556,
              "#d8576b"
             ],
             [
              0.6666666666666666,
              "#ed7953"
             ],
             [
              0.7777777777777778,
              "#fb9f3a"
             ],
             [
              0.8888888888888888,
              "#fdca26"
             ],
             [
              1,
              "#f0f921"
             ]
            ],
            "type": "histogram2dcontour"
           }
          ],
          "mesh3d": [
           {
            "colorbar": {
             "outlinewidth": 0,
             "ticks": ""
            },
            "type": "mesh3d"
           }
          ],
          "parcoords": [
           {
            "line": {
             "colorbar": {
              "outlinewidth": 0,
              "ticks": ""
             }
            },
            "type": "parcoords"
           }
          ],
          "pie": [
           {
            "automargin": true,
            "type": "pie"
           }
          ],
          "scatter": [
           {
            "fillpattern": {
             "fillmode": "overlay",
             "size": 10,
             "solidity": 0.2
            },
            "type": "scatter"
           }
          ],
          "scatter3d": [
           {
            "line": {
             "colorbar": {
              "outlinewidth": 0,
              "ticks": ""
             }
            },
            "marker": {
             "colorbar": {
              "outlinewidth": 0,
              "ticks": ""
             }
            },
            "type": "scatter3d"
           }
          ],
          "scattercarpet": [
           {
            "marker": {
             "colorbar": {
              "outlinewidth": 0,
              "ticks": ""
             }
            },
            "type": "scattercarpet"
           }
          ],
          "scattergeo": [
           {
            "marker": {
             "colorbar": {
              "outlinewidth": 0,
              "ticks": ""
             }
            },
            "type": "scattergeo"
           }
          ],
          "scattergl": [
           {
            "marker": {
             "colorbar": {
              "outlinewidth": 0,
              "ticks": ""
             }
            },
            "type": "scattergl"
           }
          ],
          "scattermapbox": [
           {
            "marker": {
             "colorbar": {
              "outlinewidth": 0,
              "ticks": ""
             }
            },
            "type": "scattermapbox"
           }
          ],
          "scatterpolar": [
           {
            "marker": {
             "colorbar": {
              "outlinewidth": 0,
              "ticks": ""
             }
            },
            "type": "scatterpolar"
           }
          ],
          "scatterpolargl": [
           {
            "marker": {
             "colorbar": {
              "outlinewidth": 0,
              "ticks": ""
             }
            },
            "type": "scatterpolargl"
           }
          ],
          "scatterternary": [
           {
            "marker": {
             "colorbar": {
              "outlinewidth": 0,
              "ticks": ""
             }
            },
            "type": "scatterternary"
           }
          ],
          "surface": [
           {
            "colorbar": {
             "outlinewidth": 0,
             "ticks": ""
            },
            "colorscale": [
             [
              0,
              "#0d0887"
             ],
             [
              0.1111111111111111,
              "#46039f"
             ],
             [
              0.2222222222222222,
              "#7201a8"
             ],
             [
              0.3333333333333333,
              "#9c179e"
             ],
             [
              0.4444444444444444,
              "#bd3786"
             ],
             [
              0.5555555555555556,
              "#d8576b"
             ],
             [
              0.6666666666666666,
              "#ed7953"
             ],
             [
              0.7777777777777778,
              "#fb9f3a"
             ],
             [
              0.8888888888888888,
              "#fdca26"
             ],
             [
              1,
              "#f0f921"
             ]
            ],
            "type": "surface"
           }
          ],
          "table": [
           {
            "cells": {
             "fill": {
              "color": "#EBF0F8"
             },
             "line": {
              "color": "white"
             }
            },
            "header": {
             "fill": {
              "color": "#C8D4E3"
             },
             "line": {
              "color": "white"
             }
            },
            "type": "table"
           }
          ]
         },
         "layout": {
          "annotationdefaults": {
           "arrowcolor": "#2a3f5f",
           "arrowhead": 0,
           "arrowwidth": 1
          },
          "autotypenumbers": "strict",
          "coloraxis": {
           "colorbar": {
            "outlinewidth": 0,
            "ticks": ""
           }
          },
          "colorscale": {
           "diverging": [
            [
             0,
             "#8e0152"
            ],
            [
             0.1,
             "#c51b7d"
            ],
            [
             0.2,
             "#de77ae"
            ],
            [
             0.3,
             "#f1b6da"
            ],
            [
             0.4,
             "#fde0ef"
            ],
            [
             0.5,
             "#f7f7f7"
            ],
            [
             0.6,
             "#e6f5d0"
            ],
            [
             0.7,
             "#b8e186"
            ],
            [
             0.8,
             "#7fbc41"
            ],
            [
             0.9,
             "#4d9221"
            ],
            [
             1,
             "#276419"
            ]
           ],
           "sequential": [
            [
             0,
             "#0d0887"
            ],
            [
             0.1111111111111111,
             "#46039f"
            ],
            [
             0.2222222222222222,
             "#7201a8"
            ],
            [
             0.3333333333333333,
             "#9c179e"
            ],
            [
             0.4444444444444444,
             "#bd3786"
            ],
            [
             0.5555555555555556,
             "#d8576b"
            ],
            [
             0.6666666666666666,
             "#ed7953"
            ],
            [
             0.7777777777777778,
             "#fb9f3a"
            ],
            [
             0.8888888888888888,
             "#fdca26"
            ],
            [
             1,
             "#f0f921"
            ]
           ],
           "sequentialminus": [
            [
             0,
             "#0d0887"
            ],
            [
             0.1111111111111111,
             "#46039f"
            ],
            [
             0.2222222222222222,
             "#7201a8"
            ],
            [
             0.3333333333333333,
             "#9c179e"
            ],
            [
             0.4444444444444444,
             "#bd3786"
            ],
            [
             0.5555555555555556,
             "#d8576b"
            ],
            [
             0.6666666666666666,
             "#ed7953"
            ],
            [
             0.7777777777777778,
             "#fb9f3a"
            ],
            [
             0.8888888888888888,
             "#fdca26"
            ],
            [
             1,
             "#f0f921"
            ]
           ]
          },
          "colorway": [
           "#636efa",
           "#EF553B",
           "#00cc96",
           "#ab63fa",
           "#FFA15A",
           "#19d3f3",
           "#FF6692",
           "#B6E880",
           "#FF97FF",
           "#FECB52"
          ],
          "font": {
           "color": "#2a3f5f"
          },
          "geo": {
           "bgcolor": "white",
           "lakecolor": "white",
           "landcolor": "#E5ECF6",
           "showlakes": true,
           "showland": true,
           "subunitcolor": "white"
          },
          "hoverlabel": {
           "align": "left"
          },
          "hovermode": "closest",
          "mapbox": {
           "style": "light"
          },
          "paper_bgcolor": "white",
          "plot_bgcolor": "#E5ECF6",
          "polar": {
           "angularaxis": {
            "gridcolor": "white",
            "linecolor": "white",
            "ticks": ""
           },
           "bgcolor": "#E5ECF6",
           "radialaxis": {
            "gridcolor": "white",
            "linecolor": "white",
            "ticks": ""
           }
          },
          "scene": {
           "xaxis": {
            "backgroundcolor": "#E5ECF6",
            "gridcolor": "white",
            "gridwidth": 2,
            "linecolor": "white",
            "showbackground": true,
            "ticks": "",
            "zerolinecolor": "white"
           },
           "yaxis": {
            "backgroundcolor": "#E5ECF6",
            "gridcolor": "white",
            "gridwidth": 2,
            "linecolor": "white",
            "showbackground": true,
            "ticks": "",
            "zerolinecolor": "white"
           },
           "zaxis": {
            "backgroundcolor": "#E5ECF6",
            "gridcolor": "white",
            "gridwidth": 2,
            "linecolor": "white",
            "showbackground": true,
            "ticks": "",
            "zerolinecolor": "white"
           }
          },
          "shapedefaults": {
           "line": {
            "color": "#2a3f5f"
           }
          },
          "ternary": {
           "aaxis": {
            "gridcolor": "white",
            "linecolor": "white",
            "ticks": ""
           },
           "baxis": {
            "gridcolor": "white",
            "linecolor": "white",
            "ticks": ""
           },
           "bgcolor": "#E5ECF6",
           "caxis": {
            "gridcolor": "white",
            "linecolor": "white",
            "ticks": ""
           }
          },
          "title": {
           "x": 0.05
          },
          "xaxis": {
           "automargin": true,
           "gridcolor": "white",
           "linecolor": "white",
           "ticks": "",
           "title": {
            "standoff": 15
           },
           "zerolinecolor": "white",
           "zerolinewidth": 2
          },
          "yaxis": {
           "automargin": true,
           "gridcolor": "white",
           "linecolor": "white",
           "ticks": "",
           "title": {
            "standoff": 15
           },
           "zerolinecolor": "white",
           "zerolinewidth": 2
          }
         }
        },
        "title": {
         "text": "Metric Score vs. Number of Intervals"
        },
        "xaxis": {
         "anchor": "y",
         "domain": [
          0,
          1
         ],
         "title": {
          "text": "Number of Intervals"
         }
        },
        "yaxis": {
         "anchor": "x",
         "domain": [
          0,
          1
         ],
         "title": {
          "text": "Mean_clasters_error"
         }
        }
       }
      }
     },
     "metadata": {},
     "output_type": "display_data"
    }
   ],
   "source": [
    "testing_intervals(\n",
    "    model_name=\"basic_regressor\",\n",
    "    model_class=PriceRegressorRandomForestModel,\n",
    "    hyperparameters_class=PriceRegressorRandomForestHyperparams,\n",
    "    metric=MetricEnum.MEAN_CLASTERS_ERROR,\n",
    "    intervals_functions=functions,\n",
    "    gpu_mode=False,\n",
    "    const_params={\n",
    "        \"n_estimators\": 60,\n",
    "        \"max_depth\": 17,\n",
    "        \"min_samples_split\": 5,\n",
    "        \"min_samples_leaf\": 1,\n",
    "        \"max_features\": \"log2\",\n",
    "        \"bootstrap\": True\n",
    "    },\n",
    "    category_encoding=True,\n",
    ")"
   ]
  }
 ],
 "metadata": {
  "kernelspec": {
   "display_name": "venv",
   "language": "python",
   "name": "python3"
  },
  "language_info": {
   "codemirror_mode": {
    "name": "ipython",
    "version": 3
   },
   "file_extension": ".py",
   "mimetype": "text/x-python",
   "name": "python",
   "nbconvert_exporter": "python",
   "pygments_lexer": "ipython3",
   "version": "3.13.0"
  }
 },
 "nbformat": 4,
 "nbformat_minor": 2
}
