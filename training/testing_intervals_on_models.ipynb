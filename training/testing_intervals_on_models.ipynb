{
 "cells": [
  {
   "cell_type": "code",
   "execution_count": 1,
   "metadata": {},
   "outputs": [],
   "source": [
    "import sys\n",
    "import os\n",
    "\n",
    "current_dir = os.getcwd()\n",
    "parent_dir = os.path.abspath(os.path.join(current_dir, os.pardir))\n",
    "sys.path.append(parent_dir)\n",
    "\n",
    "from training.testing_intervals import testing_intervals\n",
    "from models.price_evaluator_decision_tree import PriceClassifierBasicModel, DecisionTreeHyperparams\n",
    "from evaluation.AbstractEvaluationResults import MetricEnum\n",
    "from models.price_evaluator_xgboost_clasifier import (\n",
    "    PriceClassifierXGBoostModelHyperparams,\n",
    "    PriceClassifierXGBoostModel,\n",
    ")\n",
    "from models.price_evaluator_xgboost_regression import (\n",
    "    PriceRegressorXGBoostModel,\n",
    "    PriceRegressorXGBoostModelHyperparams\n",
    ")"
   ]
  },
  {
   "cell_type": "code",
   "execution_count": 2,
   "metadata": {},
   "outputs": [],
   "source": [
    "functions = [\n",
    "    lambda x: 10 ** (0.66 * x) + 1500 * (x + 1) ** 1.3 + 800 * x ** 1.1,\n",
    "    lambda x: 10 ** (0.25 * x) + 600 * (x + 1) ** 1.15 + 200 * x ** 0.75,\n",
    "    lambda x: 10 ** (0.19 * x) + 80 * (x + 1) ** 1.02 + 150 * x ** 0.4,\n",
    "    lambda x: 10 ** (0.13 * x) + 50 * (x + 1) ** 1.01 + 100 * x ** 0.35,\n",
    "    lambda x: 10 ** (0.1 * x) + 30 * (x + 1) ** 1.005 + 90 * x ** 0.3,\n",
    "    lambda x: 10 ** (0.08 * x) + 15 * (x + 1) ** 1.001 + 60 * x ** 0.3,\n",
    "    lambda x: 10 ** (0.06 * x) + 15 * (x + 1) ** 1.001 + 40 * x ** 0.25,\n",
    "    lambda x: 10 ** (0.05 * x) + 10 * (x + 1) ** 1.002 + 30 * x ** 0.2,\n",
    "]"
   ]
  },
  {
   "cell_type": "code",
   "execution_count": null,
   "metadata": {},
   "outputs": [],
   "source": [
    "testing_intervals(\n",
    "    model_name=\"basic_tree_classifier\",\n",
    "    model_class=PriceClassifierBasicModel,\n",
    "    hyperparameters_class=DecisionTreeHyperparams,\n",
    "    metric=MetricEnum.ACCURACY,\n",
    "    intervals_functions=functions,\n",
    "    category_encoding=True,\n",
    "    const_params={\n",
    "        \"criterion\": \"entropy\",\n",
    "        \"splitter\": \"best\",\n",
    "        \"max_depth\": 20,\n",
    "        \"min_samples_split\": 2,\n",
    "        \"min_samples_leaf\": 1,\n",
    "        \"min_weight_fraction_leaf\": 0.0,\n",
    "        \"max_features\": \"sqrt\",\n",
    "        \"max_leaf_nodes\": 37,\n",
    "        \"min_impurity_decrease\": 0.0,\n",
    "        \"ccp_alpha\": 0.0\n",
    "    }\n",
    ")"
   ]
  },
  {
   "cell_type": "code",
   "execution_count": null,
   "metadata": {},
   "outputs": [],
   "source": [
    "testing_intervals(\n",
    "    model_name=\"xgboost_classifier\",\n",
    "    model_class=PriceClassifierXGBoostModel,\n",
    "    hyperparameters_class=PriceClassifierXGBoostModelHyperparams,\n",
    "    metric=MetricEnum.ACCURACY,\n",
    "    intervals_functions=functions,\n",
    "    gpu_mode=False,\n",
    "    const_params={\n",
    "        \"learning_rate\": 0.12921360029190918,\n",
    "        \"reg_alpha\": 8.440813134554679,\n",
    "        \"reg_lambda\": 6.254500283477481,\n",
    "        \"max_depth\": 15,\n",
    "        \"n_estimators\": 486,\n",
    "        \"min_child_weight\": 6,\n",
    "        \"gamma\": 0.6304338645485753,\n",
    "        \"subsample\": 0.8040953946703557,\n",
    "        \"colsample_bytree\": 0.9651088241133051,\n",
    "        \"max_delta_step\": 4.410373590930435,\n",
    "        \"colsample_bynode\": 0.8065733591903823,\n",
    "        \"colsample_bylevel\": 0.7476323660748343\n",
    "    }\n",
    ")"
   ]
  },
  {
   "cell_type": "code",
   "execution_count": null,
   "metadata": {},
   "outputs": [],
   "source": [
    "testing_intervals(\n",
    "    model_name=\"xgboost_regressor\",\n",
    "    model_class=PriceRegressorXGBoostModel,\n",
    "    hyperparameters_class=PriceRegressorXGBoostModelHyperparams,\n",
    "    metric=MetricEnum.MSE,\n",
    "    intervals_functions=functions,\n",
    "    max_iters=10,\n",
    "    gpu_mode=False,\n",
    ")"
   ]
  }
 ],
 "metadata": {
  "kernelspec": {
   "display_name": "venv",
   "language": "python",
   "name": "python3"
  },
  "language_info": {
   "codemirror_mode": {
    "name": "ipython",
    "version": 3
   },
   "file_extension": ".py",
   "mimetype": "text/x-python",
   "name": "python",
   "nbconvert_exporter": "python",
   "pygments_lexer": "ipython3",
   "version": "3.13.0"
  }
 },
 "nbformat": 4,
 "nbformat_minor": 2
}
