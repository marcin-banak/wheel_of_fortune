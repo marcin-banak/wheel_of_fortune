{
 "cells": [
  {
   "cell_type": "code",
   "execution_count": 3,
   "metadata": {},
   "outputs": [],
   "source": [
    "import sys\n",
    "import os\n",
    "\n",
    "current_dir = os.getcwd()\n",
    "parent_dir = os.path.abspath(os.path.join(current_dir, os.pardir))\n",
    "sys.path.append(parent_dir)\n",
    "\n",
    "from training.training_process import training_process\n",
    "from models.price_evaluator_decision_tree import PriceClassifierBasicModel, DecisionTreeHyperparams\n",
    "from evaluation.AbstractEvaluationResults import MetricEnum"
   ]
  },
  {
   "cell_type": "code",
   "execution_count": 4,
   "metadata": {},
   "outputs": [
    {
     "name": "stdout",
     "output_type": "stream",
     "text": [
      "585 - 1086\n",
      "1086 - 2737\n",
      "2737 - 5482\n",
      "5482 - 9340\n",
      "9340 - 14344\n",
      "14344 - 20548\n",
      "20548 - 28060\n",
      "28060 - 37125\n",
      "37125 - 48332\n",
      "48332 - 63137\n",
      "63137 - 85176\n",
      "85176 - 123562\n",
      "123562 - 201164\n",
      "201164 - 375411\n",
      "375411 - 717877\n",
      "Eval for DecisionTreeHyperparams(criterion='entropy', splitter='best', max_depth=np.int64(16), min_samples_split=np.int64(13), min_samples_leaf=np.int64(5), min_weight_fraction_leaf=0.049987457909001456, max_features='sqrt', max_leaf_nodes=np.int64(18), min_impurity_decrease=0.028573363584388164, ccp_alpha=0.650888472948853)\n",
      "Actual score: ClassificationEvaluationResults(accuracy=0.12380952380952381, precision=0.015328798185941043, recall=0.12380952380952381, f1=0.02728006456820016, mean_classes_error=3.139080179080179, roc_auc=None)\n",
      "Best score: ClassificationEvaluationResults(accuracy=0.12380952380952381, precision=0.015328798185941043, recall=0.12380952380952381, f1=0.02728006456820016, mean_classes_error=3.139080179080179, roc_auc=None)\n",
      "Best score hyperparams: DecisionTreeHyperparams(criterion='entropy', splitter='best', max_depth=np.int64(16), min_samples_split=np.int64(13), min_samples_leaf=np.int64(5), min_weight_fraction_leaf=0.049987457909001456, max_features='sqrt', max_leaf_nodes=np.int64(18), min_impurity_decrease=0.028573363584388164, ccp_alpha=0.650888472948853)\n",
      "Eval for DecisionTreeHyperparams(criterion='gini', splitter='random', max_depth=np.int64(19), min_samples_split=np.int64(2), min_samples_leaf=np.int64(10), min_weight_fraction_leaf=0.3087407548138583, max_features='log2', max_leaf_nodes=np.int64(2), min_impurity_decrease=0.004612485008283152, ccp_alpha=0.5247746602583893)\n",
      "Actual score: ClassificationEvaluationResults(accuracy=0.12380952380952381, precision=0.015328798185941043, recall=0.12380952380952381, f1=0.02728006456820016, mean_classes_error=3.139080179080179, roc_auc=None)\n",
      "Best score: ClassificationEvaluationResults(accuracy=0.12380952380952381, precision=0.015328798185941043, recall=0.12380952380952381, f1=0.02728006456820016, mean_classes_error=3.139080179080179, roc_auc=None)\n",
      "Best score hyperparams: DecisionTreeHyperparams(criterion='entropy', splitter='best', max_depth=np.int64(16), min_samples_split=np.int64(13), min_samples_leaf=np.int64(5), min_weight_fraction_leaf=0.049987457909001456, max_features='sqrt', max_leaf_nodes=np.int64(18), min_impurity_decrease=0.028573363584388164, ccp_alpha=0.650888472948853)\n",
      "Eval for DecisionTreeHyperparams(criterion='gini', splitter='best', max_depth=np.int64(20), min_samples_split=np.int64(6), min_samples_leaf=np.int64(2), min_weight_fraction_leaf=0.3091930046665437, max_features='sqrt', max_leaf_nodes=np.int64(49), min_impurity_decrease=0.09335257864959601, ccp_alpha=0.8599404067363208)\n",
      "Actual score: ClassificationEvaluationResults(accuracy=0.12380952380952381, precision=0.015328798185941043, recall=0.12380952380952381, f1=0.02728006456820016, mean_classes_error=3.139080179080179, roc_auc=None)\n",
      "Best score: ClassificationEvaluationResults(accuracy=0.12380952380952381, precision=0.015328798185941043, recall=0.12380952380952381, f1=0.02728006456820016, mean_classes_error=3.139080179080179, roc_auc=None)\n",
      "Best score hyperparams: DecisionTreeHyperparams(criterion='entropy', splitter='best', max_depth=np.int64(16), min_samples_split=np.int64(13), min_samples_leaf=np.int64(5), min_weight_fraction_leaf=0.049987457909001456, max_features='sqrt', max_leaf_nodes=np.int64(18), min_impurity_decrease=0.028573363584388164, ccp_alpha=0.650888472948853)\n",
      "Eval for DecisionTreeHyperparams(criterion='entropy', splitter='best', max_depth=np.int64(1), min_samples_split=np.int64(19), min_samples_leaf=np.int64(6), min_weight_fraction_leaf=0.1927082512699581, max_features=None, max_leaf_nodes=np.int64(13), min_impurity_decrease=0.04820509320520236, ccp_alpha=0.6832635188254583)\n",
      "Actual score: ClassificationEvaluationResults(accuracy=0.12380952380952381, precision=0.015328798185941043, recall=0.12380952380952381, f1=0.02728006456820016, mean_classes_error=3.139080179080179, roc_auc=None)\n",
      "Best score: ClassificationEvaluationResults(accuracy=0.12380952380952381, precision=0.015328798185941043, recall=0.12380952380952381, f1=0.02728006456820016, mean_classes_error=3.139080179080179, roc_auc=None)\n",
      "Best score hyperparams: DecisionTreeHyperparams(criterion='entropy', splitter='best', max_depth=np.int64(16), min_samples_split=np.int64(13), min_samples_leaf=np.int64(5), min_weight_fraction_leaf=0.049987457909001456, max_features='sqrt', max_leaf_nodes=np.int64(18), min_impurity_decrease=0.028573363584388164, ccp_alpha=0.650888472948853)\n",
      "Eval for DecisionTreeHyperparams(criterion='entropy', splitter='random', max_depth=np.int64(4), min_samples_split=np.int64(9), min_samples_leaf=np.int64(3), min_weight_fraction_leaf=0.37768070515882635, max_features='sqrt', max_leaf_nodes=np.int64(12), min_impurity_decrease=0.11354006556399832, ccp_alpha=0.03131329245555859)\n",
      "Actual score: ClassificationEvaluationResults(accuracy=0.12380952380952381, precision=0.015328798185941043, recall=0.12380952380952381, f1=0.02728006456820016, mean_classes_error=3.139080179080179, roc_auc=None)\n",
      "Best score: ClassificationEvaluationResults(accuracy=0.12380952380952381, precision=0.015328798185941043, recall=0.12380952380952381, f1=0.02728006456820016, mean_classes_error=3.139080179080179, roc_auc=None)\n",
      "Best score hyperparams: DecisionTreeHyperparams(criterion='entropy', splitter='best', max_depth=np.int64(16), min_samples_split=np.int64(13), min_samples_leaf=np.int64(5), min_weight_fraction_leaf=0.049987457909001456, max_features='sqrt', max_leaf_nodes=np.int64(18), min_impurity_decrease=0.028573363584388164, ccp_alpha=0.650888472948853)\n",
      "Eval for DecisionTreeHyperparams(criterion='entropy', splitter='best', max_depth=np.int64(9), min_samples_split=np.int64(19), min_samples_leaf=np.int64(8), min_weight_fraction_leaf=0.16327038440291772, max_features='log2', max_leaf_nodes=np.int64(27), min_impurity_decrease=0.19223440486986987, ccp_alpha=0.8445338486781516)\n",
      "Actual score: ClassificationEvaluationResults(accuracy=0.12380952380952381, precision=0.015328798185941043, recall=0.12380952380952381, f1=0.02728006456820016, mean_classes_error=3.139080179080179, roc_auc=None)\n",
      "Best score: ClassificationEvaluationResults(accuracy=0.12380952380952381, precision=0.015328798185941043, recall=0.12380952380952381, f1=0.02728006456820016, mean_classes_error=3.139080179080179, roc_auc=None)\n",
      "Best score hyperparams: DecisionTreeHyperparams(criterion='entropy', splitter='best', max_depth=np.int64(16), min_samples_split=np.int64(13), min_samples_leaf=np.int64(5), min_weight_fraction_leaf=0.049987457909001456, max_features='sqrt', max_leaf_nodes=np.int64(18), min_impurity_decrease=0.028573363584388164, ccp_alpha=0.650888472948853)\n",
      "Eval for DecisionTreeHyperparams(criterion='entropy', splitter='random', max_depth=np.int64(12), min_samples_split=np.int64(19), min_samples_leaf=np.int64(6), min_weight_fraction_leaf=0.1379995910112717, max_features='sqrt', max_leaf_nodes=np.int64(10), min_impurity_decrease=0.003127281348238787, ccp_alpha=0.42340148070636974)\n",
      "Actual score: ClassificationEvaluationResults(accuracy=0.12380952380952381, precision=0.015328798185941043, recall=0.12380952380952381, f1=0.02728006456820016, mean_classes_error=3.139080179080179, roc_auc=None)\n",
      "Best score: ClassificationEvaluationResults(accuracy=0.12380952380952381, precision=0.015328798185941043, recall=0.12380952380952381, f1=0.02728006456820016, mean_classes_error=3.139080179080179, roc_auc=None)\n",
      "Best score hyperparams: DecisionTreeHyperparams(criterion='entropy', splitter='best', max_depth=np.int64(16), min_samples_split=np.int64(13), min_samples_leaf=np.int64(5), min_weight_fraction_leaf=0.049987457909001456, max_features='sqrt', max_leaf_nodes=np.int64(18), min_impurity_decrease=0.028573363584388164, ccp_alpha=0.650888472948853)\n",
      "Eval for DecisionTreeHyperparams(criterion='gini', splitter='best', max_depth=np.int64(1), min_samples_split=np.int64(6), min_samples_leaf=np.int64(7), min_weight_fraction_leaf=0.39508777026560293, max_features='log2', max_leaf_nodes=np.int64(46), min_impurity_decrease=0.13021540510038893, ccp_alpha=0.914959675543781)\n",
      "Actual score: ClassificationEvaluationResults(accuracy=0.12380952380952381, precision=0.015328798185941043, recall=0.12380952380952381, f1=0.02728006456820016, mean_classes_error=3.139080179080179, roc_auc=None)\n",
      "Best score: ClassificationEvaluationResults(accuracy=0.12380952380952381, precision=0.015328798185941043, recall=0.12380952380952381, f1=0.02728006456820016, mean_classes_error=3.139080179080179, roc_auc=None)\n",
      "Best score hyperparams: DecisionTreeHyperparams(criterion='entropy', splitter='best', max_depth=np.int64(16), min_samples_split=np.int64(13), min_samples_leaf=np.int64(5), min_weight_fraction_leaf=0.049987457909001456, max_features='sqrt', max_leaf_nodes=np.int64(18), min_impurity_decrease=0.028573363584388164, ccp_alpha=0.650888472948853)\n",
      "Eval for DecisionTreeHyperparams(criterion='entropy', splitter='best', max_depth=np.int64(3), min_samples_split=np.int64(9), min_samples_leaf=np.int64(7), min_weight_fraction_leaf=0.3329611783087484, max_features='log2', max_leaf_nodes=np.int64(15), min_impurity_decrease=0.11224868516954026, ccp_alpha=0.38292687475378995)\n",
      "Actual score: ClassificationEvaluationResults(accuracy=0.12380952380952381, precision=0.015328798185941043, recall=0.12380952380952381, f1=0.02728006456820016, mean_classes_error=3.139080179080179, roc_auc=None)\n",
      "Best score: ClassificationEvaluationResults(accuracy=0.12380952380952381, precision=0.015328798185941043, recall=0.12380952380952381, f1=0.02728006456820016, mean_classes_error=3.139080179080179, roc_auc=None)\n",
      "Best score hyperparams: DecisionTreeHyperparams(criterion='entropy', splitter='best', max_depth=np.int64(16), min_samples_split=np.int64(13), min_samples_leaf=np.int64(5), min_weight_fraction_leaf=0.049987457909001456, max_features='sqrt', max_leaf_nodes=np.int64(18), min_impurity_decrease=0.028573363584388164, ccp_alpha=0.650888472948853)\n",
      "Eval for DecisionTreeHyperparams(criterion='entropy', splitter='random', max_depth=np.int64(15), min_samples_split=np.int64(6), min_samples_leaf=np.int64(3), min_weight_fraction_leaf=0.020216794769215677, max_features='log2', max_leaf_nodes=np.int64(7), min_impurity_decrease=0.08786730037315404, ccp_alpha=0.20171920233539625)\n",
      "Actual score: ClassificationEvaluationResults(accuracy=0.12380952380952381, precision=0.015328798185941043, recall=0.12380952380952381, f1=0.02728006456820016, mean_classes_error=3.139080179080179, roc_auc=None)\n",
      "Best score: ClassificationEvaluationResults(accuracy=0.12380952380952381, precision=0.015328798185941043, recall=0.12380952380952381, f1=0.02728006456820016, mean_classes_error=3.139080179080179, roc_auc=None)\n",
      "Best score hyperparams: DecisionTreeHyperparams(criterion='entropy', splitter='best', max_depth=np.int64(16), min_samples_split=np.int64(13), min_samples_leaf=np.int64(5), min_weight_fraction_leaf=0.049987457909001456, max_features='sqrt', max_leaf_nodes=np.int64(18), min_impurity_decrease=0.028573363584388164, ccp_alpha=0.650888472948853)\n",
      "Eval for DecisionTreeHyperparams(criterion=np.str_('gini'), splitter=np.str_('random'), max_depth=np.int64(1), min_samples_split=np.int64(15), min_samples_leaf=np.int64(8), min_weight_fraction_leaf=0.03977832010104355, max_features=np.float64(0.5), max_leaf_nodes=np.int64(49), min_impurity_decrease=0.1758593268525542, ccp_alpha=0.014601004383732467)\n",
      "Actual score: ClassificationEvaluationResults(accuracy=0.12380952380952381, precision=0.015328798185941043, recall=0.12380952380952381, f1=0.02728006456820016, mean_classes_error=3.139080179080179, roc_auc=None)\n",
      "Best score: ClassificationEvaluationResults(accuracy=0.12380952380952381, precision=0.015328798185941043, recall=0.12380952380952381, f1=0.02728006456820016, mean_classes_error=3.139080179080179, roc_auc=None)\n",
      "Best score hyperparams: DecisionTreeHyperparams(criterion='entropy', splitter='best', max_depth=np.int64(16), min_samples_split=np.int64(13), min_samples_leaf=np.int64(5), min_weight_fraction_leaf=0.049987457909001456, max_features='sqrt', max_leaf_nodes=np.int64(18), min_impurity_decrease=0.028573363584388164, ccp_alpha=0.650888472948853)\n",
      "Eval for DecisionTreeHyperparams(criterion=np.str_('gini'), splitter=np.str_('random'), max_depth=np.int64(20), min_samples_split=np.int64(20), min_samples_leaf=np.int64(1), min_weight_fraction_leaf=0.5, max_features=None, max_leaf_nodes=np.int64(2), min_impurity_decrease=0.2, ccp_alpha=0.0)\n",
      "Actual score: ClassificationEvaluationResults(accuracy=0.12380952380952381, precision=0.015328798185941043, recall=0.12380952380952381, f1=0.02728006456820016, mean_classes_error=3.139080179080179, roc_auc=None)\n",
      "Best score: ClassificationEvaluationResults(accuracy=0.12380952380952381, precision=0.015328798185941043, recall=0.12380952380952381, f1=0.02728006456820016, mean_classes_error=3.139080179080179, roc_auc=None)\n",
      "Best score hyperparams: DecisionTreeHyperparams(criterion='entropy', splitter='best', max_depth=np.int64(16), min_samples_split=np.int64(13), min_samples_leaf=np.int64(5), min_weight_fraction_leaf=0.049987457909001456, max_features='sqrt', max_leaf_nodes=np.int64(18), min_impurity_decrease=0.028573363584388164, ccp_alpha=0.650888472948853)\n",
      "Eval for DecisionTreeHyperparams(criterion=np.str_('entropy'), splitter=np.str_('random'), max_depth=np.int64(17), min_samples_split=np.int64(3), min_samples_leaf=np.int64(9), min_weight_fraction_leaf=0.3971554572755465, max_features=np.float64(0.5), max_leaf_nodes=np.int64(48), min_impurity_decrease=0.14758171359846597, ccp_alpha=0.9897100056116829)\n",
      "Actual score: ClassificationEvaluationResults(accuracy=0.12380952380952381, precision=0.015328798185941043, recall=0.12380952380952381, f1=0.02728006456820016, mean_classes_error=3.139080179080179, roc_auc=None)\n",
      "Best score: ClassificationEvaluationResults(accuracy=0.12380952380952381, precision=0.015328798185941043, recall=0.12380952380952381, f1=0.02728006456820016, mean_classes_error=3.139080179080179, roc_auc=None)\n",
      "Best score hyperparams: DecisionTreeHyperparams(criterion='entropy', splitter='best', max_depth=np.int64(16), min_samples_split=np.int64(13), min_samples_leaf=np.int64(5), min_weight_fraction_leaf=0.049987457909001456, max_features='sqrt', max_leaf_nodes=np.int64(18), min_impurity_decrease=0.028573363584388164, ccp_alpha=0.650888472948853)\n",
      "Eval for DecisionTreeHyperparams(criterion=np.str_('gini'), splitter=np.str_('best'), max_depth=np.int64(10), min_samples_split=np.int64(12), min_samples_leaf=np.int64(1), min_weight_fraction_leaf=0.4740851866112867, max_features=np.float64(0.5), max_leaf_nodes=np.int64(3), min_impurity_decrease=0.018099889479410183, ccp_alpha=0.9716033053739638)\n",
      "Actual score: ClassificationEvaluationResults(accuracy=0.12380952380952381, precision=0.015328798185941043, recall=0.12380952380952381, f1=0.02728006456820016, mean_classes_error=3.139080179080179, roc_auc=None)\n",
      "Best score: ClassificationEvaluationResults(accuracy=0.12380952380952381, precision=0.015328798185941043, recall=0.12380952380952381, f1=0.02728006456820016, mean_classes_error=3.139080179080179, roc_auc=None)\n",
      "Best score hyperparams: DecisionTreeHyperparams(criterion='entropy', splitter='best', max_depth=np.int64(16), min_samples_split=np.int64(13), min_samples_leaf=np.int64(5), min_weight_fraction_leaf=0.049987457909001456, max_features='sqrt', max_leaf_nodes=np.int64(18), min_impurity_decrease=0.028573363584388164, ccp_alpha=0.650888472948853)\n",
      "Eval for DecisionTreeHyperparams(criterion=np.str_('entropy'), splitter=np.str_('best'), max_depth=np.int64(20), min_samples_split=np.int64(2), min_samples_leaf=np.int64(10), min_weight_fraction_leaf=0.5, max_features=None, max_leaf_nodes=np.int64(50), min_impurity_decrease=0.0, ccp_alpha=0.0)\n",
      "Actual score: ClassificationEvaluationResults(accuracy=0.1736100936100936, precision=0.03707631121237785, recall=0.1736100936100936, f1=0.06080466387059215, mean_classes_error=2.1327146927146927, roc_auc=None)\n",
      "Best score: ClassificationEvaluationResults(accuracy=0.1736100936100936, precision=0.03707631121237785, recall=0.1736100936100936, f1=0.06080466387059215, mean_classes_error=2.1327146927146927, roc_auc=None)\n",
      "Best score hyperparams: DecisionTreeHyperparams(criterion=np.str_('entropy'), splitter=np.str_('best'), max_depth=np.int64(20), min_samples_split=np.int64(2), min_samples_leaf=np.int64(10), min_weight_fraction_leaf=0.5, max_features=None, max_leaf_nodes=np.int64(50), min_impurity_decrease=0.0, ccp_alpha=0.0)\n",
      "Eval for DecisionTreeHyperparams(criterion=np.str_('gini'), splitter=np.str_('random'), max_depth=np.int64(14), min_samples_split=np.int64(13), min_samples_leaf=np.int64(2), min_weight_fraction_leaf=0.46861933917615856, max_features=None, max_leaf_nodes=np.int64(9), min_impurity_decrease=0.19967336333076882, ccp_alpha=0.30946539934812684)\n",
      "Actual score: ClassificationEvaluationResults(accuracy=0.12380952380952381, precision=0.015328798185941043, recall=0.12380952380952381, f1=0.02728006456820016, mean_classes_error=3.139080179080179, roc_auc=None)\n",
      "Best score: ClassificationEvaluationResults(accuracy=0.1736100936100936, precision=0.03707631121237785, recall=0.1736100936100936, f1=0.06080466387059215, mean_classes_error=2.1327146927146927, roc_auc=None)\n",
      "Best score hyperparams: DecisionTreeHyperparams(criterion=np.str_('entropy'), splitter=np.str_('best'), max_depth=np.int64(20), min_samples_split=np.int64(2), min_samples_leaf=np.int64(10), min_weight_fraction_leaf=0.5, max_features=None, max_leaf_nodes=np.int64(50), min_impurity_decrease=0.0, ccp_alpha=0.0)\n",
      "Eval for DecisionTreeHyperparams(criterion=np.str_('gini'), splitter=np.str_('random'), max_depth=np.int64(20), min_samples_split=np.int64(2), min_samples_leaf=np.int64(1), min_weight_fraction_leaf=0.0, max_features=np.str_('sqrt'), max_leaf_nodes=np.int64(37), min_impurity_decrease=0.0, ccp_alpha=0.0)\n",
      "Actual score: ClassificationEvaluationResults(accuracy=0.2734228734228734, precision=0.21604228492467753, recall=0.2734228734228734, f1=0.2063998573605134, mean_classes_error=1.3036060236060236, roc_auc=None)\n",
      "Best score: ClassificationEvaluationResults(accuracy=0.2734228734228734, precision=0.21604228492467753, recall=0.2734228734228734, f1=0.2063998573605134, mean_classes_error=1.3036060236060236, roc_auc=None)\n",
      "Best score hyperparams: DecisionTreeHyperparams(criterion=np.str_('gini'), splitter=np.str_('random'), max_depth=np.int64(20), min_samples_split=np.int64(2), min_samples_leaf=np.int64(1), min_weight_fraction_leaf=0.0, max_features=np.str_('sqrt'), max_leaf_nodes=np.int64(37), min_impurity_decrease=0.0, ccp_alpha=0.0)\n",
      "Eval for DecisionTreeHyperparams(criterion=np.str_('gini'), splitter=np.str_('best'), max_depth=np.int64(18), min_samples_split=np.int64(12), min_samples_leaf=np.int64(1), min_weight_fraction_leaf=0.48092962931001954, max_features=np.str_('sqrt'), max_leaf_nodes=np.int64(38), min_impurity_decrease=0.2, ccp_alpha=0.0)\n",
      "Actual score: ClassificationEvaluationResults(accuracy=0.12380952380952381, precision=0.015328798185941043, recall=0.12380952380952381, f1=0.02728006456820016, mean_classes_error=3.139080179080179, roc_auc=None)\n",
      "Best score: ClassificationEvaluationResults(accuracy=0.2734228734228734, precision=0.21604228492467753, recall=0.2734228734228734, f1=0.2063998573605134, mean_classes_error=1.3036060236060236, roc_auc=None)\n",
      "Best score hyperparams: DecisionTreeHyperparams(criterion=np.str_('gini'), splitter=np.str_('random'), max_depth=np.int64(20), min_samples_split=np.int64(2), min_samples_leaf=np.int64(1), min_weight_fraction_leaf=0.0, max_features=np.str_('sqrt'), max_leaf_nodes=np.int64(37), min_impurity_decrease=0.0, ccp_alpha=0.0)\n",
      "Eval for DecisionTreeHyperparams(criterion=np.str_('gini'), splitter=np.str_('random'), max_depth=np.int64(9), min_samples_split=np.int64(2), min_samples_leaf=np.int64(1), min_weight_fraction_leaf=0.0, max_features=np.str_('sqrt'), max_leaf_nodes=np.int64(20), min_impurity_decrease=0.2, ccp_alpha=0.8692751883113919)\n",
      "Actual score: ClassificationEvaluationResults(accuracy=0.12380952380952381, precision=0.015328798185941043, recall=0.12380952380952381, f1=0.02728006456820016, mean_classes_error=3.139080179080179, roc_auc=None)\n",
      "Best score: ClassificationEvaluationResults(accuracy=0.2734228734228734, precision=0.21604228492467753, recall=0.2734228734228734, f1=0.2063998573605134, mean_classes_error=1.3036060236060236, roc_auc=None)\n",
      "Best score hyperparams: DecisionTreeHyperparams(criterion=np.str_('gini'), splitter=np.str_('random'), max_depth=np.int64(20), min_samples_split=np.int64(2), min_samples_leaf=np.int64(1), min_weight_fraction_leaf=0.0, max_features=np.str_('sqrt'), max_leaf_nodes=np.int64(37), min_impurity_decrease=0.0, ccp_alpha=0.0)\n",
      "Eval for DecisionTreeHyperparams(criterion=np.str_('entropy'), splitter=np.str_('best'), max_depth=np.int64(15), min_samples_split=np.int64(2), min_samples_leaf=np.int64(10), min_weight_fraction_leaf=0.0, max_features=np.str_('log2'), max_leaf_nodes=np.int64(50), min_impurity_decrease=0.2, ccp_alpha=0.0)\n",
      "Actual score: ClassificationEvaluationResults(accuracy=0.12380952380952381, precision=0.015328798185941043, recall=0.12380952380952381, f1=0.02728006456820016, mean_classes_error=3.139080179080179, roc_auc=None)\n",
      "Best score: ClassificationEvaluationResults(accuracy=0.2734228734228734, precision=0.21604228492467753, recall=0.2734228734228734, f1=0.2063998573605134, mean_classes_error=1.3036060236060236, roc_auc=None)\n",
      "Best score hyperparams: DecisionTreeHyperparams(criterion=np.str_('gini'), splitter=np.str_('random'), max_depth=np.int64(20), min_samples_split=np.int64(2), min_samples_leaf=np.int64(1), min_weight_fraction_leaf=0.0, max_features=np.str_('sqrt'), max_leaf_nodes=np.int64(37), min_impurity_decrease=0.0, ccp_alpha=0.0)\n",
      "Eval for DecisionTreeHyperparams(criterion=np.str_('gini'), splitter=np.str_('random'), max_depth=np.int64(1), min_samples_split=np.int64(20), min_samples_leaf=np.int64(10), min_weight_fraction_leaf=0.08512092113746265, max_features=np.float64(0.5), max_leaf_nodes=np.int64(2), min_impurity_decrease=0.0, ccp_alpha=0.7140847346616743)\n",
      "Actual score: ClassificationEvaluationResults(accuracy=0.12380952380952381, precision=0.015328798185941043, recall=0.12380952380952381, f1=0.02728006456820016, mean_classes_error=3.139080179080179, roc_auc=None)\n",
      "Best score: ClassificationEvaluationResults(accuracy=0.2734228734228734, precision=0.21604228492467753, recall=0.2734228734228734, f1=0.2063998573605134, mean_classes_error=1.3036060236060236, roc_auc=None)\n",
      "Best score hyperparams: DecisionTreeHyperparams(criterion=np.str_('gini'), splitter=np.str_('random'), max_depth=np.int64(20), min_samples_split=np.int64(2), min_samples_leaf=np.int64(1), min_weight_fraction_leaf=0.0, max_features=np.str_('sqrt'), max_leaf_nodes=np.int64(37), min_impurity_decrease=0.0, ccp_alpha=0.0)\n",
      "Eval for DecisionTreeHyperparams(criterion=np.str_('entropy'), splitter=np.str_('best'), max_depth=np.int64(4), min_samples_split=np.int64(17), min_samples_leaf=np.int64(10), min_weight_fraction_leaf=0.4230552637502389, max_features=None, max_leaf_nodes=np.int64(26), min_impurity_decrease=0.0, ccp_alpha=1.0)\n",
      "Actual score: ClassificationEvaluationResults(accuracy=0.12380952380952381, precision=0.015328798185941043, recall=0.12380952380952381, f1=0.02728006456820016, mean_classes_error=3.139080179080179, roc_auc=None)\n",
      "Best score: ClassificationEvaluationResults(accuracy=0.2734228734228734, precision=0.21604228492467753, recall=0.2734228734228734, f1=0.2063998573605134, mean_classes_error=1.3036060236060236, roc_auc=None)\n",
      "Best score hyperparams: DecisionTreeHyperparams(criterion=np.str_('gini'), splitter=np.str_('random'), max_depth=np.int64(20), min_samples_split=np.int64(2), min_samples_leaf=np.int64(1), min_weight_fraction_leaf=0.0, max_features=np.str_('sqrt'), max_leaf_nodes=np.int64(37), min_impurity_decrease=0.0, ccp_alpha=0.0)\n",
      "Eval for DecisionTreeHyperparams(criterion=np.str_('gini'), splitter=np.str_('random'), max_depth=np.int64(1), min_samples_split=np.int64(20), min_samples_leaf=np.int64(10), min_weight_fraction_leaf=0.0, max_features=None, max_leaf_nodes=np.int64(2), min_impurity_decrease=0.2, ccp_alpha=0.30800800549835844)\n",
      "Actual score: ClassificationEvaluationResults(accuracy=0.12380952380952381, precision=0.015328798185941043, recall=0.12380952380952381, f1=0.02728006456820016, mean_classes_error=3.139080179080179, roc_auc=None)\n",
      "Best score: ClassificationEvaluationResults(accuracy=0.2734228734228734, precision=0.21604228492467753, recall=0.2734228734228734, f1=0.2063998573605134, mean_classes_error=1.3036060236060236, roc_auc=None)\n",
      "Best score hyperparams: DecisionTreeHyperparams(criterion=np.str_('gini'), splitter=np.str_('random'), max_depth=np.int64(20), min_samples_split=np.int64(2), min_samples_leaf=np.int64(1), min_weight_fraction_leaf=0.0, max_features=np.str_('sqrt'), max_leaf_nodes=np.int64(37), min_impurity_decrease=0.0, ccp_alpha=0.0)\n",
      "Eval for DecisionTreeHyperparams(criterion=np.str_('entropy'), splitter=np.str_('best'), max_depth=np.int64(10), min_samples_split=np.int64(18), min_samples_leaf=np.int64(9), min_weight_fraction_leaf=0.038187864518216916, max_features=None, max_leaf_nodes=np.int64(41), min_impurity_decrease=0.2, ccp_alpha=1.0)\n",
      "Actual score: ClassificationEvaluationResults(accuracy=0.12380952380952381, precision=0.015328798185941043, recall=0.12380952380952381, f1=0.02728006456820016, mean_classes_error=3.139080179080179, roc_auc=None)\n",
      "Best score: ClassificationEvaluationResults(accuracy=0.2734228734228734, precision=0.21604228492467753, recall=0.2734228734228734, f1=0.2063998573605134, mean_classes_error=1.3036060236060236, roc_auc=None)\n",
      "Best score hyperparams: DecisionTreeHyperparams(criterion=np.str_('gini'), splitter=np.str_('random'), max_depth=np.int64(20), min_samples_split=np.int64(2), min_samples_leaf=np.int64(1), min_weight_fraction_leaf=0.0, max_features=np.str_('sqrt'), max_leaf_nodes=np.int64(37), min_impurity_decrease=0.0, ccp_alpha=0.0)\n",
      "Eval for DecisionTreeHyperparams(criterion=np.str_('entropy'), splitter=np.str_('random'), max_depth=np.int64(16), min_samples_split=np.int64(6), min_samples_leaf=np.int64(9), min_weight_fraction_leaf=0.08290707654877702, max_features=None, max_leaf_nodes=np.int64(49), min_impurity_decrease=0.10675649924665427, ccp_alpha=0.2647747600841931)\n",
      "Actual score: ClassificationEvaluationResults(accuracy=0.2021164021164021, precision=0.044747471593300475, recall=0.2021164021164021, f1=0.07326519390393671, mean_classes_error=1.6323483923483924, roc_auc=None)\n",
      "Best score: ClassificationEvaluationResults(accuracy=0.2734228734228734, precision=0.21604228492467753, recall=0.2734228734228734, f1=0.2063998573605134, mean_classes_error=1.3036060236060236, roc_auc=None)\n",
      "Best score hyperparams: DecisionTreeHyperparams(criterion=np.str_('gini'), splitter=np.str_('random'), max_depth=np.int64(20), min_samples_split=np.int64(2), min_samples_leaf=np.int64(1), min_weight_fraction_leaf=0.0, max_features=np.str_('sqrt'), max_leaf_nodes=np.int64(37), min_impurity_decrease=0.0, ccp_alpha=0.0)\n",
      "Eval for DecisionTreeHyperparams(criterion=np.str_('entropy'), splitter=np.str_('random'), max_depth=np.int64(2), min_samples_split=np.int64(16), min_samples_leaf=np.int64(6), min_weight_fraction_leaf=0.006109053285564301, max_features=np.float64(0.5), max_leaf_nodes=np.int64(18), min_impurity_decrease=0.2, ccp_alpha=0.6424566211024559)\n",
      "Actual score: ClassificationEvaluationResults(accuracy=0.12380952380952381, precision=0.015328798185941043, recall=0.12380952380952381, f1=0.02728006456820016, mean_classes_error=3.139080179080179, roc_auc=None)\n",
      "Best score: ClassificationEvaluationResults(accuracy=0.2734228734228734, precision=0.21604228492467753, recall=0.2734228734228734, f1=0.2063998573605134, mean_classes_error=1.3036060236060236, roc_auc=None)\n",
      "Best score hyperparams: DecisionTreeHyperparams(criterion=np.str_('gini'), splitter=np.str_('random'), max_depth=np.int64(20), min_samples_split=np.int64(2), min_samples_leaf=np.int64(1), min_weight_fraction_leaf=0.0, max_features=np.str_('sqrt'), max_leaf_nodes=np.int64(37), min_impurity_decrease=0.0, ccp_alpha=0.0)\n",
      "Eval for DecisionTreeHyperparams(criterion=np.str_('entropy'), splitter=np.str_('random'), max_depth=np.int64(1), min_samples_split=np.int64(14), min_samples_leaf=np.int64(10), min_weight_fraction_leaf=0.5, max_features=np.str_('sqrt'), max_leaf_nodes=np.int64(50), min_impurity_decrease=0.0, ccp_alpha=0.0)\n",
      "Actual score: ClassificationEvaluationResults(accuracy=0.12380952380952381, precision=0.015328798185941043, recall=0.12380952380952381, f1=0.02728006456820016, mean_classes_error=3.139080179080179, roc_auc=None)\n",
      "Best score: ClassificationEvaluationResults(accuracy=0.2734228734228734, precision=0.21604228492467753, recall=0.2734228734228734, f1=0.2063998573605134, mean_classes_error=1.3036060236060236, roc_auc=None)\n",
      "Best score hyperparams: DecisionTreeHyperparams(criterion=np.str_('gini'), splitter=np.str_('random'), max_depth=np.int64(20), min_samples_split=np.int64(2), min_samples_leaf=np.int64(1), min_weight_fraction_leaf=0.0, max_features=np.str_('sqrt'), max_leaf_nodes=np.int64(37), min_impurity_decrease=0.0, ccp_alpha=0.0)\n",
      "Eval for DecisionTreeHyperparams(criterion=np.str_('gini'), splitter=np.str_('random'), max_depth=np.int64(1), min_samples_split=np.int64(20), min_samples_leaf=np.int64(9), min_weight_fraction_leaf=0.5, max_features=np.str_('log2'), max_leaf_nodes=np.int64(31), min_impurity_decrease=0.0864151831285674, ccp_alpha=0.0)\n",
      "Actual score: ClassificationEvaluationResults(accuracy=0.12380952380952381, precision=0.015328798185941043, recall=0.12380952380952381, f1=0.02728006456820016, mean_classes_error=3.139080179080179, roc_auc=None)\n",
      "Best score: ClassificationEvaluationResults(accuracy=0.2734228734228734, precision=0.21604228492467753, recall=0.2734228734228734, f1=0.2063998573605134, mean_classes_error=1.3036060236060236, roc_auc=None)\n",
      "Best score hyperparams: DecisionTreeHyperparams(criterion=np.str_('gini'), splitter=np.str_('random'), max_depth=np.int64(20), min_samples_split=np.int64(2), min_samples_leaf=np.int64(1), min_weight_fraction_leaf=0.0, max_features=np.str_('sqrt'), max_leaf_nodes=np.int64(37), min_impurity_decrease=0.0, ccp_alpha=0.0)\n",
      "Eval for DecisionTreeHyperparams(criterion=np.str_('entropy'), splitter=np.str_('random'), max_depth=np.int64(1), min_samples_split=np.int64(6), min_samples_leaf=np.int64(5), min_weight_fraction_leaf=0.005966250575174287, max_features=np.str_('sqrt'), max_leaf_nodes=np.int64(2), min_impurity_decrease=0.0, ccp_alpha=1.0)\n",
      "Actual score: ClassificationEvaluationResults(accuracy=0.12380952380952381, precision=0.015328798185941043, recall=0.12380952380952381, f1=0.02728006456820016, mean_classes_error=3.139080179080179, roc_auc=None)\n",
      "Best score: ClassificationEvaluationResults(accuracy=0.2734228734228734, precision=0.21604228492467753, recall=0.2734228734228734, f1=0.2063998573605134, mean_classes_error=1.3036060236060236, roc_auc=None)\n",
      "Best score hyperparams: DecisionTreeHyperparams(criterion=np.str_('gini'), splitter=np.str_('random'), max_depth=np.int64(20), min_samples_split=np.int64(2), min_samples_leaf=np.int64(1), min_weight_fraction_leaf=0.0, max_features=np.str_('sqrt'), max_leaf_nodes=np.int64(37), min_impurity_decrease=0.0, ccp_alpha=0.0)\n",
      "Eval for DecisionTreeHyperparams(criterion=np.str_('gini'), splitter=np.str_('best'), max_depth=np.int64(16), min_samples_split=np.int64(9), min_samples_leaf=np.int64(1), min_weight_fraction_leaf=0.1277273691569971, max_features=np.str_('sqrt'), max_leaf_nodes=np.int64(8), min_impurity_decrease=0.12619413224980278, ccp_alpha=1.0)\n",
      "Actual score: ClassificationEvaluationResults(accuracy=0.12380952380952381, precision=0.015328798185941043, recall=0.12380952380952381, f1=0.02728006456820016, mean_classes_error=3.139080179080179, roc_auc=None)\n",
      "Best score: ClassificationEvaluationResults(accuracy=0.2734228734228734, precision=0.21604228492467753, recall=0.2734228734228734, f1=0.2063998573605134, mean_classes_error=1.3036060236060236, roc_auc=None)\n",
      "Best score hyperparams: DecisionTreeHyperparams(criterion=np.str_('gini'), splitter=np.str_('random'), max_depth=np.int64(20), min_samples_split=np.int64(2), min_samples_leaf=np.int64(1), min_weight_fraction_leaf=0.0, max_features=np.str_('sqrt'), max_leaf_nodes=np.int64(37), min_impurity_decrease=0.0, ccp_alpha=0.0)\n",
      "DecisionTreeHyperparams(criterion=np.str_('gini'), splitter=np.str_('random'), max_depth=np.int64(20), min_samples_split=np.int64(2), min_samples_leaf=np.int64(1), min_weight_fraction_leaf=0.0, max_features=np.str_('sqrt'), max_leaf_nodes=np.int64(37), min_impurity_decrease=0.0, ccp_alpha=0.0)\n",
      "ClassificationEvaluationResults(accuracy=0.2734228734228734, precision=0.21604228492467753, recall=0.2734228734228734, f1=0.2063998573605134, mean_classes_error=1.3036060236060236, roc_auc=None)\n"
     ]
    },
    {
     "data": {
      "application/vnd.plotly.v1+json": {
       "config": {
        "plotlyServerURL": "https://plot.ly"
       },
       "data": [
        {
         "orientation": "h",
         "type": "bar",
         "x": [
          0,
          0,
          0,
          0.0027215405900079355,
          0.0036140904081445537,
          0.006091968470571184,
          0.0065481910116175985,
          0.020135974694736568,
          0.023078748231401405,
          0.027449999100130625,
          0.042513176555115884,
          0.04636148894734262,
          0.0674783819146928,
          0.07227702544334527,
          0.09147595167289531,
          0.09985111179812847,
          0.10783529344767359,
          0.38256705771419613
         ],
         "y": [
          "Colour",
          "Advanced_model",
          "is_outlier",
          "Vehicle_model",
          "Doors_number",
          "Drive",
          "First_owner",
          "Vehicle_generation",
          "Power_HP",
          "Vehicle_brand",
          "Fuel_type",
          "Condition",
          "Feature_score",
          "Mileage_km",
          "Displacement_cm3",
          "Transmission",
          "Type",
          "Production_year"
         ]
        }
       ],
       "layout": {
        "template": {
         "data": {
          "bar": [
           {
            "error_x": {
             "color": "#2a3f5f"
            },
            "error_y": {
             "color": "#2a3f5f"
            },
            "marker": {
             "line": {
              "color": "#E5ECF6",
              "width": 0.5
             },
             "pattern": {
              "fillmode": "overlay",
              "size": 10,
              "solidity": 0.2
             }
            },
            "type": "bar"
           }
          ],
          "barpolar": [
           {
            "marker": {
             "line": {
              "color": "#E5ECF6",
              "width": 0.5
             },
             "pattern": {
              "fillmode": "overlay",
              "size": 10,
              "solidity": 0.2
             }
            },
            "type": "barpolar"
           }
          ],
          "carpet": [
           {
            "aaxis": {
             "endlinecolor": "#2a3f5f",
             "gridcolor": "white",
             "linecolor": "white",
             "minorgridcolor": "white",
             "startlinecolor": "#2a3f5f"
            },
            "baxis": {
             "endlinecolor": "#2a3f5f",
             "gridcolor": "white",
             "linecolor": "white",
             "minorgridcolor": "white",
             "startlinecolor": "#2a3f5f"
            },
            "type": "carpet"
           }
          ],
          "choropleth": [
           {
            "colorbar": {
             "outlinewidth": 0,
             "ticks": ""
            },
            "type": "choropleth"
           }
          ],
          "contour": [
           {
            "colorbar": {
             "outlinewidth": 0,
             "ticks": ""
            },
            "colorscale": [
             [
              0,
              "#0d0887"
             ],
             [
              0.1111111111111111,
              "#46039f"
             ],
             [
              0.2222222222222222,
              "#7201a8"
             ],
             [
              0.3333333333333333,
              "#9c179e"
             ],
             [
              0.4444444444444444,
              "#bd3786"
             ],
             [
              0.5555555555555556,
              "#d8576b"
             ],
             [
              0.6666666666666666,
              "#ed7953"
             ],
             [
              0.7777777777777778,
              "#fb9f3a"
             ],
             [
              0.8888888888888888,
              "#fdca26"
             ],
             [
              1,
              "#f0f921"
             ]
            ],
            "type": "contour"
           }
          ],
          "contourcarpet": [
           {
            "colorbar": {
             "outlinewidth": 0,
             "ticks": ""
            },
            "type": "contourcarpet"
           }
          ],
          "heatmap": [
           {
            "colorbar": {
             "outlinewidth": 0,
             "ticks": ""
            },
            "colorscale": [
             [
              0,
              "#0d0887"
             ],
             [
              0.1111111111111111,
              "#46039f"
             ],
             [
              0.2222222222222222,
              "#7201a8"
             ],
             [
              0.3333333333333333,
              "#9c179e"
             ],
             [
              0.4444444444444444,
              "#bd3786"
             ],
             [
              0.5555555555555556,
              "#d8576b"
             ],
             [
              0.6666666666666666,
              "#ed7953"
             ],
             [
              0.7777777777777778,
              "#fb9f3a"
             ],
             [
              0.8888888888888888,
              "#fdca26"
             ],
             [
              1,
              "#f0f921"
             ]
            ],
            "type": "heatmap"
           }
          ],
          "heatmapgl": [
           {
            "colorbar": {
             "outlinewidth": 0,
             "ticks": ""
            },
            "colorscale": [
             [
              0,
              "#0d0887"
             ],
             [
              0.1111111111111111,
              "#46039f"
             ],
             [
              0.2222222222222222,
              "#7201a8"
             ],
             [
              0.3333333333333333,
              "#9c179e"
             ],
             [
              0.4444444444444444,
              "#bd3786"
             ],
             [
              0.5555555555555556,
              "#d8576b"
             ],
             [
              0.6666666666666666,
              "#ed7953"
             ],
             [
              0.7777777777777778,
              "#fb9f3a"
             ],
             [
              0.8888888888888888,
              "#fdca26"
             ],
             [
              1,
              "#f0f921"
             ]
            ],
            "type": "heatmapgl"
           }
          ],
          "histogram": [
           {
            "marker": {
             "pattern": {
              "fillmode": "overlay",
              "size": 10,
              "solidity": 0.2
             }
            },
            "type": "histogram"
           }
          ],
          "histogram2d": [
           {
            "colorbar": {
             "outlinewidth": 0,
             "ticks": ""
            },
            "colorscale": [
             [
              0,
              "#0d0887"
             ],
             [
              0.1111111111111111,
              "#46039f"
             ],
             [
              0.2222222222222222,
              "#7201a8"
             ],
             [
              0.3333333333333333,
              "#9c179e"
             ],
             [
              0.4444444444444444,
              "#bd3786"
             ],
             [
              0.5555555555555556,
              "#d8576b"
             ],
             [
              0.6666666666666666,
              "#ed7953"
             ],
             [
              0.7777777777777778,
              "#fb9f3a"
             ],
             [
              0.8888888888888888,
              "#fdca26"
             ],
             [
              1,
              "#f0f921"
             ]
            ],
            "type": "histogram2d"
           }
          ],
          "histogram2dcontour": [
           {
            "colorbar": {
             "outlinewidth": 0,
             "ticks": ""
            },
            "colorscale": [
             [
              0,
              "#0d0887"
             ],
             [
              0.1111111111111111,
              "#46039f"
             ],
             [
              0.2222222222222222,
              "#7201a8"
             ],
             [
              0.3333333333333333,
              "#9c179e"
             ],
             [
              0.4444444444444444,
              "#bd3786"
             ],
             [
              0.5555555555555556,
              "#d8576b"
             ],
             [
              0.6666666666666666,
              "#ed7953"
             ],
             [
              0.7777777777777778,
              "#fb9f3a"
             ],
             [
              0.8888888888888888,
              "#fdca26"
             ],
             [
              1,
              "#f0f921"
             ]
            ],
            "type": "histogram2dcontour"
           }
          ],
          "mesh3d": [
           {
            "colorbar": {
             "outlinewidth": 0,
             "ticks": ""
            },
            "type": "mesh3d"
           }
          ],
          "parcoords": [
           {
            "line": {
             "colorbar": {
              "outlinewidth": 0,
              "ticks": ""
             }
            },
            "type": "parcoords"
           }
          ],
          "pie": [
           {
            "automargin": true,
            "type": "pie"
           }
          ],
          "scatter": [
           {
            "fillpattern": {
             "fillmode": "overlay",
             "size": 10,
             "solidity": 0.2
            },
            "type": "scatter"
           }
          ],
          "scatter3d": [
           {
            "line": {
             "colorbar": {
              "outlinewidth": 0,
              "ticks": ""
             }
            },
            "marker": {
             "colorbar": {
              "outlinewidth": 0,
              "ticks": ""
             }
            },
            "type": "scatter3d"
           }
          ],
          "scattercarpet": [
           {
            "marker": {
             "colorbar": {
              "outlinewidth": 0,
              "ticks": ""
             }
            },
            "type": "scattercarpet"
           }
          ],
          "scattergeo": [
           {
            "marker": {
             "colorbar": {
              "outlinewidth": 0,
              "ticks": ""
             }
            },
            "type": "scattergeo"
           }
          ],
          "scattergl": [
           {
            "marker": {
             "colorbar": {
              "outlinewidth": 0,
              "ticks": ""
             }
            },
            "type": "scattergl"
           }
          ],
          "scattermapbox": [
           {
            "marker": {
             "colorbar": {
              "outlinewidth": 0,
              "ticks": ""
             }
            },
            "type": "scattermapbox"
           }
          ],
          "scatterpolar": [
           {
            "marker": {
             "colorbar": {
              "outlinewidth": 0,
              "ticks": ""
             }
            },
            "type": "scatterpolar"
           }
          ],
          "scatterpolargl": [
           {
            "marker": {
             "colorbar": {
              "outlinewidth": 0,
              "ticks": ""
             }
            },
            "type": "scatterpolargl"
           }
          ],
          "scatterternary": [
           {
            "marker": {
             "colorbar": {
              "outlinewidth": 0,
              "ticks": ""
             }
            },
            "type": "scatterternary"
           }
          ],
          "surface": [
           {
            "colorbar": {
             "outlinewidth": 0,
             "ticks": ""
            },
            "colorscale": [
             [
              0,
              "#0d0887"
             ],
             [
              0.1111111111111111,
              "#46039f"
             ],
             [
              0.2222222222222222,
              "#7201a8"
             ],
             [
              0.3333333333333333,
              "#9c179e"
             ],
             [
              0.4444444444444444,
              "#bd3786"
             ],
             [
              0.5555555555555556,
              "#d8576b"
             ],
             [
              0.6666666666666666,
              "#ed7953"
             ],
             [
              0.7777777777777778,
              "#fb9f3a"
             ],
             [
              0.8888888888888888,
              "#fdca26"
             ],
             [
              1,
              "#f0f921"
             ]
            ],
            "type": "surface"
           }
          ],
          "table": [
           {
            "cells": {
             "fill": {
              "color": "#EBF0F8"
             },
             "line": {
              "color": "white"
             }
            },
            "header": {
             "fill": {
              "color": "#C8D4E3"
             },
             "line": {
              "color": "white"
             }
            },
            "type": "table"
           }
          ]
         },
         "layout": {
          "annotationdefaults": {
           "arrowcolor": "#2a3f5f",
           "arrowhead": 0,
           "arrowwidth": 1
          },
          "autotypenumbers": "strict",
          "coloraxis": {
           "colorbar": {
            "outlinewidth": 0,
            "ticks": ""
           }
          },
          "colorscale": {
           "diverging": [
            [
             0,
             "#8e0152"
            ],
            [
             0.1,
             "#c51b7d"
            ],
            [
             0.2,
             "#de77ae"
            ],
            [
             0.3,
             "#f1b6da"
            ],
            [
             0.4,
             "#fde0ef"
            ],
            [
             0.5,
             "#f7f7f7"
            ],
            [
             0.6,
             "#e6f5d0"
            ],
            [
             0.7,
             "#b8e186"
            ],
            [
             0.8,
             "#7fbc41"
            ],
            [
             0.9,
             "#4d9221"
            ],
            [
             1,
             "#276419"
            ]
           ],
           "sequential": [
            [
             0,
             "#0d0887"
            ],
            [
             0.1111111111111111,
             "#46039f"
            ],
            [
             0.2222222222222222,
             "#7201a8"
            ],
            [
             0.3333333333333333,
             "#9c179e"
            ],
            [
             0.4444444444444444,
             "#bd3786"
            ],
            [
             0.5555555555555556,
             "#d8576b"
            ],
            [
             0.6666666666666666,
             "#ed7953"
            ],
            [
             0.7777777777777778,
             "#fb9f3a"
            ],
            [
             0.8888888888888888,
             "#fdca26"
            ],
            [
             1,
             "#f0f921"
            ]
           ],
           "sequentialminus": [
            [
             0,
             "#0d0887"
            ],
            [
             0.1111111111111111,
             "#46039f"
            ],
            [
             0.2222222222222222,
             "#7201a8"
            ],
            [
             0.3333333333333333,
             "#9c179e"
            ],
            [
             0.4444444444444444,
             "#bd3786"
            ],
            [
             0.5555555555555556,
             "#d8576b"
            ],
            [
             0.6666666666666666,
             "#ed7953"
            ],
            [
             0.7777777777777778,
             "#fb9f3a"
            ],
            [
             0.8888888888888888,
             "#fdca26"
            ],
            [
             1,
             "#f0f921"
            ]
           ]
          },
          "colorway": [
           "#636efa",
           "#EF553B",
           "#00cc96",
           "#ab63fa",
           "#FFA15A",
           "#19d3f3",
           "#FF6692",
           "#B6E880",
           "#FF97FF",
           "#FECB52"
          ],
          "font": {
           "color": "#2a3f5f"
          },
          "geo": {
           "bgcolor": "white",
           "lakecolor": "white",
           "landcolor": "#E5ECF6",
           "showlakes": true,
           "showland": true,
           "subunitcolor": "white"
          },
          "hoverlabel": {
           "align": "left"
          },
          "hovermode": "closest",
          "mapbox": {
           "style": "light"
          },
          "paper_bgcolor": "white",
          "plot_bgcolor": "#E5ECF6",
          "polar": {
           "angularaxis": {
            "gridcolor": "white",
            "linecolor": "white",
            "ticks": ""
           },
           "bgcolor": "#E5ECF6",
           "radialaxis": {
            "gridcolor": "white",
            "linecolor": "white",
            "ticks": ""
           }
          },
          "scene": {
           "xaxis": {
            "backgroundcolor": "#E5ECF6",
            "gridcolor": "white",
            "gridwidth": 2,
            "linecolor": "white",
            "showbackground": true,
            "ticks": "",
            "zerolinecolor": "white"
           },
           "yaxis": {
            "backgroundcolor": "#E5ECF6",
            "gridcolor": "white",
            "gridwidth": 2,
            "linecolor": "white",
            "showbackground": true,
            "ticks": "",
            "zerolinecolor": "white"
           },
           "zaxis": {
            "backgroundcolor": "#E5ECF6",
            "gridcolor": "white",
            "gridwidth": 2,
            "linecolor": "white",
            "showbackground": true,
            "ticks": "",
            "zerolinecolor": "white"
           }
          },
          "shapedefaults": {
           "line": {
            "color": "#2a3f5f"
           }
          },
          "ternary": {
           "aaxis": {
            "gridcolor": "white",
            "linecolor": "white",
            "ticks": ""
           },
           "baxis": {
            "gridcolor": "white",
            "linecolor": "white",
            "ticks": ""
           },
           "bgcolor": "#E5ECF6",
           "caxis": {
            "gridcolor": "white",
            "linecolor": "white",
            "ticks": ""
           }
          },
          "title": {
           "x": 0.05
          },
          "xaxis": {
           "automargin": true,
           "gridcolor": "white",
           "linecolor": "white",
           "ticks": "",
           "title": {
            "standoff": 15
           },
           "zerolinecolor": "white",
           "zerolinewidth": 2
          },
          "yaxis": {
           "automargin": true,
           "gridcolor": "white",
           "linecolor": "white",
           "ticks": "",
           "title": {
            "standoff": 15
           },
           "zerolinecolor": "white",
           "zerolinewidth": 2
          }
         }
        },
        "xaxis": {
         "title": {
          "text": "Weight"
         }
        },
        "yaxis": {
         "title": {
          "text": "Feature Name"
         }
        }
       }
      }
     },
     "metadata": {},
     "output_type": "display_data"
    },
    {
     "name": "stdout",
     "output_type": "stream",
     "text": [
      "None\n"
     ]
    }
   ],
   "source": [
    "training_process(\n",
    "    model_name=\"basic_tree_classifier\",\n",
    "    model_class=PriceClassifierBasicModel,\n",
    "    hyperparameters_class=DecisionTreeHyperparams,\n",
    "    metric=MetricEnum.RECALL,\n",
    "    intervals_function=lambda x: 10 ** (0.4 * x) + 500 * (x + 1) ** 1.2 + 500 * x**0.8,\n",
    "    # param_grid={\n",
    "    #     \"criterion\": [\"gini\", \"entropy\"],\n",
    "    #     \"splitter\": [\"best\"],\n",
    "    #     \"max_depth\": [20, 30],\n",
    "    #     \"min_samples_split\": [10, 50],\n",
    "    #     \"min_samples_leaf\": [5, 10],\n",
    "    #     \"max_features\": [\"sqrt\", 0.5],\n",
    "    #     \"max_leaf_nodes\": [50, 100],\n",
    "    #     \"ccp_alpha\": [0.0, 0.01],\n",
    "    #     \"min_weight_fraction_leaf\": [0.0],\n",
    "    #     \"min_impurity_decrease\": [0.0],\n",
    "    # },\n",
    "    category_encoding=True,\n",
    ")"
   ]
  }
 ],
 "metadata": {
  "kernelspec": {
   "display_name": "venv",
   "language": "python",
   "name": "python3"
  },
  "language_info": {
   "codemirror_mode": {
    "name": "ipython",
    "version": 3
   },
   "file_extension": ".py",
   "mimetype": "text/x-python",
   "name": "python",
   "nbconvert_exporter": "python",
   "pygments_lexer": "ipython3",
   "version": "3.13.0"
  }
 },
 "nbformat": 4,
 "nbformat_minor": 2
}
