{
 "cells": [
  {
   "cell_type": "code",
   "execution_count": 1,
   "metadata": {},
   "outputs": [],
   "source": [
    "import sys\n",
    "import os\n",
    "\n",
    "current_dir = os.getcwd()\n",
    "parent_dir = os.path.abspath(os.path.join(current_dir, os.pardir))\n",
    "sys.path.append(parent_dir)\n",
    "\n",
    "from training.training_process import training_process\n",
    "from models.price_evaluator_decision_tree import PriceClassifierBasicModel, DecisionTreeHyperparams"
   ]
  },
  {
   "cell_type": "code",
   "execution_count": 2,
   "metadata": {},
   "outputs": [
    {
     "name": "stdout",
     "output_type": "stream",
     "text": [
      "585 - 1086\n",
      "1086 - 2737\n",
      "2737 - 5482\n",
      "5482 - 9340\n",
      "9340 - 14344\n",
      "14344 - 20548\n",
      "20548 - 28060\n",
      "28060 - 37125\n",
      "37125 - 48332\n",
      "48332 - 63137\n",
      "63137 - 85176\n",
      "85176 - 123562\n",
      "123562 - 201164\n",
      "201164 - 375411\n",
      "375411 - 717877\n",
      "Started optimization.\n",
      "Eval for DecisionTreeHyperparams(criterion='entropy', splitter='best', max_depth=np.int64(16), min_samples_split=np.int64(13), min_samples_leaf=np.int64(5), min_weight_fraction_leaf=0.049987457909001456, max_features='sqrt', max_leaf_nodes=np.int64(18), min_impurity_decrease=0.028573363584388164, ccp_alpha=0.650888472948853)\n",
      "Eval for DecisionTreeHyperparams(criterion='gini', splitter='random', max_depth=np.int64(19), min_samples_split=np.int64(2), min_samples_leaf=np.int64(10), min_weight_fraction_leaf=0.3087407548138583, max_features='log2', max_leaf_nodes=np.int64(2), min_impurity_decrease=0.004612485008283152, ccp_alpha=0.5247746602583893)\n",
      "Eval for DecisionTreeHyperparams(criterion='gini', splitter='best', max_depth=np.int64(20), min_samples_split=np.int64(6), min_samples_leaf=np.int64(2), min_weight_fraction_leaf=0.3091930046665437, max_features='sqrt', max_leaf_nodes=np.int64(49), min_impurity_decrease=0.09335257864959601, ccp_alpha=0.8599404067363208)\n",
      "Eval for DecisionTreeHyperparams(criterion='entropy', splitter='best', max_depth=np.int64(1), min_samples_split=np.int64(19), min_samples_leaf=np.int64(6), min_weight_fraction_leaf=0.1927082512699581, max_features=None, max_leaf_nodes=np.int64(13), min_impurity_decrease=0.04820509320520236, ccp_alpha=0.6832635188254583)\n",
      "Eval for DecisionTreeHyperparams(criterion='entropy', splitter='random', max_depth=np.int64(4), min_samples_split=np.int64(9), min_samples_leaf=np.int64(3), min_weight_fraction_leaf=0.37768070515882635, max_features='sqrt', max_leaf_nodes=np.int64(12), min_impurity_decrease=0.11354006556399832, ccp_alpha=0.03131329245555859)\n",
      "Eval for DecisionTreeHyperparams(criterion='entropy', splitter='best', max_depth=np.int64(9), min_samples_split=np.int64(19), min_samples_leaf=np.int64(8), min_weight_fraction_leaf=0.16327038440291772, max_features='log2', max_leaf_nodes=np.int64(27), min_impurity_decrease=0.19223440486986987, ccp_alpha=0.8445338486781516)\n",
      "Eval for DecisionTreeHyperparams(criterion='entropy', splitter='random', max_depth=np.int64(12), min_samples_split=np.int64(19), min_samples_leaf=np.int64(6), min_weight_fraction_leaf=0.1379995910112717, max_features='sqrt', max_leaf_nodes=np.int64(10), min_impurity_decrease=0.003127281348238787, ccp_alpha=0.42340148070636974)\n",
      "Eval for DecisionTreeHyperparams(criterion='gini', splitter='best', max_depth=np.int64(1), min_samples_split=np.int64(6), min_samples_leaf=np.int64(7), min_weight_fraction_leaf=0.39508777026560293, max_features='log2', max_leaf_nodes=np.int64(46), min_impurity_decrease=0.13021540510038893, ccp_alpha=0.914959675543781)\n",
      "Eval for DecisionTreeHyperparams(criterion='entropy', splitter='best', max_depth=np.int64(3), min_samples_split=np.int64(9), min_samples_leaf=np.int64(7), min_weight_fraction_leaf=0.3329611783087484, max_features='log2', max_leaf_nodes=np.int64(15), min_impurity_decrease=0.11224868516954026, ccp_alpha=0.38292687475378995)\n",
      "Eval for DecisionTreeHyperparams(criterion='entropy', splitter='random', max_depth=np.int64(15), min_samples_split=np.int64(6), min_samples_leaf=np.int64(3), min_weight_fraction_leaf=0.020216794769215677, max_features='log2', max_leaf_nodes=np.int64(7), min_impurity_decrease=0.08786730037315404, ccp_alpha=0.20171920233539625)\n",
      "Eval for DecisionTreeHyperparams(criterion=np.str_('gini'), splitter=np.str_('random'), max_depth=np.int64(2), min_samples_split=np.int64(17), min_samples_leaf=np.int64(7), min_weight_fraction_leaf=0.2391924636932774, max_features=np.float64(0.5), max_leaf_nodes=np.int64(41), min_impurity_decrease=0.11734345930117025, ccp_alpha=0.000331096019550059)\n",
      "Eval for DecisionTreeHyperparams(criterion=np.str_('gini'), splitter=np.str_('best'), max_depth=np.int64(1), min_samples_split=np.int64(8), min_samples_leaf=np.int64(2), min_weight_fraction_leaf=0.12066710661839478, max_features=np.str_('sqrt'), max_leaf_nodes=np.int64(28), min_impurity_decrease=0.18157924200031686, ccp_alpha=0.9708549361141843)\n",
      "Eval for DecisionTreeHyperparams(criterion=np.str_('gini'), splitter=np.str_('best'), max_depth=np.int64(16), min_samples_split=np.int64(9), min_samples_leaf=np.int64(4), min_weight_fraction_leaf=0.422129367781835, max_features=np.str_('sqrt'), max_leaf_nodes=np.int64(45), min_impurity_decrease=0.19600449459257663, ccp_alpha=0.14635404738955063)\n",
      "Eval for DecisionTreeHyperparams(criterion=np.str_('gini'), splitter=np.str_('random'), max_depth=np.int64(1), min_samples_split=np.int64(8), min_samples_leaf=np.int64(5), min_weight_fraction_leaf=0.5, max_features=np.str_('sqrt'), max_leaf_nodes=np.int64(33), min_impurity_decrease=0.05900365498082252, ccp_alpha=0.611262165969275)\n",
      "Eval for DecisionTreeHyperparams(criterion=np.str_('entropy'), splitter=np.str_('best'), max_depth=np.int64(20), min_samples_split=np.int64(20), min_samples_leaf=np.int64(10), min_weight_fraction_leaf=0.0, max_features=None, max_leaf_nodes=np.int64(2), min_impurity_decrease=0.0, ccp_alpha=0.0)\n",
      "Eval for DecisionTreeHyperparams(criterion=np.str_('gini'), splitter=np.str_('random'), max_depth=np.int64(2), min_samples_split=np.int64(4), min_samples_leaf=np.int64(2), min_weight_fraction_leaf=0.4622101547318887, max_features=None, max_leaf_nodes=np.int64(50), min_impurity_decrease=0.1979603176315528, ccp_alpha=0.14978400898992708)\n",
      "Eval for DecisionTreeHyperparams(criterion=np.str_('entropy'), splitter=np.str_('random'), max_depth=np.int64(5), min_samples_split=np.int64(5), min_samples_leaf=np.int64(4), min_weight_fraction_leaf=0.36610646236966926, max_features=np.str_('sqrt'), max_leaf_nodes=np.int64(28), min_impurity_decrease=0.16503146667543683, ccp_alpha=0.3746334154476761)\n",
      "Eval for DecisionTreeHyperparams(criterion=np.str_('gini'), splitter=np.str_('best'), max_depth=np.int64(20), min_samples_split=np.int64(20), min_samples_leaf=np.int64(10), min_weight_fraction_leaf=0.5, max_features=None, max_leaf_nodes=np.int64(2), min_impurity_decrease=0.0, ccp_alpha=0.0)\n",
      "Eval for DecisionTreeHyperparams(criterion=np.str_('gini'), splitter=np.str_('random'), max_depth=np.int64(1), min_samples_split=np.int64(2), min_samples_leaf=np.int64(1), min_weight_fraction_leaf=0.0, max_features=None, max_leaf_nodes=np.int64(2), min_impurity_decrease=0.2, ccp_alpha=0.0)\n",
      "Eval for DecisionTreeHyperparams(criterion=np.str_('entropy'), splitter=np.str_('random'), max_depth=np.int64(20), min_samples_split=np.int64(2), min_samples_leaf=np.int64(5), min_weight_fraction_leaf=0.0, max_features=None, max_leaf_nodes=np.int64(2), min_impurity_decrease=0.07688753718206472, ccp_alpha=0.3806671909332164)\n",
      "Eval for DecisionTreeHyperparams(criterion=np.str_('entropy'), splitter=np.str_('best'), max_depth=np.int64(13), min_samples_split=np.int64(16), min_samples_leaf=np.int64(2), min_weight_fraction_leaf=0.042435761494203035, max_features=np.float64(0.5), max_leaf_nodes=np.int64(3), min_impurity_decrease=0.04805140020798923, ccp_alpha=0.9955013533509096)\n",
      "Eval for DecisionTreeHyperparams(criterion=np.str_('gini'), splitter=np.str_('best'), max_depth=np.int64(1), min_samples_split=np.int64(5), min_samples_leaf=np.int64(10), min_weight_fraction_leaf=0.3810357523606478, max_features=None, max_leaf_nodes=np.int64(2), min_impurity_decrease=0.04283667995188826, ccp_alpha=0.9944411659877437)\n",
      "Eval for DecisionTreeHyperparams(criterion=np.str_('entropy'), splitter=np.str_('random'), max_depth=np.int64(4), min_samples_split=np.int64(2), min_samples_leaf=np.int64(7), min_weight_fraction_leaf=0.37975525403148175, max_features=np.float64(0.5), max_leaf_nodes=np.int64(18), min_impurity_decrease=0.10542668029797486, ccp_alpha=0.46827379817265796)\n",
      "Eval for DecisionTreeHyperparams(criterion=np.str_('entropy'), splitter=np.str_('random'), max_depth=np.int64(20), min_samples_split=np.int64(5), min_samples_leaf=np.int64(10), min_weight_fraction_leaf=0.47422921480596786, max_features=None, max_leaf_nodes=np.int64(23), min_impurity_decrease=0.005104653062028289, ccp_alpha=0.011760850191612155)\n",
      "Eval for DecisionTreeHyperparams(criterion=np.str_('entropy'), splitter=np.str_('random'), max_depth=np.int64(3), min_samples_split=np.int64(15), min_samples_leaf=np.int64(9), min_weight_fraction_leaf=0.0, max_features=None, max_leaf_nodes=np.int64(29), min_impurity_decrease=0.06308846442237796, ccp_alpha=0.0)\n",
      "Eval for DecisionTreeHyperparams(criterion=np.str_('entropy'), splitter=np.str_('best'), max_depth=np.int64(3), min_samples_split=np.int64(17), min_samples_leaf=np.int64(8), min_weight_fraction_leaf=0.0, max_features=None, max_leaf_nodes=np.int64(8), min_impurity_decrease=0.1682872409195304, ccp_alpha=0.0)\n",
      "Eval for DecisionTreeHyperparams(criterion=np.str_('gini'), splitter=np.str_('best'), max_depth=np.int64(2), min_samples_split=np.int64(20), min_samples_leaf=np.int64(9), min_weight_fraction_leaf=0.4534653396377428, max_features=None, max_leaf_nodes=np.int64(20), min_impurity_decrease=0.008551657857255956, ccp_alpha=0.0)\n",
      "Eval for DecisionTreeHyperparams(criterion=np.str_('gini'), splitter=np.str_('best'), max_depth=np.int64(17), min_samples_split=np.int64(20), min_samples_leaf=np.int64(9), min_weight_fraction_leaf=0.0, max_features=None, max_leaf_nodes=np.int64(43), min_impurity_decrease=0.1822005959220835, ccp_alpha=0.46304158707920534)\n",
      "Eval for DecisionTreeHyperparams(criterion=np.str_('gini'), splitter=np.str_('best'), max_depth=np.int64(1), min_samples_split=np.int64(14), min_samples_leaf=np.int64(10), min_weight_fraction_leaf=0.0, max_features=None, max_leaf_nodes=np.int64(36), min_impurity_decrease=0.026565327703833658, ccp_alpha=0.0)\n",
      "Eval for DecisionTreeHyperparams(criterion=np.str_('entropy'), splitter=np.str_('best'), max_depth=np.int64(8), min_samples_split=np.int64(20), min_samples_leaf=np.int64(9), min_weight_fraction_leaf=0.0, max_features=np.float64(0.5), max_leaf_nodes=np.int64(31), min_impurity_decrease=0.046402053127473, ccp_alpha=0.0)\n",
      "Eval for DecisionTreeHyperparams(criterion=np.str_('entropy'), splitter=np.str_('best'), max_depth=np.int64(1), min_samples_split=np.int64(20), min_samples_leaf=np.int64(10), min_weight_fraction_leaf=0.0, max_features=None, max_leaf_nodes=np.int64(50), min_impurity_decrease=0.0, ccp_alpha=0.0)\n",
      "Eval for DecisionTreeHyperparams(criterion=np.str_('gini'), splitter=np.str_('best'), max_depth=np.int64(13), min_samples_split=np.int64(7), min_samples_leaf=np.int64(9), min_weight_fraction_leaf=0.005254498804972707, max_features=np.float64(0.5), max_leaf_nodes=np.int64(27), min_impurity_decrease=0.10107210626569121, ccp_alpha=0.13706942384849358)\n",
      "Eval for DecisionTreeHyperparams(criterion=np.str_('gini'), splitter=np.str_('random'), max_depth=np.int64(7), min_samples_split=np.int64(9), min_samples_leaf=np.int64(9), min_weight_fraction_leaf=0.0, max_features=np.float64(0.5), max_leaf_nodes=np.int64(19), min_impurity_decrease=0.18542024888377628, ccp_alpha=0.0)\n",
      "Eval for DecisionTreeHyperparams(criterion=np.str_('entropy'), splitter=np.str_('best'), max_depth=np.int64(1), min_samples_split=np.int64(20), min_samples_leaf=np.int64(3), min_weight_fraction_leaf=0.5, max_features=np.str_('log2'), max_leaf_nodes=np.int64(12), min_impurity_decrease=0.0363628857513904, ccp_alpha=0.0)\n",
      "Eval for DecisionTreeHyperparams(criterion=np.str_('entropy'), splitter=np.str_('best'), max_depth=np.int64(5), min_samples_split=np.int64(20), min_samples_leaf=np.int64(10), min_weight_fraction_leaf=0.4675738204680685, max_features=np.float64(0.5), max_leaf_nodes=np.int64(48), min_impurity_decrease=0.053117890636522835, ccp_alpha=0.0)\n",
      "Eval for DecisionTreeHyperparams(criterion=np.str_('entropy'), splitter=np.str_('best'), max_depth=np.int64(17), min_samples_split=np.int64(18), min_samples_leaf=np.int64(9), min_weight_fraction_leaf=0.0, max_features=np.str_('log2'), max_leaf_nodes=np.int64(29), min_impurity_decrease=0.04263333452176654, ccp_alpha=0.0)\n",
      "Eval for DecisionTreeHyperparams(criterion=np.str_('entropy'), splitter=np.str_('random'), max_depth=np.int64(1), min_samples_split=np.int64(2), min_samples_leaf=np.int64(10), min_weight_fraction_leaf=0.0, max_features=None, max_leaf_nodes=np.int64(25), min_impurity_decrease=0.0, ccp_alpha=0.0)\n",
      "Eval for DecisionTreeHyperparams(criterion=np.str_('entropy'), splitter=np.str_('best'), max_depth=np.int64(10), min_samples_split=np.int64(20), min_samples_leaf=np.int64(9), min_weight_fraction_leaf=0.0, max_features=np.float64(0.5), max_leaf_nodes=np.int64(47), min_impurity_decrease=0.043043905035324445, ccp_alpha=0.0)\n",
      "Eval for DecisionTreeHyperparams(criterion=np.str_('entropy'), splitter=np.str_('best'), max_depth=np.int64(20), min_samples_split=np.int64(20), min_samples_leaf=np.int64(10), min_weight_fraction_leaf=0.0, max_features=np.float64(0.5), max_leaf_nodes=np.int64(50), min_impurity_decrease=0.07670917141179469, ccp_alpha=0.0)\n",
      "Eval for DecisionTreeHyperparams(criterion=np.str_('entropy'), splitter=np.str_('random'), max_depth=np.int64(18), min_samples_split=np.int64(20), min_samples_leaf=np.int64(9), min_weight_fraction_leaf=0.0, max_features=np.float64(0.5), max_leaf_nodes=np.int64(27), min_impurity_decrease=0.07660293744597113, ccp_alpha=0.0)\n",
      "Eval for DecisionTreeHyperparams(criterion=np.str_('entropy'), splitter=np.str_('best'), max_depth=np.int64(1), min_samples_split=np.int64(8), min_samples_leaf=np.int64(10), min_weight_fraction_leaf=0.0, max_features=np.float64(0.5), max_leaf_nodes=np.int64(10), min_impurity_decrease=0.0506007517147838, ccp_alpha=0.0)\n",
      "Eval for DecisionTreeHyperparams(criterion=np.str_('entropy'), splitter=np.str_('best'), max_depth=np.int64(1), min_samples_split=np.int64(18), min_samples_leaf=np.int64(10), min_weight_fraction_leaf=0.0, max_features=np.float64(0.5), max_leaf_nodes=np.int64(18), min_impurity_decrease=0.05078515214684029, ccp_alpha=0.0)\n",
      "Eval for DecisionTreeHyperparams(criterion=np.str_('entropy'), splitter=np.str_('best'), max_depth=np.int64(9), min_samples_split=np.int64(20), min_samples_leaf=np.int64(9), min_weight_fraction_leaf=0.13007009560230115, max_features=np.float64(0.5), max_leaf_nodes=np.int64(14), min_impurity_decrease=0.0468362302601763, ccp_alpha=0.0)\n",
      "Eval for DecisionTreeHyperparams(criterion=np.str_('gini'), splitter=np.str_('best'), max_depth=np.int64(14), min_samples_split=np.int64(11), min_samples_leaf=np.int64(9), min_weight_fraction_leaf=0.0, max_features=np.float64(0.5), max_leaf_nodes=np.int64(48), min_impurity_decrease=0.046181200962566026, ccp_alpha=0.9352279803986603)\n",
      "Eval for DecisionTreeHyperparams(criterion=np.str_('entropy'), splitter=np.str_('best'), max_depth=np.int64(10), min_samples_split=np.int64(20), min_samples_leaf=np.int64(10), min_weight_fraction_leaf=0.0, max_features=np.float64(0.5), max_leaf_nodes=np.int64(43), min_impurity_decrease=0.07973856050390532, ccp_alpha=0.0)\n",
      "Eval for DecisionTreeHyperparams(criterion=np.str_('entropy'), splitter=np.str_('best'), max_depth=np.int64(10), min_samples_split=np.int64(4), min_samples_leaf=np.int64(9), min_weight_fraction_leaf=0.0, max_features=None, max_leaf_nodes=np.int64(37), min_impurity_decrease=0.02304544957760643, ccp_alpha=0.4055402023328578)\n",
      "Eval for DecisionTreeHyperparams(criterion=np.str_('entropy'), splitter=np.str_('best'), max_depth=np.int64(9), min_samples_split=np.int64(2), min_samples_leaf=np.int64(9), min_weight_fraction_leaf=0.0, max_features=np.str_('log2'), max_leaf_nodes=np.int64(37), min_impurity_decrease=0.16382016951085018, ccp_alpha=0.0)\n",
      "Eval for DecisionTreeHyperparams(criterion=np.str_('entropy'), splitter=np.str_('best'), max_depth=np.int64(16), min_samples_split=np.int64(20), min_samples_leaf=np.int64(7), min_weight_fraction_leaf=0.0, max_features=np.float64(0.5), max_leaf_nodes=np.int64(49), min_impurity_decrease=0.05151623099498426, ccp_alpha=0.0)\n",
      "Eval for DecisionTreeHyperparams(criterion=np.str_('entropy'), splitter=np.str_('random'), max_depth=np.int64(10), min_samples_split=np.int64(12), min_samples_leaf=np.int64(4), min_weight_fraction_leaf=0.0, max_features=np.float64(0.5), max_leaf_nodes=np.int64(50), min_impurity_decrease=0.05175181458680766, ccp_alpha=0.0)\n",
      "Eval for DecisionTreeHyperparams(criterion=np.str_('entropy'), splitter=np.str_('best'), max_depth=np.int64(19), min_samples_split=np.int64(20), min_samples_leaf=np.int64(10), min_weight_fraction_leaf=0.0, max_features=np.str_('sqrt'), max_leaf_nodes=np.int64(50), min_impurity_decrease=0.050407068037073115, ccp_alpha=0.0)\n",
      "Hyperparameters found. Training model.\n",
      "DecisionTreeHyperparams(criterion=np.str_('entropy'), splitter=np.str_('best'), max_depth=np.int64(16), min_samples_split=np.int64(20), min_samples_leaf=np.int64(7), min_weight_fraction_leaf=0.0, max_features=np.float64(0.5), max_leaf_nodes=np.int64(49), min_impurity_decrease=0.05151623099498426, ccp_alpha=0.0)\n",
      "ClassificationEvaluationResults(accuracy=0.2727228327228327, precision=0.13774907712079, recall=0.2727228327228327, f1=0.1804542503241216)\n"
     ]
    },
    {
     "data": {
      "application/vnd.plotly.v1+json": {
       "config": {
        "plotlyServerURL": "https://plot.ly"
       },
       "data": [
        {
         "orientation": "h",
         "type": "bar",
         "x": [
          0,
          0,
          0,
          0,
          0,
          0,
          0,
          0,
          0,
          0,
          0,
          0,
          0,
          0,
          0,
          0,
          0,
          0,
          0,
          0,
          0,
          0,
          0,
          0,
          0,
          0,
          0,
          0,
          0,
          0,
          0,
          0,
          0,
          0,
          0,
          0,
          0,
          0,
          0,
          0,
          0,
          0,
          0,
          0,
          0,
          0,
          0,
          0,
          0,
          0,
          0,
          0,
          0,
          0,
          0,
          0,
          0,
          0,
          0,
          0,
          0,
          0,
          0,
          0,
          0,
          0,
          0,
          0,
          0,
          0,
          0,
          0,
          0,
          0,
          0,
          0,
          0,
          0,
          0,
          0,
          0,
          0,
          0,
          0.08360875045925154,
          0.1670417917664692,
          0.17936567969235365,
          0.5699837780819257
         ],
         "y": [
          "Condition",
          "Vehicle_brand",
          "Vehicle_model",
          "Vehicle_generation",
          "Displacement_cm3",
          "Fuel_type",
          "Drive",
          "Transmission",
          "Type",
          "Doors_number",
          "Colour",
          "First_owner",
          "Advanced_model",
          "ABS",
          "ASR (traction control)",
          "AUX socket",
          "Active cruise control",
          "Adjustable suspension",
          "Aftermarket radio",
          "Air curtains",
          "Airbag protecting the knees",
          "Alarm",
          "Alloy wheels",
          "Automatic air conditioning",
          "Auxiliary heating",
          "Blind spot sensor",
          "CD",
          "CD changer",
          "Central locking",
          "Cruise control",
          "DVD player",
          "Daytime running lights",
          "Drivers airbag",
          "Dual zone air conditioning",
          "ESP(stabilization of the track)",
          "Electric front windows",
          "Electric rear windows",
          "Electrically adjustable mirrors",
          "Electrically adjustable seats",
          "Electrochromic rear view mirror",
          "Electrochromic side mirrors",
          "Factory radio",
          "Fog lights",
          "Four-zone air conditioning",
          "Front parking sensors",
          "Front side airbags",
          "GPS navigation",
          "HUD(head-up display)",
          "Heated front seats",
          "Heated rear seats",
          "Heated side mirrors",
          "Heated windscreen",
          "Hook",
          "Immobilizer",
          "Isofix",
          "LED lights",
          "Lane assistant",
          "Leather upholstery",
          "MP3",
          "Manual air conditioning",
          "Multifunction steering wheel",
          "On-board computer",
          "Panoramic roof",
          "Parking assistant",
          "Passengers airbag",
          "Power steering",
          "Rain sensor",
          "Rear parking sensors",
          "Rear side airbags",
          "Rear view camera",
          "Roof rails",
          "SD socket",
          "Shift paddles",
          "Speed limiter",
          "Start-Stop system",
          "Sunroof",
          "TV tuner",
          "Tinted windows",
          "Twilight sensor",
          "USB socket",
          "Velor upholstery",
          "Xenon lights",
          "is_outlier",
          "Bluetooth",
          "Power_HP",
          "Mileage_km",
          "Production_year"
         ]
        }
       ],
       "layout": {
        "template": {
         "data": {
          "bar": [
           {
            "error_x": {
             "color": "#2a3f5f"
            },
            "error_y": {
             "color": "#2a3f5f"
            },
            "marker": {
             "line": {
              "color": "#E5ECF6",
              "width": 0.5
             },
             "pattern": {
              "fillmode": "overlay",
              "size": 10,
              "solidity": 0.2
             }
            },
            "type": "bar"
           }
          ],
          "barpolar": [
           {
            "marker": {
             "line": {
              "color": "#E5ECF6",
              "width": 0.5
             },
             "pattern": {
              "fillmode": "overlay",
              "size": 10,
              "solidity": 0.2
             }
            },
            "type": "barpolar"
           }
          ],
          "carpet": [
           {
            "aaxis": {
             "endlinecolor": "#2a3f5f",
             "gridcolor": "white",
             "linecolor": "white",
             "minorgridcolor": "white",
             "startlinecolor": "#2a3f5f"
            },
            "baxis": {
             "endlinecolor": "#2a3f5f",
             "gridcolor": "white",
             "linecolor": "white",
             "minorgridcolor": "white",
             "startlinecolor": "#2a3f5f"
            },
            "type": "carpet"
           }
          ],
          "choropleth": [
           {
            "colorbar": {
             "outlinewidth": 0,
             "ticks": ""
            },
            "type": "choropleth"
           }
          ],
          "contour": [
           {
            "colorbar": {
             "outlinewidth": 0,
             "ticks": ""
            },
            "colorscale": [
             [
              0,
              "#0d0887"
             ],
             [
              0.1111111111111111,
              "#46039f"
             ],
             [
              0.2222222222222222,
              "#7201a8"
             ],
             [
              0.3333333333333333,
              "#9c179e"
             ],
             [
              0.4444444444444444,
              "#bd3786"
             ],
             [
              0.5555555555555556,
              "#d8576b"
             ],
             [
              0.6666666666666666,
              "#ed7953"
             ],
             [
              0.7777777777777778,
              "#fb9f3a"
             ],
             [
              0.8888888888888888,
              "#fdca26"
             ],
             [
              1,
              "#f0f921"
             ]
            ],
            "type": "contour"
           }
          ],
          "contourcarpet": [
           {
            "colorbar": {
             "outlinewidth": 0,
             "ticks": ""
            },
            "type": "contourcarpet"
           }
          ],
          "heatmap": [
           {
            "colorbar": {
             "outlinewidth": 0,
             "ticks": ""
            },
            "colorscale": [
             [
              0,
              "#0d0887"
             ],
             [
              0.1111111111111111,
              "#46039f"
             ],
             [
              0.2222222222222222,
              "#7201a8"
             ],
             [
              0.3333333333333333,
              "#9c179e"
             ],
             [
              0.4444444444444444,
              "#bd3786"
             ],
             [
              0.5555555555555556,
              "#d8576b"
             ],
             [
              0.6666666666666666,
              "#ed7953"
             ],
             [
              0.7777777777777778,
              "#fb9f3a"
             ],
             [
              0.8888888888888888,
              "#fdca26"
             ],
             [
              1,
              "#f0f921"
             ]
            ],
            "type": "heatmap"
           }
          ],
          "heatmapgl": [
           {
            "colorbar": {
             "outlinewidth": 0,
             "ticks": ""
            },
            "colorscale": [
             [
              0,
              "#0d0887"
             ],
             [
              0.1111111111111111,
              "#46039f"
             ],
             [
              0.2222222222222222,
              "#7201a8"
             ],
             [
              0.3333333333333333,
              "#9c179e"
             ],
             [
              0.4444444444444444,
              "#bd3786"
             ],
             [
              0.5555555555555556,
              "#d8576b"
             ],
             [
              0.6666666666666666,
              "#ed7953"
             ],
             [
              0.7777777777777778,
              "#fb9f3a"
             ],
             [
              0.8888888888888888,
              "#fdca26"
             ],
             [
              1,
              "#f0f921"
             ]
            ],
            "type": "heatmapgl"
           }
          ],
          "histogram": [
           {
            "marker": {
             "pattern": {
              "fillmode": "overlay",
              "size": 10,
              "solidity": 0.2
             }
            },
            "type": "histogram"
           }
          ],
          "histogram2d": [
           {
            "colorbar": {
             "outlinewidth": 0,
             "ticks": ""
            },
            "colorscale": [
             [
              0,
              "#0d0887"
             ],
             [
              0.1111111111111111,
              "#46039f"
             ],
             [
              0.2222222222222222,
              "#7201a8"
             ],
             [
              0.3333333333333333,
              "#9c179e"
             ],
             [
              0.4444444444444444,
              "#bd3786"
             ],
             [
              0.5555555555555556,
              "#d8576b"
             ],
             [
              0.6666666666666666,
              "#ed7953"
             ],
             [
              0.7777777777777778,
              "#fb9f3a"
             ],
             [
              0.8888888888888888,
              "#fdca26"
             ],
             [
              1,
              "#f0f921"
             ]
            ],
            "type": "histogram2d"
           }
          ],
          "histogram2dcontour": [
           {
            "colorbar": {
             "outlinewidth": 0,
             "ticks": ""
            },
            "colorscale": [
             [
              0,
              "#0d0887"
             ],
             [
              0.1111111111111111,
              "#46039f"
             ],
             [
              0.2222222222222222,
              "#7201a8"
             ],
             [
              0.3333333333333333,
              "#9c179e"
             ],
             [
              0.4444444444444444,
              "#bd3786"
             ],
             [
              0.5555555555555556,
              "#d8576b"
             ],
             [
              0.6666666666666666,
              "#ed7953"
             ],
             [
              0.7777777777777778,
              "#fb9f3a"
             ],
             [
              0.8888888888888888,
              "#fdca26"
             ],
             [
              1,
              "#f0f921"
             ]
            ],
            "type": "histogram2dcontour"
           }
          ],
          "mesh3d": [
           {
            "colorbar": {
             "outlinewidth": 0,
             "ticks": ""
            },
            "type": "mesh3d"
           }
          ],
          "parcoords": [
           {
            "line": {
             "colorbar": {
              "outlinewidth": 0,
              "ticks": ""
             }
            },
            "type": "parcoords"
           }
          ],
          "pie": [
           {
            "automargin": true,
            "type": "pie"
           }
          ],
          "scatter": [
           {
            "fillpattern": {
             "fillmode": "overlay",
             "size": 10,
             "solidity": 0.2
            },
            "type": "scatter"
           }
          ],
          "scatter3d": [
           {
            "line": {
             "colorbar": {
              "outlinewidth": 0,
              "ticks": ""
             }
            },
            "marker": {
             "colorbar": {
              "outlinewidth": 0,
              "ticks": ""
             }
            },
            "type": "scatter3d"
           }
          ],
          "scattercarpet": [
           {
            "marker": {
             "colorbar": {
              "outlinewidth": 0,
              "ticks": ""
             }
            },
            "type": "scattercarpet"
           }
          ],
          "scattergeo": [
           {
            "marker": {
             "colorbar": {
              "outlinewidth": 0,
              "ticks": ""
             }
            },
            "type": "scattergeo"
           }
          ],
          "scattergl": [
           {
            "marker": {
             "colorbar": {
              "outlinewidth": 0,
              "ticks": ""
             }
            },
            "type": "scattergl"
           }
          ],
          "scattermapbox": [
           {
            "marker": {
             "colorbar": {
              "outlinewidth": 0,
              "ticks": ""
             }
            },
            "type": "scattermapbox"
           }
          ],
          "scatterpolar": [
           {
            "marker": {
             "colorbar": {
              "outlinewidth": 0,
              "ticks": ""
             }
            },
            "type": "scatterpolar"
           }
          ],
          "scatterpolargl": [
           {
            "marker": {
             "colorbar": {
              "outlinewidth": 0,
              "ticks": ""
             }
            },
            "type": "scatterpolargl"
           }
          ],
          "scatterternary": [
           {
            "marker": {
             "colorbar": {
              "outlinewidth": 0,
              "ticks": ""
             }
            },
            "type": "scatterternary"
           }
          ],
          "surface": [
           {
            "colorbar": {
             "outlinewidth": 0,
             "ticks": ""
            },
            "colorscale": [
             [
              0,
              "#0d0887"
             ],
             [
              0.1111111111111111,
              "#46039f"
             ],
             [
              0.2222222222222222,
              "#7201a8"
             ],
             [
              0.3333333333333333,
              "#9c179e"
             ],
             [
              0.4444444444444444,
              "#bd3786"
             ],
             [
              0.5555555555555556,
              "#d8576b"
             ],
             [
              0.6666666666666666,
              "#ed7953"
             ],
             [
              0.7777777777777778,
              "#fb9f3a"
             ],
             [
              0.8888888888888888,
              "#fdca26"
             ],
             [
              1,
              "#f0f921"
             ]
            ],
            "type": "surface"
           }
          ],
          "table": [
           {
            "cells": {
             "fill": {
              "color": "#EBF0F8"
             },
             "line": {
              "color": "white"
             }
            },
            "header": {
             "fill": {
              "color": "#C8D4E3"
             },
             "line": {
              "color": "white"
             }
            },
            "type": "table"
           }
          ]
         },
         "layout": {
          "annotationdefaults": {
           "arrowcolor": "#2a3f5f",
           "arrowhead": 0,
           "arrowwidth": 1
          },
          "autotypenumbers": "strict",
          "coloraxis": {
           "colorbar": {
            "outlinewidth": 0,
            "ticks": ""
           }
          },
          "colorscale": {
           "diverging": [
            [
             0,
             "#8e0152"
            ],
            [
             0.1,
             "#c51b7d"
            ],
            [
             0.2,
             "#de77ae"
            ],
            [
             0.3,
             "#f1b6da"
            ],
            [
             0.4,
             "#fde0ef"
            ],
            [
             0.5,
             "#f7f7f7"
            ],
            [
             0.6,
             "#e6f5d0"
            ],
            [
             0.7,
             "#b8e186"
            ],
            [
             0.8,
             "#7fbc41"
            ],
            [
             0.9,
             "#4d9221"
            ],
            [
             1,
             "#276419"
            ]
           ],
           "sequential": [
            [
             0,
             "#0d0887"
            ],
            [
             0.1111111111111111,
             "#46039f"
            ],
            [
             0.2222222222222222,
             "#7201a8"
            ],
            [
             0.3333333333333333,
             "#9c179e"
            ],
            [
             0.4444444444444444,
             "#bd3786"
            ],
            [
             0.5555555555555556,
             "#d8576b"
            ],
            [
             0.6666666666666666,
             "#ed7953"
            ],
            [
             0.7777777777777778,
             "#fb9f3a"
            ],
            [
             0.8888888888888888,
             "#fdca26"
            ],
            [
             1,
             "#f0f921"
            ]
           ],
           "sequentialminus": [
            [
             0,
             "#0d0887"
            ],
            [
             0.1111111111111111,
             "#46039f"
            ],
            [
             0.2222222222222222,
             "#7201a8"
            ],
            [
             0.3333333333333333,
             "#9c179e"
            ],
            [
             0.4444444444444444,
             "#bd3786"
            ],
            [
             0.5555555555555556,
             "#d8576b"
            ],
            [
             0.6666666666666666,
             "#ed7953"
            ],
            [
             0.7777777777777778,
             "#fb9f3a"
            ],
            [
             0.8888888888888888,
             "#fdca26"
            ],
            [
             1,
             "#f0f921"
            ]
           ]
          },
          "colorway": [
           "#636efa",
           "#EF553B",
           "#00cc96",
           "#ab63fa",
           "#FFA15A",
           "#19d3f3",
           "#FF6692",
           "#B6E880",
           "#FF97FF",
           "#FECB52"
          ],
          "font": {
           "color": "#2a3f5f"
          },
          "geo": {
           "bgcolor": "white",
           "lakecolor": "white",
           "landcolor": "#E5ECF6",
           "showlakes": true,
           "showland": true,
           "subunitcolor": "white"
          },
          "hoverlabel": {
           "align": "left"
          },
          "hovermode": "closest",
          "mapbox": {
           "style": "light"
          },
          "paper_bgcolor": "white",
          "plot_bgcolor": "#E5ECF6",
          "polar": {
           "angularaxis": {
            "gridcolor": "white",
            "linecolor": "white",
            "ticks": ""
           },
           "bgcolor": "#E5ECF6",
           "radialaxis": {
            "gridcolor": "white",
            "linecolor": "white",
            "ticks": ""
           }
          },
          "scene": {
           "xaxis": {
            "backgroundcolor": "#E5ECF6",
            "gridcolor": "white",
            "gridwidth": 2,
            "linecolor": "white",
            "showbackground": true,
            "ticks": "",
            "zerolinecolor": "white"
           },
           "yaxis": {
            "backgroundcolor": "#E5ECF6",
            "gridcolor": "white",
            "gridwidth": 2,
            "linecolor": "white",
            "showbackground": true,
            "ticks": "",
            "zerolinecolor": "white"
           },
           "zaxis": {
            "backgroundcolor": "#E5ECF6",
            "gridcolor": "white",
            "gridwidth": 2,
            "linecolor": "white",
            "showbackground": true,
            "ticks": "",
            "zerolinecolor": "white"
           }
          },
          "shapedefaults": {
           "line": {
            "color": "#2a3f5f"
           }
          },
          "ternary": {
           "aaxis": {
            "gridcolor": "white",
            "linecolor": "white",
            "ticks": ""
           },
           "baxis": {
            "gridcolor": "white",
            "linecolor": "white",
            "ticks": ""
           },
           "bgcolor": "#E5ECF6",
           "caxis": {
            "gridcolor": "white",
            "linecolor": "white",
            "ticks": ""
           }
          },
          "title": {
           "x": 0.05
          },
          "xaxis": {
           "automargin": true,
           "gridcolor": "white",
           "linecolor": "white",
           "ticks": "",
           "title": {
            "standoff": 15
           },
           "zerolinecolor": "white",
           "zerolinewidth": 2
          },
          "yaxis": {
           "automargin": true,
           "gridcolor": "white",
           "linecolor": "white",
           "ticks": "",
           "title": {
            "standoff": 15
           },
           "zerolinecolor": "white",
           "zerolinewidth": 2
          }
         }
        },
        "xaxis": {
         "title": {
          "text": "Weight"
         }
        },
        "yaxis": {
         "title": {
          "text": "Feature Name"
         }
        }
       }
      }
     },
     "metadata": {},
     "output_type": "display_data"
    },
    {
     "name": "stdout",
     "output_type": "stream",
     "text": [
      "None\n"
     ]
    }
   ],
   "source": [
    "training_process(\n",
    "    model_name=\"basic_tree_classifier\",\n",
    "    model_class=PriceClassifierBasicModel,\n",
    "    hyperparameters_class=DecisionTreeHyperparams,\n",
    "    intervals_function=lambda x: 10 ** (0.4 * x) + 500 * (x + 1) ** 1.2 + 500 * x**0.8,\n",
    "    # param_grid = {\n",
    "    #     \"criterion\": [\"gini\", \"entropy\"],           # Funkcje podziału\n",
    "    #     \"splitter\": [\"best\"],                       # Deterministyczny podział\n",
    "    #     \"max_depth\": [20, 30],                     # Ograniczone głębokości\n",
    "    #     \"min_samples_split\": [10, 50],             # Mniej wartości do testowania\n",
    "    #     \"min_samples_leaf\": [5, 10],               # Minimalna liczba próbek w liściu\n",
    "    #     \"max_features\": [\"sqrt\", 0.5],             # Proporcja cech lub pierwiastek\n",
    "    #     \"max_leaf_nodes\": [50, 100],               # Umiarkowane ograniczenie liczby liści\n",
    "    #     \"ccp_alpha\": [0.0, 0.01],               # Przycinanie drzewa\n",
    "    #     'min_weight_fraction_leaf': [0.0],\n",
    "    #     'min_impurity_decrease': [0.0]\n",
    "    # },\n",
    "    category_encoding=True,\n",
    ")"
   ]
  }
 ],
 "metadata": {
  "kernelspec": {
   "display_name": "venv",
   "language": "python",
   "name": "python3"
  },
  "language_info": {
   "codemirror_mode": {
    "name": "ipython",
    "version": 3
   },
   "file_extension": ".py",
   "mimetype": "text/x-python",
   "name": "python",
   "nbconvert_exporter": "python",
   "pygments_lexer": "ipython3",
   "version": "3.12.8"
  }
 },
 "nbformat": 4,
 "nbformat_minor": 2
}
