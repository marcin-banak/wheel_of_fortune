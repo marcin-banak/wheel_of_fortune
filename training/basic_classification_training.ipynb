{
 "cells": [
  {
   "cell_type": "code",
   "execution_count": 1,
   "metadata": {},
   "outputs": [],
   "source": [
    "import sys\n",
    "import os\n",
    "\n",
    "current_dir = os.getcwd()\n",
    "parent_dir = os.path.abspath(os.path.join(current_dir, os.pardir))\n",
    "sys.path.append(parent_dir)\n",
    "\n",
    "from training.training_process import training_process\n",
    "from models.price_evaluator_decision_tree import PriceClassifierBasicModel, DecisionTreeHyperparams"
   ]
  },
  {
   "cell_type": "code",
   "execution_count": 2,
   "metadata": {},
   "outputs": [
    {
     "name": "stdout",
     "output_type": "stream",
     "text": [
      "585 - 1086\n",
      "1086 - 2737\n",
      "2737 - 5482\n",
      "5482 - 9340\n",
      "9340 - 14344\n",
      "14344 - 20548\n",
      "20548 - 28060\n",
      "28060 - 37125\n",
      "37125 - 48332\n",
      "48332 - 63137\n",
      "63137 - 85176\n",
      "85176 - 123562\n",
      "123562 - 201164\n",
      "201164 - 375411\n",
      "375411 - 717877\n",
      "Eval for DecisionTreeHyperparams(criterion='entropy', splitter='best', max_depth=np.int64(16), min_samples_split=np.int64(13), min_samples_leaf=np.int64(5), min_weight_fraction_leaf=0.049987457909001456, max_features='sqrt', max_leaf_nodes=np.int64(18), min_impurity_decrease=0.028573363584388164, ccp_alpha=0.650888472948853)\n",
      "Actual score: ClassificationEvaluationResults(accuracy=0.12380952380952381, precision=0.015328798185941043, recall=0.12380952380952381, f1=0.02728006456820016)\n",
      "Best score: ClassificationEvaluationResults(accuracy=0.12380952380952381, precision=0.015328798185941043, recall=0.12380952380952381, f1=0.02728006456820016)\n",
      "Best score hyperparams: DecisionTreeHyperparams(criterion='entropy', splitter='best', max_depth=np.int64(16), min_samples_split=np.int64(13), min_samples_leaf=np.int64(5), min_weight_fraction_leaf=0.049987457909001456, max_features='sqrt', max_leaf_nodes=np.int64(18), min_impurity_decrease=0.028573363584388164, ccp_alpha=0.650888472948853)\n",
      "Eval for DecisionTreeHyperparams(criterion='gini', splitter='random', max_depth=np.int64(19), min_samples_split=np.int64(2), min_samples_leaf=np.int64(10), min_weight_fraction_leaf=0.3087407548138583, max_features='log2', max_leaf_nodes=np.int64(2), min_impurity_decrease=0.004612485008283152, ccp_alpha=0.5247746602583893)\n",
      "Actual score: ClassificationEvaluationResults(accuracy=0.12380952380952381, precision=0.015328798185941043, recall=0.12380952380952381, f1=0.02728006456820016)\n",
      "Best score: ClassificationEvaluationResults(accuracy=0.12380952380952381, precision=0.015328798185941043, recall=0.12380952380952381, f1=0.02728006456820016)\n",
      "Best score hyperparams: DecisionTreeHyperparams(criterion='entropy', splitter='best', max_depth=np.int64(16), min_samples_split=np.int64(13), min_samples_leaf=np.int64(5), min_weight_fraction_leaf=0.049987457909001456, max_features='sqrt', max_leaf_nodes=np.int64(18), min_impurity_decrease=0.028573363584388164, ccp_alpha=0.650888472948853)\n",
      "Eval for DecisionTreeHyperparams(criterion='gini', splitter='best', max_depth=np.int64(20), min_samples_split=np.int64(6), min_samples_leaf=np.int64(2), min_weight_fraction_leaf=0.3091930046665437, max_features='sqrt', max_leaf_nodes=np.int64(49), min_impurity_decrease=0.09335257864959601, ccp_alpha=0.8599404067363208)\n",
      "Actual score: ClassificationEvaluationResults(accuracy=0.12380952380952381, precision=0.015328798185941043, recall=0.12380952380952381, f1=0.02728006456820016)\n",
      "Best score: ClassificationEvaluationResults(accuracy=0.12380952380952381, precision=0.015328798185941043, recall=0.12380952380952381, f1=0.02728006456820016)\n",
      "Best score hyperparams: DecisionTreeHyperparams(criterion='entropy', splitter='best', max_depth=np.int64(16), min_samples_split=np.int64(13), min_samples_leaf=np.int64(5), min_weight_fraction_leaf=0.049987457909001456, max_features='sqrt', max_leaf_nodes=np.int64(18), min_impurity_decrease=0.028573363584388164, ccp_alpha=0.650888472948853)\n",
      "Eval for DecisionTreeHyperparams(criterion='entropy', splitter='best', max_depth=np.int64(1), min_samples_split=np.int64(19), min_samples_leaf=np.int64(6), min_weight_fraction_leaf=0.1927082512699581, max_features=None, max_leaf_nodes=np.int64(13), min_impurity_decrease=0.04820509320520236, ccp_alpha=0.6832635188254583)\n",
      "Actual score: ClassificationEvaluationResults(accuracy=0.12380952380952381, precision=0.015328798185941043, recall=0.12380952380952381, f1=0.02728006456820016)\n",
      "Best score: ClassificationEvaluationResults(accuracy=0.12380952380952381, precision=0.015328798185941043, recall=0.12380952380952381, f1=0.02728006456820016)\n",
      "Best score hyperparams: DecisionTreeHyperparams(criterion='entropy', splitter='best', max_depth=np.int64(16), min_samples_split=np.int64(13), min_samples_leaf=np.int64(5), min_weight_fraction_leaf=0.049987457909001456, max_features='sqrt', max_leaf_nodes=np.int64(18), min_impurity_decrease=0.028573363584388164, ccp_alpha=0.650888472948853)\n",
      "Eval for DecisionTreeHyperparams(criterion='entropy', splitter='random', max_depth=np.int64(4), min_samples_split=np.int64(9), min_samples_leaf=np.int64(3), min_weight_fraction_leaf=0.37768070515882635, max_features='sqrt', max_leaf_nodes=np.int64(12), min_impurity_decrease=0.11354006556399832, ccp_alpha=0.03131329245555859)\n",
      "Actual score: ClassificationEvaluationResults(accuracy=0.12380952380952381, precision=0.015328798185941043, recall=0.12380952380952381, f1=0.02728006456820016)\n",
      "Best score: ClassificationEvaluationResults(accuracy=0.12380952380952381, precision=0.015328798185941043, recall=0.12380952380952381, f1=0.02728006456820016)\n",
      "Best score hyperparams: DecisionTreeHyperparams(criterion='entropy', splitter='best', max_depth=np.int64(16), min_samples_split=np.int64(13), min_samples_leaf=np.int64(5), min_weight_fraction_leaf=0.049987457909001456, max_features='sqrt', max_leaf_nodes=np.int64(18), min_impurity_decrease=0.028573363584388164, ccp_alpha=0.650888472948853)\n",
      "Eval for DecisionTreeHyperparams(criterion='entropy', splitter='best', max_depth=np.int64(9), min_samples_split=np.int64(19), min_samples_leaf=np.int64(8), min_weight_fraction_leaf=0.16327038440291772, max_features='log2', max_leaf_nodes=np.int64(27), min_impurity_decrease=0.19223440486986987, ccp_alpha=0.8445338486781516)\n",
      "Actual score: ClassificationEvaluationResults(accuracy=0.12380952380952381, precision=0.015328798185941043, recall=0.12380952380952381, f1=0.02728006456820016)\n",
      "Best score: ClassificationEvaluationResults(accuracy=0.12380952380952381, precision=0.015328798185941043, recall=0.12380952380952381, f1=0.02728006456820016)\n",
      "Best score hyperparams: DecisionTreeHyperparams(criterion='entropy', splitter='best', max_depth=np.int64(16), min_samples_split=np.int64(13), min_samples_leaf=np.int64(5), min_weight_fraction_leaf=0.049987457909001456, max_features='sqrt', max_leaf_nodes=np.int64(18), min_impurity_decrease=0.028573363584388164, ccp_alpha=0.650888472948853)\n",
      "Eval for DecisionTreeHyperparams(criterion='entropy', splitter='random', max_depth=np.int64(12), min_samples_split=np.int64(19), min_samples_leaf=np.int64(6), min_weight_fraction_leaf=0.1379995910112717, max_features='sqrt', max_leaf_nodes=np.int64(10), min_impurity_decrease=0.003127281348238787, ccp_alpha=0.42340148070636974)\n",
      "Actual score: ClassificationEvaluationResults(accuracy=0.12380952380952381, precision=0.015328798185941043, recall=0.12380952380952381, f1=0.02728006456820016)\n",
      "Best score: ClassificationEvaluationResults(accuracy=0.12380952380952381, precision=0.015328798185941043, recall=0.12380952380952381, f1=0.02728006456820016)\n",
      "Best score hyperparams: DecisionTreeHyperparams(criterion='entropy', splitter='best', max_depth=np.int64(16), min_samples_split=np.int64(13), min_samples_leaf=np.int64(5), min_weight_fraction_leaf=0.049987457909001456, max_features='sqrt', max_leaf_nodes=np.int64(18), min_impurity_decrease=0.028573363584388164, ccp_alpha=0.650888472948853)\n",
      "Eval for DecisionTreeHyperparams(criterion='gini', splitter='best', max_depth=np.int64(1), min_samples_split=np.int64(6), min_samples_leaf=np.int64(7), min_weight_fraction_leaf=0.39508777026560293, max_features='log2', max_leaf_nodes=np.int64(46), min_impurity_decrease=0.13021540510038893, ccp_alpha=0.914959675543781)\n",
      "Actual score: ClassificationEvaluationResults(accuracy=0.12380952380952381, precision=0.015328798185941043, recall=0.12380952380952381, f1=0.02728006456820016)\n",
      "Best score: ClassificationEvaluationResults(accuracy=0.12380952380952381, precision=0.015328798185941043, recall=0.12380952380952381, f1=0.02728006456820016)\n",
      "Best score hyperparams: DecisionTreeHyperparams(criterion='entropy', splitter='best', max_depth=np.int64(16), min_samples_split=np.int64(13), min_samples_leaf=np.int64(5), min_weight_fraction_leaf=0.049987457909001456, max_features='sqrt', max_leaf_nodes=np.int64(18), min_impurity_decrease=0.028573363584388164, ccp_alpha=0.650888472948853)\n",
      "Eval for DecisionTreeHyperparams(criterion='entropy', splitter='best', max_depth=np.int64(3), min_samples_split=np.int64(9), min_samples_leaf=np.int64(7), min_weight_fraction_leaf=0.3329611783087484, max_features='log2', max_leaf_nodes=np.int64(15), min_impurity_decrease=0.11224868516954026, ccp_alpha=0.38292687475378995)\n",
      "Actual score: ClassificationEvaluationResults(accuracy=0.12380952380952381, precision=0.015328798185941043, recall=0.12380952380952381, f1=0.02728006456820016)\n",
      "Best score: ClassificationEvaluationResults(accuracy=0.12380952380952381, precision=0.015328798185941043, recall=0.12380952380952381, f1=0.02728006456820016)\n",
      "Best score hyperparams: DecisionTreeHyperparams(criterion='entropy', splitter='best', max_depth=np.int64(16), min_samples_split=np.int64(13), min_samples_leaf=np.int64(5), min_weight_fraction_leaf=0.049987457909001456, max_features='sqrt', max_leaf_nodes=np.int64(18), min_impurity_decrease=0.028573363584388164, ccp_alpha=0.650888472948853)\n",
      "Eval for DecisionTreeHyperparams(criterion='entropy', splitter='random', max_depth=np.int64(15), min_samples_split=np.int64(6), min_samples_leaf=np.int64(3), min_weight_fraction_leaf=0.020216794769215677, max_features='log2', max_leaf_nodes=np.int64(7), min_impurity_decrease=0.08786730037315404, ccp_alpha=0.20171920233539625)\n",
      "Actual score: ClassificationEvaluationResults(accuracy=0.17211233211233212, precision=0.03727631562945976, recall=0.17211233211233212, f1=0.060189286808729266)\n",
      "Best score: ClassificationEvaluationResults(accuracy=0.17211233211233212, precision=0.03727631562945976, recall=0.17211233211233212, f1=0.060189286808729266)\n",
      "Best score hyperparams: DecisionTreeHyperparams(criterion='entropy', splitter='random', max_depth=np.int64(15), min_samples_split=np.int64(6), min_samples_leaf=np.int64(3), min_weight_fraction_leaf=0.020216794769215677, max_features='log2', max_leaf_nodes=np.int64(7), min_impurity_decrease=0.08786730037315404, ccp_alpha=0.20171920233539625)\n",
      "Eval for DecisionTreeHyperparams(criterion=np.str_('gini'), splitter=np.str_('best'), max_depth=np.int64(17), min_samples_split=np.int64(3), min_samples_leaf=np.int64(10), min_weight_fraction_leaf=0.036140757397224006, max_features=np.str_('sqrt'), max_leaf_nodes=np.int64(21), min_impurity_decrease=0.1634841054277999, ccp_alpha=0.5718247088617228)\n",
      "Actual score: ClassificationEvaluationResults(accuracy=0.12380952380952381, precision=0.015328798185941043, recall=0.12380952380952381, f1=0.02728006456820016)\n",
      "Best score: ClassificationEvaluationResults(accuracy=0.17211233211233212, precision=0.03727631562945976, recall=0.17211233211233212, f1=0.060189286808729266)\n",
      "Best score hyperparams: DecisionTreeHyperparams(criterion='entropy', splitter='random', max_depth=np.int64(15), min_samples_split=np.int64(6), min_samples_leaf=np.int64(3), min_weight_fraction_leaf=0.020216794769215677, max_features='log2', max_leaf_nodes=np.int64(7), min_impurity_decrease=0.08786730037315404, ccp_alpha=0.20171920233539625)\n",
      "Eval for DecisionTreeHyperparams(criterion=np.str_('gini'), splitter=np.str_('random'), max_depth=np.int64(2), min_samples_split=np.int64(9), min_samples_leaf=np.int64(3), min_weight_fraction_leaf=0.33581541764594336, max_features=np.float64(0.5), max_leaf_nodes=np.int64(34), min_impurity_decrease=0.19911469587505146, ccp_alpha=0.2798840211180124)\n",
      "Actual score: ClassificationEvaluationResults(accuracy=0.12380952380952381, precision=0.015328798185941043, recall=0.12380952380952381, f1=0.02728006456820016)\n",
      "Best score: ClassificationEvaluationResults(accuracy=0.17211233211233212, precision=0.03727631562945976, recall=0.17211233211233212, f1=0.060189286808729266)\n",
      "Best score hyperparams: DecisionTreeHyperparams(criterion='entropy', splitter='random', max_depth=np.int64(15), min_samples_split=np.int64(6), min_samples_leaf=np.int64(3), min_weight_fraction_leaf=0.020216794769215677, max_features='log2', max_leaf_nodes=np.int64(7), min_impurity_decrease=0.08786730037315404, ccp_alpha=0.20171920233539625)\n",
      "Eval for DecisionTreeHyperparams(criterion=np.str_('gini'), splitter=np.str_('best'), max_depth=np.int64(18), min_samples_split=np.int64(19), min_samples_leaf=np.int64(1), min_weight_fraction_leaf=0.29193347637764416, max_features=np.str_('log2'), max_leaf_nodes=np.int64(11), min_impurity_decrease=0.16480943427250838, ccp_alpha=0.6752328738022193)\n",
      "Actual score: ClassificationEvaluationResults(accuracy=0.12380952380952381, precision=0.015328798185941043, recall=0.12380952380952381, f1=0.02728006456820016)\n",
      "Best score: ClassificationEvaluationResults(accuracy=0.17211233211233212, precision=0.03727631562945976, recall=0.17211233211233212, f1=0.060189286808729266)\n",
      "Best score hyperparams: DecisionTreeHyperparams(criterion='entropy', splitter='random', max_depth=np.int64(15), min_samples_split=np.int64(6), min_samples_leaf=np.int64(3), min_weight_fraction_leaf=0.020216794769215677, max_features='log2', max_leaf_nodes=np.int64(7), min_impurity_decrease=0.08786730037315404, ccp_alpha=0.20171920233539625)\n",
      "Eval for DecisionTreeHyperparams(criterion=np.str_('gini'), splitter=np.str_('random'), max_depth=np.int64(5), min_samples_split=np.int64(3), min_samples_leaf=np.int64(10), min_weight_fraction_leaf=0.15616883659879682, max_features=None, max_leaf_nodes=np.int64(39), min_impurity_decrease=0.19655029516859113, ccp_alpha=0.4038531453051079)\n",
      "Actual score: ClassificationEvaluationResults(accuracy=0.12380952380952381, precision=0.015328798185941043, recall=0.12380952380952381, f1=0.02728006456820016)\n",
      "Best score: ClassificationEvaluationResults(accuracy=0.17211233211233212, precision=0.03727631562945976, recall=0.17211233211233212, f1=0.060189286808729266)\n",
      "Best score hyperparams: DecisionTreeHyperparams(criterion='entropy', splitter='random', max_depth=np.int64(15), min_samples_split=np.int64(6), min_samples_leaf=np.int64(3), min_weight_fraction_leaf=0.020216794769215677, max_features='log2', max_leaf_nodes=np.int64(7), min_impurity_decrease=0.08786730037315404, ccp_alpha=0.20171920233539625)\n",
      "Eval for DecisionTreeHyperparams(criterion=np.str_('gini'), splitter=np.str_('best'), max_depth=np.int64(6), min_samples_split=np.int64(19), min_samples_leaf=np.int64(4), min_weight_fraction_leaf=0.49220276663109636, max_features=np.float64(0.5), max_leaf_nodes=np.int64(8), min_impurity_decrease=0.003596179551799451, ccp_alpha=0.07846331632764016)\n",
      "Actual score: ClassificationEvaluationResults(accuracy=0.12380952380952381, precision=0.015328798185941043, recall=0.12380952380952381, f1=0.02728006456820016)\n",
      "Best score: ClassificationEvaluationResults(accuracy=0.17211233211233212, precision=0.03727631562945976, recall=0.17211233211233212, f1=0.060189286808729266)\n",
      "Best score hyperparams: DecisionTreeHyperparams(criterion='entropy', splitter='random', max_depth=np.int64(15), min_samples_split=np.int64(6), min_samples_leaf=np.int64(3), min_weight_fraction_leaf=0.020216794769215677, max_features='log2', max_leaf_nodes=np.int64(7), min_impurity_decrease=0.08786730037315404, ccp_alpha=0.20171920233539625)\n",
      "Eval for DecisionTreeHyperparams(criterion=np.str_('entropy'), splitter=np.str_('random'), max_depth=np.int64(19), min_samples_split=np.int64(2), min_samples_leaf=np.int64(9), min_weight_fraction_leaf=0.01904299533994847, max_features=np.float64(0.5), max_leaf_nodes=np.int64(43), min_impurity_decrease=0.12920974634839846, ccp_alpha=0.9218886525154708)\n",
      "Actual score: ClassificationEvaluationResults(accuracy=0.12380952380952381, precision=0.015328798185941043, recall=0.12380952380952381, f1=0.02728006456820016)\n",
      "Best score: ClassificationEvaluationResults(accuracy=0.17211233211233212, precision=0.03727631562945976, recall=0.17211233211233212, f1=0.060189286808729266)\n",
      "Best score hyperparams: DecisionTreeHyperparams(criterion='entropy', splitter='random', max_depth=np.int64(15), min_samples_split=np.int64(6), min_samples_leaf=np.int64(3), min_weight_fraction_leaf=0.020216794769215677, max_features='log2', max_leaf_nodes=np.int64(7), min_impurity_decrease=0.08786730037315404, ccp_alpha=0.20171920233539625)\n",
      "Eval for DecisionTreeHyperparams(criterion=np.str_('gini'), splitter=np.str_('random'), max_depth=np.int64(20), min_samples_split=np.int64(20), min_samples_leaf=np.int64(1), min_weight_fraction_leaf=0.0, max_features=None, max_leaf_nodes=np.int64(2), min_impurity_decrease=0.0, ccp_alpha=1.0)\n",
      "Actual score: ClassificationEvaluationResults(accuracy=0.12380952380952381, precision=0.015328798185941043, recall=0.12380952380952381, f1=0.02728006456820016)\n",
      "Best score: ClassificationEvaluationResults(accuracy=0.17211233211233212, precision=0.03727631562945976, recall=0.17211233211233212, f1=0.060189286808729266)\n",
      "Best score hyperparams: DecisionTreeHyperparams(criterion='entropy', splitter='random', max_depth=np.int64(15), min_samples_split=np.int64(6), min_samples_leaf=np.int64(3), min_weight_fraction_leaf=0.020216794769215677, max_features='log2', max_leaf_nodes=np.int64(7), min_impurity_decrease=0.08786730037315404, ccp_alpha=0.20171920233539625)\n",
      "Eval for DecisionTreeHyperparams(criterion=np.str_('gini'), splitter=np.str_('random'), max_depth=np.int64(6), min_samples_split=np.int64(16), min_samples_leaf=np.int64(1), min_weight_fraction_leaf=0.35912563247736606, max_features=np.str_('log2'), max_leaf_nodes=np.int64(44), min_impurity_decrease=0.17584970563745086, ccp_alpha=0.925068036994158)\n",
      "Actual score: ClassificationEvaluationResults(accuracy=0.12380952380952381, precision=0.015328798185941043, recall=0.12380952380952381, f1=0.02728006456820016)\n",
      "Best score: ClassificationEvaluationResults(accuracy=0.17211233211233212, precision=0.03727631562945976, recall=0.17211233211233212, f1=0.060189286808729266)\n",
      "Best score hyperparams: DecisionTreeHyperparams(criterion='entropy', splitter='random', max_depth=np.int64(15), min_samples_split=np.int64(6), min_samples_leaf=np.int64(3), min_weight_fraction_leaf=0.020216794769215677, max_features='log2', max_leaf_nodes=np.int64(7), min_impurity_decrease=0.08786730037315404, ccp_alpha=0.20171920233539625)\n",
      "Eval for DecisionTreeHyperparams(criterion=np.str_('entropy'), splitter=np.str_('best'), max_depth=np.int64(20), min_samples_split=np.int64(2), min_samples_leaf=np.int64(1), min_weight_fraction_leaf=0.5, max_features=np.float64(0.5), max_leaf_nodes=np.int64(50), min_impurity_decrease=0.2, ccp_alpha=2.619297244337043e-18)\n",
      "Actual score: ClassificationEvaluationResults(accuracy=0.12380952380952381, precision=0.015328798185941043, recall=0.12380952380952381, f1=0.02728006456820016)\n",
      "Best score: ClassificationEvaluationResults(accuracy=0.17211233211233212, precision=0.03727631562945976, recall=0.17211233211233212, f1=0.060189286808729266)\n",
      "Best score hyperparams: DecisionTreeHyperparams(criterion='entropy', splitter='random', max_depth=np.int64(15), min_samples_split=np.int64(6), min_samples_leaf=np.int64(3), min_weight_fraction_leaf=0.020216794769215677, max_features='log2', max_leaf_nodes=np.int64(7), min_impurity_decrease=0.08786730037315404, ccp_alpha=0.20171920233539625)\n",
      "Eval for DecisionTreeHyperparams(criterion=np.str_('entropy'), splitter=np.str_('random'), max_depth=np.int64(7), min_samples_split=np.int64(19), min_samples_leaf=np.int64(10), min_weight_fraction_leaf=0.480790116503672, max_features=None, max_leaf_nodes=np.int64(39), min_impurity_decrease=0.19079640708477932, ccp_alpha=0.9872658333487028)\n",
      "Actual score: ClassificationEvaluationResults(accuracy=0.12380952380952381, precision=0.015328798185941043, recall=0.12380952380952381, f1=0.02728006456820016)\n",
      "Best score: ClassificationEvaluationResults(accuracy=0.17211233211233212, precision=0.03727631562945976, recall=0.17211233211233212, f1=0.060189286808729266)\n",
      "Best score hyperparams: DecisionTreeHyperparams(criterion='entropy', splitter='random', max_depth=np.int64(15), min_samples_split=np.int64(6), min_samples_leaf=np.int64(3), min_weight_fraction_leaf=0.020216794769215677, max_features='log2', max_leaf_nodes=np.int64(7), min_impurity_decrease=0.08786730037315404, ccp_alpha=0.20171920233539625)\n",
      "Eval for DecisionTreeHyperparams(criterion=np.str_('gini'), splitter=np.str_('random'), max_depth=np.int64(6), min_samples_split=np.int64(17), min_samples_leaf=np.int64(10), min_weight_fraction_leaf=0.4796229205271764, max_features=np.str_('sqrt'), max_leaf_nodes=np.int64(40), min_impurity_decrease=0.012007577543681184, ccp_alpha=0.9339839579504919)\n",
      "Actual score: ClassificationEvaluationResults(accuracy=0.12380952380952381, precision=0.015328798185941043, recall=0.12380952380952381, f1=0.02728006456820016)\n",
      "Best score: ClassificationEvaluationResults(accuracy=0.17211233211233212, precision=0.03727631562945976, recall=0.17211233211233212, f1=0.060189286808729266)\n",
      "Best score hyperparams: DecisionTreeHyperparams(criterion='entropy', splitter='random', max_depth=np.int64(15), min_samples_split=np.int64(6), min_samples_leaf=np.int64(3), min_weight_fraction_leaf=0.020216794769215677, max_features='log2', max_leaf_nodes=np.int64(7), min_impurity_decrease=0.08786730037315404, ccp_alpha=0.20171920233539625)\n",
      "Eval for DecisionTreeHyperparams(criterion=np.str_('gini'), splitter=np.str_('best'), max_depth=np.int64(3), min_samples_split=np.int64(3), min_samples_leaf=np.int64(1), min_weight_fraction_leaf=0.01995555473794153, max_features=None, max_leaf_nodes=np.int64(35), min_impurity_decrease=0.13628619624982147, ccp_alpha=0.9594346237428623)\n",
      "Actual score: ClassificationEvaluationResults(accuracy=0.12380952380952381, precision=0.015328798185941043, recall=0.12380952380952381, f1=0.02728006456820016)\n",
      "Best score: ClassificationEvaluationResults(accuracy=0.17211233211233212, precision=0.03727631562945976, recall=0.17211233211233212, f1=0.060189286808729266)\n",
      "Best score hyperparams: DecisionTreeHyperparams(criterion='entropy', splitter='random', max_depth=np.int64(15), min_samples_split=np.int64(6), min_samples_leaf=np.int64(3), min_weight_fraction_leaf=0.020216794769215677, max_features='log2', max_leaf_nodes=np.int64(7), min_impurity_decrease=0.08786730037315404, ccp_alpha=0.20171920233539625)\n",
      "Eval for DecisionTreeHyperparams(criterion=np.str_('entropy'), splitter=np.str_('random'), max_depth=np.int64(16), min_samples_split=np.int64(15), min_samples_leaf=np.int64(1), min_weight_fraction_leaf=0.06393636178092478, max_features=None, max_leaf_nodes=np.int64(48), min_impurity_decrease=0.003068697974454483, ccp_alpha=0.1314809535038857)\n",
      "Actual score: ClassificationEvaluationResults(accuracy=0.17733821733821734, precision=0.03698786486482998, recall=0.17733821733821734, f1=0.06103972738567132)\n",
      "Best score: ClassificationEvaluationResults(accuracy=0.17733821733821734, precision=0.03698786486482998, recall=0.17733821733821734, f1=0.06103972738567132)\n",
      "Best score hyperparams: DecisionTreeHyperparams(criterion=np.str_('entropy'), splitter=np.str_('random'), max_depth=np.int64(16), min_samples_split=np.int64(15), min_samples_leaf=np.int64(1), min_weight_fraction_leaf=0.06393636178092478, max_features=None, max_leaf_nodes=np.int64(48), min_impurity_decrease=0.003068697974454483, ccp_alpha=0.1314809535038857)\n",
      "Eval for DecisionTreeHyperparams(criterion=np.str_('entropy'), splitter=np.str_('random'), max_depth=np.int64(9), min_samples_split=np.int64(13), min_samples_leaf=np.int64(6), min_weight_fraction_leaf=0.43537554803559125, max_features=np.str_('sqrt'), max_leaf_nodes=np.int64(6), min_impurity_decrease=0.014723025603481958, ccp_alpha=0.6145537106602619)\n",
      "Actual score: ClassificationEvaluationResults(accuracy=0.12380952380952381, precision=0.015328798185941043, recall=0.12380952380952381, f1=0.02728006456820016)\n",
      "Best score: ClassificationEvaluationResults(accuracy=0.17733821733821734, precision=0.03698786486482998, recall=0.17733821733821734, f1=0.06103972738567132)\n",
      "Best score hyperparams: DecisionTreeHyperparams(criterion=np.str_('entropy'), splitter=np.str_('random'), max_depth=np.int64(16), min_samples_split=np.int64(15), min_samples_leaf=np.int64(1), min_weight_fraction_leaf=0.06393636178092478, max_features=None, max_leaf_nodes=np.int64(48), min_impurity_decrease=0.003068697974454483, ccp_alpha=0.1314809535038857)\n",
      "Eval for DecisionTreeHyperparams(criterion=np.str_('gini'), splitter=np.str_('random'), max_depth=np.int64(16), min_samples_split=np.int64(3), min_samples_leaf=np.int64(1), min_weight_fraction_leaf=0.3794374553469211, max_features=np.str_('sqrt'), max_leaf_nodes=np.int64(4), min_impurity_decrease=0.030690054407237558, ccp_alpha=0.0)\n",
      "Actual score: ClassificationEvaluationResults(accuracy=0.12380952380952381, precision=0.015328798185941043, recall=0.12380952380952381, f1=0.02728006456820016)\n",
      "Best score: ClassificationEvaluationResults(accuracy=0.17733821733821734, precision=0.03698786486482998, recall=0.17733821733821734, f1=0.06103972738567132)\n",
      "Best score hyperparams: DecisionTreeHyperparams(criterion=np.str_('entropy'), splitter=np.str_('random'), max_depth=np.int64(16), min_samples_split=np.int64(15), min_samples_leaf=np.int64(1), min_weight_fraction_leaf=0.06393636178092478, max_features=None, max_leaf_nodes=np.int64(48), min_impurity_decrease=0.003068697974454483, ccp_alpha=0.1314809535038857)\n",
      "Eval for DecisionTreeHyperparams(criterion=np.str_('gini'), splitter=np.str_('best'), max_depth=np.int64(1), min_samples_split=np.int64(6), min_samples_leaf=np.int64(5), min_weight_fraction_leaf=0.33878831066703563, max_features=np.str_('sqrt'), max_leaf_nodes=np.int64(50), min_impurity_decrease=0.06077902718693611, ccp_alpha=0.9640118162462892)\n",
      "Actual score: ClassificationEvaluationResults(accuracy=0.12380952380952381, precision=0.015328798185941043, recall=0.12380952380952381, f1=0.02728006456820016)\n",
      "Best score: ClassificationEvaluationResults(accuracy=0.17733821733821734, precision=0.03698786486482998, recall=0.17733821733821734, f1=0.06103972738567132)\n",
      "Best score hyperparams: DecisionTreeHyperparams(criterion=np.str_('entropy'), splitter=np.str_('random'), max_depth=np.int64(16), min_samples_split=np.int64(15), min_samples_leaf=np.int64(1), min_weight_fraction_leaf=0.06393636178092478, max_features=None, max_leaf_nodes=np.int64(48), min_impurity_decrease=0.003068697974454483, ccp_alpha=0.1314809535038857)\n",
      "Eval for DecisionTreeHyperparams(criterion=np.str_('entropy'), splitter=np.str_('best'), max_depth=np.int64(3), min_samples_split=np.int64(19), min_samples_leaf=np.int64(2), min_weight_fraction_leaf=0.1388183187261402, max_features=np.float64(0.5), max_leaf_nodes=np.int64(32), min_impurity_decrease=0.1582756547170682, ccp_alpha=1.0)\n",
      "Actual score: ClassificationEvaluationResults(accuracy=0.12380952380952381, precision=0.015328798185941043, recall=0.12380952380952381, f1=0.02728006456820016)\n",
      "Best score: ClassificationEvaluationResults(accuracy=0.17733821733821734, precision=0.03698786486482998, recall=0.17733821733821734, f1=0.06103972738567132)\n",
      "Best score hyperparams: DecisionTreeHyperparams(criterion=np.str_('entropy'), splitter=np.str_('random'), max_depth=np.int64(16), min_samples_split=np.int64(15), min_samples_leaf=np.int64(1), min_weight_fraction_leaf=0.06393636178092478, max_features=None, max_leaf_nodes=np.int64(48), min_impurity_decrease=0.003068697974454483, ccp_alpha=0.1314809535038857)\n",
      "Eval for DecisionTreeHyperparams(criterion=np.str_('gini'), splitter=np.str_('best'), max_depth=np.int64(14), min_samples_split=np.int64(3), min_samples_leaf=np.int64(9), min_weight_fraction_leaf=0.058779579773460565, max_features=np.str_('sqrt'), max_leaf_nodes=np.int64(44), min_impurity_decrease=0.168323761600251, ccp_alpha=0.6559021548336246)\n",
      "Actual score: ClassificationEvaluationResults(accuracy=0.12380952380952381, precision=0.015328798185941043, recall=0.12380952380952381, f1=0.02728006456820016)\n",
      "Best score: ClassificationEvaluationResults(accuracy=0.17733821733821734, precision=0.03698786486482998, recall=0.17733821733821734, f1=0.06103972738567132)\n",
      "Best score hyperparams: DecisionTreeHyperparams(criterion=np.str_('entropy'), splitter=np.str_('random'), max_depth=np.int64(16), min_samples_split=np.int64(15), min_samples_leaf=np.int64(1), min_weight_fraction_leaf=0.06393636178092478, max_features=None, max_leaf_nodes=np.int64(48), min_impurity_decrease=0.003068697974454483, ccp_alpha=0.1314809535038857)\n",
      "Eval for DecisionTreeHyperparams(criterion=np.str_('entropy'), splitter=np.str_('best'), max_depth=np.int64(12), min_samples_split=np.int64(13), min_samples_leaf=np.int64(10), min_weight_fraction_leaf=0.20722522380542435, max_features=np.str_('sqrt'), max_leaf_nodes=np.int64(15), min_impurity_decrease=0.1823082105333718, ccp_alpha=0.0)\n",
      "Actual score: ClassificationEvaluationResults(accuracy=0.17211233211233212, precision=0.03727631562945976, recall=0.17211233211233212, f1=0.060189286808729266)\n",
      "Best score: ClassificationEvaluationResults(accuracy=0.17733821733821734, precision=0.03698786486482998, recall=0.17733821733821734, f1=0.06103972738567132)\n",
      "Best score hyperparams: DecisionTreeHyperparams(criterion=np.str_('entropy'), splitter=np.str_('random'), max_depth=np.int64(16), min_samples_split=np.int64(15), min_samples_leaf=np.int64(1), min_weight_fraction_leaf=0.06393636178092478, max_features=None, max_leaf_nodes=np.int64(48), min_impurity_decrease=0.003068697974454483, ccp_alpha=0.1314809535038857)\n",
      "Eval for DecisionTreeHyperparams(criterion=np.str_('entropy'), splitter=np.str_('best'), max_depth=np.int64(18), min_samples_split=np.int64(19), min_samples_leaf=np.int64(10), min_weight_fraction_leaf=0.5, max_features=np.str_('sqrt'), max_leaf_nodes=np.int64(50), min_impurity_decrease=0.10303781617082636, ccp_alpha=1.0)\n",
      "Actual score: ClassificationEvaluationResults(accuracy=0.12380952380952381, precision=0.015328798185941043, recall=0.12380952380952381, f1=0.02728006456820016)\n",
      "Best score: ClassificationEvaluationResults(accuracy=0.17733821733821734, precision=0.03698786486482998, recall=0.17733821733821734, f1=0.06103972738567132)\n",
      "Best score hyperparams: DecisionTreeHyperparams(criterion=np.str_('entropy'), splitter=np.str_('random'), max_depth=np.int64(16), min_samples_split=np.int64(15), min_samples_leaf=np.int64(1), min_weight_fraction_leaf=0.06393636178092478, max_features=None, max_leaf_nodes=np.int64(48), min_impurity_decrease=0.003068697974454483, ccp_alpha=0.1314809535038857)\n",
      "DecisionTreeHyperparams(criterion=np.str_('entropy'), splitter=np.str_('random'), max_depth=np.int64(16), min_samples_split=np.int64(15), min_samples_leaf=np.int64(1), min_weight_fraction_leaf=0.06393636178092478, max_features=None, max_leaf_nodes=np.int64(48), min_impurity_decrease=0.003068697974454483, ccp_alpha=0.1314809535038857)\n",
      "ClassificationEvaluationResults(accuracy=0.17733821733821734, precision=0.03698786486482998, recall=0.17733821733821734, f1=0.06103972738567132)\n"
     ]
    },
    {
     "data": {
      "application/vnd.plotly.v1+json": {
       "config": {
        "plotlyServerURL": "https://plot.ly"
       },
       "data": [
        {
         "orientation": "h",
         "type": "bar",
         "x": [
          0,
          0,
          0,
          0,
          0,
          0,
          0,
          0,
          0,
          0,
          0,
          0,
          0,
          0,
          0,
          0,
          0,
          0,
          0,
          0,
          0,
          0,
          0,
          0,
          0,
          0,
          0,
          0,
          0,
          0,
          0,
          0,
          0,
          0,
          0,
          0,
          0,
          0,
          0,
          0,
          0,
          0,
          0,
          0,
          0,
          0,
          0,
          0,
          0,
          0,
          0,
          0,
          0,
          0,
          0,
          0,
          0,
          0,
          0,
          0,
          0,
          0,
          0,
          0,
          0,
          0,
          0,
          0,
          0,
          0,
          0,
          0,
          0,
          0,
          0,
          0,
          0,
          0,
          0,
          0,
          0,
          0,
          0,
          0,
          0,
          0,
          1
         ],
         "y": [
          "Condition",
          "Vehicle_brand",
          "Vehicle_model",
          "Vehicle_generation",
          "Production_year",
          "Mileage_km",
          "Power_HP",
          "Displacement_cm3",
          "Fuel_type",
          "Drive",
          "Transmission",
          "Type",
          "Doors_number",
          "Colour",
          "First_owner",
          "Advanced_model",
          "ABS",
          "ASR (traction control)",
          "AUX socket",
          "Active cruise control",
          "Adjustable suspension",
          "Aftermarket radio",
          "Air curtains",
          "Airbag protecting the knees",
          "Alarm",
          "Alloy wheels",
          "Automatic air conditioning",
          "Auxiliary heating",
          "Blind spot sensor",
          "Bluetooth",
          "CD",
          "CD changer",
          "Central locking",
          "Cruise control",
          "DVD player",
          "Daytime running lights",
          "Drivers airbag",
          "Dual zone air conditioning",
          "ESP(stabilization of the track)",
          "Electric front windows",
          "Electric rear windows",
          "Electrically adjustable mirrors",
          "Electrically adjustable seats",
          "Electrochromic rear view mirror",
          "Electrochromic side mirrors",
          "Factory radio",
          "Fog lights",
          "Four-zone air conditioning",
          "Front parking sensors",
          "Front side airbags",
          "GPS navigation",
          "HUD(head-up display)",
          "Heated front seats",
          "Heated rear seats",
          "Heated side mirrors",
          "Heated windscreen",
          "Hook",
          "Immobilizer",
          "Isofix",
          "Lane assistant",
          "Leather upholstery",
          "MP3",
          "Manual air conditioning",
          "Multifunction steering wheel",
          "On-board computer",
          "Panoramic roof",
          "Parking assistant",
          "Passengers airbag",
          "Power steering",
          "Rain sensor",
          "Rear parking sensors",
          "Rear side airbags",
          "Rear view camera",
          "Roof rails",
          "SD socket",
          "Shift paddles",
          "Speed limiter",
          "Start-Stop system",
          "Sunroof",
          "TV tuner",
          "Tinted windows",
          "Twilight sensor",
          "USB socket",
          "Velor upholstery",
          "Xenon lights",
          "is_outlier",
          "LED lights"
         ]
        }
       ],
       "layout": {
        "template": {
         "data": {
          "bar": [
           {
            "error_x": {
             "color": "#2a3f5f"
            },
            "error_y": {
             "color": "#2a3f5f"
            },
            "marker": {
             "line": {
              "color": "#E5ECF6",
              "width": 0.5
             },
             "pattern": {
              "fillmode": "overlay",
              "size": 10,
              "solidity": 0.2
             }
            },
            "type": "bar"
           }
          ],
          "barpolar": [
           {
            "marker": {
             "line": {
              "color": "#E5ECF6",
              "width": 0.5
             },
             "pattern": {
              "fillmode": "overlay",
              "size": 10,
              "solidity": 0.2
             }
            },
            "type": "barpolar"
           }
          ],
          "carpet": [
           {
            "aaxis": {
             "endlinecolor": "#2a3f5f",
             "gridcolor": "white",
             "linecolor": "white",
             "minorgridcolor": "white",
             "startlinecolor": "#2a3f5f"
            },
            "baxis": {
             "endlinecolor": "#2a3f5f",
             "gridcolor": "white",
             "linecolor": "white",
             "minorgridcolor": "white",
             "startlinecolor": "#2a3f5f"
            },
            "type": "carpet"
           }
          ],
          "choropleth": [
           {
            "colorbar": {
             "outlinewidth": 0,
             "ticks": ""
            },
            "type": "choropleth"
           }
          ],
          "contour": [
           {
            "colorbar": {
             "outlinewidth": 0,
             "ticks": ""
            },
            "colorscale": [
             [
              0,
              "#0d0887"
             ],
             [
              0.1111111111111111,
              "#46039f"
             ],
             [
              0.2222222222222222,
              "#7201a8"
             ],
             [
              0.3333333333333333,
              "#9c179e"
             ],
             [
              0.4444444444444444,
              "#bd3786"
             ],
             [
              0.5555555555555556,
              "#d8576b"
             ],
             [
              0.6666666666666666,
              "#ed7953"
             ],
             [
              0.7777777777777778,
              "#fb9f3a"
             ],
             [
              0.8888888888888888,
              "#fdca26"
             ],
             [
              1,
              "#f0f921"
             ]
            ],
            "type": "contour"
           }
          ],
          "contourcarpet": [
           {
            "colorbar": {
             "outlinewidth": 0,
             "ticks": ""
            },
            "type": "contourcarpet"
           }
          ],
          "heatmap": [
           {
            "colorbar": {
             "outlinewidth": 0,
             "ticks": ""
            },
            "colorscale": [
             [
              0,
              "#0d0887"
             ],
             [
              0.1111111111111111,
              "#46039f"
             ],
             [
              0.2222222222222222,
              "#7201a8"
             ],
             [
              0.3333333333333333,
              "#9c179e"
             ],
             [
              0.4444444444444444,
              "#bd3786"
             ],
             [
              0.5555555555555556,
              "#d8576b"
             ],
             [
              0.6666666666666666,
              "#ed7953"
             ],
             [
              0.7777777777777778,
              "#fb9f3a"
             ],
             [
              0.8888888888888888,
              "#fdca26"
             ],
             [
              1,
              "#f0f921"
             ]
            ],
            "type": "heatmap"
           }
          ],
          "heatmapgl": [
           {
            "colorbar": {
             "outlinewidth": 0,
             "ticks": ""
            },
            "colorscale": [
             [
              0,
              "#0d0887"
             ],
             [
              0.1111111111111111,
              "#46039f"
             ],
             [
              0.2222222222222222,
              "#7201a8"
             ],
             [
              0.3333333333333333,
              "#9c179e"
             ],
             [
              0.4444444444444444,
              "#bd3786"
             ],
             [
              0.5555555555555556,
              "#d8576b"
             ],
             [
              0.6666666666666666,
              "#ed7953"
             ],
             [
              0.7777777777777778,
              "#fb9f3a"
             ],
             [
              0.8888888888888888,
              "#fdca26"
             ],
             [
              1,
              "#f0f921"
             ]
            ],
            "type": "heatmapgl"
           }
          ],
          "histogram": [
           {
            "marker": {
             "pattern": {
              "fillmode": "overlay",
              "size": 10,
              "solidity": 0.2
             }
            },
            "type": "histogram"
           }
          ],
          "histogram2d": [
           {
            "colorbar": {
             "outlinewidth": 0,
             "ticks": ""
            },
            "colorscale": [
             [
              0,
              "#0d0887"
             ],
             [
              0.1111111111111111,
              "#46039f"
             ],
             [
              0.2222222222222222,
              "#7201a8"
             ],
             [
              0.3333333333333333,
              "#9c179e"
             ],
             [
              0.4444444444444444,
              "#bd3786"
             ],
             [
              0.5555555555555556,
              "#d8576b"
             ],
             [
              0.6666666666666666,
              "#ed7953"
             ],
             [
              0.7777777777777778,
              "#fb9f3a"
             ],
             [
              0.8888888888888888,
              "#fdca26"
             ],
             [
              1,
              "#f0f921"
             ]
            ],
            "type": "histogram2d"
           }
          ],
          "histogram2dcontour": [
           {
            "colorbar": {
             "outlinewidth": 0,
             "ticks": ""
            },
            "colorscale": [
             [
              0,
              "#0d0887"
             ],
             [
              0.1111111111111111,
              "#46039f"
             ],
             [
              0.2222222222222222,
              "#7201a8"
             ],
             [
              0.3333333333333333,
              "#9c179e"
             ],
             [
              0.4444444444444444,
              "#bd3786"
             ],
             [
              0.5555555555555556,
              "#d8576b"
             ],
             [
              0.6666666666666666,
              "#ed7953"
             ],
             [
              0.7777777777777778,
              "#fb9f3a"
             ],
             [
              0.8888888888888888,
              "#fdca26"
             ],
             [
              1,
              "#f0f921"
             ]
            ],
            "type": "histogram2dcontour"
           }
          ],
          "mesh3d": [
           {
            "colorbar": {
             "outlinewidth": 0,
             "ticks": ""
            },
            "type": "mesh3d"
           }
          ],
          "parcoords": [
           {
            "line": {
             "colorbar": {
              "outlinewidth": 0,
              "ticks": ""
             }
            },
            "type": "parcoords"
           }
          ],
          "pie": [
           {
            "automargin": true,
            "type": "pie"
           }
          ],
          "scatter": [
           {
            "fillpattern": {
             "fillmode": "overlay",
             "size": 10,
             "solidity": 0.2
            },
            "type": "scatter"
           }
          ],
          "scatter3d": [
           {
            "line": {
             "colorbar": {
              "outlinewidth": 0,
              "ticks": ""
             }
            },
            "marker": {
             "colorbar": {
              "outlinewidth": 0,
              "ticks": ""
             }
            },
            "type": "scatter3d"
           }
          ],
          "scattercarpet": [
           {
            "marker": {
             "colorbar": {
              "outlinewidth": 0,
              "ticks": ""
             }
            },
            "type": "scattercarpet"
           }
          ],
          "scattergeo": [
           {
            "marker": {
             "colorbar": {
              "outlinewidth": 0,
              "ticks": ""
             }
            },
            "type": "scattergeo"
           }
          ],
          "scattergl": [
           {
            "marker": {
             "colorbar": {
              "outlinewidth": 0,
              "ticks": ""
             }
            },
            "type": "scattergl"
           }
          ],
          "scattermapbox": [
           {
            "marker": {
             "colorbar": {
              "outlinewidth": 0,
              "ticks": ""
             }
            },
            "type": "scattermapbox"
           }
          ],
          "scatterpolar": [
           {
            "marker": {
             "colorbar": {
              "outlinewidth": 0,
              "ticks": ""
             }
            },
            "type": "scatterpolar"
           }
          ],
          "scatterpolargl": [
           {
            "marker": {
             "colorbar": {
              "outlinewidth": 0,
              "ticks": ""
             }
            },
            "type": "scatterpolargl"
           }
          ],
          "scatterternary": [
           {
            "marker": {
             "colorbar": {
              "outlinewidth": 0,
              "ticks": ""
             }
            },
            "type": "scatterternary"
           }
          ],
          "surface": [
           {
            "colorbar": {
             "outlinewidth": 0,
             "ticks": ""
            },
            "colorscale": [
             [
              0,
              "#0d0887"
             ],
             [
              0.1111111111111111,
              "#46039f"
             ],
             [
              0.2222222222222222,
              "#7201a8"
             ],
             [
              0.3333333333333333,
              "#9c179e"
             ],
             [
              0.4444444444444444,
              "#bd3786"
             ],
             [
              0.5555555555555556,
              "#d8576b"
             ],
             [
              0.6666666666666666,
              "#ed7953"
             ],
             [
              0.7777777777777778,
              "#fb9f3a"
             ],
             [
              0.8888888888888888,
              "#fdca26"
             ],
             [
              1,
              "#f0f921"
             ]
            ],
            "type": "surface"
           }
          ],
          "table": [
           {
            "cells": {
             "fill": {
              "color": "#EBF0F8"
             },
             "line": {
              "color": "white"
             }
            },
            "header": {
             "fill": {
              "color": "#C8D4E3"
             },
             "line": {
              "color": "white"
             }
            },
            "type": "table"
           }
          ]
         },
         "layout": {
          "annotationdefaults": {
           "arrowcolor": "#2a3f5f",
           "arrowhead": 0,
           "arrowwidth": 1
          },
          "autotypenumbers": "strict",
          "coloraxis": {
           "colorbar": {
            "outlinewidth": 0,
            "ticks": ""
           }
          },
          "colorscale": {
           "diverging": [
            [
             0,
             "#8e0152"
            ],
            [
             0.1,
             "#c51b7d"
            ],
            [
             0.2,
             "#de77ae"
            ],
            [
             0.3,
             "#f1b6da"
            ],
            [
             0.4,
             "#fde0ef"
            ],
            [
             0.5,
             "#f7f7f7"
            ],
            [
             0.6,
             "#e6f5d0"
            ],
            [
             0.7,
             "#b8e186"
            ],
            [
             0.8,
             "#7fbc41"
            ],
            [
             0.9,
             "#4d9221"
            ],
            [
             1,
             "#276419"
            ]
           ],
           "sequential": [
            [
             0,
             "#0d0887"
            ],
            [
             0.1111111111111111,
             "#46039f"
            ],
            [
             0.2222222222222222,
             "#7201a8"
            ],
            [
             0.3333333333333333,
             "#9c179e"
            ],
            [
             0.4444444444444444,
             "#bd3786"
            ],
            [
             0.5555555555555556,
             "#d8576b"
            ],
            [
             0.6666666666666666,
             "#ed7953"
            ],
            [
             0.7777777777777778,
             "#fb9f3a"
            ],
            [
             0.8888888888888888,
             "#fdca26"
            ],
            [
             1,
             "#f0f921"
            ]
           ],
           "sequentialminus": [
            [
             0,
             "#0d0887"
            ],
            [
             0.1111111111111111,
             "#46039f"
            ],
            [
             0.2222222222222222,
             "#7201a8"
            ],
            [
             0.3333333333333333,
             "#9c179e"
            ],
            [
             0.4444444444444444,
             "#bd3786"
            ],
            [
             0.5555555555555556,
             "#d8576b"
            ],
            [
             0.6666666666666666,
             "#ed7953"
            ],
            [
             0.7777777777777778,
             "#fb9f3a"
            ],
            [
             0.8888888888888888,
             "#fdca26"
            ],
            [
             1,
             "#f0f921"
            ]
           ]
          },
          "colorway": [
           "#636efa",
           "#EF553B",
           "#00cc96",
           "#ab63fa",
           "#FFA15A",
           "#19d3f3",
           "#FF6692",
           "#B6E880",
           "#FF97FF",
           "#FECB52"
          ],
          "font": {
           "color": "#2a3f5f"
          },
          "geo": {
           "bgcolor": "white",
           "lakecolor": "white",
           "landcolor": "#E5ECF6",
           "showlakes": true,
           "showland": true,
           "subunitcolor": "white"
          },
          "hoverlabel": {
           "align": "left"
          },
          "hovermode": "closest",
          "mapbox": {
           "style": "light"
          },
          "paper_bgcolor": "white",
          "plot_bgcolor": "#E5ECF6",
          "polar": {
           "angularaxis": {
            "gridcolor": "white",
            "linecolor": "white",
            "ticks": ""
           },
           "bgcolor": "#E5ECF6",
           "radialaxis": {
            "gridcolor": "white",
            "linecolor": "white",
            "ticks": ""
           }
          },
          "scene": {
           "xaxis": {
            "backgroundcolor": "#E5ECF6",
            "gridcolor": "white",
            "gridwidth": 2,
            "linecolor": "white",
            "showbackground": true,
            "ticks": "",
            "zerolinecolor": "white"
           },
           "yaxis": {
            "backgroundcolor": "#E5ECF6",
            "gridcolor": "white",
            "gridwidth": 2,
            "linecolor": "white",
            "showbackground": true,
            "ticks": "",
            "zerolinecolor": "white"
           },
           "zaxis": {
            "backgroundcolor": "#E5ECF6",
            "gridcolor": "white",
            "gridwidth": 2,
            "linecolor": "white",
            "showbackground": true,
            "ticks": "",
            "zerolinecolor": "white"
           }
          },
          "shapedefaults": {
           "line": {
            "color": "#2a3f5f"
           }
          },
          "ternary": {
           "aaxis": {
            "gridcolor": "white",
            "linecolor": "white",
            "ticks": ""
           },
           "baxis": {
            "gridcolor": "white",
            "linecolor": "white",
            "ticks": ""
           },
           "bgcolor": "#E5ECF6",
           "caxis": {
            "gridcolor": "white",
            "linecolor": "white",
            "ticks": ""
           }
          },
          "title": {
           "x": 0.05
          },
          "xaxis": {
           "automargin": true,
           "gridcolor": "white",
           "linecolor": "white",
           "ticks": "",
           "title": {
            "standoff": 15
           },
           "zerolinecolor": "white",
           "zerolinewidth": 2
          },
          "yaxis": {
           "automargin": true,
           "gridcolor": "white",
           "linecolor": "white",
           "ticks": "",
           "title": {
            "standoff": 15
           },
           "zerolinecolor": "white",
           "zerolinewidth": 2
          }
         }
        },
        "xaxis": {
         "title": {
          "text": "Weight"
         }
        },
        "yaxis": {
         "title": {
          "text": "Feature Name"
         }
        }
       }
      }
     },
     "metadata": {},
     "output_type": "display_data"
    },
    {
     "name": "stdout",
     "output_type": "stream",
     "text": [
      "None\n"
     ]
    }
   ],
   "source": [
    "training_process(\n",
    "    model_name=\"basic_tree_classifier\",\n",
    "    model_class=PriceClassifierBasicModel,\n",
    "    hyperparameters_class=DecisionTreeHyperparams,\n",
    "    intervals_function=lambda x: 10 ** (0.4 * x) + 500 * (x + 1) ** 1.2 + 500 * x**0.8,\n",
    "    # param_grid={\n",
    "    #     \"criterion\": [\"gini\", \"entropy\"],\n",
    "    #     \"splitter\": [\"best\"],\n",
    "    #     \"max_depth\": [20, 30],\n",
    "    #     \"min_samples_split\": [10, 50],\n",
    "    #     \"min_samples_leaf\": [5, 10],\n",
    "    #     \"max_features\": [\"sqrt\", 0.5],\n",
    "    #     \"max_leaf_nodes\": [50, 100],\n",
    "    #     \"ccp_alpha\": [0.0, 0.01],\n",
    "    #     \"min_weight_fraction_leaf\": [0.0],\n",
    "    #     \"min_impurity_decrease\": [0.0],\n",
    "    # },\n",
    "    category_encoding=True,\n",
    ")"
   ]
  }
 ],
 "metadata": {
  "kernelspec": {
   "display_name": "venv",
   "language": "python",
   "name": "python3"
  },
  "language_info": {
   "codemirror_mode": {
    "name": "ipython",
    "version": 3
   },
   "file_extension": ".py",
   "mimetype": "text/x-python",
   "name": "python",
   "nbconvert_exporter": "python",
   "pygments_lexer": "ipython3",
   "version": "3.13.0"
  }
 },
 "nbformat": 4,
 "nbformat_minor": 2
}
