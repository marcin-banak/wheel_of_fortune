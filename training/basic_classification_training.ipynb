{
 "cells": [
  {
   "cell_type": "code",
   "execution_count": 5,
   "metadata": {},
   "outputs": [],
   "source": [
    "import sys\n",
    "import os\n",
    "\n",
    "current_dir = os.getcwd()\n",
    "parent_dir = os.path.abspath(os.path.join(current_dir, os.pardir))\n",
    "sys.path.append(parent_dir)\n",
    "\n",
    "from training.training_process import training_process\n",
    "from models.price_evaluator_decision_tree import PriceClassifierBasicModel, DecisionTreeHyperparams\n",
    "from evaluation.AbstractEvaluationResults import MetricEnum"
   ]
  },
  {
   "cell_type": "code",
   "execution_count": 7,
   "metadata": {},
   "outputs": [
    {
     "name": "stdout",
     "output_type": "stream",
     "text": [
      "Price intervals:\n",
      "585 - 666\n",
      "666 - 977\n",
      "977 - 1417\n",
      "1417 - 1974\n",
      "1974 - 2642\n",
      "2642 - 3419\n",
      "3419 - 4304\n",
      "4304 - 5298\n",
      "5298 - 6405\n",
      "6405 - 7633\n",
      "7633 - 8994\n",
      "8994 - 10508\n",
      "10508 - 12209\n",
      "12209 - 14151\n",
      "14151 - 16419\n",
      "16419 - 19149\n",
      "19149 - 22556\n",
      "22556 - 26982\n",
      "26982 - 32968\n",
      "32968 - 41374\n",
      "41374 - 53561\n",
      "53561 - 71687\n",
      "71687 - 99173\n",
      "99173 - 141441\n",
      "141441 - 207084\n",
      "207084 - 309721\n",
      "309721 - 470936\n",
      "470936 - 714900\n",
      "Eval for DecisionTreeHyperparams(criterion='entropy', splitter='best', max_depth=np.int64(16), min_samples_split=np.int64(13), min_samples_leaf=np.int64(5), min_weight_fraction_leaf=0.049987457909001456, max_features='sqrt', max_leaf_nodes=np.int64(18), min_impurity_decrease=0.028573363584388164, ccp_alpha=0.650888472948853)\n",
      "Actual results: 0.09716071893722324\n",
      "Best hyperparams: DecisionTreeHyperparams(criterion='entropy', splitter='best', max_depth=np.int64(16), min_samples_split=np.int64(13), min_samples_leaf=np.int64(5), min_weight_fraction_leaf=0.049987457909001456, max_features='sqrt', max_leaf_nodes=np.int64(18), min_impurity_decrease=0.028573363584388164, ccp_alpha=0.650888472948853)\n",
      "Eval for DecisionTreeHyperparams(criterion='gini', splitter='random', max_depth=np.int64(19), min_samples_split=np.int64(2), min_samples_leaf=np.int64(10), min_weight_fraction_leaf=0.3087407548138583, max_features='log2', max_leaf_nodes=np.int64(2), min_impurity_decrease=0.004612485008283152, ccp_alpha=0.5247746602583893)\n",
      "Actual results: 0.09716071893722324\n",
      "Best hyperparams: DecisionTreeHyperparams(criterion='entropy', splitter='best', max_depth=np.int64(16), min_samples_split=np.int64(13), min_samples_leaf=np.int64(5), min_weight_fraction_leaf=0.049987457909001456, max_features='sqrt', max_leaf_nodes=np.int64(18), min_impurity_decrease=0.028573363584388164, ccp_alpha=0.650888472948853)\n",
      "Eval for DecisionTreeHyperparams(criterion='gini', splitter='best', max_depth=np.int64(20), min_samples_split=np.int64(6), min_samples_leaf=np.int64(2), min_weight_fraction_leaf=0.3091930046665437, max_features='sqrt', max_leaf_nodes=np.int64(49), min_impurity_decrease=0.09335257864959601, ccp_alpha=0.8599404067363208)\n",
      "Actual results: 0.09716071893722324\n",
      "Best hyperparams: DecisionTreeHyperparams(criterion='entropy', splitter='best', max_depth=np.int64(16), min_samples_split=np.int64(13), min_samples_leaf=np.int64(5), min_weight_fraction_leaf=0.049987457909001456, max_features='sqrt', max_leaf_nodes=np.int64(18), min_impurity_decrease=0.028573363584388164, ccp_alpha=0.650888472948853)\n",
      "Eval for DecisionTreeHyperparams(criterion='entropy', splitter='best', max_depth=np.int64(1), min_samples_split=np.int64(19), min_samples_leaf=np.int64(6), min_weight_fraction_leaf=0.1927082512699581, max_features=None, max_leaf_nodes=np.int64(13), min_impurity_decrease=0.04820509320520236, ccp_alpha=0.6832635188254583)\n",
      "Actual results: 0.09716071893722324\n",
      "Best hyperparams: DecisionTreeHyperparams(criterion='entropy', splitter='best', max_depth=np.int64(16), min_samples_split=np.int64(13), min_samples_leaf=np.int64(5), min_weight_fraction_leaf=0.049987457909001456, max_features='sqrt', max_leaf_nodes=np.int64(18), min_impurity_decrease=0.028573363584388164, ccp_alpha=0.650888472948853)\n",
      "Eval for DecisionTreeHyperparams(criterion='entropy', splitter='random', max_depth=np.int64(4), min_samples_split=np.int64(9), min_samples_leaf=np.int64(3), min_weight_fraction_leaf=0.37768070515882635, max_features='sqrt', max_leaf_nodes=np.int64(12), min_impurity_decrease=0.11354006556399832, ccp_alpha=0.03131329245555859)\n",
      "Actual results: 0.09716071893722324\n",
      "Best hyperparams: DecisionTreeHyperparams(criterion='entropy', splitter='best', max_depth=np.int64(16), min_samples_split=np.int64(13), min_samples_leaf=np.int64(5), min_weight_fraction_leaf=0.049987457909001456, max_features='sqrt', max_leaf_nodes=np.int64(18), min_impurity_decrease=0.028573363584388164, ccp_alpha=0.650888472948853)\n",
      "Eval for DecisionTreeHyperparams(criterion='entropy', splitter='best', max_depth=np.int64(9), min_samples_split=np.int64(19), min_samples_leaf=np.int64(8), min_weight_fraction_leaf=0.16327038440291772, max_features='log2', max_leaf_nodes=np.int64(27), min_impurity_decrease=0.19223440486986987, ccp_alpha=0.8445338486781516)\n",
      "Actual results: 0.09716071893722324\n",
      "Best hyperparams: DecisionTreeHyperparams(criterion='entropy', splitter='best', max_depth=np.int64(16), min_samples_split=np.int64(13), min_samples_leaf=np.int64(5), min_weight_fraction_leaf=0.049987457909001456, max_features='sqrt', max_leaf_nodes=np.int64(18), min_impurity_decrease=0.028573363584388164, ccp_alpha=0.650888472948853)\n",
      "Eval for DecisionTreeHyperparams(criterion='entropy', splitter='random', max_depth=np.int64(12), min_samples_split=np.int64(19), min_samples_leaf=np.int64(6), min_weight_fraction_leaf=0.1379995910112717, max_features='sqrt', max_leaf_nodes=np.int64(10), min_impurity_decrease=0.003127281348238787, ccp_alpha=0.42340148070636974)\n",
      "Actual results: 0.09716071893722324\n",
      "Best hyperparams: DecisionTreeHyperparams(criterion='entropy', splitter='best', max_depth=np.int64(16), min_samples_split=np.int64(13), min_samples_leaf=np.int64(5), min_weight_fraction_leaf=0.049987457909001456, max_features='sqrt', max_leaf_nodes=np.int64(18), min_impurity_decrease=0.028573363584388164, ccp_alpha=0.650888472948853)\n",
      "Eval for DecisionTreeHyperparams(criterion='gini', splitter='best', max_depth=np.int64(1), min_samples_split=np.int64(6), min_samples_leaf=np.int64(7), min_weight_fraction_leaf=0.39508777026560293, max_features='log2', max_leaf_nodes=np.int64(46), min_impurity_decrease=0.13021540510038893, ccp_alpha=0.914959675543781)\n",
      "Actual results: 0.09716071893722324\n",
      "Best hyperparams: DecisionTreeHyperparams(criterion='entropy', splitter='best', max_depth=np.int64(16), min_samples_split=np.int64(13), min_samples_leaf=np.int64(5), min_weight_fraction_leaf=0.049987457909001456, max_features='sqrt', max_leaf_nodes=np.int64(18), min_impurity_decrease=0.028573363584388164, ccp_alpha=0.650888472948853)\n",
      "Eval for DecisionTreeHyperparams(criterion='entropy', splitter='best', max_depth=np.int64(3), min_samples_split=np.int64(9), min_samples_leaf=np.int64(7), min_weight_fraction_leaf=0.3329611783087484, max_features='log2', max_leaf_nodes=np.int64(15), min_impurity_decrease=0.11224868516954026, ccp_alpha=0.38292687475378995)\n",
      "Actual results: 0.1423547798905965\n",
      "Best hyperparams: DecisionTreeHyperparams(criterion='entropy', splitter='best', max_depth=np.int64(3), min_samples_split=np.int64(9), min_samples_leaf=np.int64(7), min_weight_fraction_leaf=0.3329611783087484, max_features='log2', max_leaf_nodes=np.int64(15), min_impurity_decrease=0.11224868516954026, ccp_alpha=0.38292687475378995)\n",
      "Eval for DecisionTreeHyperparams(criterion='entropy', splitter='random', max_depth=np.int64(15), min_samples_split=np.int64(6), min_samples_leaf=np.int64(3), min_weight_fraction_leaf=0.020216794769215677, max_features='log2', max_leaf_nodes=np.int64(7), min_impurity_decrease=0.08786730037315404, ccp_alpha=0.20171920233539625)\n",
      "Actual results: 0.11350612138577755\n",
      "Best hyperparams: DecisionTreeHyperparams(criterion='entropy', splitter='best', max_depth=np.int64(3), min_samples_split=np.int64(9), min_samples_leaf=np.int64(7), min_weight_fraction_leaf=0.3329611783087484, max_features='log2', max_leaf_nodes=np.int64(15), min_impurity_decrease=0.11224868516954026, ccp_alpha=0.38292687475378995)\n",
      "Eval for DecisionTreeHyperparams(criterion=np.str_('entropy'), splitter=np.str_('best'), max_depth=np.int64(4), min_samples_split=np.int64(18), min_samples_leaf=np.int64(7), min_weight_fraction_leaf=0.06984523235878418, max_features=np.str_('sqrt'), max_leaf_nodes=np.int64(33), min_impurity_decrease=0.01281738590979805, ccp_alpha=0.583053970485825)\n",
      "Actual results: 0.09716071893722324\n",
      "Best hyperparams: DecisionTreeHyperparams(criterion='entropy', splitter='best', max_depth=np.int64(3), min_samples_split=np.int64(9), min_samples_leaf=np.int64(7), min_weight_fraction_leaf=0.3329611783087484, max_features='log2', max_leaf_nodes=np.int64(15), min_impurity_decrease=0.11224868516954026, ccp_alpha=0.38292687475378995)\n",
      "Eval for DecisionTreeHyperparams(criterion=np.str_('entropy'), splitter=np.str_('best'), max_depth=np.int64(6), min_samples_split=np.int64(16), min_samples_leaf=np.int64(1), min_weight_fraction_leaf=0.47990343195255286, max_features=np.float64(0.5), max_leaf_nodes=np.int64(13), min_impurity_decrease=0.18176850997756494, ccp_alpha=0.8570760723631523)\n",
      "Actual results: 0.09716071893722324\n",
      "Best hyperparams: DecisionTreeHyperparams(criterion='entropy', splitter='best', max_depth=np.int64(3), min_samples_split=np.int64(9), min_samples_leaf=np.int64(7), min_weight_fraction_leaf=0.3329611783087484, max_features='log2', max_leaf_nodes=np.int64(15), min_impurity_decrease=0.11224868516954026, ccp_alpha=0.38292687475378995)\n",
      "Eval for DecisionTreeHyperparams(criterion=np.str_('gini'), splitter=np.str_('random'), max_depth=np.int64(4), min_samples_split=np.int64(12), min_samples_leaf=np.int64(7), min_weight_fraction_leaf=0.03178497804352628, max_features=np.float64(0.5), max_leaf_nodes=np.int64(9), min_impurity_decrease=0.1558525040701924, ccp_alpha=0.0011691436098648083)\n",
      "Actual results: 0.09716071893722324\n",
      "Best hyperparams: DecisionTreeHyperparams(criterion='entropy', splitter='best', max_depth=np.int64(3), min_samples_split=np.int64(9), min_samples_leaf=np.int64(7), min_weight_fraction_leaf=0.3329611783087484, max_features='log2', max_leaf_nodes=np.int64(15), min_impurity_decrease=0.11224868516954026, ccp_alpha=0.38292687475378995)\n",
      "Eval for DecisionTreeHyperparams(criterion=np.str_('gini'), splitter=np.str_('best'), max_depth=np.int64(16), min_samples_split=np.int64(19), min_samples_leaf=np.int64(8), min_weight_fraction_leaf=0.492469408530149, max_features=np.str_('sqrt'), max_leaf_nodes=np.int64(49), min_impurity_decrease=0.12397213462835704, ccp_alpha=0.637833010337158)\n",
      "Actual results: 0.09716071893722324\n",
      "Best hyperparams: DecisionTreeHyperparams(criterion='entropy', splitter='best', max_depth=np.int64(3), min_samples_split=np.int64(9), min_samples_leaf=np.int64(7), min_weight_fraction_leaf=0.3329611783087484, max_features='log2', max_leaf_nodes=np.int64(15), min_impurity_decrease=0.11224868516954026, ccp_alpha=0.38292687475378995)\n",
      "Eval for DecisionTreeHyperparams(criterion=np.str_('gini'), splitter=np.str_('random'), max_depth=np.int64(20), min_samples_split=np.int64(11), min_samples_leaf=np.int64(10), min_weight_fraction_leaf=0.0, max_features=np.str_('log2'), max_leaf_nodes=np.int64(41), min_impurity_decrease=0.03455494927648008, ccp_alpha=0.7552491119231284)\n",
      "Actual results: 0.09716071893722324\n",
      "Best hyperparams: DecisionTreeHyperparams(criterion='entropy', splitter='best', max_depth=np.int64(3), min_samples_split=np.int64(9), min_samples_leaf=np.int64(7), min_weight_fraction_leaf=0.3329611783087484, max_features='log2', max_leaf_nodes=np.int64(15), min_impurity_decrease=0.11224868516954026, ccp_alpha=0.38292687475378995)\n",
      "Eval for DecisionTreeHyperparams(criterion=np.str_('gini'), splitter=np.str_('best'), max_depth=np.int64(3), min_samples_split=np.int64(9), min_samples_leaf=np.int64(6), min_weight_fraction_leaf=0.0062553487296871, max_features=np.str_('sqrt'), max_leaf_nodes=np.int64(15), min_impurity_decrease=0.18906977252416468, ccp_alpha=0.2184078816296755)\n",
      "Actual results: 0.09716071893722324\n",
      "Best hyperparams: DecisionTreeHyperparams(criterion='entropy', splitter='best', max_depth=np.int64(3), min_samples_split=np.int64(9), min_samples_leaf=np.int64(7), min_weight_fraction_leaf=0.3329611783087484, max_features='log2', max_leaf_nodes=np.int64(15), min_impurity_decrease=0.11224868516954026, ccp_alpha=0.38292687475378995)\n",
      "Eval for DecisionTreeHyperparams(criterion=np.str_('entropy'), splitter=np.str_('best'), max_depth=np.int64(20), min_samples_split=np.int64(20), min_samples_leaf=np.int64(10), min_weight_fraction_leaf=0.0, max_features=np.str_('log2'), max_leaf_nodes=np.int64(50), min_impurity_decrease=0.2, ccp_alpha=1.0)\n",
      "Actual results: 0.09716071893722324\n",
      "Best hyperparams: DecisionTreeHyperparams(criterion='entropy', splitter='best', max_depth=np.int64(3), min_samples_split=np.int64(9), min_samples_leaf=np.int64(7), min_weight_fraction_leaf=0.3329611783087484, max_features='log2', max_leaf_nodes=np.int64(15), min_impurity_decrease=0.11224868516954026, ccp_alpha=0.38292687475378995)\n",
      "Eval for DecisionTreeHyperparams(criterion=np.str_('gini'), splitter=np.str_('best'), max_depth=np.int64(5), min_samples_split=np.int64(20), min_samples_leaf=np.int64(3), min_weight_fraction_leaf=0.43184444201973105, max_features=np.str_('log2'), max_leaf_nodes=np.int64(10), min_impurity_decrease=0.17524210458768857, ccp_alpha=0.3859594339228017)\n",
      "Actual results: 0.09716071893722324\n",
      "Best hyperparams: DecisionTreeHyperparams(criterion='entropy', splitter='best', max_depth=np.int64(3), min_samples_split=np.int64(9), min_samples_leaf=np.int64(7), min_weight_fraction_leaf=0.3329611783087484, max_features='log2', max_leaf_nodes=np.int64(15), min_impurity_decrease=0.11224868516954026, ccp_alpha=0.38292687475378995)\n",
      "Eval for DecisionTreeHyperparams(criterion=np.str_('entropy'), splitter=np.str_('random'), max_depth=np.int64(19), min_samples_split=np.int64(2), min_samples_leaf=np.int64(3), min_weight_fraction_leaf=0.10506625112385776, max_features=np.str_('log2'), max_leaf_nodes=np.int64(8), min_impurity_decrease=0.0544933713397075, ccp_alpha=0.2989214533394646)\n",
      "Actual results: 0.09716071893722324\n",
      "Best hyperparams: DecisionTreeHyperparams(criterion='entropy', splitter='best', max_depth=np.int64(3), min_samples_split=np.int64(9), min_samples_leaf=np.int64(7), min_weight_fraction_leaf=0.3329611783087484, max_features='log2', max_leaf_nodes=np.int64(15), min_impurity_decrease=0.11224868516954026, ccp_alpha=0.38292687475378995)\n",
      "Eval for DecisionTreeHyperparams(criterion=np.str_('entropy'), splitter=np.str_('best'), max_depth=np.int64(19), min_samples_split=np.int64(2), min_samples_leaf=np.int64(10), min_weight_fraction_leaf=0.46797501432744243, max_features=np.float64(0.5), max_leaf_nodes=np.int64(33), min_impurity_decrease=0.14687839554603088, ccp_alpha=0.8511587075441313)\n",
      "Actual results: 0.09716071893722324\n",
      "Best hyperparams: DecisionTreeHyperparams(criterion='entropy', splitter='best', max_depth=np.int64(3), min_samples_split=np.int64(9), min_samples_leaf=np.int64(7), min_weight_fraction_leaf=0.3329611783087484, max_features='log2', max_leaf_nodes=np.int64(15), min_impurity_decrease=0.11224868516954026, ccp_alpha=0.38292687475378995)\n",
      "Eval for DecisionTreeHyperparams(criterion=np.str_('gini'), splitter=np.str_('best'), max_depth=np.int64(4), min_samples_split=np.int64(16), min_samples_leaf=np.int64(10), min_weight_fraction_leaf=0.3691665749036141, max_features=np.str_('log2'), max_leaf_nodes=np.int64(49), min_impurity_decrease=0.19215154865250061, ccp_alpha=0.010176846651043034)\n",
      "Actual results: 0.09716071893722324\n",
      "Best hyperparams: DecisionTreeHyperparams(criterion='entropy', splitter='best', max_depth=np.int64(3), min_samples_split=np.int64(9), min_samples_leaf=np.int64(7), min_weight_fraction_leaf=0.3329611783087484, max_features='log2', max_leaf_nodes=np.int64(15), min_impurity_decrease=0.11224868516954026, ccp_alpha=0.38292687475378995)\n",
      "Eval for DecisionTreeHyperparams(criterion=np.str_('gini'), splitter=np.str_('random'), max_depth=np.int64(3), min_samples_split=np.int64(2), min_samples_leaf=np.int64(7), min_weight_fraction_leaf=0.4492220731867872, max_features=None, max_leaf_nodes=np.int64(3), min_impurity_decrease=0.00448795683932457, ccp_alpha=0.11256690424554364)\n",
      "Actual results: 0.09716071893722324\n",
      "Best hyperparams: DecisionTreeHyperparams(criterion='entropy', splitter='best', max_depth=np.int64(3), min_samples_split=np.int64(9), min_samples_leaf=np.int64(7), min_weight_fraction_leaf=0.3329611783087484, max_features='log2', max_leaf_nodes=np.int64(15), min_impurity_decrease=0.11224868516954026, ccp_alpha=0.38292687475378995)\n",
      "Eval for DecisionTreeHyperparams(criterion=np.str_('entropy'), splitter=np.str_('best'), max_depth=np.int64(5), min_samples_split=np.int64(5), min_samples_leaf=np.int64(2), min_weight_fraction_leaf=0.018496410597399374, max_features=None, max_leaf_nodes=np.int64(10), min_impurity_decrease=0.12838997315483977, ccp_alpha=0.9411484887138482)\n",
      "Actual results: 0.09716071893722324\n",
      "Best hyperparams: DecisionTreeHyperparams(criterion='entropy', splitter='best', max_depth=np.int64(3), min_samples_split=np.int64(9), min_samples_leaf=np.int64(7), min_weight_fraction_leaf=0.3329611783087484, max_features='log2', max_leaf_nodes=np.int64(15), min_impurity_decrease=0.11224868516954026, ccp_alpha=0.38292687475378995)\n",
      "Eval for DecisionTreeHyperparams(criterion=np.str_('gini'), splitter=np.str_('random'), max_depth=np.int64(1), min_samples_split=np.int64(16), min_samples_leaf=np.int64(2), min_weight_fraction_leaf=0.31314690607058343, max_features=None, max_leaf_nodes=np.int64(28), min_impurity_decrease=0.0013087757734027408, ccp_alpha=0.8087402265020585)\n",
      "Actual results: 0.09716071893722324\n",
      "Best hyperparams: DecisionTreeHyperparams(criterion='entropy', splitter='best', max_depth=np.int64(3), min_samples_split=np.int64(9), min_samples_leaf=np.int64(7), min_weight_fraction_leaf=0.3329611783087484, max_features='log2', max_leaf_nodes=np.int64(15), min_impurity_decrease=0.11224868516954026, ccp_alpha=0.38292687475378995)\n",
      "Eval for DecisionTreeHyperparams(criterion=np.str_('gini'), splitter=np.str_('best'), max_depth=np.int64(2), min_samples_split=np.int64(9), min_samples_leaf=np.int64(2), min_weight_fraction_leaf=0.24453747658987943, max_features=np.str_('log2'), max_leaf_nodes=np.int64(10), min_impurity_decrease=0.17123430111467813, ccp_alpha=0.058097533133905414)\n",
      "Actual results: 0.09716071893722324\n",
      "Best hyperparams: DecisionTreeHyperparams(criterion='entropy', splitter='best', max_depth=np.int64(3), min_samples_split=np.int64(9), min_samples_leaf=np.int64(7), min_weight_fraction_leaf=0.3329611783087484, max_features='log2', max_leaf_nodes=np.int64(15), min_impurity_decrease=0.11224868516954026, ccp_alpha=0.38292687475378995)\n",
      "Eval for DecisionTreeHyperparams(criterion=np.str_('gini'), splitter=np.str_('best'), max_depth=np.int64(10), min_samples_split=np.int64(14), min_samples_leaf=np.int64(2), min_weight_fraction_leaf=0.488881473883643, max_features=np.str_('log2'), max_leaf_nodes=np.int64(9), min_impurity_decrease=0.05656173623219404, ccp_alpha=0.6785626109882398)\n",
      "Actual results: 0.09716071893722324\n",
      "Best hyperparams: DecisionTreeHyperparams(criterion='entropy', splitter='best', max_depth=np.int64(3), min_samples_split=np.int64(9), min_samples_leaf=np.int64(7), min_weight_fraction_leaf=0.3329611783087484, max_features='log2', max_leaf_nodes=np.int64(15), min_impurity_decrease=0.11224868516954026, ccp_alpha=0.38292687475378995)\n",
      "Eval for DecisionTreeHyperparams(criterion=np.str_('entropy'), splitter=np.str_('random'), max_depth=np.int64(18), min_samples_split=np.int64(16), min_samples_leaf=np.int64(2), min_weight_fraction_leaf=0.22962297897335066, max_features=np.str_('log2'), max_leaf_nodes=np.int64(37), min_impurity_decrease=0.1491599564389857, ccp_alpha=0.04552793303603787)\n",
      "Actual results: 0.09716071893722324\n",
      "Best hyperparams: DecisionTreeHyperparams(criterion='entropy', splitter='best', max_depth=np.int64(3), min_samples_split=np.int64(9), min_samples_leaf=np.int64(7), min_weight_fraction_leaf=0.3329611783087484, max_features='log2', max_leaf_nodes=np.int64(15), min_impurity_decrease=0.11224868516954026, ccp_alpha=0.38292687475378995)\n",
      "Eval for DecisionTreeHyperparams(criterion=np.str_('gini'), splitter=np.str_('random'), max_depth=np.int64(1), min_samples_split=np.int64(4), min_samples_leaf=np.int64(9), min_weight_fraction_leaf=0.046259283508823044, max_features=np.float64(0.5), max_leaf_nodes=np.int64(38), min_impurity_decrease=0.17727272780433584, ccp_alpha=0.06548768613902396)\n",
      "Actual results: 0.09716071893722324\n",
      "Best hyperparams: DecisionTreeHyperparams(criterion='entropy', splitter='best', max_depth=np.int64(3), min_samples_split=np.int64(9), min_samples_leaf=np.int64(7), min_weight_fraction_leaf=0.3329611783087484, max_features='log2', max_leaf_nodes=np.int64(15), min_impurity_decrease=0.11224868516954026, ccp_alpha=0.38292687475378995)\n",
      "Eval for DecisionTreeHyperparams(criterion=np.str_('gini'), splitter=np.str_('best'), max_depth=np.int64(17), min_samples_split=np.int64(4), min_samples_leaf=np.int64(2), min_weight_fraction_leaf=0.0682781543307986, max_features=np.str_('log2'), max_leaf_nodes=np.int64(48), min_impurity_decrease=0.040246278571756305, ccp_alpha=0.10807055630611664)\n",
      "Actual results: 0.09716071893722324\n",
      "Best hyperparams: DecisionTreeHyperparams(criterion='entropy', splitter='best', max_depth=np.int64(3), min_samples_split=np.int64(9), min_samples_leaf=np.int64(7), min_weight_fraction_leaf=0.3329611783087484, max_features='log2', max_leaf_nodes=np.int64(15), min_impurity_decrease=0.11224868516954026, ccp_alpha=0.38292687475378995)\n",
      "Eval for DecisionTreeHyperparams(criterion=np.str_('entropy'), splitter=np.str_('best'), max_depth=np.int64(18), min_samples_split=np.int64(7), min_samples_leaf=np.int64(10), min_weight_fraction_leaf=0.3531105174503139, max_features=np.float64(0.5), max_leaf_nodes=np.int64(39), min_impurity_decrease=0.0014886759185966662, ccp_alpha=0.32897375746876917)\n",
      "Actual results: 0.1423547798905965\n",
      "Best hyperparams: DecisionTreeHyperparams(criterion='entropy', splitter='best', max_depth=np.int64(3), min_samples_split=np.int64(9), min_samples_leaf=np.int64(7), min_weight_fraction_leaf=0.3329611783087484, max_features='log2', max_leaf_nodes=np.int64(15), min_impurity_decrease=0.11224868516954026, ccp_alpha=0.38292687475378995)\n",
      "DecisionTreeHyperparams(criterion='entropy', splitter='best', max_depth=np.int64(3), min_samples_split=np.int64(9), min_samples_leaf=np.int64(7), min_weight_fraction_leaf=0.3329611783087484, max_features='log2', max_leaf_nodes=np.int64(15), min_impurity_decrease=0.11224868516954026, ccp_alpha=0.38292687475378995)\n",
      "Accuracy: 0.1423547798905965\n"
     ]
    },
    {
     "data": {
      "application/vnd.plotly.v1+json": {
       "config": {
        "plotlyServerURL": "https://plot.ly"
       },
       "data": [
        {
         "orientation": "h",
         "type": "bar",
         "x": [
          0,
          0,
          0,
          0,
          0,
          0,
          0,
          0,
          0,
          0,
          0,
          0,
          0,
          0,
          0,
          0,
          0,
          1
         ],
         "y": [
          "Condition",
          "Vehicle_brand",
          "Vehicle_model",
          "Vehicle_generation",
          "Mileage_km",
          "Power_HP",
          "Displacement_cm3",
          "Fuel_type",
          "Drive",
          "Transmission",
          "Type",
          "Doors_number",
          "Colour",
          "First_owner",
          "Advanced_model",
          "Feature_score",
          "is_outlier",
          "Production_year"
         ]
        }
       ],
       "layout": {
        "template": {
         "data": {
          "bar": [
           {
            "error_x": {
             "color": "#2a3f5f"
            },
            "error_y": {
             "color": "#2a3f5f"
            },
            "marker": {
             "line": {
              "color": "#E5ECF6",
              "width": 0.5
             },
             "pattern": {
              "fillmode": "overlay",
              "size": 10,
              "solidity": 0.2
             }
            },
            "type": "bar"
           }
          ],
          "barpolar": [
           {
            "marker": {
             "line": {
              "color": "#E5ECF6",
              "width": 0.5
             },
             "pattern": {
              "fillmode": "overlay",
              "size": 10,
              "solidity": 0.2
             }
            },
            "type": "barpolar"
           }
          ],
          "carpet": [
           {
            "aaxis": {
             "endlinecolor": "#2a3f5f",
             "gridcolor": "white",
             "linecolor": "white",
             "minorgridcolor": "white",
             "startlinecolor": "#2a3f5f"
            },
            "baxis": {
             "endlinecolor": "#2a3f5f",
             "gridcolor": "white",
             "linecolor": "white",
             "minorgridcolor": "white",
             "startlinecolor": "#2a3f5f"
            },
            "type": "carpet"
           }
          ],
          "choropleth": [
           {
            "colorbar": {
             "outlinewidth": 0,
             "ticks": ""
            },
            "type": "choropleth"
           }
          ],
          "contour": [
           {
            "colorbar": {
             "outlinewidth": 0,
             "ticks": ""
            },
            "colorscale": [
             [
              0,
              "#0d0887"
             ],
             [
              0.1111111111111111,
              "#46039f"
             ],
             [
              0.2222222222222222,
              "#7201a8"
             ],
             [
              0.3333333333333333,
              "#9c179e"
             ],
             [
              0.4444444444444444,
              "#bd3786"
             ],
             [
              0.5555555555555556,
              "#d8576b"
             ],
             [
              0.6666666666666666,
              "#ed7953"
             ],
             [
              0.7777777777777778,
              "#fb9f3a"
             ],
             [
              0.8888888888888888,
              "#fdca26"
             ],
             [
              1,
              "#f0f921"
             ]
            ],
            "type": "contour"
           }
          ],
          "contourcarpet": [
           {
            "colorbar": {
             "outlinewidth": 0,
             "ticks": ""
            },
            "type": "contourcarpet"
           }
          ],
          "heatmap": [
           {
            "colorbar": {
             "outlinewidth": 0,
             "ticks": ""
            },
            "colorscale": [
             [
              0,
              "#0d0887"
             ],
             [
              0.1111111111111111,
              "#46039f"
             ],
             [
              0.2222222222222222,
              "#7201a8"
             ],
             [
              0.3333333333333333,
              "#9c179e"
             ],
             [
              0.4444444444444444,
              "#bd3786"
             ],
             [
              0.5555555555555556,
              "#d8576b"
             ],
             [
              0.6666666666666666,
              "#ed7953"
             ],
             [
              0.7777777777777778,
              "#fb9f3a"
             ],
             [
              0.8888888888888888,
              "#fdca26"
             ],
             [
              1,
              "#f0f921"
             ]
            ],
            "type": "heatmap"
           }
          ],
          "heatmapgl": [
           {
            "colorbar": {
             "outlinewidth": 0,
             "ticks": ""
            },
            "colorscale": [
             [
              0,
              "#0d0887"
             ],
             [
              0.1111111111111111,
              "#46039f"
             ],
             [
              0.2222222222222222,
              "#7201a8"
             ],
             [
              0.3333333333333333,
              "#9c179e"
             ],
             [
              0.4444444444444444,
              "#bd3786"
             ],
             [
              0.5555555555555556,
              "#d8576b"
             ],
             [
              0.6666666666666666,
              "#ed7953"
             ],
             [
              0.7777777777777778,
              "#fb9f3a"
             ],
             [
              0.8888888888888888,
              "#fdca26"
             ],
             [
              1,
              "#f0f921"
             ]
            ],
            "type": "heatmapgl"
           }
          ],
          "histogram": [
           {
            "marker": {
             "pattern": {
              "fillmode": "overlay",
              "size": 10,
              "solidity": 0.2
             }
            },
            "type": "histogram"
           }
          ],
          "histogram2d": [
           {
            "colorbar": {
             "outlinewidth": 0,
             "ticks": ""
            },
            "colorscale": [
             [
              0,
              "#0d0887"
             ],
             [
              0.1111111111111111,
              "#46039f"
             ],
             [
              0.2222222222222222,
              "#7201a8"
             ],
             [
              0.3333333333333333,
              "#9c179e"
             ],
             [
              0.4444444444444444,
              "#bd3786"
             ],
             [
              0.5555555555555556,
              "#d8576b"
             ],
             [
              0.6666666666666666,
              "#ed7953"
             ],
             [
              0.7777777777777778,
              "#fb9f3a"
             ],
             [
              0.8888888888888888,
              "#fdca26"
             ],
             [
              1,
              "#f0f921"
             ]
            ],
            "type": "histogram2d"
           }
          ],
          "histogram2dcontour": [
           {
            "colorbar": {
             "outlinewidth": 0,
             "ticks": ""
            },
            "colorscale": [
             [
              0,
              "#0d0887"
             ],
             [
              0.1111111111111111,
              "#46039f"
             ],
             [
              0.2222222222222222,
              "#7201a8"
             ],
             [
              0.3333333333333333,
              "#9c179e"
             ],
             [
              0.4444444444444444,
              "#bd3786"
             ],
             [
              0.5555555555555556,
              "#d8576b"
             ],
             [
              0.6666666666666666,
              "#ed7953"
             ],
             [
              0.7777777777777778,
              "#fb9f3a"
             ],
             [
              0.8888888888888888,
              "#fdca26"
             ],
             [
              1,
              "#f0f921"
             ]
            ],
            "type": "histogram2dcontour"
           }
          ],
          "mesh3d": [
           {
            "colorbar": {
             "outlinewidth": 0,
             "ticks": ""
            },
            "type": "mesh3d"
           }
          ],
          "parcoords": [
           {
            "line": {
             "colorbar": {
              "outlinewidth": 0,
              "ticks": ""
             }
            },
            "type": "parcoords"
           }
          ],
          "pie": [
           {
            "automargin": true,
            "type": "pie"
           }
          ],
          "scatter": [
           {
            "fillpattern": {
             "fillmode": "overlay",
             "size": 10,
             "solidity": 0.2
            },
            "type": "scatter"
           }
          ],
          "scatter3d": [
           {
            "line": {
             "colorbar": {
              "outlinewidth": 0,
              "ticks": ""
             }
            },
            "marker": {
             "colorbar": {
              "outlinewidth": 0,
              "ticks": ""
             }
            },
            "type": "scatter3d"
           }
          ],
          "scattercarpet": [
           {
            "marker": {
             "colorbar": {
              "outlinewidth": 0,
              "ticks": ""
             }
            },
            "type": "scattercarpet"
           }
          ],
          "scattergeo": [
           {
            "marker": {
             "colorbar": {
              "outlinewidth": 0,
              "ticks": ""
             }
            },
            "type": "scattergeo"
           }
          ],
          "scattergl": [
           {
            "marker": {
             "colorbar": {
              "outlinewidth": 0,
              "ticks": ""
             }
            },
            "type": "scattergl"
           }
          ],
          "scattermapbox": [
           {
            "marker": {
             "colorbar": {
              "outlinewidth": 0,
              "ticks": ""
             }
            },
            "type": "scattermapbox"
           }
          ],
          "scatterpolar": [
           {
            "marker": {
             "colorbar": {
              "outlinewidth": 0,
              "ticks": ""
             }
            },
            "type": "scatterpolar"
           }
          ],
          "scatterpolargl": [
           {
            "marker": {
             "colorbar": {
              "outlinewidth": 0,
              "ticks": ""
             }
            },
            "type": "scatterpolargl"
           }
          ],
          "scatterternary": [
           {
            "marker": {
             "colorbar": {
              "outlinewidth": 0,
              "ticks": ""
             }
            },
            "type": "scatterternary"
           }
          ],
          "surface": [
           {
            "colorbar": {
             "outlinewidth": 0,
             "ticks": ""
            },
            "colorscale": [
             [
              0,
              "#0d0887"
             ],
             [
              0.1111111111111111,
              "#46039f"
             ],
             [
              0.2222222222222222,
              "#7201a8"
             ],
             [
              0.3333333333333333,
              "#9c179e"
             ],
             [
              0.4444444444444444,
              "#bd3786"
             ],
             [
              0.5555555555555556,
              "#d8576b"
             ],
             [
              0.6666666666666666,
              "#ed7953"
             ],
             [
              0.7777777777777778,
              "#fb9f3a"
             ],
             [
              0.8888888888888888,
              "#fdca26"
             ],
             [
              1,
              "#f0f921"
             ]
            ],
            "type": "surface"
           }
          ],
          "table": [
           {
            "cells": {
             "fill": {
              "color": "#EBF0F8"
             },
             "line": {
              "color": "white"
             }
            },
            "header": {
             "fill": {
              "color": "#C8D4E3"
             },
             "line": {
              "color": "white"
             }
            },
            "type": "table"
           }
          ]
         },
         "layout": {
          "annotationdefaults": {
           "arrowcolor": "#2a3f5f",
           "arrowhead": 0,
           "arrowwidth": 1
          },
          "autotypenumbers": "strict",
          "coloraxis": {
           "colorbar": {
            "outlinewidth": 0,
            "ticks": ""
           }
          },
          "colorscale": {
           "diverging": [
            [
             0,
             "#8e0152"
            ],
            [
             0.1,
             "#c51b7d"
            ],
            [
             0.2,
             "#de77ae"
            ],
            [
             0.3,
             "#f1b6da"
            ],
            [
             0.4,
             "#fde0ef"
            ],
            [
             0.5,
             "#f7f7f7"
            ],
            [
             0.6,
             "#e6f5d0"
            ],
            [
             0.7,
             "#b8e186"
            ],
            [
             0.8,
             "#7fbc41"
            ],
            [
             0.9,
             "#4d9221"
            ],
            [
             1,
             "#276419"
            ]
           ],
           "sequential": [
            [
             0,
             "#0d0887"
            ],
            [
             0.1111111111111111,
             "#46039f"
            ],
            [
             0.2222222222222222,
             "#7201a8"
            ],
            [
             0.3333333333333333,
             "#9c179e"
            ],
            [
             0.4444444444444444,
             "#bd3786"
            ],
            [
             0.5555555555555556,
             "#d8576b"
            ],
            [
             0.6666666666666666,
             "#ed7953"
            ],
            [
             0.7777777777777778,
             "#fb9f3a"
            ],
            [
             0.8888888888888888,
             "#fdca26"
            ],
            [
             1,
             "#f0f921"
            ]
           ],
           "sequentialminus": [
            [
             0,
             "#0d0887"
            ],
            [
             0.1111111111111111,
             "#46039f"
            ],
            [
             0.2222222222222222,
             "#7201a8"
            ],
            [
             0.3333333333333333,
             "#9c179e"
            ],
            [
             0.4444444444444444,
             "#bd3786"
            ],
            [
             0.5555555555555556,
             "#d8576b"
            ],
            [
             0.6666666666666666,
             "#ed7953"
            ],
            [
             0.7777777777777778,
             "#fb9f3a"
            ],
            [
             0.8888888888888888,
             "#fdca26"
            ],
            [
             1,
             "#f0f921"
            ]
           ]
          },
          "colorway": [
           "#636efa",
           "#EF553B",
           "#00cc96",
           "#ab63fa",
           "#FFA15A",
           "#19d3f3",
           "#FF6692",
           "#B6E880",
           "#FF97FF",
           "#FECB52"
          ],
          "font": {
           "color": "#2a3f5f"
          },
          "geo": {
           "bgcolor": "white",
           "lakecolor": "white",
           "landcolor": "#E5ECF6",
           "showlakes": true,
           "showland": true,
           "subunitcolor": "white"
          },
          "hoverlabel": {
           "align": "left"
          },
          "hovermode": "closest",
          "mapbox": {
           "style": "light"
          },
          "paper_bgcolor": "white",
          "plot_bgcolor": "#E5ECF6",
          "polar": {
           "angularaxis": {
            "gridcolor": "white",
            "linecolor": "white",
            "ticks": ""
           },
           "bgcolor": "#E5ECF6",
           "radialaxis": {
            "gridcolor": "white",
            "linecolor": "white",
            "ticks": ""
           }
          },
          "scene": {
           "xaxis": {
            "backgroundcolor": "#E5ECF6",
            "gridcolor": "white",
            "gridwidth": 2,
            "linecolor": "white",
            "showbackground": true,
            "ticks": "",
            "zerolinecolor": "white"
           },
           "yaxis": {
            "backgroundcolor": "#E5ECF6",
            "gridcolor": "white",
            "gridwidth": 2,
            "linecolor": "white",
            "showbackground": true,
            "ticks": "",
            "zerolinecolor": "white"
           },
           "zaxis": {
            "backgroundcolor": "#E5ECF6",
            "gridcolor": "white",
            "gridwidth": 2,
            "linecolor": "white",
            "showbackground": true,
            "ticks": "",
            "zerolinecolor": "white"
           }
          },
          "shapedefaults": {
           "line": {
            "color": "#2a3f5f"
           }
          },
          "ternary": {
           "aaxis": {
            "gridcolor": "white",
            "linecolor": "white",
            "ticks": ""
           },
           "baxis": {
            "gridcolor": "white",
            "linecolor": "white",
            "ticks": ""
           },
           "bgcolor": "#E5ECF6",
           "caxis": {
            "gridcolor": "white",
            "linecolor": "white",
            "ticks": ""
           }
          },
          "title": {
           "x": 0.05
          },
          "xaxis": {
           "automargin": true,
           "gridcolor": "white",
           "linecolor": "white",
           "ticks": "",
           "title": {
            "standoff": 15
           },
           "zerolinecolor": "white",
           "zerolinewidth": 2
          },
          "yaxis": {
           "automargin": true,
           "gridcolor": "white",
           "linecolor": "white",
           "ticks": "",
           "title": {
            "standoff": 15
           },
           "zerolinecolor": "white",
           "zerolinewidth": 2
          }
         }
        },
        "xaxis": {
         "title": {
          "text": "Weight"
         }
        },
        "yaxis": {
         "title": {
          "text": "Feature Name"
         }
        }
       }
      }
     },
     "metadata": {},
     "output_type": "display_data"
    }
   ],
   "source": [
    "training_process(\n",
    "    model_name=\"basic_tree_classifier\",\n",
    "    model_class=PriceClassifierBasicModel,\n",
    "    hyperparameters_class=DecisionTreeHyperparams,\n",
    "    metric=MetricEnum.ACCURACY,\n",
    "    intervals_function=lambda x: 10 ** (0.2 * x) + 80 * (x + 1) ** 1.002 + 150 * x ** 0.4,\n",
    "    category_encoding=True,\n",
    ")"
   ]
  },
  {
   "cell_type": "code",
   "execution_count": null,
   "metadata": {},
   "outputs": [],
   "source": []
  }
 ],
 "metadata": {
  "kernelspec": {
   "display_name": "Python 3",
   "language": "python",
   "name": "python3"
  },
  "language_info": {
   "codemirror_mode": {
    "name": "ipython",
    "version": 3
   },
   "file_extension": ".py",
   "mimetype": "text/x-python",
   "name": "python",
   "nbconvert_exporter": "python",
   "pygments_lexer": "ipython3",
   "version": "3.13.0"
  }
 },
 "nbformat": 4,
 "nbformat_minor": 2
}
