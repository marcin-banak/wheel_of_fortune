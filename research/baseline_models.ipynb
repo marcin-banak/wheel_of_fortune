{
 "cells": [
  {
   "cell_type": "markdown",
   "metadata": {},
   "source": [
    "# Baseline models\n",
    "To set the baseline for models performance, we will define two baseline models, that will \n",
    "\n",
    "## 1. Logistic Regression:\n",
    "\n",
    "### **Pros:**\n",
    "- **Simple and Interpretable:** Logistic regression is easy to implement and highly interpretable, especially when you want to understand the relationships between features and classes.\n",
    "- **Baseline for Classification:** It’s one of the most fundamental classification methods. Starting with logistic regression allows to establish a minimal performance threshold that more advanced models must surpass. While it assumes linear relationships between features and classes, it can still serve as a strong starting point to assess the basic separability of price features.\n",
    "- **Low Computational Cost:** Logistic regression is computationally efficient, making it ideal for quickly iterating during the exploratory phase.\n",
    "\n",
    "### **Challenges:**\n",
    "- Logistic regression assumes a linear relationship between the input features and the log-odds of the target classes, which might not hold for complex datasets.\n",
    "\n",
    "## 2. Decision Tree Classifier:\n",
    "\n",
    "### **Pros:**\n",
    "- **Relevance to Advanced Models:** Since your target model is XGBoost, which builds on decision trees, starting with a single decision tree as a baseline provides a logical comparison.\n",
    "- **Handles Non-Linearity:** Unlike logistic regression, a decision tree can model non-linear relationships between features and the target variable. This makes it a good step up from logistic regression while still being relatively simple.\n",
    "- **Ease of Implementation:** With tools like scikit-learn, decision trees are straightforward to train and evaluate.\n",
    "\n",
    "### Challenges:\n",
    "- Decision trees can overfit, especially on smaller datasets. However, this tendency can be mitigated through regularization parameters like max_depth or min_samples_split.\n",
    "\n",
    "\n",
    "## Why These Two Together?\n",
    "- **Complementary Perspectives:** Logistic regression provides a baseline for linear models, while decision trees test the performance of non-linear methods.\n",
    "- **Stepwise Progression:** Logistic regression represents the simplest form of classification, while a decision tree is a natural intermediate step before advancing to more complex models like XGBoost.\n",
    "- **Benchmarking Improvements:** Comparing the results of these simpler models with XGBoost will highlight whether the added complexity of boosting significantly improves performance"
   ]
  }
 ],
 "metadata": {
  "language_info": {
   "name": "python"
  }
 },
 "nbformat": 4,
 "nbformat_minor": 2
}
