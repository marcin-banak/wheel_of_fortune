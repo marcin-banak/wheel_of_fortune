{
 "cells": [
  {
   "cell_type": "markdown",
   "metadata": {
    "vscode": {
     "languageId": "plaintext"
    }
   },
   "source": [
    "Training time for CPU Ryzen 3600 : 1m 20s\n",
    "\n",
    "Training time for GPU RTX 2060 : 40s"
   ]
  }
 ],
 "metadata": {
  "language_info": {
   "name": "python"
  }
 },
 "nbformat": 4,
 "nbformat_minor": 2
}
