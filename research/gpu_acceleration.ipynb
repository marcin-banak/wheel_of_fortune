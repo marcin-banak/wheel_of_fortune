{
 "cells": [
  {
   "cell_type": "markdown",
   "metadata": {},
   "source": [
    "# CUDA Accelerated computing\n",
    "Most of algorithms in XGBoost package including training, prediction and evalution can be accelerated using CUDA-capable GPUs.\n",
    "Advantages that it provides make whole training and testing process significantly faster, due to taking advantage of high processing power compared to CPU in this usecase."
   ]
  },
  {
   "cell_type": "markdown",
   "metadata": {},
   "source": [
    "## Requirments\n",
    "- CUDA 11.0, Compute Capability 5.0 required\n",
    "- Compatibility with GPU list: https://en.wikipedia.org/wiki/CUDA#GPUs_supported"
   ]
  },
  {
   "cell_type": "markdown",
   "metadata": {},
   "source": [
    "# Implementation of GPU computing\n",
    "\n",
    "To enable GPU acceleration, specify the **device** parameter as **cuda**:\n",
    "\n",
    "```python\n",
    "params = dict()\n",
    "params[\"device\"] = \"cuda\"\n",
    "params[\"tree_method\"] = \"hist\"\n",
    "Xy = xgboost.QuantileDMatrix(X, y)\n",
    "xgboost.train(params, Xy)\n",
    "```\n",
    "or using Scikit-Learn interface:\n",
    "\n",
    "```python\n",
    "XGBRegressor(tree_method=\"hist\", device=\"cuda\")\n",
    "```"
   ]
  }
 ],
 "metadata": {
  "kernelspec": {
   "display_name": ".venv",
   "language": "python",
   "name": "python3"
  },
  "language_info": {
   "codemirror_mode": {
    "name": "ipython",
    "version": 3
   },
   "file_extension": ".py",
   "mimetype": "text/x-python",
   "name": "python",
   "nbconvert_exporter": "python",
   "pygments_lexer": "ipython3",
   "version": "3.13.1"
  }
 },
 "nbformat": 4,
 "nbformat_minor": 2
}
