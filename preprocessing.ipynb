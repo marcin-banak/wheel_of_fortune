{
 "cells": [
  {
   "cell_type": "code",
   "execution_count": 1,
   "id": "initial_id",
   "metadata": {
    "ExecuteTime": {
     "end_time": "2025-01-06T10:12:13.937575Z",
     "start_time": "2025-01-06T10:12:13.576092Z"
    },
    "collapsed": true
   },
   "outputs": [],
   "source": [
    "import pandas as pd\n",
    "import plotly.express as px\n",
    "from httpcore import NetworkError\n",
    "\n",
    "from src.preprocessing.brand_mapping import brand_category_weights\n",
    "from src.common.Config import Config\n",
    "from src.common.exceptions import NoDataFile\n",
    "\n",
    "pd.set_option(\"display.max_columns\", None)\n"
   ]
  },
  {
   "cell_type": "code",
   "execution_count": null,
   "id": "2bc6e522fa78513c",
   "metadata": {
    "ExecuteTime": {
     "end_time": "2025-01-06T10:12:15.663731Z",
     "start_time": "2025-01-06T10:12:13.943859Z"
    }
   },
   "outputs": [],
   "source": [
    "\n",
    "if not Config.data_path.exists():\n",
    "    raise NoDataFile(\n",
    "        f\"There is no data file in location {Config.data_path}.\"\n",
    "        \"Run download_data.py script first!\"\n",
    "    )\n",
    "df = pd.read_csv(Config.data_path)\n",
    "df.head(5)"
   ]
  },
  {
   "cell_type": "code",
   "execution_count": null,
   "id": "7521536dc62ed2d8",
   "metadata": {
    "ExecuteTime": {
     "end_time": "2025-01-06T10:12:16.053621Z",
     "start_time": "2025-01-06T10:12:15.855397Z"
    }
   },
   "outputs": [],
   "source": [
    "# Print column information\n",
    "df.info()\n",
    "df.describe()"
   ]
  },
  {
   "cell_type": "markdown",
   "id": "f0ee6e4aeef909e5",
   "metadata": {},
   "source": [
    "## Display data characteristics to determine column processing\n"
   ]
  },
  {
   "cell_type": "code",
   "execution_count": null,
   "id": "e388b275a6a0dba",
   "metadata": {},
   "outputs": [],
   "source": [
    "# Display unique car brands\n",
    "unique_brands = df['Vehicle_brand'].unique()\n",
    "unique_brands"
   ]
  },
  {
   "cell_type": "code",
   "execution_count": null,
   "id": "cb37437c18c7cd03",
   "metadata": {},
   "outputs": [],
   "source": [
    "# Count the number of cars for each unique brand\n",
    "brand_counts = df['Vehicle_brand'].value_counts().sort_values()\n",
    "brand_counts"
   ]
  },
  {
   "cell_type": "code",
   "execution_count": null,
   "id": "8d7925d023478f3a",
   "metadata": {},
   "outputs": [],
   "source": [
    "# See the percentage of drive types for given car model\n",
    "df[\"Vehicle\"] = df[\"Vehicle_brand\"] + \"/\" + df[\"Vehicle_model\"]\n",
    "\n",
    "# Group by the new Vehicle column and Drive, then calculate the size of each group\n",
    "drive_counts = df.groupby([\"Vehicle\", \"Drive\"]).size().reset_index(name=\"count\")\n",
    "\n",
    "# Calculate the total count for each Vehicle\n",
    "total_counts = df.groupby(\"Vehicle\")[\"Drive\"].count().reset_index(name=\"total_count\")\n",
    "\n",
    "# Merge the counts with the total counts\n",
    "drive_counts = drive_counts.merge(total_counts, on=\"Vehicle\")\n",
    "\n",
    "# Calculate the percentage\n",
    "drive_counts[\"percentage\"] = (drive_counts[\"count\"] / drive_counts[\"total_count\"]) * 100\n",
    "\n",
    "# Display the result\n",
    "drive_counts"
   ]
  },
  {
   "cell_type": "code",
   "execution_count": null,
   "id": "50fea7de54beb4ae",
   "metadata": {},
   "outputs": [],
   "source": [
    "# See the percentage of transmission types for given car model\n",
    "df[\"Vehicle\"] = df[\"Vehicle_brand\"] + \"/\" + df[\"Vehicle_model\"]\n",
    "\n",
    "# Group by the new Vehicle column, Year, and Transmission, then calculate the size of each group\n",
    "transmission_counts = (\n",
    "    df.groupby([\"Vehicle\", \"Production_year\", \"Transmission\"]).size().reset_index(name=\"count\")\n",
    ")\n",
    "\n",
    "# Calculate the total count for each Vehicle and Year\n",
    "total_counts = (\n",
    "    df.groupby([\"Vehicle\", \"Production_year\"])[\"Transmission\"]\n",
    "    .count()\n",
    "    .reset_index(name=\"total_count\")\n",
    ")\n",
    "\n",
    "# Merge the counts with the total counts\n",
    "transmission_counts = transmission_counts.merge(total_counts, on=[\"Vehicle\", \"Production_year\"])\n",
    "\n",
    "# Calculate the percentage\n",
    "transmission_counts[\"percentage\"] = (\n",
    "    transmission_counts[\"count\"] / transmission_counts[\"total_count\"]\n",
    ") * 100\n",
    "\n",
    "# Display the result\n",
    "transmission_counts"
   ]
  },
  {
   "cell_type": "markdown",
   "id": "5a3327c2d08851a6",
   "metadata": {},
   "source": [
    "## Small record count\n",
    "Brands with small record counts are being deleted, due to lack of reliability during model training.\n",
    "\n",
    "\n",
    "## Field handling\n",
    "\n",
    "### **Index** (205,160 / 208,304 non-null)\n",
    "\n",
    "**Description:** Index of record.\n",
    "\n",
    "**Handling N/A:** REMOVE COLUMN as it's not important and might be harmful for training results.\n",
    "\n",
    "\n",
    "### **Currency** (205,160 / 208,304 non-null)\n",
    "\n",
    "**Description:** Currency of record.\n",
    "\n",
    "**Handling N/A:** REMOVE COLUMN after price convertion to pln.\n",
    "\n",
    "\n",
    "### **Vehicle** (205,160 / 208,304 non-null)\n",
    "\n",
    "**Description:** Contains \"brand/model\" information (e.g. Alfa RomeoGiulietta **1.4 TB 16V**).\n",
    "\n",
    "**Importance:** Field is not important. It duplicates code from other fields.\n",
    "\n",
    "**Handling N/A:** REMOVE COLUMN\n",
    "\n",
    "\n",
    "### **Vehicle_version** (138,082 / 208,304 non-null)\n",
    "\n",
    "**Description:** Contains information about model version (e.g. Alfa RomeoGiulietta **1.4 TB 16V**).\n",
    "\n",
    "**Importance:** Field contains important values, due to value difference for specific trims.\n",
    "\n",
    "**Handling N/A:** MERGE vehicle model and version as a extended column (e.g. advanced_version)\n",
    "\n",
    "### **Vehicle_generation** (147,860 / 208,304 non-null)\n",
    "**Description:** Contains information about model generation.\n",
    "\n",
    "**Importance:** Field might be sometimes important, because some generations might be more desired than others.\n",
    "\n",
    "**Handling N/A:** FILL EMPTY WITH UNKNOWN\n",
    "\n",
    "\n",
    "### **Mileage_km** (207,321 / 208,304 non-null)\n",
    "**Description:** Contains information about car's mileage.\n",
    "\n",
    "**Importance:** Field is very important, due to high influence of mileage on cars value.\n",
    "\n",
    "**Handling N/A:** REMOVE ROWS: As the car's without given mileage are usually not representative for average case, they are outliers that do not provide meaningful information.\n",
    "\n",
    "\n",
    "### **Power_HP** (207,661 / 208,304 non-null)\n",
    "\n",
    "**Description:** Contains information about car's horsepower.\n",
    "\n",
    "**Importance:** Field is very important, due to high influence of engine power on price (more power == better car trim)\n",
    "\n",
    "**Handling N/A:** DELETE ROWS - As there are not many of them and displacement is usually missing for them too, it's better to remove these rows.\n",
    "\n",
    "\n",
    "### **Displacement_cm3** (206,338 / 208,304 non-null)\n",
    "\n",
    "**Description:** Contains information about car's engine displacement in cm3\n",
    "\n",
    "**Importance:** Field is rather very important, due to high influence of displacement on price (more displacement == more power == better car trim)\n",
    "\n",
    "**Handling N/A:** DELETE ROWS - As there are not many of them and displacement is usually missing for them too, it's better to remove these rows.\n",
    "\n",
    "\n",
    "### **CO2_emissions** (94,047 / 208,304 non-null)\n",
    "\n",
    "**Description:** Contains information about car's engine displacement in cm3\n",
    "\n",
    "**Importance:** Field is not important for car value.\n",
    "\n",
    "**Handling N/A:** DELETE COLUMN - not important for evaluation\n",
    "\n",
    "\n",
    "### **Drive** (94,047 / 208,304 non-null)\n",
    "\n",
    "**Description:** Contains information about car's drive (eg. 4-wd, front-wheel drive, rear-wheel drive)\n",
    "\n",
    "**Importance:** Field is important as it usually means a rather significant price difference\n",
    "\n",
    "**Handling N/A:** FILL WITH MOST FREQUENT VALUE - from analyzing data above, most car models tend to favor certain drive types.\n",
    "\n",
    "### **Transmission** (94,047 / 208,304 non-null)\n",
    "\n",
    "**Description:** Contains information about car's transmission (e.g. manual, automatic)\n",
    "\n",
    "**Importance:** Similar to drive\n",
    "\n",
    "**Handling N/A:** FILL WITH MOST FREQUENT VALUE - similar to drive\n",
    "\n",
    "### **Doors_number** (206,817 / 208,304 non-null)\n",
    "\n",
    "**Description:** Contains information about car's door count\n",
    "\n",
    "**Importance:** Not very important\n",
    "\n",
    "**Handling N/A:** FILL WITH MOST FREQUENT VALUE - Price difference between 3 and 5-door cars are not great.\n",
    "\n",
    "\n",
    "### **Origin_country** (118,312 / 208,304 non-null)\n",
    "\n",
    "**Description:** Contains information about car's origin country\n",
    "\n",
    "**Importance:** Not very important as the most of the cars on Polish market have european origin, with similar climate and regulations.\n",
    "\n",
    "**Handling N/A:** REMOVE COLUMN\n",
    "\n",
    "\n",
    "### **First_owner** (65,094 / 208,304 non-null)\n",
    "\n",
    "**Description:** Contains information about if car had only one owner.\n",
    "\n",
    "**Importance:** Not very important and high percentage of missing values\n",
    "\n",
    "**Handling N/A:** NULL = NO\n",
    "\n",
    "\n",
    "### **First_registration_date** (86,445 / 208,304 non-null)\n",
    "\n",
    "**Description:** Contains information about cars first registration date\n",
    "\n",
    "**Importance:** Not very important and high percentage of missing values\n",
    "\n",
    "**Handling N/A:** REMOVE COLUMN\n",
    "\n",
    "\n",
    "### **Offer_location** (208,304 / 208,304 non-null)\n",
    "**Description:** Contains information about offer location\n",
    "\n",
    "**Importance:** Not important\n",
    "\n",
    "**Handling N/A:** REMOVE COLUMN\n",
    "\n",
    "## Additional values\n",
    "### **Brand_category**:\n",
    "**Description:** Contains information about brands luxury tier\n",
    "\n",
    "**Importance:** Important for calculating feature value\n",
    "\n",
    "### **Brand_category**:\n",
    "**Description:** Contains information about brands luxury tier\n",
    "\n",
    "**Importance:** Important for calculating feature value\n"
   ]
  },
  {
   "cell_type": "code",
   "execution_count": 8,
   "id": "ad61cb0b397ba09b",
   "metadata": {},
   "outputs": [],
   "source": [
    "# Drop rows that were designated for deletion\n",
    "\n",
    "# Remove rows where Mileage_km is missing\n",
    "df = df.dropna(subset=[\"Mileage_km\"])\n",
    "\n",
    "# Remove rows where Power_HP is missing\n",
    "df = df.dropna(subset=[\"Power_HP\"])\n",
    "\n",
    "# Remove rows where Displacement_cm3 is missing\n",
    "df = df.dropna(subset=[\"Displacement_cm3\"])"
   ]
  },
  {
   "cell_type": "code",
   "execution_count": 9,
   "id": "be09fcc9",
   "metadata": {},
   "outputs": [],
   "source": [
    "# Drop brands that have less than 50 cars\n",
    "brand_counts = df[\"Vehicle_brand\"].value_counts()\n",
    "brands_to_drop = brand_counts[brand_counts < 50].index\n",
    "df = df[~df[\"Vehicle_brand\"].isin(brands_to_drop)]"
   ]
  },
  {
   "cell_type": "code",
   "execution_count": null,
   "id": "3d8141a2845e4832",
   "metadata": {
    "ExecuteTime": {
     "end_time": "2025-01-06T10:12:18.284376Z",
     "start_time": "2025-01-06T10:12:17.148209Z"
    }
   },
   "outputs": [],
   "source": [
    "# Handle null values in the remaining columns\n",
    "\n",
    "df[\"Drive\"] = df.groupby(\"Vehicle_model\")[\"Drive\"].transform(\n",
    "    lambda x: x.fillna(x.mode()[0] if not x.mode().empty else \"Front wheels\")\n",
    ")\n",
    "\n",
    "df[\"Transmission\"] = df.groupby(\"Vehicle_model\")[\"Transmission\"].transform(\n",
    "    lambda x: x.fillna(x.mode()[0] if not x.mode().empty else \"Manual\")\n",
    ")\n",
    "\n",
    "df[\"Doors_number\"] = df.groupby(\"Vehicle_model\")[\"Doors_number\"].transform(\n",
    "    lambda x: x.fillna(x.mode()[0] if not x.mode().empty else 5)\n",
    ")\n",
    "\n",
    "df[\"First_owner\"] = df[\"First_owner\"].fillna(False).replace(\"Yes\", True).infer_objects(copy=False)\n",
    "\n",
    "df[\"Vehicle_generation\"] = df[\"Vehicle_generation\"].fillna(\"Unknown\")\n",
    "\n",
    "# Convert to string to avoid TypeError with categorical data\n",
    "df[\"Vehicle_model\"] = df[\"Vehicle_model\"].astype(str)\n",
    "df[\"Vehicle_version\"] = df[\"Vehicle_version\"].fillna(\"\").astype(str)\n",
    "\n",
    "df[\"Advanced_model\"] = df[\"Vehicle_model\"] + \" \" + df[\"Vehicle_version\"].fillna(\"\")\n",
    "df[\"Advanced_model\"] = df[\"Advanced_model\"].str.strip()\n",
    "\n",
    "df.head(5)"
   ]
  },
  {
   "cell_type": "code",
   "execution_count": null,
   "id": "fbf8a275cb2c7947",
   "metadata": {
    "ExecuteTime": {
     "end_time": "2025-01-06T10:12:18.741035Z",
     "start_time": "2025-01-06T10:12:18.329166Z"
    }
   },
   "outputs": [],
   "source": [
    "import requests\n",
    "\n",
    "url = \"http://api.nbp.pl/api/exchangerates/rates/A/EUR/\"\n",
    "\n",
    "# Make a GET request to the API\n",
    "response = requests.get(url)\n",
    "\n",
    "# Check if the request was successful\n",
    "if response.status_code == 200:\n",
    "    # Parse the JSON response\n",
    "    data = response.json()\n",
    "    # Extract the Euro value\n",
    "    euro_value = data[\"rates\"][0][\"mid\"]\n",
    "    print(f\"The current value of Euro (EUR) is: {euro_value} PLN\")\n",
    "else:\n",
    "    raise NetworkError(\"Failed to fetch the Euro value from NBP API\")"
   ]
  },
  {
   "cell_type": "code",
   "execution_count": 12,
   "id": "792cdce567d998b9",
   "metadata": {
    "ExecuteTime": {
     "end_time": "2025-01-06T10:12:18.847712Z",
     "start_time": "2025-01-06T10:12:18.780016Z"
    }
   },
   "outputs": [],
   "source": [
    "# Convert the Price column to float64 before performing the multiplication\n",
    "df[\"Price\"] = df[\"Price\"].astype(\"float64\")\n",
    "\n",
    "# Convert EUR prices to PLN and round to 2 decimal places\n",
    "df.loc[df[\"Currency\"] == \"EUR\", \"Price\"] = (\n",
    "    df.loc[df[\"Currency\"] == \"EUR\", \"Price\"] * euro_value\n",
    ").round(2)\n",
    "\n",
    "# Convert the Price column back to Int64\n",
    "df[\"Price\"] = df[\"Price\"].round(0).astype(\"Int64\")\n",
    "\n",
    "# Update the currency to PLN\n",
    "df.loc[df[\"Currency\"] == \"EUR\", \"Currency\"] = \"PLN\""
   ]
  },
  {
   "cell_type": "markdown",
   "id": "a3a140994cc3eb2",
   "metadata": {},
   "source": [
    "# Features\n",
    "Extract unique values first to evaluate the data.\n"
   ]
  },
  {
   "cell_type": "code",
   "execution_count": null,
   "id": "74027f8c79f04c3c",
   "metadata": {
    "ExecuteTime": {
     "end_time": "2025-01-06T10:12:29.156136Z",
     "start_time": "2025-01-06T10:12:18.903745Z"
    }
   },
   "outputs": [],
   "source": [
    "import ast\n",
    "\n",
    "# Extract all unique feature values from the 'Features' column\n",
    "unique_features = set()\n",
    "\n",
    "# Iterate through each row in the 'Features' column\n",
    "for features_str in df[\"Features\"]:\n",
    "    # Convert the string representation of the list to an actual list\n",
    "    features_list = ast.literal_eval(features_str)\n",
    "    unique_features.update(features_list)\n",
    "\n",
    "# Convert the set to a sorted list\n",
    "unique_features = sorted(unique_features)\n",
    "\n",
    "# Print all unique feature values\n",
    "unique_features"
   ]
  },
  {
   "cell_type": "markdown",
   "id": "5269a378452ce7d8",
   "metadata": {},
   "source": [
    "As the features column contains a normalized list of features (there is not two different values for ABS), we will process it by using one-hot encoding."
   ]
  },
  {
   "cell_type": "code",
   "execution_count": null,
   "id": "3b1bf4e810117ba5",
   "metadata": {
    "ExecuteTime": {
     "end_time": "2025-01-06T10:12:29.252550Z",
     "start_time": "2025-01-06T10:12:29.163220Z"
    }
   },
   "outputs": [],
   "source": [
    "# Give each column a brand category\n",
    "from src.preprocessing.brand_mapping import brand_to_category\n",
    "\n",
    "def get_brand_weight(brand):\n",
    "    category = brand_to_category.get(brand, None)\n",
    "    if category:\n",
    "        return brand_category_weights.get(category.capitalize(), 1.0)  # Default weight is 1.0 if not found\n",
    "    return 1.0  # Default weight for unrecognized brands\n",
    "\n",
    "df[\"Brand_weight\"] = df[\"Vehicle_brand\"].apply(get_brand_weight)\n",
    "df.head(5)\n"
   ]
  },
  {
   "cell_type": "code",
   "execution_count": null,
   "id": "800ca9deefa967a",
   "metadata": {
    "ExecuteTime": {
     "end_time": "2025-01-06T10:12:41.297605Z",
     "start_time": "2025-01-06T10:12:29.293093Z"
    }
   },
   "outputs": [],
   "source": [
    "# Calculate feature score based on the features and brand_weight\n",
    "from src.preprocessing.feature_weights_mapping import feature_weights\n",
    "# Convert the string representation of the list to an actual list\n",
    "df[\"Features\"] = df[\"Features\"].apply(ast.literal_eval)\n",
    "\n",
    "def calculate_feature_score(row):\n",
    "    score = 0\n",
    "    features = row[\"Features\"]\n",
    "    for feature in features:\n",
    "        score += feature_weights[feature]\n",
    "    return score * row[\"Brand_weight\"]\n",
    "\n",
    "df['Feature_score'] = df.apply(lambda row: calculate_feature_score(row), axis=1)\n",
    "df.head(5)"
   ]
  },
  {
   "cell_type": "code",
   "execution_count": 16,
   "id": "bb16e8a9523ef541",
   "metadata": {
    "ExecuteTime": {
     "end_time": "2025-01-06T10:12:41.672222Z",
     "start_time": "2025-01-06T10:12:41.647412Z"
    }
   },
   "outputs": [],
   "source": [
    "# Remove columns that were designated for deletion\n",
    "columns_to_remove = [\n",
    "    \"Currency\",\n",
    "    \"CO2_emissions\",\n",
    "    \"Origin_country\",\n",
    "    \"First_registration_date\",\n",
    "    \"Offer_location\",\n",
    "    \"Vehicle\",\n",
    "    \"Vehicle_version\",\n",
    "    \"Offer_publication_date\",\n",
    "    \"Brand_weight\",\n",
    "    \"Features\"\n",
    "]\n",
    "\n",
    "df = df.drop(columns=columns_to_remove)"
   ]
  },
  {
   "cell_type": "markdown",
   "id": "28ed4800c61d9c64",
   "metadata": {},
   "source": []
  },
  {
   "cell_type": "markdown",
   "id": "80af5b7fce8ee70b",
   "metadata": {},
   "source": [
    "## Types\n",
    "This mapping is designated for initial table. All fields generated by one-hot reloading are boolean values,"
   ]
  },
  {
   "cell_type": "code",
   "execution_count": null,
   "id": "36962d8415b59d94",
   "metadata": {
    "ExecuteTime": {
     "end_time": "2025-01-06T10:12:42.003917Z",
     "start_time": "2025-01-06T10:12:41.704062Z"
    }
   },
   "outputs": [],
   "source": [
    "from src.preprocessing.dtype_mapping import dtype_mapping\n",
    "# Apply the dtype mapping to the DataFrame\n",
    "df = dtype_mapping(df)\n",
    "df.head(5)"
   ]
  },
  {
   "cell_type": "code",
   "execution_count": null,
   "id": "e66f5b1b7120a96",
   "metadata": {},
   "outputs": [],
   "source": [
    "# Calculate bounds for IQR\n",
    "Q1 = df[\"Price\"].quantile(0.25)\n",
    "Q3 = df[\"Price\"].quantile(0.98)\n",
    "IQR = Q3 - Q1\n",
    "\n",
    "lower_bound = Q1 - 1.5 * IQR\n",
    "upper_bound = Q3 + 1.5 * IQR\n",
    "\n",
    "# Mark outliers\n",
    "df[\"is_outlier\"] = (df[\"Price\"] < lower_bound) | (df[\"Price\"] > upper_bound)\n",
    "\n",
    "# Plotly plots\n",
    "fig = px.scatter(\n",
    "    df,\n",
    "    x=\"Index\",\n",
    "    y=\"Price\",\n",
    "    color=\"is_outlier\",\n",
    "    title=\"Outliery w danych\",\n",
    "    labels={\"is_outlier\": \"Czy outlier?\", \"Price\": \"Wartość\", \"Index\": \"Indeks\"},\n",
    ")\n",
    "\n",
    "fig.update_traces(marker=dict(size=10))\n",
    "fig.show()\n",
    "\n",
    "print(df[df[\"is_outlier\"] == True][\"Price\"].min())\n",
    "\n",
    "df = df[(df[\"Price\"] >= lower_bound) & (df[\"Price\"] <= upper_bound)]"
   ]
  },
  {
   "cell_type": "code",
   "execution_count": null,
   "id": "6cc61e4af39d8acb",
   "metadata": {},
   "outputs": [],
   "source": [
    "# Remove outliers for specific brands\n",
    "# Calculate IQR per Vehicle_brand\n",
    "Q1 = df.groupby('Vehicle_brand')['Price'].quantile(0.25)\n",
    "Q3 = df.groupby('Vehicle_brand')['Price'].quantile(0.96)\n",
    "IQR = Q3 - Q1\n",
    "\n",
    "# Merge the quantiles back to the dataframe\n",
    "df = df.merge(Q1.rename('Q1'), on='Vehicle_brand')\n",
    "df = df.merge(Q3.rename('Q3'), on='Vehicle_brand')\n",
    "df['IQR'] = df['Q3'] - df['Q1']\n",
    "\n",
    "# Calculate lower and upper bounds\n",
    "df['lower_bound'] = df['Q1'] - 1.5 * df['IQR']\n",
    "df['upper_bound'] = df['Q3'] + 1.5 * df['IQR']\n",
    "\n",
    "# Flag outliers\n",
    "df['is_outlier'] = (df['Price'] < df['lower_bound']) | (df['Price'] > df['upper_bound'])\n",
    "\n",
    "\n",
    "# Iterate over each unique Vehicle_brand\n",
    "for brand in df['Vehicle_brand'].unique():\n",
    "    subset = df[df['Vehicle_brand'] == brand]\n",
    "    \n",
    "    fig = px.scatter(\n",
    "        subset,\n",
    "        x=\"Index\",\n",
    "        y=\"Price\",\n",
    "        color=\"is_outlier\",\n",
    "        title=f\"Outliers in {brand}\",\n",
    "        labels={\"is_outlier\": \"Is Outlier?\", \"Price\": \"Price\", \"Index\": \"Index\"},\n",
    "    )\n",
    "    \n",
    "    fig.update_traces(marker=dict(size=10))\n",
    "    fig.show()\n",
    "\n",
    "# Remove outliers from each brand\n",
    "df = df[(df[\"Price\"] >= df[\"lower_bound\"]) & (df[\"Price\"] <= df[\"upper_bound\"])]\n",
    "\n",
    "\n",
    "# Drop intermediate columns\n",
    "df = df.drop(['Q1', 'Q3', 'IQR', 'lower_bound', 'upper_bound', 'is_outlier'], axis=1)"
   ]
  },
  {
   "cell_type": "markdown",
   "id": "8f1b3c95",
   "metadata": {},
   "source": [
    "# Future prediction\n",
    "\n",
    "To easily predict prices for future years, we replace the production year column with car age."
   ]
  },
  {
   "cell_type": "code",
   "execution_count": 23,
   "id": "5f1faa18",
   "metadata": {},
   "outputs": [],
   "source": [
    "df[\"Car_age\"] = Config.actual_year - df[\"Production_year\"]\n",
    "df = df.drop([\"Production_year\"], axis=1)"
   ]
  },
  {
   "cell_type": "code",
   "execution_count": null,
   "id": "5c31c413a63770f2",
   "metadata": {},
   "outputs": [],
   "source": [
    "# Drop index column\n",
    "df = df.drop(columns=[\"Index\"])\n",
    "\n",
    "# Export the resulting DataFrame to a CSV file\n",
    "df.to_csv(Config.processed_data_path, index=False)\n",
    "\n",
    "# Display a message indicating the file has been saved\n",
    "print(f\"Resulting table has been exported to {Config.processed_data_path}\")"
   ]
  }
 ],
 "metadata": {
  "kernelspec": {
   "display_name": "venv",
   "language": "python",
   "name": "python3"
  },
  "language_info": {
   "codemirror_mode": {
    "name": "ipython",
    "version": 3
   },
   "file_extension": ".py",
   "mimetype": "text/x-python",
   "name": "python",
   "nbconvert_exporter": "python",
   "pygments_lexer": "ipython3",
   "version": "3.13.0"
  }
 },
 "nbformat": 4,
 "nbformat_minor": 5
}
