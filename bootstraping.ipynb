{
 "cells": [
  {
   "cell_type": "code",
   "execution_count": 1,
   "metadata": {},
   "outputs": [],
   "source": [
    "from src.utils.load_data import load_data\n",
    "from src.utils.stratified_train_test_split import stratified_train_test_split\n",
    "from src.utils.IntervalsHandler import IntervalsHandler\n",
    "\n",
    "from src.models.BasicClassificationModel import BasicClassificationModel\n",
    "from src.models.AdvancedClassificationModel import AdvancedClassificationModel\n",
    "from src.models.BasicRegressionModel import BasicRegressionModel\n",
    "from src.models.AdvancedRegressionModel import AdvancedRegressionModel\n",
    "\n",
    "from src.evaluation.AbstractEvaluationResults import MetricEnum"
   ]
  },
  {
   "cell_type": "code",
   "execution_count": 2,
   "metadata": {},
   "outputs": [],
   "source": [
    "interval_function = lambda x: 10 ** (0.25 * x) + 600 * (x + 1) ** 1.15 + 200 * x ** 0.75"
   ]
  },
  {
   "cell_type": "code",
   "execution_count": 3,
   "metadata": {},
   "outputs": [],
   "source": [
    "X, y = load_data()\n",
    "\n",
    "# Regression\n",
    "X_train, X_test, y_train, y_test = stratified_train_test_split(X, y, 0.3, 42)\n",
    "\n",
    "# Classification\n",
    "interval_handler = IntervalsHandler(y, interval_function)\n",
    "interval_handler.classify()\n",
    "interval_handler.reduction()\n",
    "\n",
    "X_train_class, X_test_class, y_train_class, y_test_class = \\\n",
    "    stratified_train_test_split(X, interval_handler.data, 0.3, 42)"
   ]
  },
  {
   "cell_type": "code",
   "execution_count": null,
   "metadata": {},
   "outputs": [],
   "source": [
    "basic_regression_model = BasicRegressionModel()\n",
    "basic_regression_model.load_hyperparameters(\"basic_regression\")\n",
    "score = basic_regression_model.bootstraping(X, y, 10, MetricEnum.MAE)\n",
    "basic_regression_model.save_model(\"basic_regression\")\n",
    "print(f\"Bootstraping score: {score}\")\n",
    "print(basic_regression_model.score(X, y))\n",
    "print(basic_regression_model.score_classification(X, interval_handler.data, interval_handler))"
   ]
  },
  {
   "cell_type": "code",
   "execution_count": null,
   "metadata": {},
   "outputs": [],
   "source": [
    "advanced_regression_model = AdvancedRegressionModel()\n",
    "advanced_regression_model.load_hyperparameters(\"advanced_regression\")\n",
    "score = advanced_regression_model.bootstraping(X, y, 10, MetricEnum.MAE)\n",
    "advanced_regression_model.save_model(\"advanced_regression\")\n",
    "print(f\"Bootstraping score: {score}\")\n",
    "print(advanced_regression_model.score(X, y))\n",
    "print(advanced_regression_model.score_classification(X, interval_handler.data, interval_handler))"
   ]
  },
  {
   "cell_type": "code",
   "execution_count": null,
   "metadata": {},
   "outputs": [],
   "source": [
    "advanced_classification_model = AdvancedClassificationModel()\n",
    "advanced_classification_model.load_hyperparameters(\"advanced_classification\")\n",
    "score = advanced_classification_model.bootstraping(X, interval_handler.data, 10, MetricEnum.ACCURACY)\n",
    "advanced_classification_model.save_model(\"advanced_classification\")\n",
    "print(f\"Bootstraping score: {score}\")\n",
    "print(advanced_classification_model.score(X, interval_handler.data))"
   ]
  },
  {
   "cell_type": "code",
   "execution_count": null,
   "metadata": {},
   "outputs": [],
   "source": [
    "basic_classification_model = BasicClassificationModel()\n",
    "basic_classification_model.load_hyperparameters(\"basic_classification\")\n",
    "score = basic_classification_model.bootstraping(X, interval_handler.data, 10, MetricEnum.ACCURACY)\n",
    "basic_classification_model.save_model(\"basic_classification\")\n",
    "print(f\"Bootstraping score: {score}\")\n",
    "print(basic_classification_model.score(X, interval_handler.data))"
   ]
  }
 ],
 "metadata": {
  "language_info": {
   "name": "python"
  }
 },
 "nbformat": 4,
 "nbformat_minor": 2
}
