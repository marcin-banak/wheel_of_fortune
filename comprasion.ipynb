{
 "cells": [
  {
   "cell_type": "code",
   "execution_count": 10,
   "metadata": {},
   "outputs": [],
   "source": [
    "from src.utils.load_data import load_data\n",
    "from src.utils.stratified_train_test_split import stratified_train_test_split\n",
    "from src.utils.IntervalsHandler import IntervalsHandler\n",
    "from src.utils.plot import plot\n",
    "from src.utils.metric_list import metric_list\n",
    "\n",
    "from src.models.BasicClassificationModel import BasicClassificationModel\n",
    "from src.models.AdvancedClassificationModel import AdvancedClassificationModel\n",
    "from src.models.BasicRegressionModel import BasicRegressionModel\n",
    "from src.models.AdvancedRegressionModel import AdvancedRegressionModel\n",
    "\n",
    "from src.evaluation.AbstractEvaluationResults import MetricEnum"
   ]
  },
  {
   "cell_type": "code",
   "execution_count": 11,
   "metadata": {},
   "outputs": [],
   "source": [
    "interval_functions = [\n",
    "    lambda x: 10 ** (0.66 * x) + 1500 * (x + 1) ** 1.3 + 800 * x ** 1.1,\n",
    "    lambda x: 10 ** (0.25 * x) + 600 * (x + 1) ** 1.15 + 200 * x ** 0.75,\n",
    "    lambda x: 10 ** (0.19 * x) + 80 * (x + 1) ** 1.02 + 150 * x ** 0.4,\n",
    "    lambda x: 10 ** (0.13 * x) + 50 * (x + 1) ** 1.01 + 100 * x ** 0.35,\n",
    "    lambda x: 10 ** (0.1 * x) + 30 * (x + 1) ** 1.005 + 90 * x ** 0.3,\n",
    "    lambda x: 10 ** (0.08 * x) + 15 * (x + 1) ** 1.001 + 60 * x ** 0.3,\n",
    "    lambda x: 10 ** (0.06 * x) + 15 * (x + 1) ** 1.001 + 40 * x ** 0.25,\n",
    "    lambda x: 10 ** (0.05 * x) + 10 * (x + 1) ** 1.002 + 30 * x ** 0.2,\n",
    "]"
   ]
  },
  {
   "cell_type": "code",
   "execution_count": 12,
   "metadata": {},
   "outputs": [],
   "source": [
    "X, y = load_data()\n",
    "\n",
    "# Regression\n",
    "X_train, X_test, y_train, y_test = stratified_train_test_split(X, y, 0.3, 42)\n",
    "\n",
    "# Classification\n",
    "intervals_handlers = [IntervalsHandler(y, func) for func in interval_functions]\n",
    "\n",
    "for handler in intervals_handlers:\n",
    "    handler.classify()\n",
    "    handler.reduction()\n",
    "\n",
    "intervals_numbers = [handler.intervals_number for handler in intervals_handlers] \n",
    "\n",
    "y_classified = [handler.data for handler in intervals_handlers]\n",
    "\n",
    "classified_data = [stratified_train_test_split(X, y_class, 0.3, 42) for y_class in y_classified]\n",
    "X_train_class, X_test_class, y_train_class, y_test_class = zip(*classified_data)\n",
    "\n",
    "X_train_class = list(X_train_class)\n",
    "X_test_class = list(X_test_class)\n",
    "y_train_class = list(y_train_class)\n",
    "y_test_class = list(y_test_class)"
   ]
  },
  {
   "cell_type": "code",
   "execution_count": 13,
   "metadata": {},
   "outputs": [],
   "source": [
    "\n",
    "basic_regression_model = BasicRegressionModel()\n",
    "basic_regression_model.load_hyperparameters(\"basic_regression\")\n",
    "basic_regression_model.fit(X_train, y_train)\n",
    "basic_regression_score = [\n",
    "    basic_regression_model.score_classification(*test_data)\n",
    "    for test_data in zip(X_test_class, y_test_class, intervals_handlers)\n",
    "]"
   ]
  },
  {
   "cell_type": "code",
   "execution_count": 14,
   "metadata": {},
   "outputs": [],
   "source": [
    "advanced_regression_model = AdvancedRegressionModel()\n",
    "advanced_regression_model.load_hyperparameters(\"advanced_regression\")\n",
    "advanced_regression_model.fit(X_train, y_train)\n",
    "advanced_regression_score = [\n",
    "    advanced_regression_model.score_classification(*test_data)\n",
    "    for test_data in zip(X_test_class, y_test_class, intervals_handlers)\n",
    "]"
   ]
  },
  {
   "cell_type": "code",
   "execution_count": 15,
   "metadata": {},
   "outputs": [],
   "source": [
    "basic_classification_score = []\n",
    "for _X_train, _X_test, _y_train, _y_test in classified_data:\n",
    "    basic_classification_model = BasicClassificationModel()\n",
    "    basic_classification_model.load_hyperparameters(\"basic_classification\")\n",
    "    basic_classification_model.fit(_X_train, _y_train)\n",
    "    basic_classification_score.append(basic_classification_model.score(_X_test, _y_test))"
   ]
  },
  {
   "cell_type": "code",
   "execution_count": 16,
   "metadata": {},
   "outputs": [],
   "source": [
    "advanced_classification_score = []\n",
    "for _X_train, _X_test, _y_train, _y_test in classified_data:\n",
    "    advanced_classification_model = AdvancedClassificationModel()\n",
    "    advanced_classification_model.load_hyperparameters(\"advanced_classification\")\n",
    "    advanced_classification_model.fit(_X_train, _y_train)\n",
    "    advanced_classification_score.append(advanced_classification_model.score(_X_test, _y_test))"
   ]
  },
  {
   "cell_type": "code",
   "execution_count": null,
   "metadata": {},
   "outputs": [],
   "source": [
    "plot(\n",
    "    intervals_numbers,\n",
    "    {\n",
    "        \"Basic Classification\": metric_list(basic_classification_score, MetricEnum.ACCURACY),\n",
    "        \"Advanced Classification\": metric_list(advanced_classification_score, MetricEnum.ACCURACY),\n",
    "        \"Basic Regression\": metric_list(basic_regression_score, MetricEnum.ACCURACY),\n",
    "        \"Advanced Regression\": metric_list(advanced_regression_score, MetricEnum.ACCURACY),\n",
    "    },\n",
    "    \"Models Comprasion\",\n",
    "    \"Number of Intervals\",\n",
    "    \"Accuracy\"\n",
    ")"
   ]
  },
  {
   "cell_type": "code",
   "execution_count": null,
   "metadata": {},
   "outputs": [],
   "source": [
    "plot(\n",
    "    intervals_numbers,\n",
    "    {\n",
    "        \"Basic Classification\": metric_list(basic_classification_score, MetricEnum.MEAN_CLASTERS_ERROR),\n",
    "        \"Advanced Classification\": metric_list(advanced_classification_score, MetricEnum.MEAN_CLASTERS_ERROR),\n",
    "        \"Basic Regression\": metric_list(basic_regression_score, MetricEnum.MEAN_CLASTERS_ERROR),\n",
    "        \"Advanced Regression\": metric_list(advanced_regression_score, MetricEnum.MEAN_CLASTERS_ERROR),\n",
    "    },\n",
    "    \"Models Comprasion\",\n",
    "    \"Number of Intervals\",\n",
    "    \"Mean Clusters Error\"\n",
    ")"
   ]
  }
 ],
 "metadata": {
  "kernelspec": {
   "display_name": "venv",
   "language": "python",
   "name": "python3"
  },
  "language_info": {
   "codemirror_mode": {
    "name": "ipython",
    "version": 3
   },
   "file_extension": ".py",
   "mimetype": "text/x-python",
   "name": "python",
   "nbconvert_exporter": "python",
   "pygments_lexer": "ipython3",
   "version": "3.13.0"
  }
 },
 "nbformat": 4,
 "nbformat_minor": 2
}
