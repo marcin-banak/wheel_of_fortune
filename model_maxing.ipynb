{
 "cells": [
  {
   "cell_type": "code",
   "execution_count": 2,
   "metadata": {},
   "outputs": [],
   "source": [
    "from src.utils.load_data import load_data\n",
    "from src.utils.stratified_train_test_split import stratified_train_test_split\n",
    "from src.models.AdvancedRegressionModel import AdvancedRegressionModel\n",
    "\n",
    "from src.evaluation.AbstractEvaluationResults import MetricEnum"
   ]
  },
  {
   "cell_type": "code",
   "execution_count": 6,
   "metadata": {},
   "outputs": [],
   "source": [
    "metrics = [\n",
    "    MetricEnum.MSE,\n",
    "    MetricEnum.MAE,\n",
    "    MetricEnum.MAPE,\n",
    "    MetricEnum.R2,\n",
    "]"
   ]
  },
  {
   "cell_type": "code",
   "execution_count": 3,
   "metadata": {},
   "outputs": [],
   "source": [
    "X, y = load_data()\n",
    "X_train, X_test, y_train, y_test = stratified_train_test_split(X, y, 0.3, 42)"
   ]
  },
  {
   "cell_type": "code",
   "execution_count": null,
   "metadata": {},
   "outputs": [],
   "source": [
    "model = AdvancedRegressionModel()\n",
    "for metric in metrics:\n",
    "    model.bayesian_optimization(X_train, y_train, X_test, y_test, metric, 100)\n",
    "    print(f\"Optimizing for {metric.name}\")\n",
    "    print(model.score(X_test, y_test))\n",
    "    print(model.hyperparameters)"
   ]
  },
  {
   "cell_type": "code",
   "execution_count": null,
   "metadata": {},
   "outputs": [],
   "source": [
    "model = AdvancedRegressionModel()\n",
    "model.bayesian_optimization(X_train, y_train, X_test, y_test, MetricEnum.MAE, 1000)\n",
    "print(model.score(X_test, y_test))\n",
    "model.save_hyperparameters(\"maxed\")\n",
    "model.save_model(\"maxed\")"
   ]
  },
  {
   "cell_type": "code",
   "execution_count": null,
   "metadata": {},
   "outputs": [],
   "source": [
    "print(model.score(X_test, y_test))"
   ]
  },
  {
   "cell_type": "code",
   "execution_count": null,
   "metadata": {},
   "outputs": [],
   "source": [
    "# Regression metrics test\n",
    "test_model = AdvancedRegressionModel()\n",
    "test_model.load_hyperparameters(\"maxed\")\n",
    "test_model.fit(X_train, y_train)\n",
    "print(test_model.score(X_test, y_test))\n",
    "\n",
    "# Classification metrics test\n",
    "from src.utils.IntervalsHandler import IntervalsHandler\n",
    "\n",
    "interval_function = lambda x: 10 ** (0.25 * x) + 600 * (x + 1) ** 1.15 + 200 * x ** 0.75\n",
    "interval_handler = IntervalsHandler(y, interval_function)\n",
    "interval_handler.classify()\n",
    "interval_handler.reduction()\n",
    "\n",
    "X_train_class, X_test_class, y_train_class, y_test_class = \\\n",
    "    stratified_train_test_split(X, interval_handler.data, 0.3, 42)\n",
    "\n",
    "class_test_model = AdvancedRegressionModel()\n",
    "class_test_model.load_hyperparameters(\"maxed\")\n",
    "class_test_model.fit(X_train_class, y_train_class)\n",
    "print(test_model.score_classification(X_test_class, y_test_class, interval_handler))"
   ]
  }
 ],
 "metadata": {
  "kernelspec": {
   "display_name": "venv",
   "language": "python",
   "name": "python3"
  },
  "language_info": {
   "codemirror_mode": {
    "name": "ipython",
    "version": 3
   },
   "file_extension": ".py",
   "mimetype": "text/x-python",
   "name": "python",
   "nbconvert_exporter": "python",
   "pygments_lexer": "ipython3",
   "version": "3.13.0"
  }
 },
 "nbformat": 4,
 "nbformat_minor": 2
}
