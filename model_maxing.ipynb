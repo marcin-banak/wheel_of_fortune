{
 "cells": [
  {
   "cell_type": "code",
   "execution_count": 9,
   "metadata": {},
   "outputs": [],
   "source": [
    "from src.utils.load_data import load_data\n",
    "from src.utils.stratified_train_test_split import stratified_train_test_split\n",
    "from src.models.AdvancedRegressionModel import AdvancedRegressionModel\n",
    "\n",
    "from src.evaluation.AbstractEvaluationResults import MetricEnum"
   ]
  },
  {
   "cell_type": "code",
   "execution_count": 10,
   "metadata": {},
   "outputs": [],
   "source": [
    "metrics = [\n",
    "    MetricEnum.MSE,\n",
    "    MetricEnum.MAE,\n",
    "    MetricEnum.MAPE,\n",
    "    MetricEnum.R2,\n",
    "]"
   ]
  },
  {
   "cell_type": "code",
   "execution_count": 11,
   "metadata": {},
   "outputs": [],
   "source": [
    "X, y = load_data()\n",
    "X_train, X_test, y_train, y_test = stratified_train_test_split(X, y, 0.3, 42)"
   ]
  },
  {
   "cell_type": "code",
   "execution_count": null,
   "metadata": {},
   "outputs": [],
   "source": [
    "model = AdvancedRegressionModel()\n",
    "for metric in metrics:\n",
    "    model.bayesian_optimization(X_train, y_train, X_test, y_test, metric, 100)\n",
    "    print(f\"Optimizing for {metric.name}\")\n",
    "    print(model.score(X_test, y_test))\n",
    "    print(model.hyperparameters)"
   ]
  },
  {
   "cell_type": "code",
   "execution_count": null,
   "metadata": {},
   "outputs": [],
   "source": [
    "model = AdvancedRegressionModel()\n",
    "model.bayesian_optimization(X_train, y_train, X_test, y_test, MetricEnum.MAE, 1000)\n",
    "print(model.score(X_test, y_test))\n",
    "model.save_hyperparameters(\"maxed\")\n",
    "model.save_model(\"maxed\")"
   ]
  },
  {
   "cell_type": "code",
   "execution_count": 12,
   "metadata": {},
   "outputs": [
    {
     "name": "stdout",
     "output_type": "stream",
     "text": [
      "MAE (Mean Absolute Error): 6074.6372\n",
      "MSE (Mean Squared Error): 181221136.0000\n",
      "RMSE (Root Mean Squared Error): 13461.8400\n",
      "R2 (R-squared): 0.9454\n",
      "MAPE (Mean Absolute Percentage Error): 15.7843\n",
      "Ideal Distance: 181240688.3160\n",
      "\n"
     ]
    }
   ],
   "source": [
    "model = AdvancedRegressionModel()\n",
    "model.load_hyperparameters(\"maxed\")\n",
    "model.fit(X_train, y_train)\n",
    "print(model.score(X_test, y_test))\n",
    "model.export_xgboost_instance(\"maxed_bin\")"
   ]
  }
 ],
 "metadata": {
  "kernelspec": {
   "display_name": "venv",
   "language": "python",
   "name": "python3"
  },
  "language_info": {
   "codemirror_mode": {
    "name": "ipython",
    "version": 3
   },
   "file_extension": ".py",
   "mimetype": "text/x-python",
   "name": "python",
   "nbconvert_exporter": "python",
   "pygments_lexer": "ipython3",
   "version": "3.13.0"
  }
 },
 "nbformat": 4,
 "nbformat_minor": 2
}
